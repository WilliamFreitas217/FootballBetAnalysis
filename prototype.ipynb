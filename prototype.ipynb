{
  "cells": [
    {
      "cell_type": "code",
      "execution_count": 4,
      "metadata": {
        "colab": {
          "base_uri": "https://localhost:8080/"
        },
        "id": "9__2v-a83Azc",
        "outputId": "13675b12-849e-415b-f774-a57418003ff9"
      },
      "outputs": [
        {
          "name": "stdout",
          "output_type": "stream",
          "text": [
            "Requirement already satisfied: plotly in c:\\users\\srhsi\\appdata\\local\\packages\\pythonsoftwarefoundation.python.3.10_qbz5n2kfra8p0\\localcache\\local-packages\\python310\\site-packages (5.13.1)\n",
            "Requirement already satisfied: tenacity>=6.2.0 in c:\\users\\srhsi\\appdata\\local\\packages\\pythonsoftwarefoundation.python.3.10_qbz5n2kfra8p0\\localcache\\local-packages\\python310\\site-packages (from plotly) (8.2.2)\n"
          ]
        },
        {
          "name": "stderr",
          "output_type": "stream",
          "text": [
            "\n",
            "[notice] A new release of pip available: 22.3.1 -> 23.0.1\n",
            "[notice] To update, run: C:\\Users\\srhsi\\AppData\\Local\\Microsoft\\WindowsApps\\PythonSoftwareFoundation.Python.3.10_qbz5n2kfra8p0\\python.exe -m pip install --upgrade pip\n"
          ]
        },
        {
          "name": "stdout",
          "output_type": "stream",
          "text": [
            "Requirement already satisfied: tqdm in c:\\users\\srhsi\\appdata\\local\\packages\\pythonsoftwarefoundation.python.3.10_qbz5n2kfra8p0\\localcache\\local-packages\\python310\\site-packages (4.65.0)\n",
            "Requirement already satisfied: colorama in c:\\users\\srhsi\\appdata\\local\\packages\\pythonsoftwarefoundation.python.3.10_qbz5n2kfra8p0\\localcache\\local-packages\\python310\\site-packages (from tqdm) (0.4.6)\n"
          ]
        },
        {
          "name": "stderr",
          "output_type": "stream",
          "text": [
            "\n",
            "[notice] A new release of pip available: 22.3.1 -> 23.0.1\n",
            "[notice] To update, run: C:\\Users\\srhsi\\AppData\\Local\\Microsoft\\WindowsApps\\PythonSoftwareFoundation.Python.3.10_qbz5n2kfra8p0\\python.exe -m pip install --upgrade pip\n"
          ]
        },
        {
          "name": "stdout",
          "output_type": "stream",
          "text": [
            "Requirement already satisfied: pandas in c:\\users\\srhsi\\appdata\\local\\packages\\pythonsoftwarefoundation.python.3.10_qbz5n2kfra8p0\\localcache\\local-packages\\python310\\site-packages (1.5.3)\n",
            "Requirement already satisfied: python-dateutil>=2.8.1 in c:\\users\\srhsi\\appdata\\local\\packages\\pythonsoftwarefoundation.python.3.10_qbz5n2kfra8p0\\localcache\\local-packages\\python310\\site-packages (from pandas) (2.8.2)\n",
            "Requirement already satisfied: pytz>=2020.1 in c:\\users\\srhsi\\appdata\\local\\packages\\pythonsoftwarefoundation.python.3.10_qbz5n2kfra8p0\\localcache\\local-packages\\python310\\site-packages (from pandas) (2022.7.1)\n",
            "Requirement already satisfied: numpy>=1.21.0 in c:\\users\\srhsi\\appdata\\local\\packages\\pythonsoftwarefoundation.python.3.10_qbz5n2kfra8p0\\localcache\\local-packages\\python310\\site-packages (from pandas) (1.24.2)\n",
            "Requirement already satisfied: six>=1.5 in c:\\users\\srhsi\\appdata\\local\\packages\\pythonsoftwarefoundation.python.3.10_qbz5n2kfra8p0\\localcache\\local-packages\\python310\\site-packages (from python-dateutil>=2.8.1->pandas) (1.16.0)\n"
          ]
        },
        {
          "name": "stderr",
          "output_type": "stream",
          "text": [
            "\n",
            "[notice] A new release of pip available: 22.3.1 -> 23.0.1\n",
            "[notice] To update, run: C:\\Users\\srhsi\\AppData\\Local\\Microsoft\\WindowsApps\\PythonSoftwareFoundation.Python.3.10_qbz5n2kfra8p0\\python.exe -m pip install --upgrade pip\n"
          ]
        },
        {
          "name": "stdout",
          "output_type": "stream",
          "text": [
            "Requirement already satisfied: pybettor in c:\\users\\srhsi\\appdata\\local\\packages\\pythonsoftwarefoundation.python.3.10_qbz5n2kfra8p0\\localcache\\local-packages\\python310\\site-packages (1.0.0)\n",
            "Requirement already satisfied: pandas in c:\\users\\srhsi\\appdata\\local\\packages\\pythonsoftwarefoundation.python.3.10_qbz5n2kfra8p0\\localcache\\local-packages\\python310\\site-packages (from pybettor) (1.5.3)\n",
            "Requirement already satisfied: pytz>=2020.1 in c:\\users\\srhsi\\appdata\\local\\packages\\pythonsoftwarefoundation.python.3.10_qbz5n2kfra8p0\\localcache\\local-packages\\python310\\site-packages (from pandas->pybettor) (2022.7.1)\n",
            "Requirement already satisfied: python-dateutil>=2.8.1 in c:\\users\\srhsi\\appdata\\local\\packages\\pythonsoftwarefoundation.python.3.10_qbz5n2kfra8p0\\localcache\\local-packages\\python310\\site-packages (from pandas->pybettor) (2.8.2)\n",
            "Requirement already satisfied: numpy>=1.21.0 in c:\\users\\srhsi\\appdata\\local\\packages\\pythonsoftwarefoundation.python.3.10_qbz5n2kfra8p0\\localcache\\local-packages\\python310\\site-packages (from pandas->pybettor) (1.24.2)\n",
            "Requirement already satisfied: six>=1.5 in c:\\users\\srhsi\\appdata\\local\\packages\\pythonsoftwarefoundation.python.3.10_qbz5n2kfra8p0\\localcache\\local-packages\\python310\\site-packages (from python-dateutil>=2.8.1->pandas->pybettor) (1.16.0)\n"
          ]
        },
        {
          "name": "stderr",
          "output_type": "stream",
          "text": [
            "\n",
            "[notice] A new release of pip available: 22.3.1 -> 23.0.1\n",
            "[notice] To update, run: C:\\Users\\srhsi\\AppData\\Local\\Microsoft\\WindowsApps\\PythonSoftwareFoundation.Python.3.10_qbz5n2kfra8p0\\python.exe -m pip install --upgrade pip\n"
          ]
        },
        {
          "name": "stdout",
          "output_type": "stream",
          "text": [
            "Requirement already satisfied: dash in c:\\users\\srhsi\\appdata\\local\\packages\\pythonsoftwarefoundation.python.3.10_qbz5n2kfra8p0\\localcache\\local-packages\\python310\\site-packages (2.8.1)\n",
            "Requirement already satisfied: dash-html-components==2.0.0 in c:\\users\\srhsi\\appdata\\local\\packages\\pythonsoftwarefoundation.python.3.10_qbz5n2kfra8p0\\localcache\\local-packages\\python310\\site-packages (from dash) (2.0.0)\n",
            "Requirement already satisfied: plotly>=5.0.0 in c:\\users\\srhsi\\appdata\\local\\packages\\pythonsoftwarefoundation.python.3.10_qbz5n2kfra8p0\\localcache\\local-packages\\python310\\site-packages (from dash) (5.13.1)\n",
            "Requirement already satisfied: dash-table==5.0.0 in c:\\users\\srhsi\\appdata\\local\\packages\\pythonsoftwarefoundation.python.3.10_qbz5n2kfra8p0\\localcache\\local-packages\\python310\\site-packages (from dash) (5.0.0)\n",
            "Requirement already satisfied: Flask>=1.0.4 in c:\\users\\srhsi\\appdata\\local\\packages\\pythonsoftwarefoundation.python.3.10_qbz5n2kfra8p0\\localcache\\local-packages\\python310\\site-packages (from dash) (2.2.3)\n",
            "Requirement already satisfied: dash-core-components==2.0.0 in c:\\users\\srhsi\\appdata\\local\\packages\\pythonsoftwarefoundation.python.3.10_qbz5n2kfra8p0\\localcache\\local-packages\\python310\\site-packages (from dash) (2.0.0)\n",
            "Requirement already satisfied: Werkzeug>=2.2.2 in c:\\users\\srhsi\\appdata\\local\\packages\\pythonsoftwarefoundation.python.3.10_qbz5n2kfra8p0\\localcache\\local-packages\\python310\\site-packages (from Flask>=1.0.4->dash) (2.2.3)\n",
            "Requirement already satisfied: itsdangerous>=2.0 in c:\\users\\srhsi\\appdata\\local\\packages\\pythonsoftwarefoundation.python.3.10_qbz5n2kfra8p0\\localcache\\local-packages\\python310\\site-packages (from Flask>=1.0.4->dash) (2.1.2)\n",
            "Requirement already satisfied: click>=8.0 in c:\\users\\srhsi\\appdata\\local\\packages\\pythonsoftwarefoundation.python.3.10_qbz5n2kfra8p0\\localcache\\local-packages\\python310\\site-packages (from Flask>=1.0.4->dash) (8.1.3)\n",
            "Requirement already satisfied: Jinja2>=3.0 in c:\\users\\srhsi\\appdata\\local\\packages\\pythonsoftwarefoundation.python.3.10_qbz5n2kfra8p0\\localcache\\local-packages\\python310\\site-packages (from Flask>=1.0.4->dash) (3.1.2)\n",
            "Requirement already satisfied: tenacity>=6.2.0 in c:\\users\\srhsi\\appdata\\local\\packages\\pythonsoftwarefoundation.python.3.10_qbz5n2kfra8p0\\localcache\\local-packages\\python310\\site-packages (from plotly>=5.0.0->dash) (8.2.2)\n",
            "Requirement already satisfied: colorama in c:\\users\\srhsi\\appdata\\local\\packages\\pythonsoftwarefoundation.python.3.10_qbz5n2kfra8p0\\localcache\\local-packages\\python310\\site-packages (from click>=8.0->Flask>=1.0.4->dash) (0.4.6)\n",
            "Requirement already satisfied: MarkupSafe>=2.0 in c:\\users\\srhsi\\appdata\\local\\packages\\pythonsoftwarefoundation.python.3.10_qbz5n2kfra8p0\\localcache\\local-packages\\python310\\site-packages (from Jinja2>=3.0->Flask>=1.0.4->dash) (2.1.2)\n"
          ]
        },
        {
          "name": "stderr",
          "output_type": "stream",
          "text": [
            "\n",
            "[notice] A new release of pip available: 22.3.1 -> 23.0.1\n",
            "[notice] To update, run: C:\\Users\\srhsi\\AppData\\Local\\Microsoft\\WindowsApps\\PythonSoftwareFoundation.Python.3.10_qbz5n2kfra8p0\\python.exe -m pip install --upgrade pip\n"
          ]
        },
        {
          "name": "stdout",
          "output_type": "stream",
          "text": [
            "Requirement already satisfied: nbformat in c:\\users\\srhsi\\appdata\\local\\packages\\pythonsoftwarefoundation.python.3.10_qbz5n2kfra8p0\\localcache\\local-packages\\python310\\site-packages (5.7.3)\n",
            "Requirement already satisfied: fastjsonschema in c:\\users\\srhsi\\appdata\\local\\packages\\pythonsoftwarefoundation.python.3.10_qbz5n2kfra8p0\\localcache\\local-packages\\python310\\site-packages (from nbformat) (2.16.3)\n",
            "Requirement already satisfied: jupyter-core in c:\\users\\srhsi\\appdata\\local\\packages\\pythonsoftwarefoundation.python.3.10_qbz5n2kfra8p0\\localcache\\local-packages\\python310\\site-packages (from nbformat) (5.2.0)\n",
            "Requirement already satisfied: traitlets>=5.1 in c:\\users\\srhsi\\appdata\\local\\packages\\pythonsoftwarefoundation.python.3.10_qbz5n2kfra8p0\\localcache\\local-packages\\python310\\site-packages (from nbformat) (5.9.0)\n",
            "Requirement already satisfied: jsonschema>=2.6 in c:\\users\\srhsi\\appdata\\local\\packages\\pythonsoftwarefoundation.python.3.10_qbz5n2kfra8p0\\localcache\\local-packages\\python310\\site-packages (from nbformat) (4.17.3)\n",
            "Requirement already satisfied: attrs>=17.4.0 in c:\\users\\srhsi\\appdata\\local\\packages\\pythonsoftwarefoundation.python.3.10_qbz5n2kfra8p0\\localcache\\local-packages\\python310\\site-packages (from jsonschema>=2.6->nbformat) (22.2.0)\n",
            "Requirement already satisfied: pyrsistent!=0.17.0,!=0.17.1,!=0.17.2,>=0.14.0 in c:\\users\\srhsi\\appdata\\local\\packages\\pythonsoftwarefoundation.python.3.10_qbz5n2kfra8p0\\localcache\\local-packages\\python310\\site-packages (from jsonschema>=2.6->nbformat) (0.19.3)\n",
            "Requirement already satisfied: pywin32>=1.0 in c:\\users\\srhsi\\appdata\\local\\packages\\pythonsoftwarefoundation.python.3.10_qbz5n2kfra8p0\\localcache\\local-packages\\python310\\site-packages (from jupyter-core->nbformat) (305)\n",
            "Requirement already satisfied: platformdirs>=2.5 in c:\\users\\srhsi\\appdata\\local\\packages\\pythonsoftwarefoundation.python.3.10_qbz5n2kfra8p0\\localcache\\local-packages\\python310\\site-packages (from jupyter-core->nbformat) (3.1.1)\n"
          ]
        },
        {
          "name": "stderr",
          "output_type": "stream",
          "text": [
            "\n",
            "[notice] A new release of pip available: 22.3.1 -> 23.0.1\n",
            "[notice] To update, run: C:\\Users\\srhsi\\AppData\\Local\\Microsoft\\WindowsApps\\PythonSoftwareFoundation.Python.3.10_qbz5n2kfra8p0\\python.exe -m pip install --upgrade pip\n"
          ]
        },
        {
          "name": "stdout",
          "output_type": "stream",
          "text": [
            "Requirement already satisfied: jupyter-dash in c:\\users\\srhsi\\appdata\\local\\packages\\pythonsoftwarefoundation.python.3.10_qbz5n2kfra8p0\\localcache\\local-packages\\python310\\site-packages (0.4.2)\n",
            "Requirement already satisfied: nest-asyncio in c:\\users\\srhsi\\appdata\\local\\packages\\pythonsoftwarefoundation.python.3.10_qbz5n2kfra8p0\\localcache\\local-packages\\python310\\site-packages (from jupyter-dash) (1.5.6)\n",
            "Requirement already satisfied: dash in c:\\users\\srhsi\\appdata\\local\\packages\\pythonsoftwarefoundation.python.3.10_qbz5n2kfra8p0\\localcache\\local-packages\\python310\\site-packages (from jupyter-dash) (2.8.1)\n",
            "Requirement already satisfied: ansi2html in c:\\users\\srhsi\\appdata\\local\\packages\\pythonsoftwarefoundation.python.3.10_qbz5n2kfra8p0\\localcache\\local-packages\\python310\\site-packages (from jupyter-dash) (1.8.0)\n",
            "Requirement already satisfied: ipython in c:\\users\\srhsi\\appdata\\local\\packages\\pythonsoftwarefoundation.python.3.10_qbz5n2kfra8p0\\localcache\\local-packages\\python310\\site-packages (from jupyter-dash) (8.11.0)\n",
            "Requirement already satisfied: flask in c:\\users\\srhsi\\appdata\\local\\packages\\pythonsoftwarefoundation.python.3.10_qbz5n2kfra8p0\\localcache\\local-packages\\python310\\site-packages (from jupyter-dash) (2.2.3)\n",
            "Requirement already satisfied: requests in c:\\users\\srhsi\\appdata\\local\\packages\\pythonsoftwarefoundation.python.3.10_qbz5n2kfra8p0\\localcache\\local-packages\\python310\\site-packages (from jupyter-dash) (2.28.2)\n",
            "Requirement already satisfied: ipykernel in c:\\users\\srhsi\\appdata\\local\\packages\\pythonsoftwarefoundation.python.3.10_qbz5n2kfra8p0\\localcache\\local-packages\\python310\\site-packages (from jupyter-dash) (6.21.3)\n",
            "Requirement already satisfied: retrying in c:\\users\\srhsi\\appdata\\local\\packages\\pythonsoftwarefoundation.python.3.10_qbz5n2kfra8p0\\localcache\\local-packages\\python310\\site-packages (from jupyter-dash) (1.3.4)\n",
            "Requirement already satisfied: plotly>=5.0.0 in c:\\users\\srhsi\\appdata\\local\\packages\\pythonsoftwarefoundation.python.3.10_qbz5n2kfra8p0\\localcache\\local-packages\\python310\\site-packages (from dash->jupyter-dash) (5.13.1)\n",
            "Requirement already satisfied: dash-html-components==2.0.0 in c:\\users\\srhsi\\appdata\\local\\packages\\pythonsoftwarefoundation.python.3.10_qbz5n2kfra8p0\\localcache\\local-packages\\python310\\site-packages (from dash->jupyter-dash) (2.0.0)\n",
            "Requirement already satisfied: dash-core-components==2.0.0 in c:\\users\\srhsi\\appdata\\local\\packages\\pythonsoftwarefoundation.python.3.10_qbz5n2kfra8p0\\localcache\\local-packages\\python310\\site-packages (from dash->jupyter-dash) (2.0.0)\n",
            "Requirement already satisfied: dash-table==5.0.0 in c:\\users\\srhsi\\appdata\\local\\packages\\pythonsoftwarefoundation.python.3.10_qbz5n2kfra8p0\\localcache\\local-packages\\python310\\site-packages (from dash->jupyter-dash) (5.0.0)\n",
            "Requirement already satisfied: click>=8.0 in c:\\users\\srhsi\\appdata\\local\\packages\\pythonsoftwarefoundation.python.3.10_qbz5n2kfra8p0\\localcache\\local-packages\\python310\\site-packages (from flask->jupyter-dash) (8.1.3)\n",
            "Requirement already satisfied: Jinja2>=3.0 in c:\\users\\srhsi\\appdata\\local\\packages\\pythonsoftwarefoundation.python.3.10_qbz5n2kfra8p0\\localcache\\local-packages\\python310\\site-packages (from flask->jupyter-dash) (3.1.2)\n",
            "Requirement already satisfied: itsdangerous>=2.0 in c:\\users\\srhsi\\appdata\\local\\packages\\pythonsoftwarefoundation.python.3.10_qbz5n2kfra8p0\\localcache\\local-packages\\python310\\site-packages (from flask->jupyter-dash) (2.1.2)\n",
            "Requirement already satisfied: Werkzeug>=2.2.2 in c:\\users\\srhsi\\appdata\\local\\packages\\pythonsoftwarefoundation.python.3.10_qbz5n2kfra8p0\\localcache\\local-packages\\python310\\site-packages (from flask->jupyter-dash) (2.2.3)\n",
            "Requirement already satisfied: psutil in c:\\users\\srhsi\\appdata\\local\\packages\\pythonsoftwarefoundation.python.3.10_qbz5n2kfra8p0\\localcache\\local-packages\\python310\\site-packages (from ipykernel->jupyter-dash) (5.9.4)\n",
            "Requirement already satisfied: matplotlib-inline>=0.1 in c:\\users\\srhsi\\appdata\\local\\packages\\pythonsoftwarefoundation.python.3.10_qbz5n2kfra8p0\\localcache\\local-packages\\python310\\site-packages (from ipykernel->jupyter-dash) (0.1.6)\n",
            "Requirement already satisfied: debugpy>=1.6.5 in c:\\users\\srhsi\\appdata\\local\\packages\\pythonsoftwarefoundation.python.3.10_qbz5n2kfra8p0\\localcache\\local-packages\\python310\\site-packages (from ipykernel->jupyter-dash) (1.6.6)\n",
            "Requirement already satisfied: jupyter-client>=6.1.12 in c:\\users\\srhsi\\appdata\\local\\packages\\pythonsoftwarefoundation.python.3.10_qbz5n2kfra8p0\\localcache\\local-packages\\python310\\site-packages (from ipykernel->jupyter-dash) (8.0.3)\n",
            "Requirement already satisfied: tornado>=6.1 in c:\\users\\srhsi\\appdata\\local\\packages\\pythonsoftwarefoundation.python.3.10_qbz5n2kfra8p0\\localcache\\local-packages\\python310\\site-packages (from ipykernel->jupyter-dash) (6.2)\n",
            "Requirement already satisfied: jupyter-core!=5.0.*,>=4.12 in c:\\users\\srhsi\\appdata\\local\\packages\\pythonsoftwarefoundation.python.3.10_qbz5n2kfra8p0\\localcache\\local-packages\\python310\\site-packages (from ipykernel->jupyter-dash) (5.2.0)\n",
            "Requirement already satisfied: comm>=0.1.1 in c:\\users\\srhsi\\appdata\\local\\packages\\pythonsoftwarefoundation.python.3.10_qbz5n2kfra8p0\\localcache\\local-packages\\python310\\site-packages (from ipykernel->jupyter-dash) (0.1.2)\n",
            "Requirement already satisfied: pyzmq>=20 in c:\\users\\srhsi\\appdata\\local\\packages\\pythonsoftwarefoundation.python.3.10_qbz5n2kfra8p0\\localcache\\local-packages\\python310\\site-packages (from ipykernel->jupyter-dash) (25.0.0)\n",
            "Requirement already satisfied: traitlets>=5.4.0 in c:\\users\\srhsi\\appdata\\local\\packages\\pythonsoftwarefoundation.python.3.10_qbz5n2kfra8p0\\localcache\\local-packages\\python310\\site-packages (from ipykernel->jupyter-dash) (5.9.0)\n",
            "Requirement already satisfied: packaging in c:\\users\\srhsi\\appdata\\local\\packages\\pythonsoftwarefoundation.python.3.10_qbz5n2kfra8p0\\localcache\\local-packages\\python310\\site-packages (from ipykernel->jupyter-dash) (23.0)\n",
            "Requirement already satisfied: stack-data in c:\\users\\srhsi\\appdata\\local\\packages\\pythonsoftwarefoundation.python.3.10_qbz5n2kfra8p0\\localcache\\local-packages\\python310\\site-packages (from ipython->jupyter-dash) (0.6.2)\n",
            "Requirement already satisfied: pickleshare in c:\\users\\srhsi\\appdata\\local\\packages\\pythonsoftwarefoundation.python.3.10_qbz5n2kfra8p0\\localcache\\local-packages\\python310\\site-packages (from ipython->jupyter-dash) (0.7.5)\n",
            "Requirement already satisfied: jedi>=0.16 in c:\\users\\srhsi\\appdata\\local\\packages\\pythonsoftwarefoundation.python.3.10_qbz5n2kfra8p0\\localcache\\local-packages\\python310\\site-packages (from ipython->jupyter-dash) (0.18.2)\n",
            "Requirement already satisfied: pygments>=2.4.0 in c:\\users\\srhsi\\appdata\\local\\packages\\pythonsoftwarefoundation.python.3.10_qbz5n2kfra8p0\\localcache\\local-packages\\python310\\site-packages (from ipython->jupyter-dash) (2.14.0)\n",
            "Requirement already satisfied: backcall in c:\\users\\srhsi\\appdata\\local\\packages\\pythonsoftwarefoundation.python.3.10_qbz5n2kfra8p0\\localcache\\local-packages\\python310\\site-packages (from ipython->jupyter-dash) (0.2.0)\n",
            "Requirement already satisfied: colorama in c:\\users\\srhsi\\appdata\\local\\packages\\pythonsoftwarefoundation.python.3.10_qbz5n2kfra8p0\\localcache\\local-packages\\python310\\site-packages (from ipython->jupyter-dash) (0.4.6)\n",
            "Requirement already satisfied: decorator in c:\\users\\srhsi\\appdata\\local\\packages\\pythonsoftwarefoundation.python.3.10_qbz5n2kfra8p0\\localcache\\local-packages\\python310\\site-packages (from ipython->jupyter-dash) (5.1.1)\n",
            "Requirement already satisfied: prompt-toolkit!=3.0.37,<3.1.0,>=3.0.30 in c:\\users\\srhsi\\appdata\\local\\packages\\pythonsoftwarefoundation.python.3.10_qbz5n2kfra8p0\\localcache\\local-packages\\python310\\site-packages (from ipython->jupyter-dash) (3.0.38)\n",
            "Requirement already satisfied: certifi>=2017.4.17 in c:\\users\\srhsi\\appdata\\local\\packages\\pythonsoftwarefoundation.python.3.10_qbz5n2kfra8p0\\localcache\\local-packages\\python310\\site-packages (from requests->jupyter-dash) (2022.12.7)\n",
            "Requirement already satisfied: idna<4,>=2.5 in c:\\users\\srhsi\\appdata\\local\\packages\\pythonsoftwarefoundation.python.3.10_qbz5n2kfra8p0\\localcache\\local-packages\\python310\\site-packages (from requests->jupyter-dash) (3.4)\n",
            "Requirement already satisfied: charset-normalizer<4,>=2 in c:\\users\\srhsi\\appdata\\local\\packages\\pythonsoftwarefoundation.python.3.10_qbz5n2kfra8p0\\localcache\\local-packages\\python310\\site-packages (from requests->jupyter-dash) (3.1.0)\n",
            "Requirement already satisfied: urllib3<1.27,>=1.21.1 in c:\\users\\srhsi\\appdata\\local\\packages\\pythonsoftwarefoundation.python.3.10_qbz5n2kfra8p0\\localcache\\local-packages\\python310\\site-packages (from requests->jupyter-dash) (1.26.15)\n",
            "Requirement already satisfied: six>=1.7.0 in c:\\users\\srhsi\\appdata\\local\\packages\\pythonsoftwarefoundation.python.3.10_qbz5n2kfra8p0\\localcache\\local-packages\\python310\\site-packages (from retrying->jupyter-dash) (1.16.0)\n",
            "Requirement already satisfied: parso<0.9.0,>=0.8.0 in c:\\users\\srhsi\\appdata\\local\\packages\\pythonsoftwarefoundation.python.3.10_qbz5n2kfra8p0\\localcache\\local-packages\\python310\\site-packages (from jedi>=0.16->ipython->jupyter-dash) (0.8.3)\n",
            "Requirement already satisfied: MarkupSafe>=2.0 in c:\\users\\srhsi\\appdata\\local\\packages\\pythonsoftwarefoundation.python.3.10_qbz5n2kfra8p0\\localcache\\local-packages\\python310\\site-packages (from Jinja2>=3.0->flask->jupyter-dash) (2.1.2)\n",
            "Requirement already satisfied: python-dateutil>=2.8.2 in c:\\users\\srhsi\\appdata\\local\\packages\\pythonsoftwarefoundation.python.3.10_qbz5n2kfra8p0\\localcache\\local-packages\\python310\\site-packages (from jupyter-client>=6.1.12->ipykernel->jupyter-dash) (2.8.2)\n",
            "Requirement already satisfied: platformdirs>=2.5 in c:\\users\\srhsi\\appdata\\local\\packages\\pythonsoftwarefoundation.python.3.10_qbz5n2kfra8p0\\localcache\\local-packages\\python310\\site-packages (from jupyter-core!=5.0.*,>=4.12->ipykernel->jupyter-dash) (3.1.1)\n",
            "Requirement already satisfied: pywin32>=1.0 in c:\\users\\srhsi\\appdata\\local\\packages\\pythonsoftwarefoundation.python.3.10_qbz5n2kfra8p0\\localcache\\local-packages\\python310\\site-packages (from jupyter-core!=5.0.*,>=4.12->ipykernel->jupyter-dash) (305)\n",
            "Requirement already satisfied: tenacity>=6.2.0 in c:\\users\\srhsi\\appdata\\local\\packages\\pythonsoftwarefoundation.python.3.10_qbz5n2kfra8p0\\localcache\\local-packages\\python310\\site-packages (from plotly>=5.0.0->dash->jupyter-dash) (8.2.2)\n",
            "Requirement already satisfied: wcwidth in c:\\users\\srhsi\\appdata\\local\\packages\\pythonsoftwarefoundation.python.3.10_qbz5n2kfra8p0\\localcache\\local-packages\\python310\\site-packages (from prompt-toolkit!=3.0.37,<3.1.0,>=3.0.30->ipython->jupyter-dash) (0.2.6)\n",
            "Requirement already satisfied: asttokens>=2.1.0 in c:\\users\\srhsi\\appdata\\local\\packages\\pythonsoftwarefoundation.python.3.10_qbz5n2kfra8p0\\localcache\\local-packages\\python310\\site-packages (from stack-data->ipython->jupyter-dash) (2.2.1)\n",
            "Requirement already satisfied: pure-eval in c:\\users\\srhsi\\appdata\\local\\packages\\pythonsoftwarefoundation.python.3.10_qbz5n2kfra8p0\\localcache\\local-packages\\python310\\site-packages (from stack-data->ipython->jupyter-dash) (0.2.2)\n",
            "Requirement already satisfied: executing>=1.2.0 in c:\\users\\srhsi\\appdata\\local\\packages\\pythonsoftwarefoundation.python.3.10_qbz5n2kfra8p0\\localcache\\local-packages\\python310\\site-packages (from stack-data->ipython->jupyter-dash) (1.2.0)\n"
          ]
        },
        {
          "name": "stderr",
          "output_type": "stream",
          "text": [
            "\n",
            "[notice] A new release of pip available: 22.3.1 -> 23.0.1\n",
            "[notice] To update, run: C:\\Users\\srhsi\\AppData\\Local\\Microsoft\\WindowsApps\\PythonSoftwareFoundation.Python.3.10_qbz5n2kfra8p0\\python.exe -m pip install --upgrade pip\n"
          ]
        }
      ],
      "source": [
        "!pip install plotly\n",
        "!pip install tqdm\n",
        "!pip install pandas\n",
        "!pip install pybettor\n",
        "!pip install dash\n",
        "!pip install nbformat \n",
        "!pip install jupyter-dash"
      ]
    },
    {
      "cell_type": "code",
      "execution_count": 5,
      "metadata": {
        "id": "Fuz_T8PielQv"
      },
      "outputs": [],
      "source": [
        "import numpy as np\n",
        "import pandas as pd"
      ]
    },
    {
      "cell_type": "code",
      "execution_count": 6,
      "metadata": {
        "id": "79DJMsZWfQJh"
      },
      "outputs": [],
      "source": [
        "df = pd.read_csv(\"https://www.football-data.co.uk/mmz4281/2223/D1.csv\")"
      ]
    },
    {
      "cell_type": "markdown",
      "metadata": {
        "id": "tUS78s1Mcccs"
      },
      "source": [
        "* Descrição dos dados: https://www.football-data.co.uk/notes.txt"
      ]
    },
    {
      "cell_type": "code",
      "execution_count": 7,
      "metadata": {
        "colab": {
          "base_uri": "https://localhost:8080/",
          "height": 423
        },
        "id": "aJD4IEs6g6Zr",
        "outputId": "ee96911e-9de3-4842-ad2e-8749febfa1c3"
      },
      "outputs": [
        {
          "data": {
            "text/html": [
              "<div>\n",
              "<style scoped>\n",
              "    .dataframe tbody tr th:only-of-type {\n",
              "        vertical-align: middle;\n",
              "    }\n",
              "\n",
              "    .dataframe tbody tr th {\n",
              "        vertical-align: top;\n",
              "    }\n",
              "\n",
              "    .dataframe thead th {\n",
              "        text-align: right;\n",
              "    }\n",
              "</style>\n",
              "<table border=\"1\" class=\"dataframe\">\n",
              "  <thead>\n",
              "    <tr style=\"text-align: right;\">\n",
              "      <th></th>\n",
              "      <th>Div</th>\n",
              "      <th>Date</th>\n",
              "      <th>Time</th>\n",
              "      <th>HomeTeam</th>\n",
              "      <th>AwayTeam</th>\n",
              "      <th>FTHG</th>\n",
              "      <th>FTAG</th>\n",
              "      <th>FTR</th>\n",
              "      <th>HTHG</th>\n",
              "      <th>HTAG</th>\n",
              "      <th>...</th>\n",
              "      <th>AvgC&lt;2.5</th>\n",
              "      <th>AHCh</th>\n",
              "      <th>B365CAHH</th>\n",
              "      <th>B365CAHA</th>\n",
              "      <th>PCAHH</th>\n",
              "      <th>PCAHA</th>\n",
              "      <th>MaxCAHH</th>\n",
              "      <th>MaxCAHA</th>\n",
              "      <th>AvgCAHH</th>\n",
              "      <th>AvgCAHA</th>\n",
              "    </tr>\n",
              "  </thead>\n",
              "  <tbody>\n",
              "    <tr>\n",
              "      <th>0</th>\n",
              "      <td>D1</td>\n",
              "      <td>05/08/2022</td>\n",
              "      <td>19:30</td>\n",
              "      <td>Ein Frankfurt</td>\n",
              "      <td>Bayern Munich</td>\n",
              "      <td>1</td>\n",
              "      <td>6</td>\n",
              "      <td>A</td>\n",
              "      <td>0</td>\n",
              "      <td>5</td>\n",
              "      <td>...</td>\n",
              "      <td>3.03</td>\n",
              "      <td>1.25</td>\n",
              "      <td>2.00</td>\n",
              "      <td>1.93</td>\n",
              "      <td>2.00</td>\n",
              "      <td>1.93</td>\n",
              "      <td>2.01</td>\n",
              "      <td>2.00</td>\n",
              "      <td>1.93</td>\n",
              "      <td>1.94</td>\n",
              "    </tr>\n",
              "    <tr>\n",
              "      <th>1</th>\n",
              "      <td>D1</td>\n",
              "      <td>06/08/2022</td>\n",
              "      <td>14:30</td>\n",
              "      <td>Augsburg</td>\n",
              "      <td>Freiburg</td>\n",
              "      <td>0</td>\n",
              "      <td>4</td>\n",
              "      <td>A</td>\n",
              "      <td>0</td>\n",
              "      <td>0</td>\n",
              "      <td>...</td>\n",
              "      <td>1.95</td>\n",
              "      <td>0.25</td>\n",
              "      <td>2.04</td>\n",
              "      <td>1.89</td>\n",
              "      <td>2.04</td>\n",
              "      <td>1.88</td>\n",
              "      <td>2.08</td>\n",
              "      <td>1.89</td>\n",
              "      <td>2.03</td>\n",
              "      <td>1.84</td>\n",
              "    </tr>\n",
              "    <tr>\n",
              "      <th>2</th>\n",
              "      <td>D1</td>\n",
              "      <td>06/08/2022</td>\n",
              "      <td>14:30</td>\n",
              "      <td>Bochum</td>\n",
              "      <td>Mainz</td>\n",
              "      <td>1</td>\n",
              "      <td>2</td>\n",
              "      <td>A</td>\n",
              "      <td>1</td>\n",
              "      <td>1</td>\n",
              "      <td>...</td>\n",
              "      <td>1.97</td>\n",
              "      <td>0.25</td>\n",
              "      <td>1.95</td>\n",
              "      <td>1.98</td>\n",
              "      <td>1.95</td>\n",
              "      <td>1.97</td>\n",
              "      <td>1.99</td>\n",
              "      <td>1.99</td>\n",
              "      <td>1.93</td>\n",
              "      <td>1.93</td>\n",
              "    </tr>\n",
              "    <tr>\n",
              "      <th>3</th>\n",
              "      <td>D1</td>\n",
              "      <td>06/08/2022</td>\n",
              "      <td>14:30</td>\n",
              "      <td>M'gladbach</td>\n",
              "      <td>Hoffenheim</td>\n",
              "      <td>3</td>\n",
              "      <td>1</td>\n",
              "      <td>H</td>\n",
              "      <td>1</td>\n",
              "      <td>1</td>\n",
              "      <td>...</td>\n",
              "      <td>2.81</td>\n",
              "      <td>-0.50</td>\n",
              "      <td>2.06</td>\n",
              "      <td>1.87</td>\n",
              "      <td>2.08</td>\n",
              "      <td>1.85</td>\n",
              "      <td>2.10</td>\n",
              "      <td>1.88</td>\n",
              "      <td>2.04</td>\n",
              "      <td>1.84</td>\n",
              "    </tr>\n",
              "    <tr>\n",
              "      <th>4</th>\n",
              "      <td>D1</td>\n",
              "      <td>06/08/2022</td>\n",
              "      <td>14:30</td>\n",
              "      <td>Union Berlin</td>\n",
              "      <td>Hertha</td>\n",
              "      <td>3</td>\n",
              "      <td>1</td>\n",
              "      <td>H</td>\n",
              "      <td>1</td>\n",
              "      <td>0</td>\n",
              "      <td>...</td>\n",
              "      <td>1.92</td>\n",
              "      <td>-0.50</td>\n",
              "      <td>1.90</td>\n",
              "      <td>2.03</td>\n",
              "      <td>1.91</td>\n",
              "      <td>2.01</td>\n",
              "      <td>1.93</td>\n",
              "      <td>2.05</td>\n",
              "      <td>1.88</td>\n",
              "      <td>1.99</td>\n",
              "    </tr>\n",
              "    <tr>\n",
              "      <th>...</th>\n",
              "      <td>...</td>\n",
              "      <td>...</td>\n",
              "      <td>...</td>\n",
              "      <td>...</td>\n",
              "      <td>...</td>\n",
              "      <td>...</td>\n",
              "      <td>...</td>\n",
              "      <td>...</td>\n",
              "      <td>...</td>\n",
              "      <td>...</td>\n",
              "      <td>...</td>\n",
              "      <td>...</td>\n",
              "      <td>...</td>\n",
              "      <td>...</td>\n",
              "      <td>...</td>\n",
              "      <td>...</td>\n",
              "      <td>...</td>\n",
              "      <td>...</td>\n",
              "      <td>...</td>\n",
              "      <td>...</td>\n",
              "      <td>...</td>\n",
              "    </tr>\n",
              "    <tr>\n",
              "      <th>211</th>\n",
              "      <td>D1</td>\n",
              "      <td>11/03/2023</td>\n",
              "      <td>14:30</td>\n",
              "      <td>RB Leipzig</td>\n",
              "      <td>M'gladbach</td>\n",
              "      <td>3</td>\n",
              "      <td>0</td>\n",
              "      <td>H</td>\n",
              "      <td>0</td>\n",
              "      <td>0</td>\n",
              "      <td>...</td>\n",
              "      <td>2.68</td>\n",
              "      <td>-1.50</td>\n",
              "      <td>2.01</td>\n",
              "      <td>1.92</td>\n",
              "      <td>2.02</td>\n",
              "      <td>1.91</td>\n",
              "      <td>2.15</td>\n",
              "      <td>1.95</td>\n",
              "      <td>2.03</td>\n",
              "      <td>1.84</td>\n",
              "    </tr>\n",
              "    <tr>\n",
              "      <th>212</th>\n",
              "      <td>D1</td>\n",
              "      <td>11/03/2023</td>\n",
              "      <td>17:30</td>\n",
              "      <td>Schalke 04</td>\n",
              "      <td>Dortmund</td>\n",
              "      <td>2</td>\n",
              "      <td>2</td>\n",
              "      <td>D</td>\n",
              "      <td>0</td>\n",
              "      <td>1</td>\n",
              "      <td>...</td>\n",
              "      <td>2.02</td>\n",
              "      <td>0.50</td>\n",
              "      <td>2.07</td>\n",
              "      <td>1.86</td>\n",
              "      <td>2.09</td>\n",
              "      <td>1.83</td>\n",
              "      <td>2.12</td>\n",
              "      <td>1.94</td>\n",
              "      <td>2.03</td>\n",
              "      <td>1.84</td>\n",
              "    </tr>\n",
              "    <tr>\n",
              "      <th>213</th>\n",
              "      <td>D1</td>\n",
              "      <td>12/03/2023</td>\n",
              "      <td>14:30</td>\n",
              "      <td>Freiburg</td>\n",
              "      <td>Hoffenheim</td>\n",
              "      <td>2</td>\n",
              "      <td>1</td>\n",
              "      <td>H</td>\n",
              "      <td>1</td>\n",
              "      <td>0</td>\n",
              "      <td>...</td>\n",
              "      <td>1.99</td>\n",
              "      <td>-0.50</td>\n",
              "      <td>1.86</td>\n",
              "      <td>2.07</td>\n",
              "      <td>1.88</td>\n",
              "      <td>2.06</td>\n",
              "      <td>1.89</td>\n",
              "      <td>2.08</td>\n",
              "      <td>1.85</td>\n",
              "      <td>2.03</td>\n",
              "    </tr>\n",
              "    <tr>\n",
              "      <th>214</th>\n",
              "      <td>D1</td>\n",
              "      <td>12/03/2023</td>\n",
              "      <td>16:30</td>\n",
              "      <td>Werder Bremen</td>\n",
              "      <td>Leverkusen</td>\n",
              "      <td>2</td>\n",
              "      <td>3</td>\n",
              "      <td>A</td>\n",
              "      <td>1</td>\n",
              "      <td>1</td>\n",
              "      <td>...</td>\n",
              "      <td>2.08</td>\n",
              "      <td>0.50</td>\n",
              "      <td>1.84</td>\n",
              "      <td>2.09</td>\n",
              "      <td>1.84</td>\n",
              "      <td>2.10</td>\n",
              "      <td>1.86</td>\n",
              "      <td>2.13</td>\n",
              "      <td>1.81</td>\n",
              "      <td>2.07</td>\n",
              "    </tr>\n",
              "    <tr>\n",
              "      <th>215</th>\n",
              "      <td>D1</td>\n",
              "      <td>12/03/2023</td>\n",
              "      <td>18:30</td>\n",
              "      <td>Wolfsburg</td>\n",
              "      <td>Union Berlin</td>\n",
              "      <td>1</td>\n",
              "      <td>1</td>\n",
              "      <td>D</td>\n",
              "      <td>0</td>\n",
              "      <td>0</td>\n",
              "      <td>...</td>\n",
              "      <td>1.54</td>\n",
              "      <td>0.00</td>\n",
              "      <td>1.91</td>\n",
              "      <td>2.02</td>\n",
              "      <td>1.89</td>\n",
              "      <td>2.03</td>\n",
              "      <td>1.94</td>\n",
              "      <td>2.05</td>\n",
              "      <td>1.88</td>\n",
              "      <td>2.01</td>\n",
              "    </tr>\n",
              "  </tbody>\n",
              "</table>\n",
              "<p>216 rows × 105 columns</p>\n",
              "</div>"
            ],
            "text/plain": [
              "    Div        Date   Time       HomeTeam       AwayTeam  FTHG  FTAG FTR  \\\n",
              "0    D1  05/08/2022  19:30  Ein Frankfurt  Bayern Munich     1     6   A   \n",
              "1    D1  06/08/2022  14:30       Augsburg       Freiburg     0     4   A   \n",
              "2    D1  06/08/2022  14:30         Bochum          Mainz     1     2   A   \n",
              "3    D1  06/08/2022  14:30     M'gladbach     Hoffenheim     3     1   H   \n",
              "4    D1  06/08/2022  14:30   Union Berlin         Hertha     3     1   H   \n",
              "..   ..         ...    ...            ...            ...   ...   ...  ..   \n",
              "211  D1  11/03/2023  14:30     RB Leipzig     M'gladbach     3     0   H   \n",
              "212  D1  11/03/2023  17:30     Schalke 04       Dortmund     2     2   D   \n",
              "213  D1  12/03/2023  14:30       Freiburg     Hoffenheim     2     1   H   \n",
              "214  D1  12/03/2023  16:30  Werder Bremen     Leverkusen     2     3   A   \n",
              "215  D1  12/03/2023  18:30      Wolfsburg   Union Berlin     1     1   D   \n",
              "\n",
              "     HTHG  HTAG  ... AvgC<2.5  AHCh  B365CAHH  B365CAHA  PCAHH  PCAHA  \\\n",
              "0       0     5  ...     3.03  1.25      2.00      1.93   2.00   1.93   \n",
              "1       0     0  ...     1.95  0.25      2.04      1.89   2.04   1.88   \n",
              "2       1     1  ...     1.97  0.25      1.95      1.98   1.95   1.97   \n",
              "3       1     1  ...     2.81 -0.50      2.06      1.87   2.08   1.85   \n",
              "4       1     0  ...     1.92 -0.50      1.90      2.03   1.91   2.01   \n",
              "..    ...   ...  ...      ...   ...       ...       ...    ...    ...   \n",
              "211     0     0  ...     2.68 -1.50      2.01      1.92   2.02   1.91   \n",
              "212     0     1  ...     2.02  0.50      2.07      1.86   2.09   1.83   \n",
              "213     1     0  ...     1.99 -0.50      1.86      2.07   1.88   2.06   \n",
              "214     1     1  ...     2.08  0.50      1.84      2.09   1.84   2.10   \n",
              "215     0     0  ...     1.54  0.00      1.91      2.02   1.89   2.03   \n",
              "\n",
              "     MaxCAHH  MaxCAHA  AvgCAHH  AvgCAHA  \n",
              "0       2.01     2.00     1.93     1.94  \n",
              "1       2.08     1.89     2.03     1.84  \n",
              "2       1.99     1.99     1.93     1.93  \n",
              "3       2.10     1.88     2.04     1.84  \n",
              "4       1.93     2.05     1.88     1.99  \n",
              "..       ...      ...      ...      ...  \n",
              "211     2.15     1.95     2.03     1.84  \n",
              "212     2.12     1.94     2.03     1.84  \n",
              "213     1.89     2.08     1.85     2.03  \n",
              "214     1.86     2.13     1.81     2.07  \n",
              "215     1.94     2.05     1.88     2.01  \n",
              "\n",
              "[216 rows x 105 columns]"
            ]
          },
          "execution_count": 7,
          "metadata": {},
          "output_type": "execute_result"
        }
      ],
      "source": [
        "df"
      ]
    },
    {
      "cell_type": "code",
      "execution_count": 8,
      "metadata": {
        "id": "xxv5xg7bhdHm"
      },
      "outputs": [],
      "source": [
        "df = df [['Date', 'HomeTeam', 'AwayTeam','FTHG','FTAG','FTR','B365H','B365D','B365A']]"
      ]
    },
    {
      "cell_type": "code",
      "execution_count": 9,
      "metadata": {
        "colab": {
          "base_uri": "https://localhost:8080/",
          "height": 206
        },
        "id": "DJJ6164S3Azq",
        "outputId": "128a148f-a177-4a91-b40a-984b37a412a8"
      },
      "outputs": [
        {
          "data": {
            "text/html": [
              "<div>\n",
              "<style scoped>\n",
              "    .dataframe tbody tr th:only-of-type {\n",
              "        vertical-align: middle;\n",
              "    }\n",
              "\n",
              "    .dataframe tbody tr th {\n",
              "        vertical-align: top;\n",
              "    }\n",
              "\n",
              "    .dataframe thead th {\n",
              "        text-align: right;\n",
              "    }\n",
              "</style>\n",
              "<table border=\"1\" class=\"dataframe\">\n",
              "  <thead>\n",
              "    <tr style=\"text-align: right;\">\n",
              "      <th></th>\n",
              "      <th>date</th>\n",
              "      <th>home_team</th>\n",
              "      <th>away_team</th>\n",
              "      <th>goals_home</th>\n",
              "      <th>goals_away</th>\n",
              "      <th>result</th>\n",
              "      <th>odds_home</th>\n",
              "      <th>odds_tie</th>\n",
              "      <th>odds_away</th>\n",
              "    </tr>\n",
              "  </thead>\n",
              "  <tbody>\n",
              "    <tr>\n",
              "      <th>0</th>\n",
              "      <td>05/08/2022</td>\n",
              "      <td>Ein Frankfurt</td>\n",
              "      <td>Bayern Munich</td>\n",
              "      <td>1</td>\n",
              "      <td>6</td>\n",
              "      <td>A</td>\n",
              "      <td>6.00</td>\n",
              "      <td>5.00</td>\n",
              "      <td>1.50</td>\n",
              "    </tr>\n",
              "    <tr>\n",
              "      <th>1</th>\n",
              "      <td>06/08/2022</td>\n",
              "      <td>Augsburg</td>\n",
              "      <td>Freiburg</td>\n",
              "      <td>0</td>\n",
              "      <td>4</td>\n",
              "      <td>A</td>\n",
              "      <td>3.30</td>\n",
              "      <td>3.50</td>\n",
              "      <td>2.15</td>\n",
              "    </tr>\n",
              "    <tr>\n",
              "      <th>2</th>\n",
              "      <td>06/08/2022</td>\n",
              "      <td>Bochum</td>\n",
              "      <td>Mainz</td>\n",
              "      <td>1</td>\n",
              "      <td>2</td>\n",
              "      <td>A</td>\n",
              "      <td>3.20</td>\n",
              "      <td>3.40</td>\n",
              "      <td>2.20</td>\n",
              "    </tr>\n",
              "    <tr>\n",
              "      <th>3</th>\n",
              "      <td>06/08/2022</td>\n",
              "      <td>M'gladbach</td>\n",
              "      <td>Hoffenheim</td>\n",
              "      <td>3</td>\n",
              "      <td>1</td>\n",
              "      <td>H</td>\n",
              "      <td>2.05</td>\n",
              "      <td>4.20</td>\n",
              "      <td>3.00</td>\n",
              "    </tr>\n",
              "    <tr>\n",
              "      <th>4</th>\n",
              "      <td>06/08/2022</td>\n",
              "      <td>Union Berlin</td>\n",
              "      <td>Hertha</td>\n",
              "      <td>3</td>\n",
              "      <td>1</td>\n",
              "      <td>H</td>\n",
              "      <td>1.72</td>\n",
              "      <td>3.75</td>\n",
              "      <td>4.50</td>\n",
              "    </tr>\n",
              "  </tbody>\n",
              "</table>\n",
              "</div>"
            ],
            "text/plain": [
              "         date      home_team      away_team  goals_home  goals_away result  \\\n",
              "0  05/08/2022  Ein Frankfurt  Bayern Munich           1           6      A   \n",
              "1  06/08/2022       Augsburg       Freiburg           0           4      A   \n",
              "2  06/08/2022         Bochum          Mainz           1           2      A   \n",
              "3  06/08/2022     M'gladbach     Hoffenheim           3           1      H   \n",
              "4  06/08/2022   Union Berlin         Hertha           3           1      H   \n",
              "\n",
              "   odds_home  odds_tie  odds_away  \n",
              "0       6.00      5.00       1.50  \n",
              "1       3.30      3.50       2.15  \n",
              "2       3.20      3.40       2.20  \n",
              "3       2.05      4.20       3.00  \n",
              "4       1.72      3.75       4.50  "
            ]
          },
          "execution_count": 9,
          "metadata": {},
          "output_type": "execute_result"
        }
      ],
      "source": [
        "df.columns = ['date','home_team','away_team','goals_home','goals_away','result','odds_home','odds_tie','odds_away']\n",
        "df = df.copy()\n",
        "df.head()"
      ]
    },
    {
      "cell_type": "code",
      "execution_count": 10,
      "metadata": {
        "colab": {
          "base_uri": "https://localhost:8080/",
          "height": 206
        },
        "id": "bANkJ4Th3Azq",
        "outputId": "0a0ee075-d744-4eec-95dd-5ed0b69443fd"
      },
      "outputs": [
        {
          "data": {
            "text/html": [
              "<div>\n",
              "<style scoped>\n",
              "    .dataframe tbody tr th:only-of-type {\n",
              "        vertical-align: middle;\n",
              "    }\n",
              "\n",
              "    .dataframe tbody tr th {\n",
              "        vertical-align: top;\n",
              "    }\n",
              "\n",
              "    .dataframe thead th {\n",
              "        text-align: right;\n",
              "    }\n",
              "</style>\n",
              "<table border=\"1\" class=\"dataframe\">\n",
              "  <thead>\n",
              "    <tr style=\"text-align: right;\">\n",
              "      <th></th>\n",
              "      <th>date</th>\n",
              "      <th>home_team</th>\n",
              "      <th>away_team</th>\n",
              "      <th>goals_home</th>\n",
              "      <th>goals_away</th>\n",
              "      <th>result</th>\n",
              "      <th>odds_home</th>\n",
              "      <th>odds_tie</th>\n",
              "      <th>odds_away</th>\n",
              "    </tr>\n",
              "  </thead>\n",
              "  <tbody>\n",
              "    <tr>\n",
              "      <th>0</th>\n",
              "      <td>05/08/2022</td>\n",
              "      <td>Ein Frankfurt</td>\n",
              "      <td>Bayern Munich</td>\n",
              "      <td>1</td>\n",
              "      <td>6</td>\n",
              "      <td>away_team</td>\n",
              "      <td>0.166667</td>\n",
              "      <td>0.200000</td>\n",
              "      <td>0.666667</td>\n",
              "    </tr>\n",
              "    <tr>\n",
              "      <th>1</th>\n",
              "      <td>06/08/2022</td>\n",
              "      <td>Augsburg</td>\n",
              "      <td>Freiburg</td>\n",
              "      <td>0</td>\n",
              "      <td>4</td>\n",
              "      <td>away_team</td>\n",
              "      <td>0.303030</td>\n",
              "      <td>0.285714</td>\n",
              "      <td>0.465116</td>\n",
              "    </tr>\n",
              "    <tr>\n",
              "      <th>2</th>\n",
              "      <td>06/08/2022</td>\n",
              "      <td>Bochum</td>\n",
              "      <td>Mainz</td>\n",
              "      <td>1</td>\n",
              "      <td>2</td>\n",
              "      <td>away_team</td>\n",
              "      <td>0.312500</td>\n",
              "      <td>0.294118</td>\n",
              "      <td>0.454545</td>\n",
              "    </tr>\n",
              "    <tr>\n",
              "      <th>3</th>\n",
              "      <td>06/08/2022</td>\n",
              "      <td>M'gladbach</td>\n",
              "      <td>Hoffenheim</td>\n",
              "      <td>3</td>\n",
              "      <td>1</td>\n",
              "      <td>home_team</td>\n",
              "      <td>0.487805</td>\n",
              "      <td>0.238095</td>\n",
              "      <td>0.333333</td>\n",
              "    </tr>\n",
              "    <tr>\n",
              "      <th>4</th>\n",
              "      <td>06/08/2022</td>\n",
              "      <td>Union Berlin</td>\n",
              "      <td>Hertha</td>\n",
              "      <td>3</td>\n",
              "      <td>1</td>\n",
              "      <td>home_team</td>\n",
              "      <td>0.581395</td>\n",
              "      <td>0.266667</td>\n",
              "      <td>0.222222</td>\n",
              "    </tr>\n",
              "  </tbody>\n",
              "</table>\n",
              "</div>"
            ],
            "text/plain": [
              "         date      home_team      away_team  goals_home  goals_away  \\\n",
              "0  05/08/2022  Ein Frankfurt  Bayern Munich           1           6   \n",
              "1  06/08/2022       Augsburg       Freiburg           0           4   \n",
              "2  06/08/2022         Bochum          Mainz           1           2   \n",
              "3  06/08/2022     M'gladbach     Hoffenheim           3           1   \n",
              "4  06/08/2022   Union Berlin         Hertha           3           1   \n",
              "\n",
              "      result  odds_home  odds_tie  odds_away  \n",
              "0  away_team   0.166667  0.200000   0.666667  \n",
              "1  away_team   0.303030  0.285714   0.465116  \n",
              "2  away_team   0.312500  0.294118   0.454545  \n",
              "3  home_team   0.487805  0.238095   0.333333  \n",
              "4  home_team   0.581395  0.266667   0.222222  "
            ]
          },
          "execution_count": 10,
          "metadata": {},
          "output_type": "execute_result"
        }
      ],
      "source": [
        "from pybettor import implied_prob\n",
        "df['odds_home'] = df['odds_home'].apply(lambda x: implied_prob(x, category='dec')[0])\n",
        "df['odds_tie'] = df['odds_tie'].apply(lambda x: implied_prob(x, category='dec')[0])\n",
        "df['odds_away'] = df['odds_away'].apply(lambda x: implied_prob(x, category='dec')[0])\n",
        "df['result'] = df['result'].replace(['H', 'A', 'D'], ['home_team', 'away_team', 'tie'])\n",
        "df.head()"
      ]
    },
    {
      "cell_type": "code",
      "execution_count": 11,
      "metadata": {
        "colab": {
          "base_uri": "https://localhost:8080/",
          "height": 206
        },
        "id": "kuSaCMwfj23W",
        "outputId": "ea824f47-6f7f-47d3-977a-968292f7ae1a"
      },
      "outputs": [
        {
          "data": {
            "text/html": [
              "<div>\n",
              "<style scoped>\n",
              "    .dataframe tbody tr th:only-of-type {\n",
              "        vertical-align: middle;\n",
              "    }\n",
              "\n",
              "    .dataframe tbody tr th {\n",
              "        vertical-align: top;\n",
              "    }\n",
              "\n",
              "    .dataframe thead th {\n",
              "        text-align: right;\n",
              "    }\n",
              "</style>\n",
              "<table border=\"1\" class=\"dataframe\">\n",
              "  <thead>\n",
              "    <tr style=\"text-align: right;\">\n",
              "      <th></th>\n",
              "      <th>date</th>\n",
              "      <th>home_team</th>\n",
              "      <th>away_team</th>\n",
              "      <th>goals_home</th>\n",
              "      <th>goals_away</th>\n",
              "      <th>result</th>\n",
              "      <th>odds_home</th>\n",
              "      <th>odds_tie</th>\n",
              "      <th>odds_away</th>\n",
              "      <th>game_number</th>\n",
              "    </tr>\n",
              "  </thead>\n",
              "  <tbody>\n",
              "    <tr>\n",
              "      <th>0</th>\n",
              "      <td>05/08/2022</td>\n",
              "      <td>Ein Frankfurt</td>\n",
              "      <td>Bayern Munich</td>\n",
              "      <td>1</td>\n",
              "      <td>6</td>\n",
              "      <td>away_team</td>\n",
              "      <td>0.166667</td>\n",
              "      <td>0.200000</td>\n",
              "      <td>0.666667</td>\n",
              "      <td>0</td>\n",
              "    </tr>\n",
              "    <tr>\n",
              "      <th>1</th>\n",
              "      <td>06/08/2022</td>\n",
              "      <td>Augsburg</td>\n",
              "      <td>Freiburg</td>\n",
              "      <td>0</td>\n",
              "      <td>4</td>\n",
              "      <td>away_team</td>\n",
              "      <td>0.303030</td>\n",
              "      <td>0.285714</td>\n",
              "      <td>0.465116</td>\n",
              "      <td>1</td>\n",
              "    </tr>\n",
              "    <tr>\n",
              "      <th>2</th>\n",
              "      <td>06/08/2022</td>\n",
              "      <td>Bochum</td>\n",
              "      <td>Mainz</td>\n",
              "      <td>1</td>\n",
              "      <td>2</td>\n",
              "      <td>away_team</td>\n",
              "      <td>0.312500</td>\n",
              "      <td>0.294118</td>\n",
              "      <td>0.454545</td>\n",
              "      <td>2</td>\n",
              "    </tr>\n",
              "    <tr>\n",
              "      <th>3</th>\n",
              "      <td>06/08/2022</td>\n",
              "      <td>M'gladbach</td>\n",
              "      <td>Hoffenheim</td>\n",
              "      <td>3</td>\n",
              "      <td>1</td>\n",
              "      <td>home_team</td>\n",
              "      <td>0.487805</td>\n",
              "      <td>0.238095</td>\n",
              "      <td>0.333333</td>\n",
              "      <td>3</td>\n",
              "    </tr>\n",
              "    <tr>\n",
              "      <th>4</th>\n",
              "      <td>06/08/2022</td>\n",
              "      <td>Union Berlin</td>\n",
              "      <td>Hertha</td>\n",
              "      <td>3</td>\n",
              "      <td>1</td>\n",
              "      <td>home_team</td>\n",
              "      <td>0.581395</td>\n",
              "      <td>0.266667</td>\n",
              "      <td>0.222222</td>\n",
              "      <td>4</td>\n",
              "    </tr>\n",
              "  </tbody>\n",
              "</table>\n",
              "</div>"
            ],
            "text/plain": [
              "         date      home_team      away_team  goals_home  goals_away  \\\n",
              "0  05/08/2022  Ein Frankfurt  Bayern Munich           1           6   \n",
              "1  06/08/2022       Augsburg       Freiburg           0           4   \n",
              "2  06/08/2022         Bochum          Mainz           1           2   \n",
              "3  06/08/2022     M'gladbach     Hoffenheim           3           1   \n",
              "4  06/08/2022   Union Berlin         Hertha           3           1   \n",
              "\n",
              "      result  odds_home  odds_tie  odds_away  game_number  \n",
              "0  away_team   0.166667  0.200000   0.666667            0  \n",
              "1  away_team   0.303030  0.285714   0.465116            1  \n",
              "2  away_team   0.312500  0.294118   0.454545            2  \n",
              "3  home_team   0.487805  0.238095   0.333333            3  \n",
              "4  home_team   0.581395  0.266667   0.222222            4  "
            ]
          },
          "execution_count": 11,
          "metadata": {},
          "output_type": "execute_result"
        }
      ],
      "source": [
        "df['game_number'] = list(df.index)\n",
        "df.head()"
      ]
    },
    {
      "cell_type": "code",
      "execution_count": 12,
      "metadata": {
        "colab": {
          "base_uri": "https://localhost:8080/",
          "height": 458
        },
        "id": "gtB7pq6c3Azr",
        "outputId": "340394d8-42dd-4b4f-c9be-5550ea274f08"
      },
      "outputs": [
        {
          "name": "stderr",
          "output_type": "stream",
          "text": [
            "100%|██████████| 216/216 [00:00<00:00, 71999.50it/s]\n",
            "100%|██████████| 216/216 [00:00<00:00, 71936.61it/s]\n"
          ]
        },
        {
          "data": {
            "text/html": [
              "<div>\n",
              "<style scoped>\n",
              "    .dataframe tbody tr th:only-of-type {\n",
              "        vertical-align: middle;\n",
              "    }\n",
              "\n",
              "    .dataframe tbody tr th {\n",
              "        vertical-align: top;\n",
              "    }\n",
              "\n",
              "    .dataframe thead th {\n",
              "        text-align: right;\n",
              "    }\n",
              "</style>\n",
              "<table border=\"1\" class=\"dataframe\">\n",
              "  <thead>\n",
              "    <tr style=\"text-align: right;\">\n",
              "      <th></th>\n",
              "      <th>date</th>\n",
              "      <th>home_team</th>\n",
              "      <th>away_team</th>\n",
              "      <th>goals_home</th>\n",
              "      <th>goals_away</th>\n",
              "      <th>result</th>\n",
              "      <th>odds_home</th>\n",
              "      <th>odds_tie</th>\n",
              "      <th>odds_away</th>\n",
              "      <th>game_number</th>\n",
              "      <th>winner_team</th>\n",
              "      <th>winner_team_at_home</th>\n",
              "    </tr>\n",
              "  </thead>\n",
              "  <tbody>\n",
              "    <tr>\n",
              "      <th>0</th>\n",
              "      <td>05/08/2022</td>\n",
              "      <td>Ein Frankfurt</td>\n",
              "      <td>Bayern Munich</td>\n",
              "      <td>1</td>\n",
              "      <td>6</td>\n",
              "      <td>away_team</td>\n",
              "      <td>0.166667</td>\n",
              "      <td>0.200000</td>\n",
              "      <td>0.666667</td>\n",
              "      <td>0</td>\n",
              "      <td>Bayern Munich</td>\n",
              "      <td>NaN</td>\n",
              "    </tr>\n",
              "    <tr>\n",
              "      <th>1</th>\n",
              "      <td>06/08/2022</td>\n",
              "      <td>Augsburg</td>\n",
              "      <td>Freiburg</td>\n",
              "      <td>0</td>\n",
              "      <td>4</td>\n",
              "      <td>away_team</td>\n",
              "      <td>0.303030</td>\n",
              "      <td>0.285714</td>\n",
              "      <td>0.465116</td>\n",
              "      <td>1</td>\n",
              "      <td>Freiburg</td>\n",
              "      <td>NaN</td>\n",
              "    </tr>\n",
              "    <tr>\n",
              "      <th>2</th>\n",
              "      <td>06/08/2022</td>\n",
              "      <td>Bochum</td>\n",
              "      <td>Mainz</td>\n",
              "      <td>1</td>\n",
              "      <td>2</td>\n",
              "      <td>away_team</td>\n",
              "      <td>0.312500</td>\n",
              "      <td>0.294118</td>\n",
              "      <td>0.454545</td>\n",
              "      <td>2</td>\n",
              "      <td>Mainz</td>\n",
              "      <td>NaN</td>\n",
              "    </tr>\n",
              "    <tr>\n",
              "      <th>3</th>\n",
              "      <td>06/08/2022</td>\n",
              "      <td>M'gladbach</td>\n",
              "      <td>Hoffenheim</td>\n",
              "      <td>3</td>\n",
              "      <td>1</td>\n",
              "      <td>home_team</td>\n",
              "      <td>0.487805</td>\n",
              "      <td>0.238095</td>\n",
              "      <td>0.333333</td>\n",
              "      <td>3</td>\n",
              "      <td>M'gladbach</td>\n",
              "      <td>M'gladbach</td>\n",
              "    </tr>\n",
              "    <tr>\n",
              "      <th>4</th>\n",
              "      <td>06/08/2022</td>\n",
              "      <td>Union Berlin</td>\n",
              "      <td>Hertha</td>\n",
              "      <td>3</td>\n",
              "      <td>1</td>\n",
              "      <td>home_team</td>\n",
              "      <td>0.581395</td>\n",
              "      <td>0.266667</td>\n",
              "      <td>0.222222</td>\n",
              "      <td>4</td>\n",
              "      <td>Union Berlin</td>\n",
              "      <td>Union Berlin</td>\n",
              "    </tr>\n",
              "    <tr>\n",
              "      <th>...</th>\n",
              "      <td>...</td>\n",
              "      <td>...</td>\n",
              "      <td>...</td>\n",
              "      <td>...</td>\n",
              "      <td>...</td>\n",
              "      <td>...</td>\n",
              "      <td>...</td>\n",
              "      <td>...</td>\n",
              "      <td>...</td>\n",
              "      <td>...</td>\n",
              "      <td>...</td>\n",
              "      <td>...</td>\n",
              "    </tr>\n",
              "    <tr>\n",
              "      <th>211</th>\n",
              "      <td>11/03/2023</td>\n",
              "      <td>RB Leipzig</td>\n",
              "      <td>M'gladbach</td>\n",
              "      <td>3</td>\n",
              "      <td>0</td>\n",
              "      <td>home_team</td>\n",
              "      <td>0.714286</td>\n",
              "      <td>0.200000</td>\n",
              "      <td>0.142857</td>\n",
              "      <td>211</td>\n",
              "      <td>RB Leipzig</td>\n",
              "      <td>RB Leipzig</td>\n",
              "    </tr>\n",
              "    <tr>\n",
              "      <th>212</th>\n",
              "      <td>11/03/2023</td>\n",
              "      <td>Schalke 04</td>\n",
              "      <td>Dortmund</td>\n",
              "      <td>2</td>\n",
              "      <td>2</td>\n",
              "      <td>tie</td>\n",
              "      <td>0.222222</td>\n",
              "      <td>0.250000</td>\n",
              "      <td>0.578035</td>\n",
              "      <td>212</td>\n",
              "      <td>tie</td>\n",
              "      <td>NaN</td>\n",
              "    </tr>\n",
              "    <tr>\n",
              "      <th>213</th>\n",
              "      <td>12/03/2023</td>\n",
              "      <td>Freiburg</td>\n",
              "      <td>Hoffenheim</td>\n",
              "      <td>2</td>\n",
              "      <td>1</td>\n",
              "      <td>home_team</td>\n",
              "      <td>0.523560</td>\n",
              "      <td>0.277778</td>\n",
              "      <td>0.250000</td>\n",
              "      <td>213</td>\n",
              "      <td>Freiburg</td>\n",
              "      <td>Freiburg</td>\n",
              "    </tr>\n",
              "    <tr>\n",
              "      <th>214</th>\n",
              "      <td>12/03/2023</td>\n",
              "      <td>Werder Bremen</td>\n",
              "      <td>Leverkusen</td>\n",
              "      <td>2</td>\n",
              "      <td>3</td>\n",
              "      <td>away_team</td>\n",
              "      <td>0.303030</td>\n",
              "      <td>0.266667</td>\n",
              "      <td>0.476190</td>\n",
              "      <td>214</td>\n",
              "      <td>Leverkusen</td>\n",
              "      <td>NaN</td>\n",
              "    </tr>\n",
              "    <tr>\n",
              "      <th>215</th>\n",
              "      <td>12/03/2023</td>\n",
              "      <td>Wolfsburg</td>\n",
              "      <td>Union Berlin</td>\n",
              "      <td>1</td>\n",
              "      <td>1</td>\n",
              "      <td>tie</td>\n",
              "      <td>0.444444</td>\n",
              "      <td>0.307692</td>\n",
              "      <td>0.303030</td>\n",
              "      <td>215</td>\n",
              "      <td>tie</td>\n",
              "      <td>NaN</td>\n",
              "    </tr>\n",
              "  </tbody>\n",
              "</table>\n",
              "<p>216 rows × 12 columns</p>\n",
              "</div>"
            ],
            "text/plain": [
              "           date      home_team      away_team  goals_home  goals_away  \\\n",
              "0    05/08/2022  Ein Frankfurt  Bayern Munich           1           6   \n",
              "1    06/08/2022       Augsburg       Freiburg           0           4   \n",
              "2    06/08/2022         Bochum          Mainz           1           2   \n",
              "3    06/08/2022     M'gladbach     Hoffenheim           3           1   \n",
              "4    06/08/2022   Union Berlin         Hertha           3           1   \n",
              "..          ...            ...            ...         ...         ...   \n",
              "211  11/03/2023     RB Leipzig     M'gladbach           3           0   \n",
              "212  11/03/2023     Schalke 04       Dortmund           2           2   \n",
              "213  12/03/2023       Freiburg     Hoffenheim           2           1   \n",
              "214  12/03/2023  Werder Bremen     Leverkusen           2           3   \n",
              "215  12/03/2023      Wolfsburg   Union Berlin           1           1   \n",
              "\n",
              "        result  odds_home  odds_tie  odds_away  game_number    winner_team  \\\n",
              "0    away_team   0.166667  0.200000   0.666667            0  Bayern Munich   \n",
              "1    away_team   0.303030  0.285714   0.465116            1       Freiburg   \n",
              "2    away_team   0.312500  0.294118   0.454545            2          Mainz   \n",
              "3    home_team   0.487805  0.238095   0.333333            3     M'gladbach   \n",
              "4    home_team   0.581395  0.266667   0.222222            4   Union Berlin   \n",
              "..         ...        ...       ...        ...          ...            ...   \n",
              "211  home_team   0.714286  0.200000   0.142857          211     RB Leipzig   \n",
              "212        tie   0.222222  0.250000   0.578035          212            tie   \n",
              "213  home_team   0.523560  0.277778   0.250000          213       Freiburg   \n",
              "214  away_team   0.303030  0.266667   0.476190          214     Leverkusen   \n",
              "215        tie   0.444444  0.307692   0.303030          215            tie   \n",
              "\n",
              "    winner_team_at_home  \n",
              "0                   NaN  \n",
              "1                   NaN  \n",
              "2                   NaN  \n",
              "3            M'gladbach  \n",
              "4          Union Berlin  \n",
              "..                  ...  \n",
              "211          RB Leipzig  \n",
              "212                 NaN  \n",
              "213            Freiburg  \n",
              "214                 NaN  \n",
              "215                 NaN  \n",
              "\n",
              "[216 rows x 12 columns]"
            ]
          },
          "execution_count": 12,
          "metadata": {},
          "output_type": "execute_result"
        }
      ],
      "source": [
        "from tqdm import tqdm\n",
        "tqdm.pandas()\n",
        "df['winner_team'] = df.progress_apply(lambda row: row[row['result']] if row['result'] in df.columns.tolist() else 'tie', axis=1)\n",
        "df['winner_team_at_home'] = df.progress_apply(lambda row: row['home_team'] if row['result'] == 'home_team' else np.nan, axis=1)\n",
        "df"
      ]
    },
    {
      "cell_type": "code",
      "execution_count": 13,
      "metadata": {
        "colab": {
          "base_uri": "https://localhost:8080/",
          "height": 143
        },
        "id": "7ykqgv7x3Azr",
        "outputId": "63acdb65-5424-46a6-e437-712d5a7365e6"
      },
      "outputs": [
        {
          "data": {
            "text/html": [
              "<div>\n",
              "<style scoped>\n",
              "    .dataframe tbody tr th:only-of-type {\n",
              "        vertical-align: middle;\n",
              "    }\n",
              "\n",
              "    .dataframe tbody tr th {\n",
              "        vertical-align: top;\n",
              "    }\n",
              "\n",
              "    .dataframe thead th {\n",
              "        text-align: right;\n",
              "    }\n",
              "</style>\n",
              "<table border=\"1\" class=\"dataframe\">\n",
              "  <thead>\n",
              "    <tr style=\"text-align: right;\">\n",
              "      <th></th>\n",
              "      <th>result</th>\n",
              "    </tr>\n",
              "  </thead>\n",
              "  <tbody>\n",
              "    <tr>\n",
              "      <th>home_team</th>\n",
              "      <td>103</td>\n",
              "    </tr>\n",
              "    <tr>\n",
              "      <th>away_team</th>\n",
              "      <td>63</td>\n",
              "    </tr>\n",
              "    <tr>\n",
              "      <th>tie</th>\n",
              "      <td>50</td>\n",
              "    </tr>\n",
              "  </tbody>\n",
              "</table>\n",
              "</div>"
            ],
            "text/plain": [
              "           result\n",
              "home_team     103\n",
              "away_team      63\n",
              "tie            50"
            ]
          },
          "execution_count": 13,
          "metadata": {},
          "output_type": "execute_result"
        }
      ],
      "source": [
        "match_result = df.result.value_counts()\n",
        "match_result = pd.DataFrame(match_result)\n",
        "match_result"
      ]
    },
    {
      "cell_type": "code",
      "execution_count": 14,
      "metadata": {
        "colab": {
          "base_uri": "https://localhost:8080/",
          "height": 143
        },
        "id": "--c68OGi3Azr",
        "outputId": "c9820fa3-f39e-4bce-afd3-3f45ed6693b9"
      },
      "outputs": [
        {
          "data": {
            "text/html": [
              "<div>\n",
              "<style scoped>\n",
              "    .dataframe tbody tr th:only-of-type {\n",
              "        vertical-align: middle;\n",
              "    }\n",
              "\n",
              "    .dataframe tbody tr th {\n",
              "        vertical-align: top;\n",
              "    }\n",
              "\n",
              "    .dataframe thead th {\n",
              "        text-align: right;\n",
              "    }\n",
              "</style>\n",
              "<table border=\"1\" class=\"dataframe\">\n",
              "  <thead>\n",
              "    <tr style=\"text-align: right;\">\n",
              "      <th></th>\n",
              "      <th>result</th>\n",
              "      <th>who</th>\n",
              "    </tr>\n",
              "  </thead>\n",
              "  <tbody>\n",
              "    <tr>\n",
              "      <th>home_team</th>\n",
              "      <td>103</td>\n",
              "      <td>home_team</td>\n",
              "    </tr>\n",
              "    <tr>\n",
              "      <th>away_team</th>\n",
              "      <td>63</td>\n",
              "      <td>away_team</td>\n",
              "    </tr>\n",
              "    <tr>\n",
              "      <th>tie</th>\n",
              "      <td>50</td>\n",
              "      <td>tie</td>\n",
              "    </tr>\n",
              "  </tbody>\n",
              "</table>\n",
              "</div>"
            ],
            "text/plain": [
              "           result        who\n",
              "home_team     103  home_team\n",
              "away_team      63  away_team\n",
              "tie            50        tie"
            ]
          },
          "execution_count": 14,
          "metadata": {},
          "output_type": "execute_result"
        }
      ],
      "source": [
        "match_result['who'] = list(match_result.index)\n",
        "match_result"
      ]
    },
    {
      "attachments": {},
      "cell_type": "markdown",
      "metadata": {},
      "source": [
        "A list containing all teams"
      ]
    },
    {
      "cell_type": "code",
      "execution_count": 33,
      "metadata": {},
      "outputs": [
        {
          "data": {
            "text/plain": [
              "['Augsburg',\n",
              " 'Bayern Munich',\n",
              " 'Bochum',\n",
              " 'Dortmund',\n",
              " 'Ein Frankfurt',\n",
              " 'FC Koln',\n",
              " 'Freiburg',\n",
              " 'Hertha',\n",
              " 'Hoffenheim',\n",
              " 'Leverkusen',\n",
              " \"M'gladbach\",\n",
              " 'Mainz',\n",
              " 'RB Leipzig',\n",
              " 'Schalke 04',\n",
              " 'Stuttgart',\n",
              " 'Union Berlin',\n",
              " 'Werder Bremen',\n",
              " 'Wolfsburg']"
            ]
          },
          "execution_count": 33,
          "metadata": {},
          "output_type": "execute_result"
        }
      ],
      "source": [
        "all_teams_list = df.home_team.unique()\n",
        "all_teams_list = pd.DataFrame(all_teams_list)\n",
        "all_teams_list = all_teams_list[0].tolist()\n",
        "all_teams_list.sort(key=str.upper)\n",
        "all_teams_list"
      ]
    },
    {
      "cell_type": "markdown",
      "metadata": {
        "collapsed": false,
        "id": "QIG_nuoc3Azr"
      },
      "source": [
        "# Chart that shows who won the most\n",
        "\n"
      ]
    },
    {
      "cell_type": "code",
      "execution_count": 16,
      "metadata": {
        "colab": {
          "base_uri": "https://localhost:8080/",
          "height": 542
        },
        "id": "_2G9uMRHkHkn",
        "outputId": "bb8bcf3a-3c01-4972-9cd0-b37c88b96ef4"
      },
      "outputs": [
        {
          "data": {
            "application/vnd.plotly.v1+json": {
              "config": {
                "plotlyServerURL": "https://plot.ly"
              },
              "data": [
                {
                  "domain": {
                    "x": [
                      0,
                      1
                    ],
                    "y": [
                      0,
                      1
                    ]
                  },
                  "hovertemplate": "who=%{label}<br>result=%{value}<extra></extra>",
                  "labels": [
                    "home_team",
                    "away_team",
                    "tie"
                  ],
                  "legendgroup": "",
                  "name": "",
                  "showlegend": true,
                  "type": "pie",
                  "values": [
                    103,
                    63,
                    50
                  ]
                }
              ],
              "layout": {
                "legend": {
                  "tracegroupgap": 0
                },
                "template": {
                  "data": {
                    "bar": [
                      {
                        "error_x": {
                          "color": "#2a3f5f"
                        },
                        "error_y": {
                          "color": "#2a3f5f"
                        },
                        "marker": {
                          "line": {
                            "color": "#E5ECF6",
                            "width": 0.5
                          },
                          "pattern": {
                            "fillmode": "overlay",
                            "size": 10,
                            "solidity": 0.2
                          }
                        },
                        "type": "bar"
                      }
                    ],
                    "barpolar": [
                      {
                        "marker": {
                          "line": {
                            "color": "#E5ECF6",
                            "width": 0.5
                          },
                          "pattern": {
                            "fillmode": "overlay",
                            "size": 10,
                            "solidity": 0.2
                          }
                        },
                        "type": "barpolar"
                      }
                    ],
                    "carpet": [
                      {
                        "aaxis": {
                          "endlinecolor": "#2a3f5f",
                          "gridcolor": "white",
                          "linecolor": "white",
                          "minorgridcolor": "white",
                          "startlinecolor": "#2a3f5f"
                        },
                        "baxis": {
                          "endlinecolor": "#2a3f5f",
                          "gridcolor": "white",
                          "linecolor": "white",
                          "minorgridcolor": "white",
                          "startlinecolor": "#2a3f5f"
                        },
                        "type": "carpet"
                      }
                    ],
                    "choropleth": [
                      {
                        "colorbar": {
                          "outlinewidth": 0,
                          "ticks": ""
                        },
                        "type": "choropleth"
                      }
                    ],
                    "contour": [
                      {
                        "colorbar": {
                          "outlinewidth": 0,
                          "ticks": ""
                        },
                        "colorscale": [
                          [
                            0,
                            "#0d0887"
                          ],
                          [
                            0.1111111111111111,
                            "#46039f"
                          ],
                          [
                            0.2222222222222222,
                            "#7201a8"
                          ],
                          [
                            0.3333333333333333,
                            "#9c179e"
                          ],
                          [
                            0.4444444444444444,
                            "#bd3786"
                          ],
                          [
                            0.5555555555555556,
                            "#d8576b"
                          ],
                          [
                            0.6666666666666666,
                            "#ed7953"
                          ],
                          [
                            0.7777777777777778,
                            "#fb9f3a"
                          ],
                          [
                            0.8888888888888888,
                            "#fdca26"
                          ],
                          [
                            1,
                            "#f0f921"
                          ]
                        ],
                        "type": "contour"
                      }
                    ],
                    "contourcarpet": [
                      {
                        "colorbar": {
                          "outlinewidth": 0,
                          "ticks": ""
                        },
                        "type": "contourcarpet"
                      }
                    ],
                    "heatmap": [
                      {
                        "colorbar": {
                          "outlinewidth": 0,
                          "ticks": ""
                        },
                        "colorscale": [
                          [
                            0,
                            "#0d0887"
                          ],
                          [
                            0.1111111111111111,
                            "#46039f"
                          ],
                          [
                            0.2222222222222222,
                            "#7201a8"
                          ],
                          [
                            0.3333333333333333,
                            "#9c179e"
                          ],
                          [
                            0.4444444444444444,
                            "#bd3786"
                          ],
                          [
                            0.5555555555555556,
                            "#d8576b"
                          ],
                          [
                            0.6666666666666666,
                            "#ed7953"
                          ],
                          [
                            0.7777777777777778,
                            "#fb9f3a"
                          ],
                          [
                            0.8888888888888888,
                            "#fdca26"
                          ],
                          [
                            1,
                            "#f0f921"
                          ]
                        ],
                        "type": "heatmap"
                      }
                    ],
                    "heatmapgl": [
                      {
                        "colorbar": {
                          "outlinewidth": 0,
                          "ticks": ""
                        },
                        "colorscale": [
                          [
                            0,
                            "#0d0887"
                          ],
                          [
                            0.1111111111111111,
                            "#46039f"
                          ],
                          [
                            0.2222222222222222,
                            "#7201a8"
                          ],
                          [
                            0.3333333333333333,
                            "#9c179e"
                          ],
                          [
                            0.4444444444444444,
                            "#bd3786"
                          ],
                          [
                            0.5555555555555556,
                            "#d8576b"
                          ],
                          [
                            0.6666666666666666,
                            "#ed7953"
                          ],
                          [
                            0.7777777777777778,
                            "#fb9f3a"
                          ],
                          [
                            0.8888888888888888,
                            "#fdca26"
                          ],
                          [
                            1,
                            "#f0f921"
                          ]
                        ],
                        "type": "heatmapgl"
                      }
                    ],
                    "histogram": [
                      {
                        "marker": {
                          "pattern": {
                            "fillmode": "overlay",
                            "size": 10,
                            "solidity": 0.2
                          }
                        },
                        "type": "histogram"
                      }
                    ],
                    "histogram2d": [
                      {
                        "colorbar": {
                          "outlinewidth": 0,
                          "ticks": ""
                        },
                        "colorscale": [
                          [
                            0,
                            "#0d0887"
                          ],
                          [
                            0.1111111111111111,
                            "#46039f"
                          ],
                          [
                            0.2222222222222222,
                            "#7201a8"
                          ],
                          [
                            0.3333333333333333,
                            "#9c179e"
                          ],
                          [
                            0.4444444444444444,
                            "#bd3786"
                          ],
                          [
                            0.5555555555555556,
                            "#d8576b"
                          ],
                          [
                            0.6666666666666666,
                            "#ed7953"
                          ],
                          [
                            0.7777777777777778,
                            "#fb9f3a"
                          ],
                          [
                            0.8888888888888888,
                            "#fdca26"
                          ],
                          [
                            1,
                            "#f0f921"
                          ]
                        ],
                        "type": "histogram2d"
                      }
                    ],
                    "histogram2dcontour": [
                      {
                        "colorbar": {
                          "outlinewidth": 0,
                          "ticks": ""
                        },
                        "colorscale": [
                          [
                            0,
                            "#0d0887"
                          ],
                          [
                            0.1111111111111111,
                            "#46039f"
                          ],
                          [
                            0.2222222222222222,
                            "#7201a8"
                          ],
                          [
                            0.3333333333333333,
                            "#9c179e"
                          ],
                          [
                            0.4444444444444444,
                            "#bd3786"
                          ],
                          [
                            0.5555555555555556,
                            "#d8576b"
                          ],
                          [
                            0.6666666666666666,
                            "#ed7953"
                          ],
                          [
                            0.7777777777777778,
                            "#fb9f3a"
                          ],
                          [
                            0.8888888888888888,
                            "#fdca26"
                          ],
                          [
                            1,
                            "#f0f921"
                          ]
                        ],
                        "type": "histogram2dcontour"
                      }
                    ],
                    "mesh3d": [
                      {
                        "colorbar": {
                          "outlinewidth": 0,
                          "ticks": ""
                        },
                        "type": "mesh3d"
                      }
                    ],
                    "parcoords": [
                      {
                        "line": {
                          "colorbar": {
                            "outlinewidth": 0,
                            "ticks": ""
                          }
                        },
                        "type": "parcoords"
                      }
                    ],
                    "pie": [
                      {
                        "automargin": true,
                        "type": "pie"
                      }
                    ],
                    "scatter": [
                      {
                        "fillpattern": {
                          "fillmode": "overlay",
                          "size": 10,
                          "solidity": 0.2
                        },
                        "type": "scatter"
                      }
                    ],
                    "scatter3d": [
                      {
                        "line": {
                          "colorbar": {
                            "outlinewidth": 0,
                            "ticks": ""
                          }
                        },
                        "marker": {
                          "colorbar": {
                            "outlinewidth": 0,
                            "ticks": ""
                          }
                        },
                        "type": "scatter3d"
                      }
                    ],
                    "scattercarpet": [
                      {
                        "marker": {
                          "colorbar": {
                            "outlinewidth": 0,
                            "ticks": ""
                          }
                        },
                        "type": "scattercarpet"
                      }
                    ],
                    "scattergeo": [
                      {
                        "marker": {
                          "colorbar": {
                            "outlinewidth": 0,
                            "ticks": ""
                          }
                        },
                        "type": "scattergeo"
                      }
                    ],
                    "scattergl": [
                      {
                        "marker": {
                          "colorbar": {
                            "outlinewidth": 0,
                            "ticks": ""
                          }
                        },
                        "type": "scattergl"
                      }
                    ],
                    "scattermapbox": [
                      {
                        "marker": {
                          "colorbar": {
                            "outlinewidth": 0,
                            "ticks": ""
                          }
                        },
                        "type": "scattermapbox"
                      }
                    ],
                    "scatterpolar": [
                      {
                        "marker": {
                          "colorbar": {
                            "outlinewidth": 0,
                            "ticks": ""
                          }
                        },
                        "type": "scatterpolar"
                      }
                    ],
                    "scatterpolargl": [
                      {
                        "marker": {
                          "colorbar": {
                            "outlinewidth": 0,
                            "ticks": ""
                          }
                        },
                        "type": "scatterpolargl"
                      }
                    ],
                    "scatterternary": [
                      {
                        "marker": {
                          "colorbar": {
                            "outlinewidth": 0,
                            "ticks": ""
                          }
                        },
                        "type": "scatterternary"
                      }
                    ],
                    "surface": [
                      {
                        "colorbar": {
                          "outlinewidth": 0,
                          "ticks": ""
                        },
                        "colorscale": [
                          [
                            0,
                            "#0d0887"
                          ],
                          [
                            0.1111111111111111,
                            "#46039f"
                          ],
                          [
                            0.2222222222222222,
                            "#7201a8"
                          ],
                          [
                            0.3333333333333333,
                            "#9c179e"
                          ],
                          [
                            0.4444444444444444,
                            "#bd3786"
                          ],
                          [
                            0.5555555555555556,
                            "#d8576b"
                          ],
                          [
                            0.6666666666666666,
                            "#ed7953"
                          ],
                          [
                            0.7777777777777778,
                            "#fb9f3a"
                          ],
                          [
                            0.8888888888888888,
                            "#fdca26"
                          ],
                          [
                            1,
                            "#f0f921"
                          ]
                        ],
                        "type": "surface"
                      }
                    ],
                    "table": [
                      {
                        "cells": {
                          "fill": {
                            "color": "#EBF0F8"
                          },
                          "line": {
                            "color": "white"
                          }
                        },
                        "header": {
                          "fill": {
                            "color": "#C8D4E3"
                          },
                          "line": {
                            "color": "white"
                          }
                        },
                        "type": "table"
                      }
                    ]
                  },
                  "layout": {
                    "annotationdefaults": {
                      "arrowcolor": "#2a3f5f",
                      "arrowhead": 0,
                      "arrowwidth": 1
                    },
                    "autotypenumbers": "strict",
                    "coloraxis": {
                      "colorbar": {
                        "outlinewidth": 0,
                        "ticks": ""
                      }
                    },
                    "colorscale": {
                      "diverging": [
                        [
                          0,
                          "#8e0152"
                        ],
                        [
                          0.1,
                          "#c51b7d"
                        ],
                        [
                          0.2,
                          "#de77ae"
                        ],
                        [
                          0.3,
                          "#f1b6da"
                        ],
                        [
                          0.4,
                          "#fde0ef"
                        ],
                        [
                          0.5,
                          "#f7f7f7"
                        ],
                        [
                          0.6,
                          "#e6f5d0"
                        ],
                        [
                          0.7,
                          "#b8e186"
                        ],
                        [
                          0.8,
                          "#7fbc41"
                        ],
                        [
                          0.9,
                          "#4d9221"
                        ],
                        [
                          1,
                          "#276419"
                        ]
                      ],
                      "sequential": [
                        [
                          0,
                          "#0d0887"
                        ],
                        [
                          0.1111111111111111,
                          "#46039f"
                        ],
                        [
                          0.2222222222222222,
                          "#7201a8"
                        ],
                        [
                          0.3333333333333333,
                          "#9c179e"
                        ],
                        [
                          0.4444444444444444,
                          "#bd3786"
                        ],
                        [
                          0.5555555555555556,
                          "#d8576b"
                        ],
                        [
                          0.6666666666666666,
                          "#ed7953"
                        ],
                        [
                          0.7777777777777778,
                          "#fb9f3a"
                        ],
                        [
                          0.8888888888888888,
                          "#fdca26"
                        ],
                        [
                          1,
                          "#f0f921"
                        ]
                      ],
                      "sequentialminus": [
                        [
                          0,
                          "#0d0887"
                        ],
                        [
                          0.1111111111111111,
                          "#46039f"
                        ],
                        [
                          0.2222222222222222,
                          "#7201a8"
                        ],
                        [
                          0.3333333333333333,
                          "#9c179e"
                        ],
                        [
                          0.4444444444444444,
                          "#bd3786"
                        ],
                        [
                          0.5555555555555556,
                          "#d8576b"
                        ],
                        [
                          0.6666666666666666,
                          "#ed7953"
                        ],
                        [
                          0.7777777777777778,
                          "#fb9f3a"
                        ],
                        [
                          0.8888888888888888,
                          "#fdca26"
                        ],
                        [
                          1,
                          "#f0f921"
                        ]
                      ]
                    },
                    "colorway": [
                      "#636efa",
                      "#EF553B",
                      "#00cc96",
                      "#ab63fa",
                      "#FFA15A",
                      "#19d3f3",
                      "#FF6692",
                      "#B6E880",
                      "#FF97FF",
                      "#FECB52"
                    ],
                    "font": {
                      "color": "#2a3f5f"
                    },
                    "geo": {
                      "bgcolor": "white",
                      "lakecolor": "white",
                      "landcolor": "#E5ECF6",
                      "showlakes": true,
                      "showland": true,
                      "subunitcolor": "white"
                    },
                    "hoverlabel": {
                      "align": "left"
                    },
                    "hovermode": "closest",
                    "mapbox": {
                      "style": "light"
                    },
                    "paper_bgcolor": "white",
                    "plot_bgcolor": "#E5ECF6",
                    "polar": {
                      "angularaxis": {
                        "gridcolor": "white",
                        "linecolor": "white",
                        "ticks": ""
                      },
                      "bgcolor": "#E5ECF6",
                      "radialaxis": {
                        "gridcolor": "white",
                        "linecolor": "white",
                        "ticks": ""
                      }
                    },
                    "scene": {
                      "xaxis": {
                        "backgroundcolor": "#E5ECF6",
                        "gridcolor": "white",
                        "gridwidth": 2,
                        "linecolor": "white",
                        "showbackground": true,
                        "ticks": "",
                        "zerolinecolor": "white"
                      },
                      "yaxis": {
                        "backgroundcolor": "#E5ECF6",
                        "gridcolor": "white",
                        "gridwidth": 2,
                        "linecolor": "white",
                        "showbackground": true,
                        "ticks": "",
                        "zerolinecolor": "white"
                      },
                      "zaxis": {
                        "backgroundcolor": "#E5ECF6",
                        "gridcolor": "white",
                        "gridwidth": 2,
                        "linecolor": "white",
                        "showbackground": true,
                        "ticks": "",
                        "zerolinecolor": "white"
                      }
                    },
                    "shapedefaults": {
                      "line": {
                        "color": "#2a3f5f"
                      }
                    },
                    "ternary": {
                      "aaxis": {
                        "gridcolor": "white",
                        "linecolor": "white",
                        "ticks": ""
                      },
                      "baxis": {
                        "gridcolor": "white",
                        "linecolor": "white",
                        "ticks": ""
                      },
                      "bgcolor": "#E5ECF6",
                      "caxis": {
                        "gridcolor": "white",
                        "linecolor": "white",
                        "ticks": ""
                      }
                    },
                    "title": {
                      "x": 0.05
                    },
                    "xaxis": {
                      "automargin": true,
                      "gridcolor": "white",
                      "linecolor": "white",
                      "ticks": "",
                      "title": {
                        "standoff": 15
                      },
                      "zerolinecolor": "white",
                      "zerolinewidth": 2
                    },
                    "yaxis": {
                      "automargin": true,
                      "gridcolor": "white",
                      "linecolor": "white",
                      "ticks": "",
                      "title": {
                        "standoff": 15
                      },
                      "zerolinecolor": "white",
                      "zerolinewidth": 2
                    }
                  }
                },
                "title": {
                  "text": "Who won?"
                }
              }
            }
          },
          "metadata": {},
          "output_type": "display_data"
        }
      ],
      "source": [
        "import plotly.express as px\n",
        "fig_1 = px.pie(match_result, values='result', names='who', title='Who won?')\n",
        "fig_1.show()\n"
      ]
    },
    {
      "attachments": {},
      "cell_type": "markdown",
      "metadata": {},
      "source": [
        "Who won the most by team"
      ]
    },
    {
      "cell_type": "code",
      "execution_count": 46,
      "metadata": {},
      "outputs": [],
      "source": [
        "import plotly.express as px\n",
        "\n",
        "def who_won_most_by_team(time_selecionado):\n",
        "    tabela_time = df[df.home_team == time_selecionado]\n",
        "\n",
        "    match_result_team = tabela_time.result.value_counts()\n",
        "    match_result_team = pd.DataFrame(match_result_team)\n",
        "    match_result_team['who'] = list(match_result_team.index)\n",
        "    match_result_team['who'] = match_result_team['who'].replace(['home_team'], f'home_team ({time_selecionado})')\n",
        "\n",
        "    graph_fig = px.pie(match_result_team, values='result', names='who', title=f'Who won the most?<br><sup>Home Team: {time_selecionado}</sup>')\n",
        "    return graph_fig"
      ]
    },
    {
      "cell_type": "code",
      "execution_count": 47,
      "metadata": {},
      "outputs": [
        {
          "data": {
            "application/vnd.plotly.v1+json": {
              "config": {
                "plotlyServerURL": "https://plot.ly"
              },
              "data": [
                {
                  "domain": {
                    "x": [
                      0,
                      1
                    ],
                    "y": [
                      0,
                      1
                    ]
                  },
                  "hovertemplate": "who=%{label}<br>result=%{value}<extra></extra>",
                  "labels": [
                    "home_team (Dortmund)",
                    "away_team",
                    "tie"
                  ],
                  "legendgroup": "",
                  "name": "",
                  "showlegend": true,
                  "type": "pie",
                  "values": [
                    9,
                    1,
                    1
                  ]
                }
              ],
              "layout": {
                "legend": {
                  "tracegroupgap": 0
                },
                "template": {
                  "data": {
                    "bar": [
                      {
                        "error_x": {
                          "color": "#2a3f5f"
                        },
                        "error_y": {
                          "color": "#2a3f5f"
                        },
                        "marker": {
                          "line": {
                            "color": "#E5ECF6",
                            "width": 0.5
                          },
                          "pattern": {
                            "fillmode": "overlay",
                            "size": 10,
                            "solidity": 0.2
                          }
                        },
                        "type": "bar"
                      }
                    ],
                    "barpolar": [
                      {
                        "marker": {
                          "line": {
                            "color": "#E5ECF6",
                            "width": 0.5
                          },
                          "pattern": {
                            "fillmode": "overlay",
                            "size": 10,
                            "solidity": 0.2
                          }
                        },
                        "type": "barpolar"
                      }
                    ],
                    "carpet": [
                      {
                        "aaxis": {
                          "endlinecolor": "#2a3f5f",
                          "gridcolor": "white",
                          "linecolor": "white",
                          "minorgridcolor": "white",
                          "startlinecolor": "#2a3f5f"
                        },
                        "baxis": {
                          "endlinecolor": "#2a3f5f",
                          "gridcolor": "white",
                          "linecolor": "white",
                          "minorgridcolor": "white",
                          "startlinecolor": "#2a3f5f"
                        },
                        "type": "carpet"
                      }
                    ],
                    "choropleth": [
                      {
                        "colorbar": {
                          "outlinewidth": 0,
                          "ticks": ""
                        },
                        "type": "choropleth"
                      }
                    ],
                    "contour": [
                      {
                        "colorbar": {
                          "outlinewidth": 0,
                          "ticks": ""
                        },
                        "colorscale": [
                          [
                            0,
                            "#0d0887"
                          ],
                          [
                            0.1111111111111111,
                            "#46039f"
                          ],
                          [
                            0.2222222222222222,
                            "#7201a8"
                          ],
                          [
                            0.3333333333333333,
                            "#9c179e"
                          ],
                          [
                            0.4444444444444444,
                            "#bd3786"
                          ],
                          [
                            0.5555555555555556,
                            "#d8576b"
                          ],
                          [
                            0.6666666666666666,
                            "#ed7953"
                          ],
                          [
                            0.7777777777777778,
                            "#fb9f3a"
                          ],
                          [
                            0.8888888888888888,
                            "#fdca26"
                          ],
                          [
                            1,
                            "#f0f921"
                          ]
                        ],
                        "type": "contour"
                      }
                    ],
                    "contourcarpet": [
                      {
                        "colorbar": {
                          "outlinewidth": 0,
                          "ticks": ""
                        },
                        "type": "contourcarpet"
                      }
                    ],
                    "heatmap": [
                      {
                        "colorbar": {
                          "outlinewidth": 0,
                          "ticks": ""
                        },
                        "colorscale": [
                          [
                            0,
                            "#0d0887"
                          ],
                          [
                            0.1111111111111111,
                            "#46039f"
                          ],
                          [
                            0.2222222222222222,
                            "#7201a8"
                          ],
                          [
                            0.3333333333333333,
                            "#9c179e"
                          ],
                          [
                            0.4444444444444444,
                            "#bd3786"
                          ],
                          [
                            0.5555555555555556,
                            "#d8576b"
                          ],
                          [
                            0.6666666666666666,
                            "#ed7953"
                          ],
                          [
                            0.7777777777777778,
                            "#fb9f3a"
                          ],
                          [
                            0.8888888888888888,
                            "#fdca26"
                          ],
                          [
                            1,
                            "#f0f921"
                          ]
                        ],
                        "type": "heatmap"
                      }
                    ],
                    "heatmapgl": [
                      {
                        "colorbar": {
                          "outlinewidth": 0,
                          "ticks": ""
                        },
                        "colorscale": [
                          [
                            0,
                            "#0d0887"
                          ],
                          [
                            0.1111111111111111,
                            "#46039f"
                          ],
                          [
                            0.2222222222222222,
                            "#7201a8"
                          ],
                          [
                            0.3333333333333333,
                            "#9c179e"
                          ],
                          [
                            0.4444444444444444,
                            "#bd3786"
                          ],
                          [
                            0.5555555555555556,
                            "#d8576b"
                          ],
                          [
                            0.6666666666666666,
                            "#ed7953"
                          ],
                          [
                            0.7777777777777778,
                            "#fb9f3a"
                          ],
                          [
                            0.8888888888888888,
                            "#fdca26"
                          ],
                          [
                            1,
                            "#f0f921"
                          ]
                        ],
                        "type": "heatmapgl"
                      }
                    ],
                    "histogram": [
                      {
                        "marker": {
                          "pattern": {
                            "fillmode": "overlay",
                            "size": 10,
                            "solidity": 0.2
                          }
                        },
                        "type": "histogram"
                      }
                    ],
                    "histogram2d": [
                      {
                        "colorbar": {
                          "outlinewidth": 0,
                          "ticks": ""
                        },
                        "colorscale": [
                          [
                            0,
                            "#0d0887"
                          ],
                          [
                            0.1111111111111111,
                            "#46039f"
                          ],
                          [
                            0.2222222222222222,
                            "#7201a8"
                          ],
                          [
                            0.3333333333333333,
                            "#9c179e"
                          ],
                          [
                            0.4444444444444444,
                            "#bd3786"
                          ],
                          [
                            0.5555555555555556,
                            "#d8576b"
                          ],
                          [
                            0.6666666666666666,
                            "#ed7953"
                          ],
                          [
                            0.7777777777777778,
                            "#fb9f3a"
                          ],
                          [
                            0.8888888888888888,
                            "#fdca26"
                          ],
                          [
                            1,
                            "#f0f921"
                          ]
                        ],
                        "type": "histogram2d"
                      }
                    ],
                    "histogram2dcontour": [
                      {
                        "colorbar": {
                          "outlinewidth": 0,
                          "ticks": ""
                        },
                        "colorscale": [
                          [
                            0,
                            "#0d0887"
                          ],
                          [
                            0.1111111111111111,
                            "#46039f"
                          ],
                          [
                            0.2222222222222222,
                            "#7201a8"
                          ],
                          [
                            0.3333333333333333,
                            "#9c179e"
                          ],
                          [
                            0.4444444444444444,
                            "#bd3786"
                          ],
                          [
                            0.5555555555555556,
                            "#d8576b"
                          ],
                          [
                            0.6666666666666666,
                            "#ed7953"
                          ],
                          [
                            0.7777777777777778,
                            "#fb9f3a"
                          ],
                          [
                            0.8888888888888888,
                            "#fdca26"
                          ],
                          [
                            1,
                            "#f0f921"
                          ]
                        ],
                        "type": "histogram2dcontour"
                      }
                    ],
                    "mesh3d": [
                      {
                        "colorbar": {
                          "outlinewidth": 0,
                          "ticks": ""
                        },
                        "type": "mesh3d"
                      }
                    ],
                    "parcoords": [
                      {
                        "line": {
                          "colorbar": {
                            "outlinewidth": 0,
                            "ticks": ""
                          }
                        },
                        "type": "parcoords"
                      }
                    ],
                    "pie": [
                      {
                        "automargin": true,
                        "type": "pie"
                      }
                    ],
                    "scatter": [
                      {
                        "fillpattern": {
                          "fillmode": "overlay",
                          "size": 10,
                          "solidity": 0.2
                        },
                        "type": "scatter"
                      }
                    ],
                    "scatter3d": [
                      {
                        "line": {
                          "colorbar": {
                            "outlinewidth": 0,
                            "ticks": ""
                          }
                        },
                        "marker": {
                          "colorbar": {
                            "outlinewidth": 0,
                            "ticks": ""
                          }
                        },
                        "type": "scatter3d"
                      }
                    ],
                    "scattercarpet": [
                      {
                        "marker": {
                          "colorbar": {
                            "outlinewidth": 0,
                            "ticks": ""
                          }
                        },
                        "type": "scattercarpet"
                      }
                    ],
                    "scattergeo": [
                      {
                        "marker": {
                          "colorbar": {
                            "outlinewidth": 0,
                            "ticks": ""
                          }
                        },
                        "type": "scattergeo"
                      }
                    ],
                    "scattergl": [
                      {
                        "marker": {
                          "colorbar": {
                            "outlinewidth": 0,
                            "ticks": ""
                          }
                        },
                        "type": "scattergl"
                      }
                    ],
                    "scattermapbox": [
                      {
                        "marker": {
                          "colorbar": {
                            "outlinewidth": 0,
                            "ticks": ""
                          }
                        },
                        "type": "scattermapbox"
                      }
                    ],
                    "scatterpolar": [
                      {
                        "marker": {
                          "colorbar": {
                            "outlinewidth": 0,
                            "ticks": ""
                          }
                        },
                        "type": "scatterpolar"
                      }
                    ],
                    "scatterpolargl": [
                      {
                        "marker": {
                          "colorbar": {
                            "outlinewidth": 0,
                            "ticks": ""
                          }
                        },
                        "type": "scatterpolargl"
                      }
                    ],
                    "scatterternary": [
                      {
                        "marker": {
                          "colorbar": {
                            "outlinewidth": 0,
                            "ticks": ""
                          }
                        },
                        "type": "scatterternary"
                      }
                    ],
                    "surface": [
                      {
                        "colorbar": {
                          "outlinewidth": 0,
                          "ticks": ""
                        },
                        "colorscale": [
                          [
                            0,
                            "#0d0887"
                          ],
                          [
                            0.1111111111111111,
                            "#46039f"
                          ],
                          [
                            0.2222222222222222,
                            "#7201a8"
                          ],
                          [
                            0.3333333333333333,
                            "#9c179e"
                          ],
                          [
                            0.4444444444444444,
                            "#bd3786"
                          ],
                          [
                            0.5555555555555556,
                            "#d8576b"
                          ],
                          [
                            0.6666666666666666,
                            "#ed7953"
                          ],
                          [
                            0.7777777777777778,
                            "#fb9f3a"
                          ],
                          [
                            0.8888888888888888,
                            "#fdca26"
                          ],
                          [
                            1,
                            "#f0f921"
                          ]
                        ],
                        "type": "surface"
                      }
                    ],
                    "table": [
                      {
                        "cells": {
                          "fill": {
                            "color": "#EBF0F8"
                          },
                          "line": {
                            "color": "white"
                          }
                        },
                        "header": {
                          "fill": {
                            "color": "#C8D4E3"
                          },
                          "line": {
                            "color": "white"
                          }
                        },
                        "type": "table"
                      }
                    ]
                  },
                  "layout": {
                    "annotationdefaults": {
                      "arrowcolor": "#2a3f5f",
                      "arrowhead": 0,
                      "arrowwidth": 1
                    },
                    "autotypenumbers": "strict",
                    "coloraxis": {
                      "colorbar": {
                        "outlinewidth": 0,
                        "ticks": ""
                      }
                    },
                    "colorscale": {
                      "diverging": [
                        [
                          0,
                          "#8e0152"
                        ],
                        [
                          0.1,
                          "#c51b7d"
                        ],
                        [
                          0.2,
                          "#de77ae"
                        ],
                        [
                          0.3,
                          "#f1b6da"
                        ],
                        [
                          0.4,
                          "#fde0ef"
                        ],
                        [
                          0.5,
                          "#f7f7f7"
                        ],
                        [
                          0.6,
                          "#e6f5d0"
                        ],
                        [
                          0.7,
                          "#b8e186"
                        ],
                        [
                          0.8,
                          "#7fbc41"
                        ],
                        [
                          0.9,
                          "#4d9221"
                        ],
                        [
                          1,
                          "#276419"
                        ]
                      ],
                      "sequential": [
                        [
                          0,
                          "#0d0887"
                        ],
                        [
                          0.1111111111111111,
                          "#46039f"
                        ],
                        [
                          0.2222222222222222,
                          "#7201a8"
                        ],
                        [
                          0.3333333333333333,
                          "#9c179e"
                        ],
                        [
                          0.4444444444444444,
                          "#bd3786"
                        ],
                        [
                          0.5555555555555556,
                          "#d8576b"
                        ],
                        [
                          0.6666666666666666,
                          "#ed7953"
                        ],
                        [
                          0.7777777777777778,
                          "#fb9f3a"
                        ],
                        [
                          0.8888888888888888,
                          "#fdca26"
                        ],
                        [
                          1,
                          "#f0f921"
                        ]
                      ],
                      "sequentialminus": [
                        [
                          0,
                          "#0d0887"
                        ],
                        [
                          0.1111111111111111,
                          "#46039f"
                        ],
                        [
                          0.2222222222222222,
                          "#7201a8"
                        ],
                        [
                          0.3333333333333333,
                          "#9c179e"
                        ],
                        [
                          0.4444444444444444,
                          "#bd3786"
                        ],
                        [
                          0.5555555555555556,
                          "#d8576b"
                        ],
                        [
                          0.6666666666666666,
                          "#ed7953"
                        ],
                        [
                          0.7777777777777778,
                          "#fb9f3a"
                        ],
                        [
                          0.8888888888888888,
                          "#fdca26"
                        ],
                        [
                          1,
                          "#f0f921"
                        ]
                      ]
                    },
                    "colorway": [
                      "#636efa",
                      "#EF553B",
                      "#00cc96",
                      "#ab63fa",
                      "#FFA15A",
                      "#19d3f3",
                      "#FF6692",
                      "#B6E880",
                      "#FF97FF",
                      "#FECB52"
                    ],
                    "font": {
                      "color": "#2a3f5f"
                    },
                    "geo": {
                      "bgcolor": "white",
                      "lakecolor": "white",
                      "landcolor": "#E5ECF6",
                      "showlakes": true,
                      "showland": true,
                      "subunitcolor": "white"
                    },
                    "hoverlabel": {
                      "align": "left"
                    },
                    "hovermode": "closest",
                    "mapbox": {
                      "style": "light"
                    },
                    "paper_bgcolor": "white",
                    "plot_bgcolor": "#E5ECF6",
                    "polar": {
                      "angularaxis": {
                        "gridcolor": "white",
                        "linecolor": "white",
                        "ticks": ""
                      },
                      "bgcolor": "#E5ECF6",
                      "radialaxis": {
                        "gridcolor": "white",
                        "linecolor": "white",
                        "ticks": ""
                      }
                    },
                    "scene": {
                      "xaxis": {
                        "backgroundcolor": "#E5ECF6",
                        "gridcolor": "white",
                        "gridwidth": 2,
                        "linecolor": "white",
                        "showbackground": true,
                        "ticks": "",
                        "zerolinecolor": "white"
                      },
                      "yaxis": {
                        "backgroundcolor": "#E5ECF6",
                        "gridcolor": "white",
                        "gridwidth": 2,
                        "linecolor": "white",
                        "showbackground": true,
                        "ticks": "",
                        "zerolinecolor": "white"
                      },
                      "zaxis": {
                        "backgroundcolor": "#E5ECF6",
                        "gridcolor": "white",
                        "gridwidth": 2,
                        "linecolor": "white",
                        "showbackground": true,
                        "ticks": "",
                        "zerolinecolor": "white"
                      }
                    },
                    "shapedefaults": {
                      "line": {
                        "color": "#2a3f5f"
                      }
                    },
                    "ternary": {
                      "aaxis": {
                        "gridcolor": "white",
                        "linecolor": "white",
                        "ticks": ""
                      },
                      "baxis": {
                        "gridcolor": "white",
                        "linecolor": "white",
                        "ticks": ""
                      },
                      "bgcolor": "#E5ECF6",
                      "caxis": {
                        "gridcolor": "white",
                        "linecolor": "white",
                        "ticks": ""
                      }
                    },
                    "title": {
                      "x": 0.05
                    },
                    "xaxis": {
                      "automargin": true,
                      "gridcolor": "white",
                      "linecolor": "white",
                      "ticks": "",
                      "title": {
                        "standoff": 15
                      },
                      "zerolinecolor": "white",
                      "zerolinewidth": 2
                    },
                    "yaxis": {
                      "automargin": true,
                      "gridcolor": "white",
                      "linecolor": "white",
                      "ticks": "",
                      "title": {
                        "standoff": 15
                      },
                      "zerolinecolor": "white",
                      "zerolinewidth": 2
                    }
                  }
                },
                "title": {
                  "text": "Who won the most?<br><sup>Home Team: Dortmund</sup>"
                }
              }
            }
          },
          "metadata": {},
          "output_type": "display_data"
        }
      ],
      "source": [
        "grafico_resultado = who_won_most_by_team('Dortmund')\n",
        "grafico_resultado.show()"
      ]
    },
    {
      "cell_type": "markdown",
      "metadata": {
        "collapsed": false,
        "id": "hP-3mUNH3Azs"
      },
      "source": [
        "# Chart that shows which team has the most odds of winning through time"
      ]
    },
    {
      "cell_type": "code",
      "execution_count": 19,
      "metadata": {
        "colab": {
          "base_uri": "https://localhost:8080/",
          "height": 542
        },
        "id": "J7YAmIKa3Azs",
        "outputId": "e5d30eef-9964-44ea-db47-772ae63081a6"
      },
      "outputs": [
        {
          "data": {
            "application/vnd.plotly.v1+json": {
              "config": {
                "plotlyServerURL": "https://plot.ly"
              },
              "data": [
                {
                  "hovertemplate": "variable=odds_home<br>game_number=%{x}<br>value=%{y}<extra></extra>",
                  "legendgroup": "odds_home",
                  "line": {
                    "color": "#636efa",
                    "dash": "solid"
                  },
                  "marker": {
                    "symbol": "circle"
                  },
                  "mode": "lines+markers",
                  "name": "odds_home",
                  "orientation": "v",
                  "showlegend": true,
                  "type": "scatter",
                  "x": [
                    0,
                    1,
                    2,
                    3,
                    4,
                    5,
                    6,
                    7,
                    8,
                    9,
                    10,
                    11,
                    12,
                    13,
                    14,
                    15,
                    16,
                    17,
                    18,
                    19,
                    20,
                    21,
                    22,
                    23,
                    24,
                    25,
                    26,
                    27,
                    28,
                    29,
                    30,
                    31,
                    32,
                    33,
                    34,
                    35,
                    36,
                    37,
                    38,
                    39,
                    40,
                    41,
                    42,
                    43,
                    44,
                    45,
                    46,
                    47,
                    48,
                    49,
                    50,
                    51,
                    52,
                    53,
                    54,
                    55,
                    56,
                    57,
                    58,
                    59,
                    60,
                    61,
                    62,
                    63,
                    64,
                    65,
                    66,
                    67,
                    68,
                    69,
                    70,
                    71,
                    72,
                    73,
                    74,
                    75,
                    76,
                    77,
                    78,
                    79,
                    80,
                    81,
                    82,
                    83,
                    84,
                    85,
                    86,
                    87,
                    88,
                    89,
                    90,
                    91,
                    92,
                    93,
                    94,
                    95,
                    96,
                    97,
                    98,
                    99,
                    100,
                    101,
                    102,
                    103,
                    104,
                    105,
                    106,
                    107,
                    108,
                    109,
                    110,
                    111,
                    112,
                    113,
                    114,
                    115,
                    116,
                    117,
                    118,
                    119,
                    120,
                    121,
                    122,
                    123,
                    124,
                    125,
                    126,
                    127,
                    128,
                    129,
                    130,
                    131,
                    132,
                    133,
                    134,
                    135,
                    136,
                    137,
                    138,
                    139,
                    140,
                    141,
                    142,
                    143,
                    144,
                    145,
                    146,
                    147,
                    148,
                    149,
                    150,
                    151,
                    152,
                    153,
                    154,
                    155,
                    156,
                    157,
                    158,
                    159,
                    160,
                    161,
                    162,
                    163,
                    164,
                    165,
                    166,
                    167,
                    168,
                    169,
                    170,
                    171,
                    172,
                    173,
                    174,
                    175,
                    176,
                    177,
                    178,
                    179,
                    180,
                    181,
                    182,
                    183,
                    184,
                    185,
                    186,
                    187,
                    188,
                    189,
                    190,
                    191,
                    192,
                    193,
                    194,
                    195,
                    196,
                    197,
                    198,
                    199,
                    200,
                    201,
                    202,
                    203,
                    204,
                    205,
                    206,
                    207,
                    208,
                    209,
                    210,
                    211,
                    212,
                    213,
                    214,
                    215
                  ],
                  "xaxis": "x",
                  "y": [
                    0.16666666666666666,
                    0.30303030303030304,
                    0.3125,
                    0.48780487804878053,
                    0.5813953488372093,
                    0.5405405405405405,
                    0.5,
                    0.2222222222222222,
                    0.5882352941176471,
                    0.3333333333333333,
                    0.3333333333333333,
                    0.6369426751592356,
                    0.7692307692307692,
                    0.6944444444444444,
                    0.4444444444444444,
                    0.3225806451612903,
                    0.45454545454545453,
                    0.8928571428571428,
                    0.6666666666666666,
                    0.2857142857142857,
                    0.7352941176470588,
                    0.6024096385542169,
                    0.38167938931297707,
                    0.5464480874316939,
                    0.2777777777777778,
                    0.5128205128205129,
                    0.07692307692307693,
                    0.6666666666666666,
                    0.2222222222222222,
                    0.6896551724137931,
                    0.36363636363636365,
                    0.6896551724137931,
                    0.3225806451612903,
                    0.8474576271186441,
                    0.48780487804878053,
                    0.4081632653061224,
                    0.6211180124223602,
                    0.3448275862068966,
                    0.5263157894736842,
                    0.5714285714285714,
                    0.14285714285714285,
                    0.48780487804878053,
                    0.2857142857142857,
                    0.4081632653061224,
                    0.45454545454545453,
                    0.6535947712418301,
                    0.8771929824561404,
                    0.5,
                    0.2777777777777778,
                    0.4444444444444444,
                    0.4347826086956522,
                    0.5,
                    0.42194092827004215,
                    0.5,
                    0.5813953488372093,
                    0.058823529411764705,
                    0.7352941176470588,
                    0.6211180124223602,
                    0.4444444444444444,
                    0.3333333333333333,
                    0.5128205128205129,
                    0.3225806451612903,
                    0.46511627906976744,
                    0.7352941176470588,
                    0.4444444444444444,
                    0.3225806451612903,
                    0.47619047619047616,
                    0.819672131147541,
                    0.4166666666666667,
                    0.4,
                    0.36363636363636365,
                    0.5128205128205129,
                    0.5128205128205129,
                    0.3448275862068966,
                    0.26666666666666666,
                    0.6896551724137931,
                    0.3333333333333333,
                    0.23094688221709006,
                    0.5128205128205129,
                    0.3333333333333333,
                    0.3921568627450981,
                    0.2777777777777778,
                    0.36363636363636365,
                    0.6060606060606061,
                    0.42194092827004215,
                    0.38167938931297707,
                    0.7142857142857143,
                    0.6024096385542169,
                    0.3448275862068966,
                    0.8,
                    0.46511627906976744,
                    0.18181818181818182,
                    0.6535947712418301,
                    0.5263157894736842,
                    0.18181818181818182,
                    0.5882352941176471,
                    0.4347826086956522,
                    0.23094688221709006,
                    0.5714285714285714,
                    0.5,
                    0.8,
                    0.5555555555555556,
                    0.5555555555555556,
                    0.6060606060606061,
                    0.36363636363636365,
                    0.48780487804878053,
                    0.25,
                    0.3448275862068966,
                    0.46511627906976744,
                    0.23094688221709006,
                    0.819672131147541,
                    0.1,
                    0.3448275862068966,
                    0.5,
                    0.6060606060606061,
                    0.46511627906976744,
                    0.5882352941176471,
                    0.3225806451612903,
                    0.8771929824561404,
                    0.3125,
                    0.5128205128205129,
                    0.3333333333333333,
                    0.5263157894736842,
                    0.5813953488372093,
                    0.29411764705882354,
                    0.6451612903225806,
                    0.3125,
                    0.45454545454545453,
                    0.45454545454545453,
                    0.4444444444444444,
                    0.5813953488372093,
                    0.2777777777777778,
                    0.06666666666666667,
                    0.36363636363636365,
                    0.5,
                    0.2777777777777778,
                    0.42016806722689076,
                    0.7352941176470588,
                    0.4166666666666667,
                    0.4444444444444444,
                    0.3921568627450981,
                    0.4444444444444444,
                    0.7692307692307692,
                    0.3802281368821293,
                    0.17391304347826086,
                    0.8333333333333334,
                    0.3333333333333333,
                    0.47619047619047616,
                    0.3448275862068966,
                    0.3333333333333333,
                    0.4,
                    0.7142857142857143,
                    0.35714285714285715,
                    0.7518796992481203,
                    0.6666666666666666,
                    0.2857142857142857,
                    0.5,
                    0.5882352941176471,
                    0.3125,
                    0.7518796992481203,
                    0.2631578947368421,
                    0.4081632653061224,
                    0.25,
                    0.36363636363636365,
                    0.5988023952095809,
                    0.6896551724137931,
                    0.23809523809523808,
                    0.5128205128205129,
                    0.6535947712418301,
                    0.5,
                    0.19047619047619047,
                    0.2777777777777778,
                    0.9009009009009008,
                    0.5555555555555556,
                    0.3472222222222222,
                    0.5555555555555556,
                    0.25,
                    0.5882352941176471,
                    0.3472222222222222,
                    0.37037037037037035,
                    0.37037037037037035,
                    0.3225806451612903,
                    0.14285714285714285,
                    0.4081632653061224,
                    0.30303030303030304,
                    0.6172839506172839,
                    0.625,
                    0.7518796992481203,
                    0.5555555555555556,
                    0.46511627906976744,
                    0.4347826086956522,
                    0.47619047619047616,
                    0.25,
                    0.5882352941176471,
                    0.5,
                    0.3333333333333333,
                    0.46511627906976744,
                    0.7518796992481203,
                    0.45454545454545453,
                    0.4347826086956522,
                    0.4347826086956522,
                    0.5235602094240838,
                    0.4166666666666667,
                    0.5235602094240838,
                    0.14285714285714285,
                    0.6535947712418301,
                    0.4081632653061224,
                    0.5780346820809249,
                    0.8849557522123894,
                    0.5555555555555556,
                    0.3448275862068966,
                    0.7142857142857143,
                    0.2222222222222222,
                    0.5235602094240838,
                    0.30303030303030304,
                    0.4444444444444444
                  ],
                  "yaxis": "y"
                },
                {
                  "hovertemplate": "variable=odds_away<br>game_number=%{x}<br>value=%{y}<extra></extra>",
                  "legendgroup": "odds_away",
                  "line": {
                    "color": "#EF553B",
                    "dash": "solid"
                  },
                  "marker": {
                    "symbol": "circle"
                  },
                  "mode": "lines+markers",
                  "name": "odds_away",
                  "orientation": "v",
                  "showlegend": true,
                  "type": "scatter",
                  "x": [
                    0,
                    1,
                    2,
                    3,
                    4,
                    5,
                    6,
                    7,
                    8,
                    9,
                    10,
                    11,
                    12,
                    13,
                    14,
                    15,
                    16,
                    17,
                    18,
                    19,
                    20,
                    21,
                    22,
                    23,
                    24,
                    25,
                    26,
                    27,
                    28,
                    29,
                    30,
                    31,
                    32,
                    33,
                    34,
                    35,
                    36,
                    37,
                    38,
                    39,
                    40,
                    41,
                    42,
                    43,
                    44,
                    45,
                    46,
                    47,
                    48,
                    49,
                    50,
                    51,
                    52,
                    53,
                    54,
                    55,
                    56,
                    57,
                    58,
                    59,
                    60,
                    61,
                    62,
                    63,
                    64,
                    65,
                    66,
                    67,
                    68,
                    69,
                    70,
                    71,
                    72,
                    73,
                    74,
                    75,
                    76,
                    77,
                    78,
                    79,
                    80,
                    81,
                    82,
                    83,
                    84,
                    85,
                    86,
                    87,
                    88,
                    89,
                    90,
                    91,
                    92,
                    93,
                    94,
                    95,
                    96,
                    97,
                    98,
                    99,
                    100,
                    101,
                    102,
                    103,
                    104,
                    105,
                    106,
                    107,
                    108,
                    109,
                    110,
                    111,
                    112,
                    113,
                    114,
                    115,
                    116,
                    117,
                    118,
                    119,
                    120,
                    121,
                    122,
                    123,
                    124,
                    125,
                    126,
                    127,
                    128,
                    129,
                    130,
                    131,
                    132,
                    133,
                    134,
                    135,
                    136,
                    137,
                    138,
                    139,
                    140,
                    141,
                    142,
                    143,
                    144,
                    145,
                    146,
                    147,
                    148,
                    149,
                    150,
                    151,
                    152,
                    153,
                    154,
                    155,
                    156,
                    157,
                    158,
                    159,
                    160,
                    161,
                    162,
                    163,
                    164,
                    165,
                    166,
                    167,
                    168,
                    169,
                    170,
                    171,
                    172,
                    173,
                    174,
                    175,
                    176,
                    177,
                    178,
                    179,
                    180,
                    181,
                    182,
                    183,
                    184,
                    185,
                    186,
                    187,
                    188,
                    189,
                    190,
                    191,
                    192,
                    193,
                    194,
                    195,
                    196,
                    197,
                    198,
                    199,
                    200,
                    201,
                    202,
                    203,
                    204,
                    205,
                    206,
                    207,
                    208,
                    209,
                    210,
                    211,
                    212,
                    213,
                    214,
                    215
                  ],
                  "xaxis": "x",
                  "y": [
                    0.6666666666666666,
                    0.46511627906976744,
                    0.45454545454545453,
                    0.3333333333333333,
                    0.2222222222222222,
                    0.2631578947368421,
                    0.3125,
                    0.5714285714285714,
                    0.2222222222222222,
                    0.45454545454545453,
                    0.4347826086956522,
                    0.19047619047619047,
                    0.10526315789473684,
                    0.14285714285714285,
                    0.3333333333333333,
                    0.46511627906976744,
                    0.29411764705882354,
                    0.058823529411764705,
                    0.16666666666666666,
                    0.47619047619047616,
                    0.13333333333333333,
                    0.2222222222222222,
                    0.3921568627450981,
                    0.23809523809523808,
                    0.48780487804878053,
                    0.2777777777777778,
                    0.8474576271186441,
                    0.16666666666666666,
                    0.6024096385542169,
                    0.14285714285714285,
                    0.42194092827004215,
                    0.16666666666666666,
                    0.4347826086956522,
                    0.08333333333333333,
                    0.29411764705882354,
                    0.35714285714285715,
                    0.21052631578947367,
                    0.4347826086956522,
                    0.2631578947368421,
                    0.23094688221709006,
                    0.7352941176470588,
                    0.26666666666666666,
                    0.5,
                    0.3484320557491289,
                    0.3333333333333333,
                    0.18181818181818182,
                    0.058823529411764705,
                    0.2777777777777778,
                    0.5263157894736842,
                    0.3448275862068966,
                    0.36363636363636365,
                    0.2857142857142857,
                    0.3448275862068966,
                    0.2857142857142857,
                    0.23094688221709006,
                    0.8620689655172414,
                    0.125,
                    0.2,
                    0.3225806451612903,
                    0.4444444444444444,
                    0.2631578947368421,
                    0.45454545454545453,
                    0.3125,
                    0.14285714285714285,
                    0.3125,
                    0.48780487804878053,
                    0.29411764705882354,
                    0.08333333333333333,
                    0.3448275862068966,
                    0.4,
                    0.42194092827004215,
                    0.2777777777777778,
                    0.2857142857142857,
                    0.4166666666666667,
                    0.5263157894736842,
                    0.14285714285714285,
                    0.4347826086956522,
                    0.6060606060606061,
                    0.2777777777777778,
                    0.4347826086956522,
                    0.3448275862068966,
                    0.5128205128205129,
                    0.4081632653061224,
                    0.19047619047619047,
                    0.3484320557491289,
                    0.3846153846153846,
                    0.14285714285714285,
                    0.2,
                    0.42194092827004215,
                    0.1111111111111111,
                    0.3076923076923077,
                    0.6369426751592356,
                    0.18181818181818182,
                    0.2631578947368421,
                    0.6666666666666666,
                    0.2222222222222222,
                    0.3484320557491289,
                    0.5263157894736842,
                    0.21052631578947367,
                    0.29411764705882354,
                    0.09090909090909091,
                    0.24390243902439027,
                    0.23094688221709006,
                    0.21052631578947367,
                    0.4166666666666667,
                    0.2631578947368421,
                    0.5263157894736842,
                    0.42194092827004215,
                    0.3225806451612903,
                    0.5813953488372093,
                    0.09090909090909091,
                    0.8,
                    0.4444444444444444,
                    0.2857142857142857,
                    0.2222222222222222,
                    0.29411764705882354,
                    0.21052631578947367,
                    0.45454545454545453,
                    0.06666666666666667,
                    0.4444444444444444,
                    0.26666666666666666,
                    0.45454545454545453,
                    0.26666666666666666,
                    0.2222222222222222,
                    0.48780487804878053,
                    0.16666666666666666,
                    0.46511627906976744,
                    0.3125,
                    0.3225806451612903,
                    0.3225806451612903,
                    0.23094688221709006,
                    0.5263157894736842,
                    0.8620689655172414,
                    0.4081632653061224,
                    0.25,
                    0.5405405405405405,
                    0.3448275862068966,
                    0.11764705882352941,
                    0.3472222222222222,
                    0.3125,
                    0.36363636363636365,
                    0.3448275862068966,
                    0.125,
                    0.4081632653061224,
                    0.6535947712418301,
                    0.08333333333333333,
                    0.4347826086956522,
                    0.29411764705882354,
                    0.4347826086956522,
                    0.4444444444444444,
                    0.37037037037037035,
                    0.15384615384615385,
                    0.3802281368821293,
                    0.1111111111111111,
                    0.16,
                    0.45454545454545453,
                    0.29411764705882354,
                    0.21052631578947367,
                    0.46511627906976744,
                    0.13333333333333333,
                    0.5128205128205129,
                    0.3802281368821293,
                    0.5405405405405405,
                    0.4,
                    0.2,
                    0.15384615384615385,
                    0.5235602094240838,
                    0.25,
                    0.17391304347826086,
                    0.2777777777777778,
                    0.6369426751592356,
                    0.5128205128205129,
                    0.058823529411764705,
                    0.23094688221709006,
                    0.42016806722689076,
                    0.23809523809523808,
                    0.5555555555555556,
                    0.2,
                    0.4166666666666667,
                    0.4,
                    0.3846153846153846,
                    0.4444444444444444,
                    0.7352941176470588,
                    0.3472222222222222,
                    0.46511627906976744,
                    0.19047619047619047,
                    0.16666666666666666,
                    0.11764705882352941,
                    0.23809523809523808,
                    0.3125,
                    0.3333333333333333,
                    0.3076923076923077,
                    0.5714285714285714,
                    0.2173913043478261,
                    0.2777777777777778,
                    0.4081632653061224,
                    0.3076923076923077,
                    0.1111111111111111,
                    0.3125,
                    0.3333333333333333,
                    0.3225806451612903,
                    0.25,
                    0.35714285714285715,
                    0.23094688221709006,
                    0.7142857142857143,
                    0.16666666666666666,
                    0.35714285714285715,
                    0.21052631578947367,
                    0.05263157894736842,
                    0.23809523809523808,
                    0.4081632653061224,
                    0.14285714285714285,
                    0.5780346820809249,
                    0.25,
                    0.47619047619047616,
                    0.30303030303030304
                  ],
                  "yaxis": "y"
                },
                {
                  "hovertemplate": "variable=odds_tie<br>game_number=%{x}<br>value=%{y}<extra></extra>",
                  "legendgroup": "odds_tie",
                  "line": {
                    "color": "#00cc96",
                    "dash": "solid"
                  },
                  "marker": {
                    "symbol": "circle"
                  },
                  "mode": "lines+markers",
                  "name": "odds_tie",
                  "orientation": "v",
                  "showlegend": true,
                  "type": "scatter",
                  "x": [
                    0,
                    1,
                    2,
                    3,
                    4,
                    5,
                    6,
                    7,
                    8,
                    9,
                    10,
                    11,
                    12,
                    13,
                    14,
                    15,
                    16,
                    17,
                    18,
                    19,
                    20,
                    21,
                    22,
                    23,
                    24,
                    25,
                    26,
                    27,
                    28,
                    29,
                    30,
                    31,
                    32,
                    33,
                    34,
                    35,
                    36,
                    37,
                    38,
                    39,
                    40,
                    41,
                    42,
                    43,
                    44,
                    45,
                    46,
                    47,
                    48,
                    49,
                    50,
                    51,
                    52,
                    53,
                    54,
                    55,
                    56,
                    57,
                    58,
                    59,
                    60,
                    61,
                    62,
                    63,
                    64,
                    65,
                    66,
                    67,
                    68,
                    69,
                    70,
                    71,
                    72,
                    73,
                    74,
                    75,
                    76,
                    77,
                    78,
                    79,
                    80,
                    81,
                    82,
                    83,
                    84,
                    85,
                    86,
                    87,
                    88,
                    89,
                    90,
                    91,
                    92,
                    93,
                    94,
                    95,
                    96,
                    97,
                    98,
                    99,
                    100,
                    101,
                    102,
                    103,
                    104,
                    105,
                    106,
                    107,
                    108,
                    109,
                    110,
                    111,
                    112,
                    113,
                    114,
                    115,
                    116,
                    117,
                    118,
                    119,
                    120,
                    121,
                    122,
                    123,
                    124,
                    125,
                    126,
                    127,
                    128,
                    129,
                    130,
                    131,
                    132,
                    133,
                    134,
                    135,
                    136,
                    137,
                    138,
                    139,
                    140,
                    141,
                    142,
                    143,
                    144,
                    145,
                    146,
                    147,
                    148,
                    149,
                    150,
                    151,
                    152,
                    153,
                    154,
                    155,
                    156,
                    157,
                    158,
                    159,
                    160,
                    161,
                    162,
                    163,
                    164,
                    165,
                    166,
                    167,
                    168,
                    169,
                    170,
                    171,
                    172,
                    173,
                    174,
                    175,
                    176,
                    177,
                    178,
                    179,
                    180,
                    181,
                    182,
                    183,
                    184,
                    185,
                    186,
                    187,
                    188,
                    189,
                    190,
                    191,
                    192,
                    193,
                    194,
                    195,
                    196,
                    197,
                    198,
                    199,
                    200,
                    201,
                    202,
                    203,
                    204,
                    205,
                    206,
                    207,
                    208,
                    209,
                    210,
                    211,
                    212,
                    213,
                    214,
                    215
                  ],
                  "xaxis": "x",
                  "y": [
                    0.2,
                    0.2857142857142857,
                    0.29411764705882354,
                    0.23809523809523808,
                    0.26666666666666666,
                    0.2631578947368421,
                    0.23809523809523808,
                    0.2631578947368421,
                    0.25,
                    0.26666666666666666,
                    0.2857142857142857,
                    0.2222222222222222,
                    0.17391304347826086,
                    0.21052631578947367,
                    0.2777777777777778,
                    0.2631578947368421,
                    0.3076923076923077,
                    0.10526315789473684,
                    0.2222222222222222,
                    0.2857142857142857,
                    0.19047619047619047,
                    0.23094688221709006,
                    0.2777777777777778,
                    0.2631578947368421,
                    0.2857142857142857,
                    0.26666666666666666,
                    0.125,
                    0.2222222222222222,
                    0.23094688221709006,
                    0.2222222222222222,
                    0.26666666666666666,
                    0.21052631578947367,
                    0.29411764705882354,
                    0.125,
                    0.26666666666666666,
                    0.2857142857142857,
                    0.2222222222222222,
                    0.2777777777777778,
                    0.26666666666666666,
                    0.25,
                    0.19047619047619047,
                    0.29411764705882354,
                    0.26666666666666666,
                    0.30303030303030304,
                    0.2631578947368421,
                    0.2222222222222222,
                    0.125,
                    0.2777777777777778,
                    0.25,
                    0.26666666666666666,
                    0.25641025641025644,
                    0.2631578947368421,
                    0.29411764705882354,
                    0.2777777777777778,
                    0.25,
                    0.125,
                    0.2,
                    0.23094688221709006,
                    0.2857142857142857,
                    0.2777777777777778,
                    0.2857142857142857,
                    0.2777777777777778,
                    0.2777777777777778,
                    0.16666666666666666,
                    0.29411764705882354,
                    0.25,
                    0.2777777777777778,
                    0.15384615384615385,
                    0.29411764705882354,
                    0.25641025641025644,
                    0.26666666666666666,
                    0.2631578947368421,
                    0.2631578947368421,
                    0.29411764705882354,
                    0.2631578947368421,
                    0.2222222222222222,
                    0.2777777777777778,
                    0.21052631578947367,
                    0.26666666666666666,
                    0.2857142857142857,
                    0.3225806451612903,
                    0.2631578947368421,
                    0.2777777777777778,
                    0.25,
                    0.2777777777777778,
                    0.2857142857142857,
                    0.2,
                    0.25,
                    0.2857142857142857,
                    0.15384615384615385,
                    0.2857142857142857,
                    0.23094688221709006,
                    0.21052631578947367,
                    0.26666666666666666,
                    0.2,
                    0.23809523809523808,
                    0.26666666666666666,
                    0.29411764705882354,
                    0.26666666666666666,
                    0.2631578947368421,
                    0.15384615384615385,
                    0.25,
                    0.2631578947368421,
                    0.23809523809523808,
                    0.26666666666666666,
                    0.29411764705882354,
                    0.26666666666666666,
                    0.2857142857142857,
                    0.26666666666666666,
                    0.25,
                    0.14285714285714285,
                    0.15384615384615385,
                    0.26666666666666666,
                    0.26666666666666666,
                    0.23094688221709006,
                    0.29411764705882354,
                    0.25,
                    0.2777777777777778,
                    0.10526315789473684,
                    0.2857142857142857,
                    0.2631578947368421,
                    0.26666666666666666,
                    0.2631578947368421,
                    0.25,
                    0.26666666666666666,
                    0.23809523809523808,
                    0.25,
                    0.2857142857142857,
                    0.2777777777777778,
                    0.26666666666666666,
                    0.23809523809523808,
                    0.25,
                    0.13333333333333333,
                    0.2857142857142857,
                    0.30303030303030304,
                    0.23094688221709006,
                    0.2857142857142857,
                    0.2,
                    0.2857142857142857,
                    0.29411764705882354,
                    0.29411764705882354,
                    0.2631578947368421,
                    0.16666666666666666,
                    0.2631578947368421,
                    0.23094688221709006,
                    0.13333333333333333,
                    0.29411764705882354,
                    0.2857142857142857,
                    0.2777777777777778,
                    0.2777777777777778,
                    0.2857142857142857,
                    0.19047619047619047,
                    0.3125,
                    0.2,
                    0.2222222222222222,
                    0.3076923076923077,
                    0.25641025641025644,
                    0.25,
                    0.2777777777777778,
                    0.16666666666666666,
                    0.2777777777777778,
                    0.2631578947368421,
                    0.2631578947368421,
                    0.2857142857142857,
                    0.25,
                    0.2222222222222222,
                    0.2777777777777778,
                    0.2857142857142857,
                    0.2222222222222222,
                    0.2777777777777778,
                    0.2222222222222222,
                    0.2631578947368421,
                    0.1,
                    0.2631578947368421,
                    0.2777777777777778,
                    0.25,
                    0.25,
                    0.26666666666666666,
                    0.2857142857142857,
                    0.2857142857142857,
                    0.2857142857142857,
                    0.2857142857142857,
                    0.17391304347826086,
                    0.29411764705882354,
                    0.2777777777777778,
                    0.23809523809523808,
                    0.2631578947368421,
                    0.18181818181818182,
                    0.2631578947368421,
                    0.2777777777777778,
                    0.2857142857142857,
                    0.2777777777777778,
                    0.23809523809523808,
                    0.25,
                    0.2631578947368421,
                    0.29411764705882354,
                    0.2857142857142857,
                    0.19047619047619047,
                    0.2857142857142857,
                    0.2857142857142857,
                    0.29411764705882354,
                    0.2777777777777778,
                    0.2777777777777778,
                    0.29411764705882354,
                    0.19047619047619047,
                    0.23809523809523808,
                    0.2857142857142857,
                    0.26666666666666666,
                    0.1111111111111111,
                    0.25,
                    0.29411764705882354,
                    0.2,
                    0.25,
                    0.2777777777777778,
                    0.26666666666666666,
                    0.3076923076923077
                  ],
                  "yaxis": "y"
                }
              ],
              "layout": {
                "legend": {
                  "title": {
                    "text": "variable"
                  },
                  "tracegroupgap": 0
                },
                "margin": {
                  "t": 60
                },
                "template": {
                  "data": {
                    "bar": [
                      {
                        "error_x": {
                          "color": "#2a3f5f"
                        },
                        "error_y": {
                          "color": "#2a3f5f"
                        },
                        "marker": {
                          "line": {
                            "color": "#E5ECF6",
                            "width": 0.5
                          },
                          "pattern": {
                            "fillmode": "overlay",
                            "size": 10,
                            "solidity": 0.2
                          }
                        },
                        "type": "bar"
                      }
                    ],
                    "barpolar": [
                      {
                        "marker": {
                          "line": {
                            "color": "#E5ECF6",
                            "width": 0.5
                          },
                          "pattern": {
                            "fillmode": "overlay",
                            "size": 10,
                            "solidity": 0.2
                          }
                        },
                        "type": "barpolar"
                      }
                    ],
                    "carpet": [
                      {
                        "aaxis": {
                          "endlinecolor": "#2a3f5f",
                          "gridcolor": "white",
                          "linecolor": "white",
                          "minorgridcolor": "white",
                          "startlinecolor": "#2a3f5f"
                        },
                        "baxis": {
                          "endlinecolor": "#2a3f5f",
                          "gridcolor": "white",
                          "linecolor": "white",
                          "minorgridcolor": "white",
                          "startlinecolor": "#2a3f5f"
                        },
                        "type": "carpet"
                      }
                    ],
                    "choropleth": [
                      {
                        "colorbar": {
                          "outlinewidth": 0,
                          "ticks": ""
                        },
                        "type": "choropleth"
                      }
                    ],
                    "contour": [
                      {
                        "colorbar": {
                          "outlinewidth": 0,
                          "ticks": ""
                        },
                        "colorscale": [
                          [
                            0,
                            "#0d0887"
                          ],
                          [
                            0.1111111111111111,
                            "#46039f"
                          ],
                          [
                            0.2222222222222222,
                            "#7201a8"
                          ],
                          [
                            0.3333333333333333,
                            "#9c179e"
                          ],
                          [
                            0.4444444444444444,
                            "#bd3786"
                          ],
                          [
                            0.5555555555555556,
                            "#d8576b"
                          ],
                          [
                            0.6666666666666666,
                            "#ed7953"
                          ],
                          [
                            0.7777777777777778,
                            "#fb9f3a"
                          ],
                          [
                            0.8888888888888888,
                            "#fdca26"
                          ],
                          [
                            1,
                            "#f0f921"
                          ]
                        ],
                        "type": "contour"
                      }
                    ],
                    "contourcarpet": [
                      {
                        "colorbar": {
                          "outlinewidth": 0,
                          "ticks": ""
                        },
                        "type": "contourcarpet"
                      }
                    ],
                    "heatmap": [
                      {
                        "colorbar": {
                          "outlinewidth": 0,
                          "ticks": ""
                        },
                        "colorscale": [
                          [
                            0,
                            "#0d0887"
                          ],
                          [
                            0.1111111111111111,
                            "#46039f"
                          ],
                          [
                            0.2222222222222222,
                            "#7201a8"
                          ],
                          [
                            0.3333333333333333,
                            "#9c179e"
                          ],
                          [
                            0.4444444444444444,
                            "#bd3786"
                          ],
                          [
                            0.5555555555555556,
                            "#d8576b"
                          ],
                          [
                            0.6666666666666666,
                            "#ed7953"
                          ],
                          [
                            0.7777777777777778,
                            "#fb9f3a"
                          ],
                          [
                            0.8888888888888888,
                            "#fdca26"
                          ],
                          [
                            1,
                            "#f0f921"
                          ]
                        ],
                        "type": "heatmap"
                      }
                    ],
                    "heatmapgl": [
                      {
                        "colorbar": {
                          "outlinewidth": 0,
                          "ticks": ""
                        },
                        "colorscale": [
                          [
                            0,
                            "#0d0887"
                          ],
                          [
                            0.1111111111111111,
                            "#46039f"
                          ],
                          [
                            0.2222222222222222,
                            "#7201a8"
                          ],
                          [
                            0.3333333333333333,
                            "#9c179e"
                          ],
                          [
                            0.4444444444444444,
                            "#bd3786"
                          ],
                          [
                            0.5555555555555556,
                            "#d8576b"
                          ],
                          [
                            0.6666666666666666,
                            "#ed7953"
                          ],
                          [
                            0.7777777777777778,
                            "#fb9f3a"
                          ],
                          [
                            0.8888888888888888,
                            "#fdca26"
                          ],
                          [
                            1,
                            "#f0f921"
                          ]
                        ],
                        "type": "heatmapgl"
                      }
                    ],
                    "histogram": [
                      {
                        "marker": {
                          "pattern": {
                            "fillmode": "overlay",
                            "size": 10,
                            "solidity": 0.2
                          }
                        },
                        "type": "histogram"
                      }
                    ],
                    "histogram2d": [
                      {
                        "colorbar": {
                          "outlinewidth": 0,
                          "ticks": ""
                        },
                        "colorscale": [
                          [
                            0,
                            "#0d0887"
                          ],
                          [
                            0.1111111111111111,
                            "#46039f"
                          ],
                          [
                            0.2222222222222222,
                            "#7201a8"
                          ],
                          [
                            0.3333333333333333,
                            "#9c179e"
                          ],
                          [
                            0.4444444444444444,
                            "#bd3786"
                          ],
                          [
                            0.5555555555555556,
                            "#d8576b"
                          ],
                          [
                            0.6666666666666666,
                            "#ed7953"
                          ],
                          [
                            0.7777777777777778,
                            "#fb9f3a"
                          ],
                          [
                            0.8888888888888888,
                            "#fdca26"
                          ],
                          [
                            1,
                            "#f0f921"
                          ]
                        ],
                        "type": "histogram2d"
                      }
                    ],
                    "histogram2dcontour": [
                      {
                        "colorbar": {
                          "outlinewidth": 0,
                          "ticks": ""
                        },
                        "colorscale": [
                          [
                            0,
                            "#0d0887"
                          ],
                          [
                            0.1111111111111111,
                            "#46039f"
                          ],
                          [
                            0.2222222222222222,
                            "#7201a8"
                          ],
                          [
                            0.3333333333333333,
                            "#9c179e"
                          ],
                          [
                            0.4444444444444444,
                            "#bd3786"
                          ],
                          [
                            0.5555555555555556,
                            "#d8576b"
                          ],
                          [
                            0.6666666666666666,
                            "#ed7953"
                          ],
                          [
                            0.7777777777777778,
                            "#fb9f3a"
                          ],
                          [
                            0.8888888888888888,
                            "#fdca26"
                          ],
                          [
                            1,
                            "#f0f921"
                          ]
                        ],
                        "type": "histogram2dcontour"
                      }
                    ],
                    "mesh3d": [
                      {
                        "colorbar": {
                          "outlinewidth": 0,
                          "ticks": ""
                        },
                        "type": "mesh3d"
                      }
                    ],
                    "parcoords": [
                      {
                        "line": {
                          "colorbar": {
                            "outlinewidth": 0,
                            "ticks": ""
                          }
                        },
                        "type": "parcoords"
                      }
                    ],
                    "pie": [
                      {
                        "automargin": true,
                        "type": "pie"
                      }
                    ],
                    "scatter": [
                      {
                        "fillpattern": {
                          "fillmode": "overlay",
                          "size": 10,
                          "solidity": 0.2
                        },
                        "type": "scatter"
                      }
                    ],
                    "scatter3d": [
                      {
                        "line": {
                          "colorbar": {
                            "outlinewidth": 0,
                            "ticks": ""
                          }
                        },
                        "marker": {
                          "colorbar": {
                            "outlinewidth": 0,
                            "ticks": ""
                          }
                        },
                        "type": "scatter3d"
                      }
                    ],
                    "scattercarpet": [
                      {
                        "marker": {
                          "colorbar": {
                            "outlinewidth": 0,
                            "ticks": ""
                          }
                        },
                        "type": "scattercarpet"
                      }
                    ],
                    "scattergeo": [
                      {
                        "marker": {
                          "colorbar": {
                            "outlinewidth": 0,
                            "ticks": ""
                          }
                        },
                        "type": "scattergeo"
                      }
                    ],
                    "scattergl": [
                      {
                        "marker": {
                          "colorbar": {
                            "outlinewidth": 0,
                            "ticks": ""
                          }
                        },
                        "type": "scattergl"
                      }
                    ],
                    "scattermapbox": [
                      {
                        "marker": {
                          "colorbar": {
                            "outlinewidth": 0,
                            "ticks": ""
                          }
                        },
                        "type": "scattermapbox"
                      }
                    ],
                    "scatterpolar": [
                      {
                        "marker": {
                          "colorbar": {
                            "outlinewidth": 0,
                            "ticks": ""
                          }
                        },
                        "type": "scatterpolar"
                      }
                    ],
                    "scatterpolargl": [
                      {
                        "marker": {
                          "colorbar": {
                            "outlinewidth": 0,
                            "ticks": ""
                          }
                        },
                        "type": "scatterpolargl"
                      }
                    ],
                    "scatterternary": [
                      {
                        "marker": {
                          "colorbar": {
                            "outlinewidth": 0,
                            "ticks": ""
                          }
                        },
                        "type": "scatterternary"
                      }
                    ],
                    "surface": [
                      {
                        "colorbar": {
                          "outlinewidth": 0,
                          "ticks": ""
                        },
                        "colorscale": [
                          [
                            0,
                            "#0d0887"
                          ],
                          [
                            0.1111111111111111,
                            "#46039f"
                          ],
                          [
                            0.2222222222222222,
                            "#7201a8"
                          ],
                          [
                            0.3333333333333333,
                            "#9c179e"
                          ],
                          [
                            0.4444444444444444,
                            "#bd3786"
                          ],
                          [
                            0.5555555555555556,
                            "#d8576b"
                          ],
                          [
                            0.6666666666666666,
                            "#ed7953"
                          ],
                          [
                            0.7777777777777778,
                            "#fb9f3a"
                          ],
                          [
                            0.8888888888888888,
                            "#fdca26"
                          ],
                          [
                            1,
                            "#f0f921"
                          ]
                        ],
                        "type": "surface"
                      }
                    ],
                    "table": [
                      {
                        "cells": {
                          "fill": {
                            "color": "#EBF0F8"
                          },
                          "line": {
                            "color": "white"
                          }
                        },
                        "header": {
                          "fill": {
                            "color": "#C8D4E3"
                          },
                          "line": {
                            "color": "white"
                          }
                        },
                        "type": "table"
                      }
                    ]
                  },
                  "layout": {
                    "annotationdefaults": {
                      "arrowcolor": "#2a3f5f",
                      "arrowhead": 0,
                      "arrowwidth": 1
                    },
                    "autotypenumbers": "strict",
                    "coloraxis": {
                      "colorbar": {
                        "outlinewidth": 0,
                        "ticks": ""
                      }
                    },
                    "colorscale": {
                      "diverging": [
                        [
                          0,
                          "#8e0152"
                        ],
                        [
                          0.1,
                          "#c51b7d"
                        ],
                        [
                          0.2,
                          "#de77ae"
                        ],
                        [
                          0.3,
                          "#f1b6da"
                        ],
                        [
                          0.4,
                          "#fde0ef"
                        ],
                        [
                          0.5,
                          "#f7f7f7"
                        ],
                        [
                          0.6,
                          "#e6f5d0"
                        ],
                        [
                          0.7,
                          "#b8e186"
                        ],
                        [
                          0.8,
                          "#7fbc41"
                        ],
                        [
                          0.9,
                          "#4d9221"
                        ],
                        [
                          1,
                          "#276419"
                        ]
                      ],
                      "sequential": [
                        [
                          0,
                          "#0d0887"
                        ],
                        [
                          0.1111111111111111,
                          "#46039f"
                        ],
                        [
                          0.2222222222222222,
                          "#7201a8"
                        ],
                        [
                          0.3333333333333333,
                          "#9c179e"
                        ],
                        [
                          0.4444444444444444,
                          "#bd3786"
                        ],
                        [
                          0.5555555555555556,
                          "#d8576b"
                        ],
                        [
                          0.6666666666666666,
                          "#ed7953"
                        ],
                        [
                          0.7777777777777778,
                          "#fb9f3a"
                        ],
                        [
                          0.8888888888888888,
                          "#fdca26"
                        ],
                        [
                          1,
                          "#f0f921"
                        ]
                      ],
                      "sequentialminus": [
                        [
                          0,
                          "#0d0887"
                        ],
                        [
                          0.1111111111111111,
                          "#46039f"
                        ],
                        [
                          0.2222222222222222,
                          "#7201a8"
                        ],
                        [
                          0.3333333333333333,
                          "#9c179e"
                        ],
                        [
                          0.4444444444444444,
                          "#bd3786"
                        ],
                        [
                          0.5555555555555556,
                          "#d8576b"
                        ],
                        [
                          0.6666666666666666,
                          "#ed7953"
                        ],
                        [
                          0.7777777777777778,
                          "#fb9f3a"
                        ],
                        [
                          0.8888888888888888,
                          "#fdca26"
                        ],
                        [
                          1,
                          "#f0f921"
                        ]
                      ]
                    },
                    "colorway": [
                      "#636efa",
                      "#EF553B",
                      "#00cc96",
                      "#ab63fa",
                      "#FFA15A",
                      "#19d3f3",
                      "#FF6692",
                      "#B6E880",
                      "#FF97FF",
                      "#FECB52"
                    ],
                    "font": {
                      "color": "#2a3f5f"
                    },
                    "geo": {
                      "bgcolor": "white",
                      "lakecolor": "white",
                      "landcolor": "#E5ECF6",
                      "showlakes": true,
                      "showland": true,
                      "subunitcolor": "white"
                    },
                    "hoverlabel": {
                      "align": "left"
                    },
                    "hovermode": "closest",
                    "mapbox": {
                      "style": "light"
                    },
                    "paper_bgcolor": "white",
                    "plot_bgcolor": "#E5ECF6",
                    "polar": {
                      "angularaxis": {
                        "gridcolor": "white",
                        "linecolor": "white",
                        "ticks": ""
                      },
                      "bgcolor": "#E5ECF6",
                      "radialaxis": {
                        "gridcolor": "white",
                        "linecolor": "white",
                        "ticks": ""
                      }
                    },
                    "scene": {
                      "xaxis": {
                        "backgroundcolor": "#E5ECF6",
                        "gridcolor": "white",
                        "gridwidth": 2,
                        "linecolor": "white",
                        "showbackground": true,
                        "ticks": "",
                        "zerolinecolor": "white"
                      },
                      "yaxis": {
                        "backgroundcolor": "#E5ECF6",
                        "gridcolor": "white",
                        "gridwidth": 2,
                        "linecolor": "white",
                        "showbackground": true,
                        "ticks": "",
                        "zerolinecolor": "white"
                      },
                      "zaxis": {
                        "backgroundcolor": "#E5ECF6",
                        "gridcolor": "white",
                        "gridwidth": 2,
                        "linecolor": "white",
                        "showbackground": true,
                        "ticks": "",
                        "zerolinecolor": "white"
                      }
                    },
                    "shapedefaults": {
                      "line": {
                        "color": "#2a3f5f"
                      }
                    },
                    "ternary": {
                      "aaxis": {
                        "gridcolor": "white",
                        "linecolor": "white",
                        "ticks": ""
                      },
                      "baxis": {
                        "gridcolor": "white",
                        "linecolor": "white",
                        "ticks": ""
                      },
                      "bgcolor": "#E5ECF6",
                      "caxis": {
                        "gridcolor": "white",
                        "linecolor": "white",
                        "ticks": ""
                      }
                    },
                    "title": {
                      "x": 0.05
                    },
                    "xaxis": {
                      "automargin": true,
                      "gridcolor": "white",
                      "linecolor": "white",
                      "ticks": "",
                      "title": {
                        "standoff": 15
                      },
                      "zerolinecolor": "white",
                      "zerolinewidth": 2
                    },
                    "yaxis": {
                      "automargin": true,
                      "gridcolor": "white",
                      "linecolor": "white",
                      "ticks": "",
                      "title": {
                        "standoff": 15
                      },
                      "zerolinecolor": "white",
                      "zerolinewidth": 2
                    }
                  }
                },
                "xaxis": {
                  "anchor": "y",
                  "domain": [
                    0,
                    1
                  ],
                  "title": {
                    "text": "game_number"
                  }
                },
                "yaxis": {
                  "anchor": "x",
                  "domain": [
                    0,
                    1
                  ],
                  "title": {
                    "text": "value"
                  }
                }
              }
            }
          },
          "metadata": {},
          "output_type": "display_data"
        }
      ],
      "source": [
        "pd.options.plotting.backend = \"plotly\"\n",
        "fig_2 = df.plot(x='game_number', y=['odds_home', 'odds_away', 'odds_tie'], markers=True)\n",
        "fig_2.show()\n"
      ]
    },
    {
      "cell_type": "code",
      "execution_count": 20,
      "metadata": {
        "colab": {
          "base_uri": "https://localhost:8080/",
          "height": 206
        },
        "id": "K6sIQF7U3Azs",
        "outputId": "769d2d3e-c84b-4274-b212-556f0d8a7228"
      },
      "outputs": [
        {
          "data": {
            "text/html": [
              "<div>\n",
              "<style scoped>\n",
              "    .dataframe tbody tr th:only-of-type {\n",
              "        vertical-align: middle;\n",
              "    }\n",
              "\n",
              "    .dataframe tbody tr th {\n",
              "        vertical-align: top;\n",
              "    }\n",
              "\n",
              "    .dataframe thead th {\n",
              "        text-align: right;\n",
              "    }\n",
              "</style>\n",
              "<table border=\"1\" class=\"dataframe\">\n",
              "  <thead>\n",
              "    <tr style=\"text-align: right;\">\n",
              "      <th></th>\n",
              "      <th>winner_team</th>\n",
              "      <th>who</th>\n",
              "    </tr>\n",
              "  </thead>\n",
              "  <tbody>\n",
              "    <tr>\n",
              "      <th>tie</th>\n",
              "      <td>50</td>\n",
              "      <td>tie</td>\n",
              "    </tr>\n",
              "    <tr>\n",
              "      <th>Dortmund</th>\n",
              "      <td>16</td>\n",
              "      <td>Dortmund</td>\n",
              "    </tr>\n",
              "    <tr>\n",
              "      <th>Bayern Munich</th>\n",
              "      <td>15</td>\n",
              "      <td>Bayern Munich</td>\n",
              "    </tr>\n",
              "    <tr>\n",
              "      <th>Union Berlin</th>\n",
              "      <td>13</td>\n",
              "      <td>Union Berlin</td>\n",
              "    </tr>\n",
              "    <tr>\n",
              "      <th>RB Leipzig</th>\n",
              "      <td>13</td>\n",
              "      <td>RB Leipzig</td>\n",
              "    </tr>\n",
              "  </tbody>\n",
              "</table>\n",
              "</div>"
            ],
            "text/plain": [
              "               winner_team            who\n",
              "tie                     50            tie\n",
              "Dortmund                16       Dortmund\n",
              "Bayern Munich           15  Bayern Munich\n",
              "Union Berlin            13   Union Berlin\n",
              "RB Leipzig              13     RB Leipzig"
            ]
          },
          "execution_count": 20,
          "metadata": {},
          "output_type": "execute_result"
        }
      ],
      "source": [
        "match_winner = pd.DataFrame(df['winner_team'].value_counts())\n",
        "match_winner['who'] = list(match_winner.index)\n",
        "match_winner.head()"
      ]
    },
    {
      "cell_type": "markdown",
      "metadata": {
        "collapsed": false,
        "id": "DaZDQNRe3Azt"
      },
      "source": [
        "# Chart that shows who one the most or if the result was a tie"
      ]
    },
    {
      "cell_type": "code",
      "execution_count": 21,
      "metadata": {
        "colab": {
          "base_uri": "https://localhost:8080/",
          "height": 542
        },
        "id": "92wD9GTP3Azt",
        "outputId": "616e8900-d4ed-4dbc-cec6-df4143655899"
      },
      "outputs": [
        {
          "data": {
            "application/vnd.plotly.v1+json": {
              "config": {
                "plotlyServerURL": "https://plot.ly"
              },
              "data": [
                {
                  "domain": {
                    "x": [
                      0,
                      1
                    ],
                    "y": [
                      0,
                      1
                    ]
                  },
                  "hovertemplate": "who=%{label}<br>winner_team=%{value}<extra></extra>",
                  "labels": [
                    "tie",
                    "Dortmund",
                    "Bayern Munich",
                    "Union Berlin",
                    "RB Leipzig",
                    "Freiburg",
                    "Ein Frankfurt",
                    "Leverkusen",
                    "Mainz",
                    "Wolfsburg",
                    "Werder Bremen",
                    "Augsburg",
                    "M'gladbach",
                    "Bochum",
                    "FC Koln",
                    "Hoffenheim",
                    "Hertha",
                    "Schalke 04",
                    "Stuttgart"
                  ],
                  "legendgroup": "",
                  "name": "",
                  "showlegend": true,
                  "type": "pie",
                  "values": [
                    50,
                    16,
                    15,
                    13,
                    13,
                    13,
                    11,
                    10,
                    10,
                    9,
                    9,
                    8,
                    8,
                    7,
                    6,
                    5,
                    5,
                    4,
                    4
                  ]
                }
              ],
              "layout": {
                "legend": {
                  "tracegroupgap": 0
                },
                "template": {
                  "data": {
                    "bar": [
                      {
                        "error_x": {
                          "color": "#2a3f5f"
                        },
                        "error_y": {
                          "color": "#2a3f5f"
                        },
                        "marker": {
                          "line": {
                            "color": "#E5ECF6",
                            "width": 0.5
                          },
                          "pattern": {
                            "fillmode": "overlay",
                            "size": 10,
                            "solidity": 0.2
                          }
                        },
                        "type": "bar"
                      }
                    ],
                    "barpolar": [
                      {
                        "marker": {
                          "line": {
                            "color": "#E5ECF6",
                            "width": 0.5
                          },
                          "pattern": {
                            "fillmode": "overlay",
                            "size": 10,
                            "solidity": 0.2
                          }
                        },
                        "type": "barpolar"
                      }
                    ],
                    "carpet": [
                      {
                        "aaxis": {
                          "endlinecolor": "#2a3f5f",
                          "gridcolor": "white",
                          "linecolor": "white",
                          "minorgridcolor": "white",
                          "startlinecolor": "#2a3f5f"
                        },
                        "baxis": {
                          "endlinecolor": "#2a3f5f",
                          "gridcolor": "white",
                          "linecolor": "white",
                          "minorgridcolor": "white",
                          "startlinecolor": "#2a3f5f"
                        },
                        "type": "carpet"
                      }
                    ],
                    "choropleth": [
                      {
                        "colorbar": {
                          "outlinewidth": 0,
                          "ticks": ""
                        },
                        "type": "choropleth"
                      }
                    ],
                    "contour": [
                      {
                        "colorbar": {
                          "outlinewidth": 0,
                          "ticks": ""
                        },
                        "colorscale": [
                          [
                            0,
                            "#0d0887"
                          ],
                          [
                            0.1111111111111111,
                            "#46039f"
                          ],
                          [
                            0.2222222222222222,
                            "#7201a8"
                          ],
                          [
                            0.3333333333333333,
                            "#9c179e"
                          ],
                          [
                            0.4444444444444444,
                            "#bd3786"
                          ],
                          [
                            0.5555555555555556,
                            "#d8576b"
                          ],
                          [
                            0.6666666666666666,
                            "#ed7953"
                          ],
                          [
                            0.7777777777777778,
                            "#fb9f3a"
                          ],
                          [
                            0.8888888888888888,
                            "#fdca26"
                          ],
                          [
                            1,
                            "#f0f921"
                          ]
                        ],
                        "type": "contour"
                      }
                    ],
                    "contourcarpet": [
                      {
                        "colorbar": {
                          "outlinewidth": 0,
                          "ticks": ""
                        },
                        "type": "contourcarpet"
                      }
                    ],
                    "heatmap": [
                      {
                        "colorbar": {
                          "outlinewidth": 0,
                          "ticks": ""
                        },
                        "colorscale": [
                          [
                            0,
                            "#0d0887"
                          ],
                          [
                            0.1111111111111111,
                            "#46039f"
                          ],
                          [
                            0.2222222222222222,
                            "#7201a8"
                          ],
                          [
                            0.3333333333333333,
                            "#9c179e"
                          ],
                          [
                            0.4444444444444444,
                            "#bd3786"
                          ],
                          [
                            0.5555555555555556,
                            "#d8576b"
                          ],
                          [
                            0.6666666666666666,
                            "#ed7953"
                          ],
                          [
                            0.7777777777777778,
                            "#fb9f3a"
                          ],
                          [
                            0.8888888888888888,
                            "#fdca26"
                          ],
                          [
                            1,
                            "#f0f921"
                          ]
                        ],
                        "type": "heatmap"
                      }
                    ],
                    "heatmapgl": [
                      {
                        "colorbar": {
                          "outlinewidth": 0,
                          "ticks": ""
                        },
                        "colorscale": [
                          [
                            0,
                            "#0d0887"
                          ],
                          [
                            0.1111111111111111,
                            "#46039f"
                          ],
                          [
                            0.2222222222222222,
                            "#7201a8"
                          ],
                          [
                            0.3333333333333333,
                            "#9c179e"
                          ],
                          [
                            0.4444444444444444,
                            "#bd3786"
                          ],
                          [
                            0.5555555555555556,
                            "#d8576b"
                          ],
                          [
                            0.6666666666666666,
                            "#ed7953"
                          ],
                          [
                            0.7777777777777778,
                            "#fb9f3a"
                          ],
                          [
                            0.8888888888888888,
                            "#fdca26"
                          ],
                          [
                            1,
                            "#f0f921"
                          ]
                        ],
                        "type": "heatmapgl"
                      }
                    ],
                    "histogram": [
                      {
                        "marker": {
                          "pattern": {
                            "fillmode": "overlay",
                            "size": 10,
                            "solidity": 0.2
                          }
                        },
                        "type": "histogram"
                      }
                    ],
                    "histogram2d": [
                      {
                        "colorbar": {
                          "outlinewidth": 0,
                          "ticks": ""
                        },
                        "colorscale": [
                          [
                            0,
                            "#0d0887"
                          ],
                          [
                            0.1111111111111111,
                            "#46039f"
                          ],
                          [
                            0.2222222222222222,
                            "#7201a8"
                          ],
                          [
                            0.3333333333333333,
                            "#9c179e"
                          ],
                          [
                            0.4444444444444444,
                            "#bd3786"
                          ],
                          [
                            0.5555555555555556,
                            "#d8576b"
                          ],
                          [
                            0.6666666666666666,
                            "#ed7953"
                          ],
                          [
                            0.7777777777777778,
                            "#fb9f3a"
                          ],
                          [
                            0.8888888888888888,
                            "#fdca26"
                          ],
                          [
                            1,
                            "#f0f921"
                          ]
                        ],
                        "type": "histogram2d"
                      }
                    ],
                    "histogram2dcontour": [
                      {
                        "colorbar": {
                          "outlinewidth": 0,
                          "ticks": ""
                        },
                        "colorscale": [
                          [
                            0,
                            "#0d0887"
                          ],
                          [
                            0.1111111111111111,
                            "#46039f"
                          ],
                          [
                            0.2222222222222222,
                            "#7201a8"
                          ],
                          [
                            0.3333333333333333,
                            "#9c179e"
                          ],
                          [
                            0.4444444444444444,
                            "#bd3786"
                          ],
                          [
                            0.5555555555555556,
                            "#d8576b"
                          ],
                          [
                            0.6666666666666666,
                            "#ed7953"
                          ],
                          [
                            0.7777777777777778,
                            "#fb9f3a"
                          ],
                          [
                            0.8888888888888888,
                            "#fdca26"
                          ],
                          [
                            1,
                            "#f0f921"
                          ]
                        ],
                        "type": "histogram2dcontour"
                      }
                    ],
                    "mesh3d": [
                      {
                        "colorbar": {
                          "outlinewidth": 0,
                          "ticks": ""
                        },
                        "type": "mesh3d"
                      }
                    ],
                    "parcoords": [
                      {
                        "line": {
                          "colorbar": {
                            "outlinewidth": 0,
                            "ticks": ""
                          }
                        },
                        "type": "parcoords"
                      }
                    ],
                    "pie": [
                      {
                        "automargin": true,
                        "type": "pie"
                      }
                    ],
                    "scatter": [
                      {
                        "fillpattern": {
                          "fillmode": "overlay",
                          "size": 10,
                          "solidity": 0.2
                        },
                        "type": "scatter"
                      }
                    ],
                    "scatter3d": [
                      {
                        "line": {
                          "colorbar": {
                            "outlinewidth": 0,
                            "ticks": ""
                          }
                        },
                        "marker": {
                          "colorbar": {
                            "outlinewidth": 0,
                            "ticks": ""
                          }
                        },
                        "type": "scatter3d"
                      }
                    ],
                    "scattercarpet": [
                      {
                        "marker": {
                          "colorbar": {
                            "outlinewidth": 0,
                            "ticks": ""
                          }
                        },
                        "type": "scattercarpet"
                      }
                    ],
                    "scattergeo": [
                      {
                        "marker": {
                          "colorbar": {
                            "outlinewidth": 0,
                            "ticks": ""
                          }
                        },
                        "type": "scattergeo"
                      }
                    ],
                    "scattergl": [
                      {
                        "marker": {
                          "colorbar": {
                            "outlinewidth": 0,
                            "ticks": ""
                          }
                        },
                        "type": "scattergl"
                      }
                    ],
                    "scattermapbox": [
                      {
                        "marker": {
                          "colorbar": {
                            "outlinewidth": 0,
                            "ticks": ""
                          }
                        },
                        "type": "scattermapbox"
                      }
                    ],
                    "scatterpolar": [
                      {
                        "marker": {
                          "colorbar": {
                            "outlinewidth": 0,
                            "ticks": ""
                          }
                        },
                        "type": "scatterpolar"
                      }
                    ],
                    "scatterpolargl": [
                      {
                        "marker": {
                          "colorbar": {
                            "outlinewidth": 0,
                            "ticks": ""
                          }
                        },
                        "type": "scatterpolargl"
                      }
                    ],
                    "scatterternary": [
                      {
                        "marker": {
                          "colorbar": {
                            "outlinewidth": 0,
                            "ticks": ""
                          }
                        },
                        "type": "scatterternary"
                      }
                    ],
                    "surface": [
                      {
                        "colorbar": {
                          "outlinewidth": 0,
                          "ticks": ""
                        },
                        "colorscale": [
                          [
                            0,
                            "#0d0887"
                          ],
                          [
                            0.1111111111111111,
                            "#46039f"
                          ],
                          [
                            0.2222222222222222,
                            "#7201a8"
                          ],
                          [
                            0.3333333333333333,
                            "#9c179e"
                          ],
                          [
                            0.4444444444444444,
                            "#bd3786"
                          ],
                          [
                            0.5555555555555556,
                            "#d8576b"
                          ],
                          [
                            0.6666666666666666,
                            "#ed7953"
                          ],
                          [
                            0.7777777777777778,
                            "#fb9f3a"
                          ],
                          [
                            0.8888888888888888,
                            "#fdca26"
                          ],
                          [
                            1,
                            "#f0f921"
                          ]
                        ],
                        "type": "surface"
                      }
                    ],
                    "table": [
                      {
                        "cells": {
                          "fill": {
                            "color": "#EBF0F8"
                          },
                          "line": {
                            "color": "white"
                          }
                        },
                        "header": {
                          "fill": {
                            "color": "#C8D4E3"
                          },
                          "line": {
                            "color": "white"
                          }
                        },
                        "type": "table"
                      }
                    ]
                  },
                  "layout": {
                    "annotationdefaults": {
                      "arrowcolor": "#2a3f5f",
                      "arrowhead": 0,
                      "arrowwidth": 1
                    },
                    "autotypenumbers": "strict",
                    "coloraxis": {
                      "colorbar": {
                        "outlinewidth": 0,
                        "ticks": ""
                      }
                    },
                    "colorscale": {
                      "diverging": [
                        [
                          0,
                          "#8e0152"
                        ],
                        [
                          0.1,
                          "#c51b7d"
                        ],
                        [
                          0.2,
                          "#de77ae"
                        ],
                        [
                          0.3,
                          "#f1b6da"
                        ],
                        [
                          0.4,
                          "#fde0ef"
                        ],
                        [
                          0.5,
                          "#f7f7f7"
                        ],
                        [
                          0.6,
                          "#e6f5d0"
                        ],
                        [
                          0.7,
                          "#b8e186"
                        ],
                        [
                          0.8,
                          "#7fbc41"
                        ],
                        [
                          0.9,
                          "#4d9221"
                        ],
                        [
                          1,
                          "#276419"
                        ]
                      ],
                      "sequential": [
                        [
                          0,
                          "#0d0887"
                        ],
                        [
                          0.1111111111111111,
                          "#46039f"
                        ],
                        [
                          0.2222222222222222,
                          "#7201a8"
                        ],
                        [
                          0.3333333333333333,
                          "#9c179e"
                        ],
                        [
                          0.4444444444444444,
                          "#bd3786"
                        ],
                        [
                          0.5555555555555556,
                          "#d8576b"
                        ],
                        [
                          0.6666666666666666,
                          "#ed7953"
                        ],
                        [
                          0.7777777777777778,
                          "#fb9f3a"
                        ],
                        [
                          0.8888888888888888,
                          "#fdca26"
                        ],
                        [
                          1,
                          "#f0f921"
                        ]
                      ],
                      "sequentialminus": [
                        [
                          0,
                          "#0d0887"
                        ],
                        [
                          0.1111111111111111,
                          "#46039f"
                        ],
                        [
                          0.2222222222222222,
                          "#7201a8"
                        ],
                        [
                          0.3333333333333333,
                          "#9c179e"
                        ],
                        [
                          0.4444444444444444,
                          "#bd3786"
                        ],
                        [
                          0.5555555555555556,
                          "#d8576b"
                        ],
                        [
                          0.6666666666666666,
                          "#ed7953"
                        ],
                        [
                          0.7777777777777778,
                          "#fb9f3a"
                        ],
                        [
                          0.8888888888888888,
                          "#fdca26"
                        ],
                        [
                          1,
                          "#f0f921"
                        ]
                      ]
                    },
                    "colorway": [
                      "#636efa",
                      "#EF553B",
                      "#00cc96",
                      "#ab63fa",
                      "#FFA15A",
                      "#19d3f3",
                      "#FF6692",
                      "#B6E880",
                      "#FF97FF",
                      "#FECB52"
                    ],
                    "font": {
                      "color": "#2a3f5f"
                    },
                    "geo": {
                      "bgcolor": "white",
                      "lakecolor": "white",
                      "landcolor": "#E5ECF6",
                      "showlakes": true,
                      "showland": true,
                      "subunitcolor": "white"
                    },
                    "hoverlabel": {
                      "align": "left"
                    },
                    "hovermode": "closest",
                    "mapbox": {
                      "style": "light"
                    },
                    "paper_bgcolor": "white",
                    "plot_bgcolor": "#E5ECF6",
                    "polar": {
                      "angularaxis": {
                        "gridcolor": "white",
                        "linecolor": "white",
                        "ticks": ""
                      },
                      "bgcolor": "#E5ECF6",
                      "radialaxis": {
                        "gridcolor": "white",
                        "linecolor": "white",
                        "ticks": ""
                      }
                    },
                    "scene": {
                      "xaxis": {
                        "backgroundcolor": "#E5ECF6",
                        "gridcolor": "white",
                        "gridwidth": 2,
                        "linecolor": "white",
                        "showbackground": true,
                        "ticks": "",
                        "zerolinecolor": "white"
                      },
                      "yaxis": {
                        "backgroundcolor": "#E5ECF6",
                        "gridcolor": "white",
                        "gridwidth": 2,
                        "linecolor": "white",
                        "showbackground": true,
                        "ticks": "",
                        "zerolinecolor": "white"
                      },
                      "zaxis": {
                        "backgroundcolor": "#E5ECF6",
                        "gridcolor": "white",
                        "gridwidth": 2,
                        "linecolor": "white",
                        "showbackground": true,
                        "ticks": "",
                        "zerolinecolor": "white"
                      }
                    },
                    "shapedefaults": {
                      "line": {
                        "color": "#2a3f5f"
                      }
                    },
                    "ternary": {
                      "aaxis": {
                        "gridcolor": "white",
                        "linecolor": "white",
                        "ticks": ""
                      },
                      "baxis": {
                        "gridcolor": "white",
                        "linecolor": "white",
                        "ticks": ""
                      },
                      "bgcolor": "#E5ECF6",
                      "caxis": {
                        "gridcolor": "white",
                        "linecolor": "white",
                        "ticks": ""
                      }
                    },
                    "title": {
                      "x": 0.05
                    },
                    "xaxis": {
                      "automargin": true,
                      "gridcolor": "white",
                      "linecolor": "white",
                      "ticks": "",
                      "title": {
                        "standoff": 15
                      },
                      "zerolinecolor": "white",
                      "zerolinewidth": 2
                    },
                    "yaxis": {
                      "automargin": true,
                      "gridcolor": "white",
                      "linecolor": "white",
                      "ticks": "",
                      "title": {
                        "standoff": 15
                      },
                      "zerolinecolor": "white",
                      "zerolinewidth": 2
                    }
                  }
                },
                "title": {
                  "text": "Who wins the most?"
                }
              }
            }
          },
          "metadata": {},
          "output_type": "display_data"
        }
      ],
      "source": [
        "fig_3 = px.pie(match_winner, values='winner_team', names='who', title='Who wins the most?')\n",
        "fig_3.show()\n"
      ]
    },
    {
      "cell_type": "code",
      "execution_count": 22,
      "metadata": {
        "colab": {
          "base_uri": "https://localhost:8080/",
          "height": 206
        },
        "id": "nU7JO0yh3Azt",
        "outputId": "b380803f-7ff2-47bd-fcf8-4c0aa3ba4a04"
      },
      "outputs": [
        {
          "data": {
            "text/html": [
              "<div>\n",
              "<style scoped>\n",
              "    .dataframe tbody tr th:only-of-type {\n",
              "        vertical-align: middle;\n",
              "    }\n",
              "\n",
              "    .dataframe tbody tr th {\n",
              "        vertical-align: top;\n",
              "    }\n",
              "\n",
              "    .dataframe thead th {\n",
              "        text-align: right;\n",
              "    }\n",
              "</style>\n",
              "<table border=\"1\" class=\"dataframe\">\n",
              "  <thead>\n",
              "    <tr style=\"text-align: right;\">\n",
              "      <th></th>\n",
              "      <th>winner_team_at_home</th>\n",
              "      <th>who</th>\n",
              "    </tr>\n",
              "  </thead>\n",
              "  <tbody>\n",
              "    <tr>\n",
              "      <th>Dortmund</th>\n",
              "      <td>9</td>\n",
              "      <td>Dortmund</td>\n",
              "    </tr>\n",
              "    <tr>\n",
              "      <th>RB Leipzig</th>\n",
              "      <td>9</td>\n",
              "      <td>RB Leipzig</td>\n",
              "    </tr>\n",
              "    <tr>\n",
              "      <th>Bayern Munich</th>\n",
              "      <td>8</td>\n",
              "      <td>Bayern Munich</td>\n",
              "    </tr>\n",
              "    <tr>\n",
              "      <th>Freiburg</th>\n",
              "      <td>8</td>\n",
              "      <td>Freiburg</td>\n",
              "    </tr>\n",
              "    <tr>\n",
              "      <th>M'gladbach</th>\n",
              "      <td>7</td>\n",
              "      <td>M'gladbach</td>\n",
              "    </tr>\n",
              "  </tbody>\n",
              "</table>\n",
              "</div>"
            ],
            "text/plain": [
              "               winner_team_at_home            who\n",
              "Dortmund                         9       Dortmund\n",
              "RB Leipzig                       9     RB Leipzig\n",
              "Bayern Munich                    8  Bayern Munich\n",
              "Freiburg                         8       Freiburg\n",
              "M'gladbach                       7     M'gladbach"
            ]
          },
          "execution_count": 22,
          "metadata": {},
          "output_type": "execute_result"
        }
      ],
      "source": [
        "match_winner_at_home = pd.DataFrame(df['winner_team_at_home'].value_counts())\n",
        "match_winner_at_home['who'] = list(match_winner_at_home.index)\n",
        "match_winner_at_home.head()"
      ]
    },
    {
      "cell_type": "markdown",
      "metadata": {
        "id": "0WhSMtYC3VGx"
      },
      "source": [
        "# Chart that shows who wins the most at home"
      ]
    },
    {
      "cell_type": "code",
      "execution_count": 23,
      "metadata": {
        "colab": {
          "base_uri": "https://localhost:8080/",
          "height": 542
        },
        "id": "kmBhi6CW3Azt",
        "outputId": "c4e2fd02-fe52-4210-c670-02877be706c9"
      },
      "outputs": [
        {
          "data": {
            "application/vnd.plotly.v1+json": {
              "config": {
                "plotlyServerURL": "https://plot.ly"
              },
              "data": [
                {
                  "alignmentgroup": "True",
                  "hovertemplate": "who=%{x}<br>winner_team_at_home=%{y}<extra></extra>",
                  "legendgroup": "",
                  "marker": {
                    "color": "#636efa",
                    "pattern": {
                      "shape": ""
                    }
                  },
                  "name": "",
                  "offsetgroup": "",
                  "orientation": "v",
                  "showlegend": false,
                  "textposition": "auto",
                  "type": "bar",
                  "x": [
                    "Dortmund",
                    "RB Leipzig",
                    "Bayern Munich",
                    "Freiburg",
                    "M'gladbach",
                    "Ein Frankfurt",
                    "Union Berlin",
                    "Leverkusen",
                    "FC Koln",
                    "Mainz",
                    "Augsburg",
                    "Werder Bremen",
                    "Bochum",
                    "Stuttgart",
                    "Hertha",
                    "Wolfsburg",
                    "Hoffenheim",
                    "Schalke 04"
                  ],
                  "xaxis": "x",
                  "y": [
                    9,
                    9,
                    8,
                    8,
                    7,
                    7,
                    7,
                    5,
                    5,
                    5,
                    5,
                    5,
                    5,
                    4,
                    4,
                    4,
                    3,
                    3
                  ],
                  "yaxis": "y"
                }
              ],
              "layout": {
                "barmode": "relative",
                "legend": {
                  "tracegroupgap": 0
                },
                "template": {
                  "data": {
                    "bar": [
                      {
                        "error_x": {
                          "color": "#2a3f5f"
                        },
                        "error_y": {
                          "color": "#2a3f5f"
                        },
                        "marker": {
                          "line": {
                            "color": "#E5ECF6",
                            "width": 0.5
                          },
                          "pattern": {
                            "fillmode": "overlay",
                            "size": 10,
                            "solidity": 0.2
                          }
                        },
                        "type": "bar"
                      }
                    ],
                    "barpolar": [
                      {
                        "marker": {
                          "line": {
                            "color": "#E5ECF6",
                            "width": 0.5
                          },
                          "pattern": {
                            "fillmode": "overlay",
                            "size": 10,
                            "solidity": 0.2
                          }
                        },
                        "type": "barpolar"
                      }
                    ],
                    "carpet": [
                      {
                        "aaxis": {
                          "endlinecolor": "#2a3f5f",
                          "gridcolor": "white",
                          "linecolor": "white",
                          "minorgridcolor": "white",
                          "startlinecolor": "#2a3f5f"
                        },
                        "baxis": {
                          "endlinecolor": "#2a3f5f",
                          "gridcolor": "white",
                          "linecolor": "white",
                          "minorgridcolor": "white",
                          "startlinecolor": "#2a3f5f"
                        },
                        "type": "carpet"
                      }
                    ],
                    "choropleth": [
                      {
                        "colorbar": {
                          "outlinewidth": 0,
                          "ticks": ""
                        },
                        "type": "choropleth"
                      }
                    ],
                    "contour": [
                      {
                        "colorbar": {
                          "outlinewidth": 0,
                          "ticks": ""
                        },
                        "colorscale": [
                          [
                            0,
                            "#0d0887"
                          ],
                          [
                            0.1111111111111111,
                            "#46039f"
                          ],
                          [
                            0.2222222222222222,
                            "#7201a8"
                          ],
                          [
                            0.3333333333333333,
                            "#9c179e"
                          ],
                          [
                            0.4444444444444444,
                            "#bd3786"
                          ],
                          [
                            0.5555555555555556,
                            "#d8576b"
                          ],
                          [
                            0.6666666666666666,
                            "#ed7953"
                          ],
                          [
                            0.7777777777777778,
                            "#fb9f3a"
                          ],
                          [
                            0.8888888888888888,
                            "#fdca26"
                          ],
                          [
                            1,
                            "#f0f921"
                          ]
                        ],
                        "type": "contour"
                      }
                    ],
                    "contourcarpet": [
                      {
                        "colorbar": {
                          "outlinewidth": 0,
                          "ticks": ""
                        },
                        "type": "contourcarpet"
                      }
                    ],
                    "heatmap": [
                      {
                        "colorbar": {
                          "outlinewidth": 0,
                          "ticks": ""
                        },
                        "colorscale": [
                          [
                            0,
                            "#0d0887"
                          ],
                          [
                            0.1111111111111111,
                            "#46039f"
                          ],
                          [
                            0.2222222222222222,
                            "#7201a8"
                          ],
                          [
                            0.3333333333333333,
                            "#9c179e"
                          ],
                          [
                            0.4444444444444444,
                            "#bd3786"
                          ],
                          [
                            0.5555555555555556,
                            "#d8576b"
                          ],
                          [
                            0.6666666666666666,
                            "#ed7953"
                          ],
                          [
                            0.7777777777777778,
                            "#fb9f3a"
                          ],
                          [
                            0.8888888888888888,
                            "#fdca26"
                          ],
                          [
                            1,
                            "#f0f921"
                          ]
                        ],
                        "type": "heatmap"
                      }
                    ],
                    "heatmapgl": [
                      {
                        "colorbar": {
                          "outlinewidth": 0,
                          "ticks": ""
                        },
                        "colorscale": [
                          [
                            0,
                            "#0d0887"
                          ],
                          [
                            0.1111111111111111,
                            "#46039f"
                          ],
                          [
                            0.2222222222222222,
                            "#7201a8"
                          ],
                          [
                            0.3333333333333333,
                            "#9c179e"
                          ],
                          [
                            0.4444444444444444,
                            "#bd3786"
                          ],
                          [
                            0.5555555555555556,
                            "#d8576b"
                          ],
                          [
                            0.6666666666666666,
                            "#ed7953"
                          ],
                          [
                            0.7777777777777778,
                            "#fb9f3a"
                          ],
                          [
                            0.8888888888888888,
                            "#fdca26"
                          ],
                          [
                            1,
                            "#f0f921"
                          ]
                        ],
                        "type": "heatmapgl"
                      }
                    ],
                    "histogram": [
                      {
                        "marker": {
                          "pattern": {
                            "fillmode": "overlay",
                            "size": 10,
                            "solidity": 0.2
                          }
                        },
                        "type": "histogram"
                      }
                    ],
                    "histogram2d": [
                      {
                        "colorbar": {
                          "outlinewidth": 0,
                          "ticks": ""
                        },
                        "colorscale": [
                          [
                            0,
                            "#0d0887"
                          ],
                          [
                            0.1111111111111111,
                            "#46039f"
                          ],
                          [
                            0.2222222222222222,
                            "#7201a8"
                          ],
                          [
                            0.3333333333333333,
                            "#9c179e"
                          ],
                          [
                            0.4444444444444444,
                            "#bd3786"
                          ],
                          [
                            0.5555555555555556,
                            "#d8576b"
                          ],
                          [
                            0.6666666666666666,
                            "#ed7953"
                          ],
                          [
                            0.7777777777777778,
                            "#fb9f3a"
                          ],
                          [
                            0.8888888888888888,
                            "#fdca26"
                          ],
                          [
                            1,
                            "#f0f921"
                          ]
                        ],
                        "type": "histogram2d"
                      }
                    ],
                    "histogram2dcontour": [
                      {
                        "colorbar": {
                          "outlinewidth": 0,
                          "ticks": ""
                        },
                        "colorscale": [
                          [
                            0,
                            "#0d0887"
                          ],
                          [
                            0.1111111111111111,
                            "#46039f"
                          ],
                          [
                            0.2222222222222222,
                            "#7201a8"
                          ],
                          [
                            0.3333333333333333,
                            "#9c179e"
                          ],
                          [
                            0.4444444444444444,
                            "#bd3786"
                          ],
                          [
                            0.5555555555555556,
                            "#d8576b"
                          ],
                          [
                            0.6666666666666666,
                            "#ed7953"
                          ],
                          [
                            0.7777777777777778,
                            "#fb9f3a"
                          ],
                          [
                            0.8888888888888888,
                            "#fdca26"
                          ],
                          [
                            1,
                            "#f0f921"
                          ]
                        ],
                        "type": "histogram2dcontour"
                      }
                    ],
                    "mesh3d": [
                      {
                        "colorbar": {
                          "outlinewidth": 0,
                          "ticks": ""
                        },
                        "type": "mesh3d"
                      }
                    ],
                    "parcoords": [
                      {
                        "line": {
                          "colorbar": {
                            "outlinewidth": 0,
                            "ticks": ""
                          }
                        },
                        "type": "parcoords"
                      }
                    ],
                    "pie": [
                      {
                        "automargin": true,
                        "type": "pie"
                      }
                    ],
                    "scatter": [
                      {
                        "fillpattern": {
                          "fillmode": "overlay",
                          "size": 10,
                          "solidity": 0.2
                        },
                        "type": "scatter"
                      }
                    ],
                    "scatter3d": [
                      {
                        "line": {
                          "colorbar": {
                            "outlinewidth": 0,
                            "ticks": ""
                          }
                        },
                        "marker": {
                          "colorbar": {
                            "outlinewidth": 0,
                            "ticks": ""
                          }
                        },
                        "type": "scatter3d"
                      }
                    ],
                    "scattercarpet": [
                      {
                        "marker": {
                          "colorbar": {
                            "outlinewidth": 0,
                            "ticks": ""
                          }
                        },
                        "type": "scattercarpet"
                      }
                    ],
                    "scattergeo": [
                      {
                        "marker": {
                          "colorbar": {
                            "outlinewidth": 0,
                            "ticks": ""
                          }
                        },
                        "type": "scattergeo"
                      }
                    ],
                    "scattergl": [
                      {
                        "marker": {
                          "colorbar": {
                            "outlinewidth": 0,
                            "ticks": ""
                          }
                        },
                        "type": "scattergl"
                      }
                    ],
                    "scattermapbox": [
                      {
                        "marker": {
                          "colorbar": {
                            "outlinewidth": 0,
                            "ticks": ""
                          }
                        },
                        "type": "scattermapbox"
                      }
                    ],
                    "scatterpolar": [
                      {
                        "marker": {
                          "colorbar": {
                            "outlinewidth": 0,
                            "ticks": ""
                          }
                        },
                        "type": "scatterpolar"
                      }
                    ],
                    "scatterpolargl": [
                      {
                        "marker": {
                          "colorbar": {
                            "outlinewidth": 0,
                            "ticks": ""
                          }
                        },
                        "type": "scatterpolargl"
                      }
                    ],
                    "scatterternary": [
                      {
                        "marker": {
                          "colorbar": {
                            "outlinewidth": 0,
                            "ticks": ""
                          }
                        },
                        "type": "scatterternary"
                      }
                    ],
                    "surface": [
                      {
                        "colorbar": {
                          "outlinewidth": 0,
                          "ticks": ""
                        },
                        "colorscale": [
                          [
                            0,
                            "#0d0887"
                          ],
                          [
                            0.1111111111111111,
                            "#46039f"
                          ],
                          [
                            0.2222222222222222,
                            "#7201a8"
                          ],
                          [
                            0.3333333333333333,
                            "#9c179e"
                          ],
                          [
                            0.4444444444444444,
                            "#bd3786"
                          ],
                          [
                            0.5555555555555556,
                            "#d8576b"
                          ],
                          [
                            0.6666666666666666,
                            "#ed7953"
                          ],
                          [
                            0.7777777777777778,
                            "#fb9f3a"
                          ],
                          [
                            0.8888888888888888,
                            "#fdca26"
                          ],
                          [
                            1,
                            "#f0f921"
                          ]
                        ],
                        "type": "surface"
                      }
                    ],
                    "table": [
                      {
                        "cells": {
                          "fill": {
                            "color": "#EBF0F8"
                          },
                          "line": {
                            "color": "white"
                          }
                        },
                        "header": {
                          "fill": {
                            "color": "#C8D4E3"
                          },
                          "line": {
                            "color": "white"
                          }
                        },
                        "type": "table"
                      }
                    ]
                  },
                  "layout": {
                    "annotationdefaults": {
                      "arrowcolor": "#2a3f5f",
                      "arrowhead": 0,
                      "arrowwidth": 1
                    },
                    "autotypenumbers": "strict",
                    "coloraxis": {
                      "colorbar": {
                        "outlinewidth": 0,
                        "ticks": ""
                      }
                    },
                    "colorscale": {
                      "diverging": [
                        [
                          0,
                          "#8e0152"
                        ],
                        [
                          0.1,
                          "#c51b7d"
                        ],
                        [
                          0.2,
                          "#de77ae"
                        ],
                        [
                          0.3,
                          "#f1b6da"
                        ],
                        [
                          0.4,
                          "#fde0ef"
                        ],
                        [
                          0.5,
                          "#f7f7f7"
                        ],
                        [
                          0.6,
                          "#e6f5d0"
                        ],
                        [
                          0.7,
                          "#b8e186"
                        ],
                        [
                          0.8,
                          "#7fbc41"
                        ],
                        [
                          0.9,
                          "#4d9221"
                        ],
                        [
                          1,
                          "#276419"
                        ]
                      ],
                      "sequential": [
                        [
                          0,
                          "#0d0887"
                        ],
                        [
                          0.1111111111111111,
                          "#46039f"
                        ],
                        [
                          0.2222222222222222,
                          "#7201a8"
                        ],
                        [
                          0.3333333333333333,
                          "#9c179e"
                        ],
                        [
                          0.4444444444444444,
                          "#bd3786"
                        ],
                        [
                          0.5555555555555556,
                          "#d8576b"
                        ],
                        [
                          0.6666666666666666,
                          "#ed7953"
                        ],
                        [
                          0.7777777777777778,
                          "#fb9f3a"
                        ],
                        [
                          0.8888888888888888,
                          "#fdca26"
                        ],
                        [
                          1,
                          "#f0f921"
                        ]
                      ],
                      "sequentialminus": [
                        [
                          0,
                          "#0d0887"
                        ],
                        [
                          0.1111111111111111,
                          "#46039f"
                        ],
                        [
                          0.2222222222222222,
                          "#7201a8"
                        ],
                        [
                          0.3333333333333333,
                          "#9c179e"
                        ],
                        [
                          0.4444444444444444,
                          "#bd3786"
                        ],
                        [
                          0.5555555555555556,
                          "#d8576b"
                        ],
                        [
                          0.6666666666666666,
                          "#ed7953"
                        ],
                        [
                          0.7777777777777778,
                          "#fb9f3a"
                        ],
                        [
                          0.8888888888888888,
                          "#fdca26"
                        ],
                        [
                          1,
                          "#f0f921"
                        ]
                      ]
                    },
                    "colorway": [
                      "#636efa",
                      "#EF553B",
                      "#00cc96",
                      "#ab63fa",
                      "#FFA15A",
                      "#19d3f3",
                      "#FF6692",
                      "#B6E880",
                      "#FF97FF",
                      "#FECB52"
                    ],
                    "font": {
                      "color": "#2a3f5f"
                    },
                    "geo": {
                      "bgcolor": "white",
                      "lakecolor": "white",
                      "landcolor": "#E5ECF6",
                      "showlakes": true,
                      "showland": true,
                      "subunitcolor": "white"
                    },
                    "hoverlabel": {
                      "align": "left"
                    },
                    "hovermode": "closest",
                    "mapbox": {
                      "style": "light"
                    },
                    "paper_bgcolor": "white",
                    "plot_bgcolor": "#E5ECF6",
                    "polar": {
                      "angularaxis": {
                        "gridcolor": "white",
                        "linecolor": "white",
                        "ticks": ""
                      },
                      "bgcolor": "#E5ECF6",
                      "radialaxis": {
                        "gridcolor": "white",
                        "linecolor": "white",
                        "ticks": ""
                      }
                    },
                    "scene": {
                      "xaxis": {
                        "backgroundcolor": "#E5ECF6",
                        "gridcolor": "white",
                        "gridwidth": 2,
                        "linecolor": "white",
                        "showbackground": true,
                        "ticks": "",
                        "zerolinecolor": "white"
                      },
                      "yaxis": {
                        "backgroundcolor": "#E5ECF6",
                        "gridcolor": "white",
                        "gridwidth": 2,
                        "linecolor": "white",
                        "showbackground": true,
                        "ticks": "",
                        "zerolinecolor": "white"
                      },
                      "zaxis": {
                        "backgroundcolor": "#E5ECF6",
                        "gridcolor": "white",
                        "gridwidth": 2,
                        "linecolor": "white",
                        "showbackground": true,
                        "ticks": "",
                        "zerolinecolor": "white"
                      }
                    },
                    "shapedefaults": {
                      "line": {
                        "color": "#2a3f5f"
                      }
                    },
                    "ternary": {
                      "aaxis": {
                        "gridcolor": "white",
                        "linecolor": "white",
                        "ticks": ""
                      },
                      "baxis": {
                        "gridcolor": "white",
                        "linecolor": "white",
                        "ticks": ""
                      },
                      "bgcolor": "#E5ECF6",
                      "caxis": {
                        "gridcolor": "white",
                        "linecolor": "white",
                        "ticks": ""
                      }
                    },
                    "title": {
                      "x": 0.05
                    },
                    "xaxis": {
                      "automargin": true,
                      "gridcolor": "white",
                      "linecolor": "white",
                      "ticks": "",
                      "title": {
                        "standoff": 15
                      },
                      "zerolinecolor": "white",
                      "zerolinewidth": 2
                    },
                    "yaxis": {
                      "automargin": true,
                      "gridcolor": "white",
                      "linecolor": "white",
                      "ticks": "",
                      "title": {
                        "standoff": 15
                      },
                      "zerolinecolor": "white",
                      "zerolinewidth": 2
                    }
                  }
                },
                "title": {
                  "text": "Who wins the most at home?"
                },
                "xaxis": {
                  "anchor": "y",
                  "domain": [
                    0,
                    1
                  ],
                  "title": {
                    "text": "who"
                  }
                },
                "yaxis": {
                  "anchor": "x",
                  "domain": [
                    0,
                    1
                  ],
                  "title": {
                    "text": "winner_team_at_home"
                  }
                }
              }
            }
          },
          "metadata": {},
          "output_type": "display_data"
        }
      ],
      "source": [
        "fig_4 = px.bar(match_winner_at_home, x='who', y='winner_team_at_home', title='Who wins the most at home?')\n",
        "fig_4.show()\n"
      ]
    },
    {
      "cell_type": "code",
      "execution_count": 24,
      "metadata": {
        "id": "XbHX0fUM4Zym"
      },
      "outputs": [],
      "source": [
        "import dash\n",
        "from dash import Dash, html, dcc\n",
        "from IPython import display"
      ]
    },
    {
      "cell_type": "code",
      "execution_count": 25,
      "metadata": {
        "id": "snBPL8kOUin6"
      },
      "outputs": [],
      "source": [
        "def show_app(app,  # type: dash.Dash\n",
        "             port=9999,\n",
        "             width=700,\n",
        "             height=350,\n",
        "             offline=True,\n",
        "             style=True,\n",
        "             **dash_flask_kwargs):\n",
        "    \"\"\"\n",
        "    Run the application inside a Jupyter notebook and show an iframe with it\n",
        "    :param app:\n",
        "    :param port:\n",
        "    :param width:\n",
        "    :param height:\n",
        "    :param offline:\n",
        "    :return:\n",
        "    \"\"\"\n",
        "    url = 'http://localhost:%d' % port\n",
        "    iframe = '<iframe src=\"{url}\" width={width} height={height}></iframe>'.format(url=url,\n",
        "                                                                                  width=width,\n",
        "                                                                                  height=height)\n",
        "    display.display_html(iframe, raw=True)\n",
        "    if offline:\n",
        "        app.css.config.serve_locally = True\n",
        "        app.scripts.config.serve_locally = True\n",
        "\n",
        "    return app.run_server(debug=False,  # needs to be false in Jupyter\n",
        "                          port=port,\n",
        "                          **dash_flask_kwargs)"
      ]
    },
    {
      "cell_type": "code",
      "execution_count": 26,
      "metadata": {
        "id": "7PewYmsNUmGw"
      },
      "outputs": [],
      "source": [
        "# external JavaScript files\n",
        "external_scripts = [\n",
        "    'https://www.google-analytics.com/analytics.js',\n",
        "    {'src': 'https://cdn.polyfill.io/v2/polyfill.min.js'},\n",
        "    {\n",
        "        'src': 'https://cdnjs.cloudflare.com/ajax/libs/lodash.js/4.17.10/lodash.core.js',\n",
        "        'integrity': 'sha256-Qqd/EfdABZUcAxjOkMi8eGEivtdTkh3b65xCZL4qAQA=',\n",
        "        'crossorigin': 'anonymous'\n",
        "    }\n",
        "]\n",
        "\n",
        "# external CSS stylesheets\n",
        "external_stylesheets = [\n",
        "    'https://codepen.io/chriddyp/pen/bWLwgP.css',\n",
        "    {\n",
        "        'href': 'https://stackpath.bootstrapcdn.com/bootstrap/4.1.3/css/bootstrap.min.css',\n",
        "        'rel': 'stylesheet',\n",
        "        'integrity': 'sha384-MCw98/SFnGE8fJT3GXwEOngsV7Zt27NXFoaoApmYm81iuXoPkFOJwJ8ERdknLPMO',\n",
        "        'crossorigin': 'anonymous'\n",
        "    }\n",
        "]"
      ]
    },
    {
      "cell_type": "code",
      "execution_count": 69,
      "metadata": {
        "id": "ps7V3D0aUn-o"
      },
      "outputs": [],
      "source": [
        "graficos = [\n",
        "    {\"label\": \"Who won the most\", \"value\": 1},\n",
        "    {\"label\": \"Which team has the most odds of winning through time\", \"value\": 2},\n",
        "    {\"label\": \"Chart that shows who one the most or if the result was a tie\", \"value\": 3},\n",
        "    {\"label\": \"Who wins the most at home\", \"value\": 4}]\n",
        "\n",
        "\n",
        "times = []\n",
        "for team in all_teams_list:\n",
        "    times.append({\"label\": team})\n",
        "\n",
        "\n",
        "app = Dash(__name__,external_scripts=external_scripts,external_stylesheets=external_stylesheets)\n",
        "\n",
        "app.layout = html.Div([\n",
        "    html.H2(children='Análise de Futebol', style={\"margin-botton\": \"20px\", \"font-weight\": \"bold\", \"text-align\": \"center\"}),\n",
        "    html.Div([\n",
        "        html.Div([\n",
        "            html.P(children='Escolha um gráfico'),\n",
        "            dcc.Dropdown(\n",
        "                id='lista-graficos',\n",
        "                options=[{'label': i[\"label\"], 'value': i[\"value\"]} for i in graficos],\n",
        "                value=1\n",
        "            )\n",
        "        ],\n",
        "        style={'width': '30%', 'display': 'inline-block'}),\n",
        "        html.Div([\n",
        "            html.P(children='Escolha um time'),\n",
        "            dcc.Dropdown(\n",
        "                id='lista-times',\n",
        "                options=[{'label': i[\"label\"], 'value': i[\"label\"]} for i in times],\n",
        "                value=1\n",
        "            )\n",
        "        ],\n",
        "        style={'width': '30%', 'display': 'inline-block', 'margin-left': '10px'}),\n",
        "    ]),\n",
        "    html.Div([\n",
        "        dcc.Graph(id='grafico'),\n",
        "    ], style={'margin-top': '10px'}),\n",
        "], style={'padding': '0 20px 0 20px'})\n",
        "\n",
        "# Callbacks\n",
        "@app.callback(\n",
        "    dash.dependencies.Output('grafico', 'figure'),\n",
        "    [dash.dependencies.Input('lista-graficos', 'value'),\n",
        "    dash.dependencies.Input('lista-times', 'value')])\n",
        "def update_graph(tipo_grafico, tipo_time):\n",
        "    if tipo_grafico == 1:\n",
        "        return who_won_most_by_team(tipo_time)\n",
        "    elif tipo_grafico == 2:\n",
        "        return fig_2\n",
        "    elif tipo_grafico == 3:\n",
        "        return fig_3\n",
        "    elif tipo_grafico == 4:\n",
        "        return fig_4"
      ]
    },
    {
      "cell_type": "code",
      "execution_count": 70,
      "metadata": {
        "colab": {
          "base_uri": "https://localhost:8080/",
          "height": 531
        },
        "id": "4zXHOud0VZA5",
        "outputId": "1b8955d4-912b-4837-f65d-205792c4fd1d"
      },
      "outputs": [
        {
          "data": {
            "text/html": [
              "<iframe src=\"http://localhost:9999\" width=700 height=350></iframe>"
            ]
          },
          "metadata": {},
          "output_type": "display_data"
        },
        {
          "name": "stdout",
          "output_type": "stream",
          "text": [
            "Dash is running on http://127.0.0.1:9999/\n",
            "\n",
            "Dash is running on http://127.0.0.1:9999/\n",
            "\n",
            "Dash is running on http://127.0.0.1:9999/\n",
            "\n",
            "Dash is running on http://127.0.0.1:9999/\n",
            "\n",
            "Dash is running on http://127.0.0.1:9999/\n",
            "\n",
            "Dash is running on http://127.0.0.1:9999/\n",
            "\n",
            "Dash is running on http://127.0.0.1:9999/\n",
            "\n",
            "Dash is running on http://127.0.0.1:9999/\n",
            "\n",
            "Dash is running on http://127.0.0.1:9999/\n",
            "\n",
            "Dash is running on http://127.0.0.1:9999/\n",
            "\n",
            "Dash is running on http://127.0.0.1:9999/\n",
            "\n",
            "Dash is running on http://127.0.0.1:9999/\n",
            "\n",
            "Dash is running on http://127.0.0.1:9999/\n",
            "\n",
            "Dash is running on http://127.0.0.1:9999/\n",
            "\n",
            "Dash is running on http://127.0.0.1:9999/\n",
            "\n",
            "Dash is running on http://127.0.0.1:9999/\n",
            "\n",
            "Dash is running on http://127.0.0.1:9999/\n",
            "\n",
            " * Serving Flask app '__main__'\n",
            " * Debug mode: off\n"
          ]
        },
        {
          "name": "stderr",
          "output_type": "stream",
          "text": [
            "WARNING: This is a development server. Do not use it in a production deployment. Use a production WSGI server instead.\n",
            " * Running on http://127.0.0.1:9999\n",
            "Press CTRL+C to quit\n",
            "127.0.0.1 - - [12/Mar/2023 19:54:42] \"GET / HTTP/1.1\" 200 -\n",
            "127.0.0.1 - - [12/Mar/2023 19:54:42] \"GET /_dash-dependencies HTTP/1.1\" 200 -\n",
            "127.0.0.1 - - [12/Mar/2023 19:54:42] \"GET /_dash-layout HTTP/1.1\" 200 -\n",
            "127.0.0.1 - - [12/Mar/2023 19:54:43] \"POST /_dash-update-component HTTP/1.1\" 200 -\n",
            "127.0.0.1 - - [12/Mar/2023 19:54:43] \"GET /_dash-component-suites/dash/dcc/async-graph.js HTTP/1.1\" 304 -\n",
            "127.0.0.1 - - [12/Mar/2023 19:54:43] \"GET /_dash-component-suites/dash/dcc/async-dropdown.js HTTP/1.1\" 304 -\n",
            "127.0.0.1 - - [12/Mar/2023 19:54:43] \"GET /_dash-component-suites/dash/dcc/async-plotlyjs.js HTTP/1.1\" 304 -\n",
            "127.0.0.1 - - [12/Mar/2023 19:54:47] \"GET / HTTP/1.1\" 200 -\n",
            "127.0.0.1 - - [12/Mar/2023 19:54:47] \"GET /_dash-layout HTTP/1.1\" 200 -\n",
            "127.0.0.1 - - [12/Mar/2023 19:54:47] \"GET /_dash-dependencies HTTP/1.1\" 200 -\n",
            "127.0.0.1 - - [12/Mar/2023 19:54:47] \"GET /_favicon.ico?v=2.8.1 HTTP/1.1\" 200 -\n",
            "127.0.0.1 - - [12/Mar/2023 19:54:47] \"GET /_dash-component-suites/dash/dcc/async-dropdown.js HTTP/1.1\" 304 -\n",
            "127.0.0.1 - - [12/Mar/2023 19:54:47] \"GET /_dash-component-suites/dash/dcc/async-graph.js HTTP/1.1\" 304 -\n",
            "127.0.0.1 - - [12/Mar/2023 19:54:47] \"POST /_dash-update-component HTTP/1.1\" 200 -\n",
            "127.0.0.1 - - [12/Mar/2023 19:54:47] \"GET /_dash-component-suites/dash/dcc/async-plotlyjs.js HTTP/1.1\" 304 -\n",
            "127.0.0.1 - - [12/Mar/2023 19:54:50] \"POST /_dash-update-component HTTP/1.1\" 200 -\n",
            "127.0.0.1 - - [12/Mar/2023 19:54:52] \"POST /_dash-update-component HTTP/1.1\" 200 -\n",
            "127.0.0.1 - - [12/Mar/2023 19:54:54] \"POST /_dash-update-component HTTP/1.1\" 200 -\n"
          ]
        }
      ],
      "source": [
        "show_app(app)"
      ]
    }
  ],
  "metadata": {
    "colab": {
      "provenance": []
    },
    "kernelspec": {
      "display_name": "Python 3.10.8 64-bit (microsoft store)",
      "language": "python",
      "name": "python3"
    },
    "language_info": {
      "codemirror_mode": {
        "name": "ipython",
        "version": 3
      },
      "file_extension": ".py",
      "mimetype": "text/x-python",
      "name": "python",
      "nbconvert_exporter": "python",
      "pygments_lexer": "ipython3",
      "version": "3.10.10"
    },
    "vscode": {
      "interpreter": {
        "hash": "67f66a32358a10b4d4a897df49fcdb6f7fe571f30a7dbeaaed747b6a94c4e8c9"
      }
    }
  },
  "nbformat": 4,
  "nbformat_minor": 0
}
