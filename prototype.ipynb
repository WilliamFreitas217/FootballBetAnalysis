{
 "cells": [
  {
   "cell_type": "code",
   "execution_count": 194,
   "metadata": {
    "colab": {
     "base_uri": "https://localhost:8080/"
    },
    "id": "9__2v-a83Azc",
    "outputId": "13675b12-849e-415b-f774-a57418003ff9",
    "pycharm": {
     "name": "#%%\n"
    }
   },
   "outputs": [],
   "source": [
    "# !pip install plotly\n",
    "# !pip install tqdm\n",
    "# !pip install pandas\n",
    "# !pip install pybettor\n",
    "# !pip install dash\n",
    "# !pip install nbformat\n",
    "# !pip install jupyter-dash"
   ]
  },
  {
   "cell_type": "code",
   "execution_count": 195,
   "metadata": {
    "id": "Fuz_T8PielQv",
    "pycharm": {
     "name": "#%%\n"
    }
   },
   "outputs": [],
   "source": [
    "import numpy as np\n",
    "import pandas as pd"
   ]
  },
  {
   "cell_type": "code",
   "execution_count": 196,
   "metadata": {
    "id": "79DJMsZWfQJh",
    "pycharm": {
     "name": "#%%\n"
    }
   },
   "outputs": [],
   "source": [
    "df = pd.read_csv(\"https://www.football-data.co.uk/mmz4281/2223/D1.csv\")"
   ]
  },
  {
   "cell_type": "markdown",
   "metadata": {
    "id": "tUS78s1Mcccs",
    "pycharm": {
     "name": "#%% md\n"
    }
   },
   "source": [
    "* Descrição dos dados: https://www.football-data.co.uk/notes.txt"
   ]
  },
  {
   "cell_type": "code",
   "execution_count": 197,
   "metadata": {
    "colab": {
     "base_uri": "https://localhost:8080/",
     "height": 423
    },
    "id": "aJD4IEs6g6Zr",
    "outputId": "ee96911e-9de3-4842-ad2e-8749febfa1c3",
    "pycharm": {
     "name": "#%%\n"
    }
   },
   "outputs": [
    {
     "data": {
      "text/plain": "    Div        Date   Time       HomeTeam       AwayTeam  FTHG  FTAG FTR  \\\n0    D1  05/08/2022  19:30  Ein Frankfurt  Bayern Munich     1     6   A   \n1    D1  06/08/2022  14:30       Augsburg       Freiburg     0     4   A   \n2    D1  06/08/2022  14:30         Bochum          Mainz     1     2   A   \n3    D1  06/08/2022  14:30     M'gladbach     Hoffenheim     3     1   H   \n4    D1  06/08/2022  14:30   Union Berlin         Hertha     3     1   H   \n..   ..         ...    ...            ...            ...   ...   ...  ..   \n211  D1  11/03/2023  14:30     RB Leipzig     M'gladbach     3     0   H   \n212  D1  11/03/2023  17:30     Schalke 04       Dortmund     2     2   D   \n213  D1  12/03/2023  14:30       Freiburg     Hoffenheim     2     1   H   \n214  D1  12/03/2023  16:30  Werder Bremen     Leverkusen     2     3   A   \n215  D1  12/03/2023  18:30      Wolfsburg   Union Berlin     1     1   D   \n\n     HTHG  HTAG HTR  HS  AS  HST  AST  HF  AF  HC  AC  HY  AY  HR  AR  B365H  \\\n0       0     5   A   8  23    2   10  10  11   5   6   2   0   0   0   6.00   \n1       0     0   D  10  19    2    7  13  13   5   8   0   0   0   0   3.30   \n2       1     1   D  16  13    3    6  11  16   3   5   2   3   0   0   3.20   \n3       1     1   D  18   2    8    1  18  12   4   2   1   4   0   1   2.05   \n4       1     0   H  18   9    8    3  23  17   5   4   2   3   0   0   1.72   \n..    ...   ...  ..  ..  ..  ...  ...  ..  ..  ..  ..  ..  ..  ..  ..    ...   \n211     0     0   D  14   7    9    3   9   9  11   0   1   0   0   0   1.40   \n212     0     1   A  10  20    5    8  16   8   3   6   1   1   0   0   4.50   \n213     1     0   H   9  12    3    1  11  25   2   2   2   5   0   1   1.91   \n214     1     1   D  12  13    6    5  12  12   2   3   2   1   0   0   3.30   \n215     0     0   D  15  11    6    2  11  14   3   5   1   4   0   0   2.25   \n\n     B365D  B365A   BWH   BWD   BWA   IWH   IWD   IWA   PSH   PSD   PSA   WHH  \\\n0     5.00   1.50  5.75  4.80  1.44  4.90  4.50  1.60  5.84  5.13  1.52  5.80   \n1     3.50   2.15  3.30  3.40  2.15  3.20  3.40  2.25  3.53  3.59  2.17  3.30   \n2     3.40   2.20  3.10  3.40  2.25  3.15  3.40  2.25  3.34  3.43  2.32  3.25   \n3     4.20   3.00  2.15  3.90  3.00  2.20  3.75  3.05  2.15  4.22  3.12  2.10   \n4     3.75   4.50  1.78  3.60  4.60  1.80  3.75  4.40  1.79  3.78  4.97  1.75   \n..     ...    ...   ...   ...   ...   ...   ...   ...   ...   ...   ...   ...   \n211   5.00   7.00  1.43  4.80  6.75  1.43  4.90  6.50  1.43  5.16  7.18  1.40   \n212   4.00   1.73  4.60  4.00  1.70  4.50  4.00  1.73  4.56  4.21  1.74  4.40   \n213   3.60   4.00  1.93  3.60  3.75  1.95  3.60  3.85  1.93  3.71  4.10  1.95   \n214   3.75   2.10  3.25  3.75  2.05  3.25  3.60  2.15  3.32  3.82  2.15  3.25   \n215   3.25   3.30  2.30  3.20  3.20  2.30  3.25  3.25  2.28  3.22  3.59  2.20   \n\n      WHD   WHA   VCH   VCD   VCA  MaxH  MaxD  MaxA  AvgH  AvgD  AvgA  \\\n0    4.60  1.50  6.00  5.00  1.45  6.15  5.25  1.60  5.82  4.96  1.49   \n1    3.40  2.15  3.40  3.50  2.10  3.57  3.62  2.25  3.39  3.51  2.15   \n2    3.30  2.25  3.13  3.50  2.20  3.38  3.50  2.32  3.23  3.42  2.26   \n3    3.80  3.10  2.10  4.10  2.90  2.23  4.22  3.26  2.14  4.04  3.05   \n4    3.60  4.75  1.73  3.75  4.60  1.82  3.90  5.00  1.77  3.73  4.70   \n..    ...   ...   ...   ...   ...   ...   ...   ...   ...   ...   ...   \n211  4.75  7.50  1.36  4.75  6.50  1.46  5.40  7.80  1.42  5.03  6.95   \n212  3.90  1.73  4.20  3.90  1.67  4.83  4.40  1.76  4.53  4.09  1.73   \n213  3.60  3.75  1.85  3.60  3.60  2.00  3.80  4.10  1.94  3.66  3.90   \n214  3.60  2.10  3.00  3.70  2.05  3.34  3.94  2.18  3.25  3.76  2.12   \n215  3.20  3.40  2.15  3.13  3.20  2.33  3.35  3.64  2.26  3.23  3.41   \n\n     B365>2.5  B365<2.5  P>2.5  P<2.5  Max>2.5  Max<2.5  Avg>2.5  Avg<2.5  \\\n0        1.40      3.00   1.42   3.02     1.44     3.20     1.39     2.94   \n1        1.92      1.98   1.92   1.99     1.94     2.00     1.88     1.93   \n2        1.96      1.94   1.96   1.94     2.02     1.97     1.93     1.89   \n3        1.36      3.20   1.39   3.20     1.44     3.27     1.37     3.09   \n4        2.06      1.84   2.06   1.86     2.06     1.90     2.00     1.83   \n..        ...       ...    ...    ...      ...      ...      ...      ...   \n211      1.50      2.63   1.54   2.61     1.55     2.63     1.51     2.56   \n212      1.67      2.20   1.70   2.24     1.70     2.29     1.66     2.23   \n213      1.80      2.00   1.85   2.04     1.87     2.12     1.80     2.02   \n214      1.62      2.30   1.68   2.28     1.68     2.33     1.63     2.28   \n215      2.30      1.62   2.32   1.66     2.35     1.68     2.28     1.63   \n\n      AHh  B365AHH  B365AHA  PAHH  PAHA  MaxAHH  MaxAHA  AvgAHH  AvgAHA  \\\n0    1.25     1.91     2.02  1.88  2.04    1.91    2.06    1.87    2.00   \n1    0.25     2.06     1.87  2.05  1.88    2.06    1.88    2.01    1.85   \n2    0.25     1.95     1.98  1.93  1.99    1.96    1.99    1.91    1.94   \n3   -0.25     1.91     2.02  1.90  2.03    1.94    2.03    1.89    1.99   \n4   -0.75     2.01     1.92  2.03  1.90    2.07    1.93    1.99    1.88   \n..    ...      ...      ...   ...   ...     ...     ...     ...     ...   \n211 -1.25     1.92     2.01  1.93  1.98    1.94    2.03    1.90    1.96   \n212  0.75     1.97     1.96  1.97  1.93    1.98    1.97    1.94    1.92   \n213 -0.50     1.95     1.98  1.93  1.97    1.98    1.98    1.94    1.93   \n214  0.25     2.06     1.87  2.03  1.88    2.06    1.88    2.01    1.85   \n215 -0.25     1.94     1.99  1.93  1.97    1.98    2.00    1.91    1.94   \n\n     B365CH  B365CD  B365CA  BWCH  BWCD  BWCA  IWCH  IWCD  IWCA  PSCH  PSCD  \\\n0      6.00    5.00    1.44  6.00  5.00  1.42  5.00  4.70  1.57  6.24  5.30   \n1      3.40    3.60    2.10  3.40  3.50  2.10  3.30  3.40  2.20  3.51  3.54   \n2      3.40    3.40    2.15  3.25  3.40  2.20  3.30  3.30  2.25  3.37  3.43   \n3      2.00    4.00    3.20  2.10  3.80  3.10  2.10  3.70  3.35  2.08  4.08   \n4      1.85    3.60    4.20  1.87  3.50  4.20  1.90  3.65  4.20  1.91  3.68   \n..      ...     ...     ...   ...   ...   ...   ...   ...   ...   ...   ...   \n211    1.36    5.50    7.50  1.38  5.25  7.25  1.45  4.80  6.75  1.39  5.55   \n212    4.20    3.75    1.80  4.20  3.75  1.80  4.10  3.75  1.85  4.43  3.91   \n213    1.83    3.60    4.33  1.85  3.60  4.20  1.83  3.70  4.20  1.88  3.79   \n214    3.60    3.40    2.05  3.50  3.50  2.05  3.40  3.50  2.10  3.67  3.66   \n215    2.70    3.10    2.80  2.65  3.00  2.87  2.60  3.05  2.95  2.79  3.05   \n\n     PSCA  WHCH  WHCD  WHCA  VCCH  VCCD  VCCA  MaxCH  MaxCD  MaxCA  AvgCH  \\\n0    1.48  6.50  4.75  1.44  6.00   5.0  1.45   6.54   5.40   1.57   5.97   \n1    2.20  3.50  3.40  2.10  3.40   3.5  2.15   3.68   3.66   2.20   3.46   \n2    2.30  3.40  3.30  2.15  3.20   3.5  2.20   3.48   3.55   2.30   3.31   \n3    3.38  2.00  3.80  3.40  2.05   4.0  3.20   2.21   4.12   3.51   2.05   \n4    4.37  1.88  3.40  4.20  1.87   3.7  4.10   1.93   3.86   4.87   1.87   \n..    ...   ...   ...   ...   ...   ...   ...    ...    ...    ...    ...   \n211  7.98  1.38  5.25  7.00  1.33   5.0  7.00   1.45   5.60   8.40   1.38   \n212  1.84  4.40  3.60  1.80  3.90   3.7  1.75   4.70   3.91   1.95   4.26   \n213  4.43  1.83  3.60  4.20  1.80   3.6  3.80   1.90   3.86   4.71   1.85   \n214  2.10  3.40  3.50  2.10  3.25   3.6  1.95   3.69   3.80   2.11   3.53   \n215  2.99  2.70  3.00  2.80  2.55   3.0  2.75   2.92   3.16   3.02   2.70   \n\n     AvgCD  AvgCA  B365C>2.5  B365C<2.5  PC>2.5  PC<2.5  MaxC>2.5  MaxC<2.5  \\\n0     5.08   1.47       1.40       3.00    1.39    3.16      1.42      3.19   \n1     3.51   2.14       1.91       1.99    1.92    1.98      1.93      2.03   \n2     3.43   2.23       1.90       2.00    1.90    2.01      1.94      2.05   \n3     3.97   3.31       1.44       2.75    1.47    2.83      1.47      2.93   \n4     3.62   4.30       1.94       1.96    1.93    1.97      2.00      2.03   \n..     ...    ...        ...        ...     ...     ...       ...       ...   \n211   5.30   7.51       1.44       2.75    1.50    2.72      1.50      2.85   \n212   3.76   1.83       1.85       2.08    1.83    2.08      1.86      2.13   \n213   3.70   4.26       1.90       2.03    1.88    2.02      1.91      2.08   \n214   3.59   2.07       1.89       2.04    1.88    2.04      1.89      2.24   \n215   3.04   2.89       2.50       1.53    2.61    1.55      2.61      1.57   \n\n     AvgC>2.5  AvgC<2.5  AHCh  B365CAHH  B365CAHA  PCAHH  PCAHA  MaxCAHH  \\\n0        1.39      3.03  1.25      2.00      1.93   2.00   1.93     2.01   \n1        1.87      1.95  0.25      2.04      1.89   2.04   1.88     2.08   \n2        1.86      1.97  0.25      1.95      1.98   1.95   1.97     1.99   \n3        1.44      2.81 -0.50      2.06      1.87   2.08   1.85     2.10   \n4        1.90      1.92 -0.50      1.90      2.03   1.91   2.01     1.93   \n..        ...       ...   ...       ...       ...    ...    ...      ...   \n211      1.46      2.68 -1.50      2.01      1.92   2.02   1.91     2.15   \n212      1.80      2.02  0.50      2.07      1.86   2.09   1.83     2.12   \n213      1.84      1.99 -0.50      1.86      2.07   1.88   2.06     1.89   \n214      1.77      2.08  0.50      1.84      2.09   1.84   2.10     1.86   \n215      2.50      1.54  0.00      1.91      2.02   1.89   2.03     1.94   \n\n     MaxCAHA  AvgCAHH  AvgCAHA  \n0       2.00     1.93     1.94  \n1       1.89     2.03     1.84  \n2       1.99     1.93     1.93  \n3       1.88     2.04     1.84  \n4       2.05     1.88     1.99  \n..       ...      ...      ...  \n211     1.95     2.03     1.84  \n212     1.94     2.03     1.84  \n213     2.08     1.85     2.03  \n214     2.13     1.81     2.07  \n215     2.05     1.88     2.01  \n\n[216 rows x 105 columns]",
      "text/html": "<div>\n<style scoped>\n    .dataframe tbody tr th:only-of-type {\n        vertical-align: middle;\n    }\n\n    .dataframe tbody tr th {\n        vertical-align: top;\n    }\n\n    .dataframe thead th {\n        text-align: right;\n    }\n</style>\n<table border=\"1\" class=\"dataframe\">\n  <thead>\n    <tr style=\"text-align: right;\">\n      <th></th>\n      <th>Div</th>\n      <th>Date</th>\n      <th>Time</th>\n      <th>HomeTeam</th>\n      <th>AwayTeam</th>\n      <th>FTHG</th>\n      <th>FTAG</th>\n      <th>FTR</th>\n      <th>HTHG</th>\n      <th>HTAG</th>\n      <th>HTR</th>\n      <th>HS</th>\n      <th>AS</th>\n      <th>HST</th>\n      <th>AST</th>\n      <th>HF</th>\n      <th>AF</th>\n      <th>HC</th>\n      <th>AC</th>\n      <th>HY</th>\n      <th>AY</th>\n      <th>HR</th>\n      <th>AR</th>\n      <th>B365H</th>\n      <th>B365D</th>\n      <th>B365A</th>\n      <th>BWH</th>\n      <th>BWD</th>\n      <th>BWA</th>\n      <th>IWH</th>\n      <th>IWD</th>\n      <th>IWA</th>\n      <th>PSH</th>\n      <th>PSD</th>\n      <th>PSA</th>\n      <th>WHH</th>\n      <th>WHD</th>\n      <th>WHA</th>\n      <th>VCH</th>\n      <th>VCD</th>\n      <th>VCA</th>\n      <th>MaxH</th>\n      <th>MaxD</th>\n      <th>MaxA</th>\n      <th>AvgH</th>\n      <th>AvgD</th>\n      <th>AvgA</th>\n      <th>B365&gt;2.5</th>\n      <th>B365&lt;2.5</th>\n      <th>P&gt;2.5</th>\n      <th>P&lt;2.5</th>\n      <th>Max&gt;2.5</th>\n      <th>Max&lt;2.5</th>\n      <th>Avg&gt;2.5</th>\n      <th>Avg&lt;2.5</th>\n      <th>AHh</th>\n      <th>B365AHH</th>\n      <th>B365AHA</th>\n      <th>PAHH</th>\n      <th>PAHA</th>\n      <th>MaxAHH</th>\n      <th>MaxAHA</th>\n      <th>AvgAHH</th>\n      <th>AvgAHA</th>\n      <th>B365CH</th>\n      <th>B365CD</th>\n      <th>B365CA</th>\n      <th>BWCH</th>\n      <th>BWCD</th>\n      <th>BWCA</th>\n      <th>IWCH</th>\n      <th>IWCD</th>\n      <th>IWCA</th>\n      <th>PSCH</th>\n      <th>PSCD</th>\n      <th>PSCA</th>\n      <th>WHCH</th>\n      <th>WHCD</th>\n      <th>WHCA</th>\n      <th>VCCH</th>\n      <th>VCCD</th>\n      <th>VCCA</th>\n      <th>MaxCH</th>\n      <th>MaxCD</th>\n      <th>MaxCA</th>\n      <th>AvgCH</th>\n      <th>AvgCD</th>\n      <th>AvgCA</th>\n      <th>B365C&gt;2.5</th>\n      <th>B365C&lt;2.5</th>\n      <th>PC&gt;2.5</th>\n      <th>PC&lt;2.5</th>\n      <th>MaxC&gt;2.5</th>\n      <th>MaxC&lt;2.5</th>\n      <th>AvgC&gt;2.5</th>\n      <th>AvgC&lt;2.5</th>\n      <th>AHCh</th>\n      <th>B365CAHH</th>\n      <th>B365CAHA</th>\n      <th>PCAHH</th>\n      <th>PCAHA</th>\n      <th>MaxCAHH</th>\n      <th>MaxCAHA</th>\n      <th>AvgCAHH</th>\n      <th>AvgCAHA</th>\n    </tr>\n  </thead>\n  <tbody>\n    <tr>\n      <th>0</th>\n      <td>D1</td>\n      <td>05/08/2022</td>\n      <td>19:30</td>\n      <td>Ein Frankfurt</td>\n      <td>Bayern Munich</td>\n      <td>1</td>\n      <td>6</td>\n      <td>A</td>\n      <td>0</td>\n      <td>5</td>\n      <td>A</td>\n      <td>8</td>\n      <td>23</td>\n      <td>2</td>\n      <td>10</td>\n      <td>10</td>\n      <td>11</td>\n      <td>5</td>\n      <td>6</td>\n      <td>2</td>\n      <td>0</td>\n      <td>0</td>\n      <td>0</td>\n      <td>6.00</td>\n      <td>5.00</td>\n      <td>1.50</td>\n      <td>5.75</td>\n      <td>4.80</td>\n      <td>1.44</td>\n      <td>4.90</td>\n      <td>4.50</td>\n      <td>1.60</td>\n      <td>5.84</td>\n      <td>5.13</td>\n      <td>1.52</td>\n      <td>5.80</td>\n      <td>4.60</td>\n      <td>1.50</td>\n      <td>6.00</td>\n      <td>5.00</td>\n      <td>1.45</td>\n      <td>6.15</td>\n      <td>5.25</td>\n      <td>1.60</td>\n      <td>5.82</td>\n      <td>4.96</td>\n      <td>1.49</td>\n      <td>1.40</td>\n      <td>3.00</td>\n      <td>1.42</td>\n      <td>3.02</td>\n      <td>1.44</td>\n      <td>3.20</td>\n      <td>1.39</td>\n      <td>2.94</td>\n      <td>1.25</td>\n      <td>1.91</td>\n      <td>2.02</td>\n      <td>1.88</td>\n      <td>2.04</td>\n      <td>1.91</td>\n      <td>2.06</td>\n      <td>1.87</td>\n      <td>2.00</td>\n      <td>6.00</td>\n      <td>5.00</td>\n      <td>1.44</td>\n      <td>6.00</td>\n      <td>5.00</td>\n      <td>1.42</td>\n      <td>5.00</td>\n      <td>4.70</td>\n      <td>1.57</td>\n      <td>6.24</td>\n      <td>5.30</td>\n      <td>1.48</td>\n      <td>6.50</td>\n      <td>4.75</td>\n      <td>1.44</td>\n      <td>6.00</td>\n      <td>5.0</td>\n      <td>1.45</td>\n      <td>6.54</td>\n      <td>5.40</td>\n      <td>1.57</td>\n      <td>5.97</td>\n      <td>5.08</td>\n      <td>1.47</td>\n      <td>1.40</td>\n      <td>3.00</td>\n      <td>1.39</td>\n      <td>3.16</td>\n      <td>1.42</td>\n      <td>3.19</td>\n      <td>1.39</td>\n      <td>3.03</td>\n      <td>1.25</td>\n      <td>2.00</td>\n      <td>1.93</td>\n      <td>2.00</td>\n      <td>1.93</td>\n      <td>2.01</td>\n      <td>2.00</td>\n      <td>1.93</td>\n      <td>1.94</td>\n    </tr>\n    <tr>\n      <th>1</th>\n      <td>D1</td>\n      <td>06/08/2022</td>\n      <td>14:30</td>\n      <td>Augsburg</td>\n      <td>Freiburg</td>\n      <td>0</td>\n      <td>4</td>\n      <td>A</td>\n      <td>0</td>\n      <td>0</td>\n      <td>D</td>\n      <td>10</td>\n      <td>19</td>\n      <td>2</td>\n      <td>7</td>\n      <td>13</td>\n      <td>13</td>\n      <td>5</td>\n      <td>8</td>\n      <td>0</td>\n      <td>0</td>\n      <td>0</td>\n      <td>0</td>\n      <td>3.30</td>\n      <td>3.50</td>\n      <td>2.15</td>\n      <td>3.30</td>\n      <td>3.40</td>\n      <td>2.15</td>\n      <td>3.20</td>\n      <td>3.40</td>\n      <td>2.25</td>\n      <td>3.53</td>\n      <td>3.59</td>\n      <td>2.17</td>\n      <td>3.30</td>\n      <td>3.40</td>\n      <td>2.15</td>\n      <td>3.40</td>\n      <td>3.50</td>\n      <td>2.10</td>\n      <td>3.57</td>\n      <td>3.62</td>\n      <td>2.25</td>\n      <td>3.39</td>\n      <td>3.51</td>\n      <td>2.15</td>\n      <td>1.92</td>\n      <td>1.98</td>\n      <td>1.92</td>\n      <td>1.99</td>\n      <td>1.94</td>\n      <td>2.00</td>\n      <td>1.88</td>\n      <td>1.93</td>\n      <td>0.25</td>\n      <td>2.06</td>\n      <td>1.87</td>\n      <td>2.05</td>\n      <td>1.88</td>\n      <td>2.06</td>\n      <td>1.88</td>\n      <td>2.01</td>\n      <td>1.85</td>\n      <td>3.40</td>\n      <td>3.60</td>\n      <td>2.10</td>\n      <td>3.40</td>\n      <td>3.50</td>\n      <td>2.10</td>\n      <td>3.30</td>\n      <td>3.40</td>\n      <td>2.20</td>\n      <td>3.51</td>\n      <td>3.54</td>\n      <td>2.20</td>\n      <td>3.50</td>\n      <td>3.40</td>\n      <td>2.10</td>\n      <td>3.40</td>\n      <td>3.5</td>\n      <td>2.15</td>\n      <td>3.68</td>\n      <td>3.66</td>\n      <td>2.20</td>\n      <td>3.46</td>\n      <td>3.51</td>\n      <td>2.14</td>\n      <td>1.91</td>\n      <td>1.99</td>\n      <td>1.92</td>\n      <td>1.98</td>\n      <td>1.93</td>\n      <td>2.03</td>\n      <td>1.87</td>\n      <td>1.95</td>\n      <td>0.25</td>\n      <td>2.04</td>\n      <td>1.89</td>\n      <td>2.04</td>\n      <td>1.88</td>\n      <td>2.08</td>\n      <td>1.89</td>\n      <td>2.03</td>\n      <td>1.84</td>\n    </tr>\n    <tr>\n      <th>2</th>\n      <td>D1</td>\n      <td>06/08/2022</td>\n      <td>14:30</td>\n      <td>Bochum</td>\n      <td>Mainz</td>\n      <td>1</td>\n      <td>2</td>\n      <td>A</td>\n      <td>1</td>\n      <td>1</td>\n      <td>D</td>\n      <td>16</td>\n      <td>13</td>\n      <td>3</td>\n      <td>6</td>\n      <td>11</td>\n      <td>16</td>\n      <td>3</td>\n      <td>5</td>\n      <td>2</td>\n      <td>3</td>\n      <td>0</td>\n      <td>0</td>\n      <td>3.20</td>\n      <td>3.40</td>\n      <td>2.20</td>\n      <td>3.10</td>\n      <td>3.40</td>\n      <td>2.25</td>\n      <td>3.15</td>\n      <td>3.40</td>\n      <td>2.25</td>\n      <td>3.34</td>\n      <td>3.43</td>\n      <td>2.32</td>\n      <td>3.25</td>\n      <td>3.30</td>\n      <td>2.25</td>\n      <td>3.13</td>\n      <td>3.50</td>\n      <td>2.20</td>\n      <td>3.38</td>\n      <td>3.50</td>\n      <td>2.32</td>\n      <td>3.23</td>\n      <td>3.42</td>\n      <td>2.26</td>\n      <td>1.96</td>\n      <td>1.94</td>\n      <td>1.96</td>\n      <td>1.94</td>\n      <td>2.02</td>\n      <td>1.97</td>\n      <td>1.93</td>\n      <td>1.89</td>\n      <td>0.25</td>\n      <td>1.95</td>\n      <td>1.98</td>\n      <td>1.93</td>\n      <td>1.99</td>\n      <td>1.96</td>\n      <td>1.99</td>\n      <td>1.91</td>\n      <td>1.94</td>\n      <td>3.40</td>\n      <td>3.40</td>\n      <td>2.15</td>\n      <td>3.25</td>\n      <td>3.40</td>\n      <td>2.20</td>\n      <td>3.30</td>\n      <td>3.30</td>\n      <td>2.25</td>\n      <td>3.37</td>\n      <td>3.43</td>\n      <td>2.30</td>\n      <td>3.40</td>\n      <td>3.30</td>\n      <td>2.15</td>\n      <td>3.20</td>\n      <td>3.5</td>\n      <td>2.20</td>\n      <td>3.48</td>\n      <td>3.55</td>\n      <td>2.30</td>\n      <td>3.31</td>\n      <td>3.43</td>\n      <td>2.23</td>\n      <td>1.90</td>\n      <td>2.00</td>\n      <td>1.90</td>\n      <td>2.01</td>\n      <td>1.94</td>\n      <td>2.05</td>\n      <td>1.86</td>\n      <td>1.97</td>\n      <td>0.25</td>\n      <td>1.95</td>\n      <td>1.98</td>\n      <td>1.95</td>\n      <td>1.97</td>\n      <td>1.99</td>\n      <td>1.99</td>\n      <td>1.93</td>\n      <td>1.93</td>\n    </tr>\n    <tr>\n      <th>3</th>\n      <td>D1</td>\n      <td>06/08/2022</td>\n      <td>14:30</td>\n      <td>M'gladbach</td>\n      <td>Hoffenheim</td>\n      <td>3</td>\n      <td>1</td>\n      <td>H</td>\n      <td>1</td>\n      <td>1</td>\n      <td>D</td>\n      <td>18</td>\n      <td>2</td>\n      <td>8</td>\n      <td>1</td>\n      <td>18</td>\n      <td>12</td>\n      <td>4</td>\n      <td>2</td>\n      <td>1</td>\n      <td>4</td>\n      <td>0</td>\n      <td>1</td>\n      <td>2.05</td>\n      <td>4.20</td>\n      <td>3.00</td>\n      <td>2.15</td>\n      <td>3.90</td>\n      <td>3.00</td>\n      <td>2.20</td>\n      <td>3.75</td>\n      <td>3.05</td>\n      <td>2.15</td>\n      <td>4.22</td>\n      <td>3.12</td>\n      <td>2.10</td>\n      <td>3.80</td>\n      <td>3.10</td>\n      <td>2.10</td>\n      <td>4.10</td>\n      <td>2.90</td>\n      <td>2.23</td>\n      <td>4.22</td>\n      <td>3.26</td>\n      <td>2.14</td>\n      <td>4.04</td>\n      <td>3.05</td>\n      <td>1.36</td>\n      <td>3.20</td>\n      <td>1.39</td>\n      <td>3.20</td>\n      <td>1.44</td>\n      <td>3.27</td>\n      <td>1.37</td>\n      <td>3.09</td>\n      <td>-0.25</td>\n      <td>1.91</td>\n      <td>2.02</td>\n      <td>1.90</td>\n      <td>2.03</td>\n      <td>1.94</td>\n      <td>2.03</td>\n      <td>1.89</td>\n      <td>1.99</td>\n      <td>2.00</td>\n      <td>4.00</td>\n      <td>3.20</td>\n      <td>2.10</td>\n      <td>3.80</td>\n      <td>3.10</td>\n      <td>2.10</td>\n      <td>3.70</td>\n      <td>3.35</td>\n      <td>2.08</td>\n      <td>4.08</td>\n      <td>3.38</td>\n      <td>2.00</td>\n      <td>3.80</td>\n      <td>3.40</td>\n      <td>2.05</td>\n      <td>4.0</td>\n      <td>3.20</td>\n      <td>2.21</td>\n      <td>4.12</td>\n      <td>3.51</td>\n      <td>2.05</td>\n      <td>3.97</td>\n      <td>3.31</td>\n      <td>1.44</td>\n      <td>2.75</td>\n      <td>1.47</td>\n      <td>2.83</td>\n      <td>1.47</td>\n      <td>2.93</td>\n      <td>1.44</td>\n      <td>2.81</td>\n      <td>-0.50</td>\n      <td>2.06</td>\n      <td>1.87</td>\n      <td>2.08</td>\n      <td>1.85</td>\n      <td>2.10</td>\n      <td>1.88</td>\n      <td>2.04</td>\n      <td>1.84</td>\n    </tr>\n    <tr>\n      <th>4</th>\n      <td>D1</td>\n      <td>06/08/2022</td>\n      <td>14:30</td>\n      <td>Union Berlin</td>\n      <td>Hertha</td>\n      <td>3</td>\n      <td>1</td>\n      <td>H</td>\n      <td>1</td>\n      <td>0</td>\n      <td>H</td>\n      <td>18</td>\n      <td>9</td>\n      <td>8</td>\n      <td>3</td>\n      <td>23</td>\n      <td>17</td>\n      <td>5</td>\n      <td>4</td>\n      <td>2</td>\n      <td>3</td>\n      <td>0</td>\n      <td>0</td>\n      <td>1.72</td>\n      <td>3.75</td>\n      <td>4.50</td>\n      <td>1.78</td>\n      <td>3.60</td>\n      <td>4.60</td>\n      <td>1.80</td>\n      <td>3.75</td>\n      <td>4.40</td>\n      <td>1.79</td>\n      <td>3.78</td>\n      <td>4.97</td>\n      <td>1.75</td>\n      <td>3.60</td>\n      <td>4.75</td>\n      <td>1.73</td>\n      <td>3.75</td>\n      <td>4.60</td>\n      <td>1.82</td>\n      <td>3.90</td>\n      <td>5.00</td>\n      <td>1.77</td>\n      <td>3.73</td>\n      <td>4.70</td>\n      <td>2.06</td>\n      <td>1.84</td>\n      <td>2.06</td>\n      <td>1.86</td>\n      <td>2.06</td>\n      <td>1.90</td>\n      <td>2.00</td>\n      <td>1.83</td>\n      <td>-0.75</td>\n      <td>2.01</td>\n      <td>1.92</td>\n      <td>2.03</td>\n      <td>1.90</td>\n      <td>2.07</td>\n      <td>1.93</td>\n      <td>1.99</td>\n      <td>1.88</td>\n      <td>1.85</td>\n      <td>3.60</td>\n      <td>4.20</td>\n      <td>1.87</td>\n      <td>3.50</td>\n      <td>4.20</td>\n      <td>1.90</td>\n      <td>3.65</td>\n      <td>4.20</td>\n      <td>1.91</td>\n      <td>3.68</td>\n      <td>4.37</td>\n      <td>1.88</td>\n      <td>3.40</td>\n      <td>4.20</td>\n      <td>1.87</td>\n      <td>3.7</td>\n      <td>4.10</td>\n      <td>1.93</td>\n      <td>3.86</td>\n      <td>4.87</td>\n      <td>1.87</td>\n      <td>3.62</td>\n      <td>4.30</td>\n      <td>1.94</td>\n      <td>1.96</td>\n      <td>1.93</td>\n      <td>1.97</td>\n      <td>2.00</td>\n      <td>2.03</td>\n      <td>1.90</td>\n      <td>1.92</td>\n      <td>-0.50</td>\n      <td>1.90</td>\n      <td>2.03</td>\n      <td>1.91</td>\n      <td>2.01</td>\n      <td>1.93</td>\n      <td>2.05</td>\n      <td>1.88</td>\n      <td>1.99</td>\n    </tr>\n    <tr>\n      <th>...</th>\n      <td>...</td>\n      <td>...</td>\n      <td>...</td>\n      <td>...</td>\n      <td>...</td>\n      <td>...</td>\n      <td>...</td>\n      <td>...</td>\n      <td>...</td>\n      <td>...</td>\n      <td>...</td>\n      <td>...</td>\n      <td>...</td>\n      <td>...</td>\n      <td>...</td>\n      <td>...</td>\n      <td>...</td>\n      <td>...</td>\n      <td>...</td>\n      <td>...</td>\n      <td>...</td>\n      <td>...</td>\n      <td>...</td>\n      <td>...</td>\n      <td>...</td>\n      <td>...</td>\n      <td>...</td>\n      <td>...</td>\n      <td>...</td>\n      <td>...</td>\n      <td>...</td>\n      <td>...</td>\n      <td>...</td>\n      <td>...</td>\n      <td>...</td>\n      <td>...</td>\n      <td>...</td>\n      <td>...</td>\n      <td>...</td>\n      <td>...</td>\n      <td>...</td>\n      <td>...</td>\n      <td>...</td>\n      <td>...</td>\n      <td>...</td>\n      <td>...</td>\n      <td>...</td>\n      <td>...</td>\n      <td>...</td>\n      <td>...</td>\n      <td>...</td>\n      <td>...</td>\n      <td>...</td>\n      <td>...</td>\n      <td>...</td>\n      <td>...</td>\n      <td>...</td>\n      <td>...</td>\n      <td>...</td>\n      <td>...</td>\n      <td>...</td>\n      <td>...</td>\n      <td>...</td>\n      <td>...</td>\n      <td>...</td>\n      <td>...</td>\n      <td>...</td>\n      <td>...</td>\n      <td>...</td>\n      <td>...</td>\n      <td>...</td>\n      <td>...</td>\n      <td>...</td>\n      <td>...</td>\n      <td>...</td>\n      <td>...</td>\n      <td>...</td>\n      <td>...</td>\n      <td>...</td>\n      <td>...</td>\n      <td>...</td>\n      <td>...</td>\n      <td>...</td>\n      <td>...</td>\n      <td>...</td>\n      <td>...</td>\n      <td>...</td>\n      <td>...</td>\n      <td>...</td>\n      <td>...</td>\n      <td>...</td>\n      <td>...</td>\n      <td>...</td>\n      <td>...</td>\n      <td>...</td>\n      <td>...</td>\n      <td>...</td>\n      <td>...</td>\n      <td>...</td>\n      <td>...</td>\n      <td>...</td>\n      <td>...</td>\n      <td>...</td>\n      <td>...</td>\n      <td>...</td>\n    </tr>\n    <tr>\n      <th>211</th>\n      <td>D1</td>\n      <td>11/03/2023</td>\n      <td>14:30</td>\n      <td>RB Leipzig</td>\n      <td>M'gladbach</td>\n      <td>3</td>\n      <td>0</td>\n      <td>H</td>\n      <td>0</td>\n      <td>0</td>\n      <td>D</td>\n      <td>14</td>\n      <td>7</td>\n      <td>9</td>\n      <td>3</td>\n      <td>9</td>\n      <td>9</td>\n      <td>11</td>\n      <td>0</td>\n      <td>1</td>\n      <td>0</td>\n      <td>0</td>\n      <td>0</td>\n      <td>1.40</td>\n      <td>5.00</td>\n      <td>7.00</td>\n      <td>1.43</td>\n      <td>4.80</td>\n      <td>6.75</td>\n      <td>1.43</td>\n      <td>4.90</td>\n      <td>6.50</td>\n      <td>1.43</td>\n      <td>5.16</td>\n      <td>7.18</td>\n      <td>1.40</td>\n      <td>4.75</td>\n      <td>7.50</td>\n      <td>1.36</td>\n      <td>4.75</td>\n      <td>6.50</td>\n      <td>1.46</td>\n      <td>5.40</td>\n      <td>7.80</td>\n      <td>1.42</td>\n      <td>5.03</td>\n      <td>6.95</td>\n      <td>1.50</td>\n      <td>2.63</td>\n      <td>1.54</td>\n      <td>2.61</td>\n      <td>1.55</td>\n      <td>2.63</td>\n      <td>1.51</td>\n      <td>2.56</td>\n      <td>-1.25</td>\n      <td>1.92</td>\n      <td>2.01</td>\n      <td>1.93</td>\n      <td>1.98</td>\n      <td>1.94</td>\n      <td>2.03</td>\n      <td>1.90</td>\n      <td>1.96</td>\n      <td>1.36</td>\n      <td>5.50</td>\n      <td>7.50</td>\n      <td>1.38</td>\n      <td>5.25</td>\n      <td>7.25</td>\n      <td>1.45</td>\n      <td>4.80</td>\n      <td>6.75</td>\n      <td>1.39</td>\n      <td>5.55</td>\n      <td>7.98</td>\n      <td>1.38</td>\n      <td>5.25</td>\n      <td>7.00</td>\n      <td>1.33</td>\n      <td>5.0</td>\n      <td>7.00</td>\n      <td>1.45</td>\n      <td>5.60</td>\n      <td>8.40</td>\n      <td>1.38</td>\n      <td>5.30</td>\n      <td>7.51</td>\n      <td>1.44</td>\n      <td>2.75</td>\n      <td>1.50</td>\n      <td>2.72</td>\n      <td>1.50</td>\n      <td>2.85</td>\n      <td>1.46</td>\n      <td>2.68</td>\n      <td>-1.50</td>\n      <td>2.01</td>\n      <td>1.92</td>\n      <td>2.02</td>\n      <td>1.91</td>\n      <td>2.15</td>\n      <td>1.95</td>\n      <td>2.03</td>\n      <td>1.84</td>\n    </tr>\n    <tr>\n      <th>212</th>\n      <td>D1</td>\n      <td>11/03/2023</td>\n      <td>17:30</td>\n      <td>Schalke 04</td>\n      <td>Dortmund</td>\n      <td>2</td>\n      <td>2</td>\n      <td>D</td>\n      <td>0</td>\n      <td>1</td>\n      <td>A</td>\n      <td>10</td>\n      <td>20</td>\n      <td>5</td>\n      <td>8</td>\n      <td>16</td>\n      <td>8</td>\n      <td>3</td>\n      <td>6</td>\n      <td>1</td>\n      <td>1</td>\n      <td>0</td>\n      <td>0</td>\n      <td>4.50</td>\n      <td>4.00</td>\n      <td>1.73</td>\n      <td>4.60</td>\n      <td>4.00</td>\n      <td>1.70</td>\n      <td>4.50</td>\n      <td>4.00</td>\n      <td>1.73</td>\n      <td>4.56</td>\n      <td>4.21</td>\n      <td>1.74</td>\n      <td>4.40</td>\n      <td>3.90</td>\n      <td>1.73</td>\n      <td>4.20</td>\n      <td>3.90</td>\n      <td>1.67</td>\n      <td>4.83</td>\n      <td>4.40</td>\n      <td>1.76</td>\n      <td>4.53</td>\n      <td>4.09</td>\n      <td>1.73</td>\n      <td>1.67</td>\n      <td>2.20</td>\n      <td>1.70</td>\n      <td>2.24</td>\n      <td>1.70</td>\n      <td>2.29</td>\n      <td>1.66</td>\n      <td>2.23</td>\n      <td>0.75</td>\n      <td>1.97</td>\n      <td>1.96</td>\n      <td>1.97</td>\n      <td>1.93</td>\n      <td>1.98</td>\n      <td>1.97</td>\n      <td>1.94</td>\n      <td>1.92</td>\n      <td>4.20</td>\n      <td>3.75</td>\n      <td>1.80</td>\n      <td>4.20</td>\n      <td>3.75</td>\n      <td>1.80</td>\n      <td>4.10</td>\n      <td>3.75</td>\n      <td>1.85</td>\n      <td>4.43</td>\n      <td>3.91</td>\n      <td>1.84</td>\n      <td>4.40</td>\n      <td>3.60</td>\n      <td>1.80</td>\n      <td>3.90</td>\n      <td>3.7</td>\n      <td>1.75</td>\n      <td>4.70</td>\n      <td>3.91</td>\n      <td>1.95</td>\n      <td>4.26</td>\n      <td>3.76</td>\n      <td>1.83</td>\n      <td>1.85</td>\n      <td>2.08</td>\n      <td>1.83</td>\n      <td>2.08</td>\n      <td>1.86</td>\n      <td>2.13</td>\n      <td>1.80</td>\n      <td>2.02</td>\n      <td>0.50</td>\n      <td>2.07</td>\n      <td>1.86</td>\n      <td>2.09</td>\n      <td>1.83</td>\n      <td>2.12</td>\n      <td>1.94</td>\n      <td>2.03</td>\n      <td>1.84</td>\n    </tr>\n    <tr>\n      <th>213</th>\n      <td>D1</td>\n      <td>12/03/2023</td>\n      <td>14:30</td>\n      <td>Freiburg</td>\n      <td>Hoffenheim</td>\n      <td>2</td>\n      <td>1</td>\n      <td>H</td>\n      <td>1</td>\n      <td>0</td>\n      <td>H</td>\n      <td>9</td>\n      <td>12</td>\n      <td>3</td>\n      <td>1</td>\n      <td>11</td>\n      <td>25</td>\n      <td>2</td>\n      <td>2</td>\n      <td>2</td>\n      <td>5</td>\n      <td>0</td>\n      <td>1</td>\n      <td>1.91</td>\n      <td>3.60</td>\n      <td>4.00</td>\n      <td>1.93</td>\n      <td>3.60</td>\n      <td>3.75</td>\n      <td>1.95</td>\n      <td>3.60</td>\n      <td>3.85</td>\n      <td>1.93</td>\n      <td>3.71</td>\n      <td>4.10</td>\n      <td>1.95</td>\n      <td>3.60</td>\n      <td>3.75</td>\n      <td>1.85</td>\n      <td>3.60</td>\n      <td>3.60</td>\n      <td>2.00</td>\n      <td>3.80</td>\n      <td>4.10</td>\n      <td>1.94</td>\n      <td>3.66</td>\n      <td>3.90</td>\n      <td>1.80</td>\n      <td>2.00</td>\n      <td>1.85</td>\n      <td>2.04</td>\n      <td>1.87</td>\n      <td>2.12</td>\n      <td>1.80</td>\n      <td>2.02</td>\n      <td>-0.50</td>\n      <td>1.95</td>\n      <td>1.98</td>\n      <td>1.93</td>\n      <td>1.97</td>\n      <td>1.98</td>\n      <td>1.98</td>\n      <td>1.94</td>\n      <td>1.93</td>\n      <td>1.83</td>\n      <td>3.60</td>\n      <td>4.33</td>\n      <td>1.85</td>\n      <td>3.60</td>\n      <td>4.20</td>\n      <td>1.83</td>\n      <td>3.70</td>\n      <td>4.20</td>\n      <td>1.88</td>\n      <td>3.79</td>\n      <td>4.43</td>\n      <td>1.83</td>\n      <td>3.60</td>\n      <td>4.20</td>\n      <td>1.80</td>\n      <td>3.6</td>\n      <td>3.80</td>\n      <td>1.90</td>\n      <td>3.86</td>\n      <td>4.71</td>\n      <td>1.85</td>\n      <td>3.70</td>\n      <td>4.26</td>\n      <td>1.90</td>\n      <td>2.03</td>\n      <td>1.88</td>\n      <td>2.02</td>\n      <td>1.91</td>\n      <td>2.08</td>\n      <td>1.84</td>\n      <td>1.99</td>\n      <td>-0.50</td>\n      <td>1.86</td>\n      <td>2.07</td>\n      <td>1.88</td>\n      <td>2.06</td>\n      <td>1.89</td>\n      <td>2.08</td>\n      <td>1.85</td>\n      <td>2.03</td>\n    </tr>\n    <tr>\n      <th>214</th>\n      <td>D1</td>\n      <td>12/03/2023</td>\n      <td>16:30</td>\n      <td>Werder Bremen</td>\n      <td>Leverkusen</td>\n      <td>2</td>\n      <td>3</td>\n      <td>A</td>\n      <td>1</td>\n      <td>1</td>\n      <td>D</td>\n      <td>12</td>\n      <td>13</td>\n      <td>6</td>\n      <td>5</td>\n      <td>12</td>\n      <td>12</td>\n      <td>2</td>\n      <td>3</td>\n      <td>2</td>\n      <td>1</td>\n      <td>0</td>\n      <td>0</td>\n      <td>3.30</td>\n      <td>3.75</td>\n      <td>2.10</td>\n      <td>3.25</td>\n      <td>3.75</td>\n      <td>2.05</td>\n      <td>3.25</td>\n      <td>3.60</td>\n      <td>2.15</td>\n      <td>3.32</td>\n      <td>3.82</td>\n      <td>2.15</td>\n      <td>3.25</td>\n      <td>3.60</td>\n      <td>2.10</td>\n      <td>3.00</td>\n      <td>3.70</td>\n      <td>2.05</td>\n      <td>3.34</td>\n      <td>3.94</td>\n      <td>2.18</td>\n      <td>3.25</td>\n      <td>3.76</td>\n      <td>2.12</td>\n      <td>1.62</td>\n      <td>2.30</td>\n      <td>1.68</td>\n      <td>2.28</td>\n      <td>1.68</td>\n      <td>2.33</td>\n      <td>1.63</td>\n      <td>2.28</td>\n      <td>0.25</td>\n      <td>2.06</td>\n      <td>1.87</td>\n      <td>2.03</td>\n      <td>1.88</td>\n      <td>2.06</td>\n      <td>1.88</td>\n      <td>2.01</td>\n      <td>1.85</td>\n      <td>3.60</td>\n      <td>3.40</td>\n      <td>2.05</td>\n      <td>3.50</td>\n      <td>3.50</td>\n      <td>2.05</td>\n      <td>3.40</td>\n      <td>3.50</td>\n      <td>2.10</td>\n      <td>3.67</td>\n      <td>3.66</td>\n      <td>2.10</td>\n      <td>3.40</td>\n      <td>3.50</td>\n      <td>2.10</td>\n      <td>3.25</td>\n      <td>3.6</td>\n      <td>1.95</td>\n      <td>3.69</td>\n      <td>3.80</td>\n      <td>2.11</td>\n      <td>3.53</td>\n      <td>3.59</td>\n      <td>2.07</td>\n      <td>1.89</td>\n      <td>2.04</td>\n      <td>1.88</td>\n      <td>2.04</td>\n      <td>1.89</td>\n      <td>2.24</td>\n      <td>1.77</td>\n      <td>2.08</td>\n      <td>0.50</td>\n      <td>1.84</td>\n      <td>2.09</td>\n      <td>1.84</td>\n      <td>2.10</td>\n      <td>1.86</td>\n      <td>2.13</td>\n      <td>1.81</td>\n      <td>2.07</td>\n    </tr>\n    <tr>\n      <th>215</th>\n      <td>D1</td>\n      <td>12/03/2023</td>\n      <td>18:30</td>\n      <td>Wolfsburg</td>\n      <td>Union Berlin</td>\n      <td>1</td>\n      <td>1</td>\n      <td>D</td>\n      <td>0</td>\n      <td>0</td>\n      <td>D</td>\n      <td>15</td>\n      <td>11</td>\n      <td>6</td>\n      <td>2</td>\n      <td>11</td>\n      <td>14</td>\n      <td>3</td>\n      <td>5</td>\n      <td>1</td>\n      <td>4</td>\n      <td>0</td>\n      <td>0</td>\n      <td>2.25</td>\n      <td>3.25</td>\n      <td>3.30</td>\n      <td>2.30</td>\n      <td>3.20</td>\n      <td>3.20</td>\n      <td>2.30</td>\n      <td>3.25</td>\n      <td>3.25</td>\n      <td>2.28</td>\n      <td>3.22</td>\n      <td>3.59</td>\n      <td>2.20</td>\n      <td>3.20</td>\n      <td>3.40</td>\n      <td>2.15</td>\n      <td>3.13</td>\n      <td>3.20</td>\n      <td>2.33</td>\n      <td>3.35</td>\n      <td>3.64</td>\n      <td>2.26</td>\n      <td>3.23</td>\n      <td>3.41</td>\n      <td>2.30</td>\n      <td>1.62</td>\n      <td>2.32</td>\n      <td>1.66</td>\n      <td>2.35</td>\n      <td>1.68</td>\n      <td>2.28</td>\n      <td>1.63</td>\n      <td>-0.25</td>\n      <td>1.94</td>\n      <td>1.99</td>\n      <td>1.93</td>\n      <td>1.97</td>\n      <td>1.98</td>\n      <td>2.00</td>\n      <td>1.91</td>\n      <td>1.94</td>\n      <td>2.70</td>\n      <td>3.10</td>\n      <td>2.80</td>\n      <td>2.65</td>\n      <td>3.00</td>\n      <td>2.87</td>\n      <td>2.60</td>\n      <td>3.05</td>\n      <td>2.95</td>\n      <td>2.79</td>\n      <td>3.05</td>\n      <td>2.99</td>\n      <td>2.70</td>\n      <td>3.00</td>\n      <td>2.80</td>\n      <td>2.55</td>\n      <td>3.0</td>\n      <td>2.75</td>\n      <td>2.92</td>\n      <td>3.16</td>\n      <td>3.02</td>\n      <td>2.70</td>\n      <td>3.04</td>\n      <td>2.89</td>\n      <td>2.50</td>\n      <td>1.53</td>\n      <td>2.61</td>\n      <td>1.55</td>\n      <td>2.61</td>\n      <td>1.57</td>\n      <td>2.50</td>\n      <td>1.54</td>\n      <td>0.00</td>\n      <td>1.91</td>\n      <td>2.02</td>\n      <td>1.89</td>\n      <td>2.03</td>\n      <td>1.94</td>\n      <td>2.05</td>\n      <td>1.88</td>\n      <td>2.01</td>\n    </tr>\n  </tbody>\n</table>\n<p>216 rows × 105 columns</p>\n</div>"
     },
     "execution_count": 197,
     "metadata": {},
     "output_type": "execute_result"
    }
   ],
   "source": [
    "df"
   ]
  },
  {
   "cell_type": "code",
   "execution_count": 198,
   "metadata": {
    "id": "xxv5xg7bhdHm",
    "pycharm": {
     "name": "#%%\n"
    }
   },
   "outputs": [],
   "source": [
    "df = df [['Date', 'HomeTeam', 'AwayTeam','FTHG','FTAG','FTR','B365H','B365D','B365A']]"
   ]
  },
  {
   "cell_type": "code",
   "execution_count": 199,
   "metadata": {
    "colab": {
     "base_uri": "https://localhost:8080/",
     "height": 206
    },
    "id": "DJJ6164S3Azq",
    "outputId": "128a148f-a177-4a91-b40a-984b37a412a8",
    "pycharm": {
     "name": "#%%\n"
    }
   },
   "outputs": [
    {
     "data": {
      "text/plain": "         date      home_team      away_team  goals_home  goals_away result  \\\n0  05/08/2022  Ein Frankfurt  Bayern Munich           1           6      A   \n1  06/08/2022       Augsburg       Freiburg           0           4      A   \n2  06/08/2022         Bochum          Mainz           1           2      A   \n3  06/08/2022     M'gladbach     Hoffenheim           3           1      H   \n4  06/08/2022   Union Berlin         Hertha           3           1      H   \n\n   odds_home  odds_tie  odds_away  \n0       6.00      5.00       1.50  \n1       3.30      3.50       2.15  \n2       3.20      3.40       2.20  \n3       2.05      4.20       3.00  \n4       1.72      3.75       4.50  ",
      "text/html": "<div>\n<style scoped>\n    .dataframe tbody tr th:only-of-type {\n        vertical-align: middle;\n    }\n\n    .dataframe tbody tr th {\n        vertical-align: top;\n    }\n\n    .dataframe thead th {\n        text-align: right;\n    }\n</style>\n<table border=\"1\" class=\"dataframe\">\n  <thead>\n    <tr style=\"text-align: right;\">\n      <th></th>\n      <th>date</th>\n      <th>home_team</th>\n      <th>away_team</th>\n      <th>goals_home</th>\n      <th>goals_away</th>\n      <th>result</th>\n      <th>odds_home</th>\n      <th>odds_tie</th>\n      <th>odds_away</th>\n    </tr>\n  </thead>\n  <tbody>\n    <tr>\n      <th>0</th>\n      <td>05/08/2022</td>\n      <td>Ein Frankfurt</td>\n      <td>Bayern Munich</td>\n      <td>1</td>\n      <td>6</td>\n      <td>A</td>\n      <td>6.00</td>\n      <td>5.00</td>\n      <td>1.50</td>\n    </tr>\n    <tr>\n      <th>1</th>\n      <td>06/08/2022</td>\n      <td>Augsburg</td>\n      <td>Freiburg</td>\n      <td>0</td>\n      <td>4</td>\n      <td>A</td>\n      <td>3.30</td>\n      <td>3.50</td>\n      <td>2.15</td>\n    </tr>\n    <tr>\n      <th>2</th>\n      <td>06/08/2022</td>\n      <td>Bochum</td>\n      <td>Mainz</td>\n      <td>1</td>\n      <td>2</td>\n      <td>A</td>\n      <td>3.20</td>\n      <td>3.40</td>\n      <td>2.20</td>\n    </tr>\n    <tr>\n      <th>3</th>\n      <td>06/08/2022</td>\n      <td>M'gladbach</td>\n      <td>Hoffenheim</td>\n      <td>3</td>\n      <td>1</td>\n      <td>H</td>\n      <td>2.05</td>\n      <td>4.20</td>\n      <td>3.00</td>\n    </tr>\n    <tr>\n      <th>4</th>\n      <td>06/08/2022</td>\n      <td>Union Berlin</td>\n      <td>Hertha</td>\n      <td>3</td>\n      <td>1</td>\n      <td>H</td>\n      <td>1.72</td>\n      <td>3.75</td>\n      <td>4.50</td>\n    </tr>\n  </tbody>\n</table>\n</div>"
     },
     "execution_count": 199,
     "metadata": {},
     "output_type": "execute_result"
    }
   ],
   "source": [
    "df.columns = ['date','home_team','away_team','goals_home','goals_away','result','odds_home','odds_tie','odds_away']\n",
    "df = df.copy()\n",
    "df.head()"
   ]
  },
  {
   "cell_type": "code",
   "execution_count": 200,
   "metadata": {
    "colab": {
     "base_uri": "https://localhost:8080/",
     "height": 206
    },
    "id": "bANkJ4Th3Azq",
    "outputId": "0a0ee075-d744-4eec-95dd-5ed0b69443fd",
    "pycharm": {
     "name": "#%%\n"
    }
   },
   "outputs": [
    {
     "data": {
      "text/plain": "         date      home_team      away_team  goals_home  goals_away  \\\n0  05/08/2022  Ein Frankfurt  Bayern Munich           1           6   \n1  06/08/2022       Augsburg       Freiburg           0           4   \n2  06/08/2022         Bochum          Mainz           1           2   \n3  06/08/2022     M'gladbach     Hoffenheim           3           1   \n4  06/08/2022   Union Berlin         Hertha           3           1   \n\n      result  odds_home  odds_tie  odds_away  \n0  away_team   0.166667  0.200000   0.666667  \n1  away_team   0.303030  0.285714   0.465116  \n2  away_team   0.312500  0.294118   0.454545  \n3  home_team   0.487805  0.238095   0.333333  \n4  home_team   0.581395  0.266667   0.222222  ",
      "text/html": "<div>\n<style scoped>\n    .dataframe tbody tr th:only-of-type {\n        vertical-align: middle;\n    }\n\n    .dataframe tbody tr th {\n        vertical-align: top;\n    }\n\n    .dataframe thead th {\n        text-align: right;\n    }\n</style>\n<table border=\"1\" class=\"dataframe\">\n  <thead>\n    <tr style=\"text-align: right;\">\n      <th></th>\n      <th>date</th>\n      <th>home_team</th>\n      <th>away_team</th>\n      <th>goals_home</th>\n      <th>goals_away</th>\n      <th>result</th>\n      <th>odds_home</th>\n      <th>odds_tie</th>\n      <th>odds_away</th>\n    </tr>\n  </thead>\n  <tbody>\n    <tr>\n      <th>0</th>\n      <td>05/08/2022</td>\n      <td>Ein Frankfurt</td>\n      <td>Bayern Munich</td>\n      <td>1</td>\n      <td>6</td>\n      <td>away_team</td>\n      <td>0.166667</td>\n      <td>0.200000</td>\n      <td>0.666667</td>\n    </tr>\n    <tr>\n      <th>1</th>\n      <td>06/08/2022</td>\n      <td>Augsburg</td>\n      <td>Freiburg</td>\n      <td>0</td>\n      <td>4</td>\n      <td>away_team</td>\n      <td>0.303030</td>\n      <td>0.285714</td>\n      <td>0.465116</td>\n    </tr>\n    <tr>\n      <th>2</th>\n      <td>06/08/2022</td>\n      <td>Bochum</td>\n      <td>Mainz</td>\n      <td>1</td>\n      <td>2</td>\n      <td>away_team</td>\n      <td>0.312500</td>\n      <td>0.294118</td>\n      <td>0.454545</td>\n    </tr>\n    <tr>\n      <th>3</th>\n      <td>06/08/2022</td>\n      <td>M'gladbach</td>\n      <td>Hoffenheim</td>\n      <td>3</td>\n      <td>1</td>\n      <td>home_team</td>\n      <td>0.487805</td>\n      <td>0.238095</td>\n      <td>0.333333</td>\n    </tr>\n    <tr>\n      <th>4</th>\n      <td>06/08/2022</td>\n      <td>Union Berlin</td>\n      <td>Hertha</td>\n      <td>3</td>\n      <td>1</td>\n      <td>home_team</td>\n      <td>0.581395</td>\n      <td>0.266667</td>\n      <td>0.222222</td>\n    </tr>\n  </tbody>\n</table>\n</div>"
     },
     "execution_count": 200,
     "metadata": {},
     "output_type": "execute_result"
    }
   ],
   "source": [
    "from pybettor import implied_prob\n",
    "df['odds_home'] = df['odds_home'].apply(lambda x: implied_prob(x, category='dec')[0])\n",
    "df['odds_tie'] = df['odds_tie'].apply(lambda x: implied_prob(x, category='dec')[0])\n",
    "df['odds_away'] = df['odds_away'].apply(lambda x: implied_prob(x, category='dec')[0])\n",
    "df['result'] = df['result'].replace(['H', 'A', 'D'], ['home_team', 'away_team', 'tie'])\n",
    "df.head()"
   ]
  },
  {
   "cell_type": "code",
   "execution_count": 201,
   "metadata": {
    "colab": {
     "base_uri": "https://localhost:8080/",
     "height": 206
    },
    "id": "kuSaCMwfj23W",
    "outputId": "ea824f47-6f7f-47d3-977a-968292f7ae1a",
    "pycharm": {
     "name": "#%%\n"
    }
   },
   "outputs": [
    {
     "data": {
      "text/plain": "         date      home_team      away_team  goals_home  goals_away  \\\n0  05/08/2022  Ein Frankfurt  Bayern Munich           1           6   \n1  06/08/2022       Augsburg       Freiburg           0           4   \n2  06/08/2022         Bochum          Mainz           1           2   \n3  06/08/2022     M'gladbach     Hoffenheim           3           1   \n4  06/08/2022   Union Berlin         Hertha           3           1   \n\n      result  odds_home  odds_tie  odds_away  game_number  \n0  away_team   0.166667  0.200000   0.666667            0  \n1  away_team   0.303030  0.285714   0.465116            1  \n2  away_team   0.312500  0.294118   0.454545            2  \n3  home_team   0.487805  0.238095   0.333333            3  \n4  home_team   0.581395  0.266667   0.222222            4  ",
      "text/html": "<div>\n<style scoped>\n    .dataframe tbody tr th:only-of-type {\n        vertical-align: middle;\n    }\n\n    .dataframe tbody tr th {\n        vertical-align: top;\n    }\n\n    .dataframe thead th {\n        text-align: right;\n    }\n</style>\n<table border=\"1\" class=\"dataframe\">\n  <thead>\n    <tr style=\"text-align: right;\">\n      <th></th>\n      <th>date</th>\n      <th>home_team</th>\n      <th>away_team</th>\n      <th>goals_home</th>\n      <th>goals_away</th>\n      <th>result</th>\n      <th>odds_home</th>\n      <th>odds_tie</th>\n      <th>odds_away</th>\n      <th>game_number</th>\n    </tr>\n  </thead>\n  <tbody>\n    <tr>\n      <th>0</th>\n      <td>05/08/2022</td>\n      <td>Ein Frankfurt</td>\n      <td>Bayern Munich</td>\n      <td>1</td>\n      <td>6</td>\n      <td>away_team</td>\n      <td>0.166667</td>\n      <td>0.200000</td>\n      <td>0.666667</td>\n      <td>0</td>\n    </tr>\n    <tr>\n      <th>1</th>\n      <td>06/08/2022</td>\n      <td>Augsburg</td>\n      <td>Freiburg</td>\n      <td>0</td>\n      <td>4</td>\n      <td>away_team</td>\n      <td>0.303030</td>\n      <td>0.285714</td>\n      <td>0.465116</td>\n      <td>1</td>\n    </tr>\n    <tr>\n      <th>2</th>\n      <td>06/08/2022</td>\n      <td>Bochum</td>\n      <td>Mainz</td>\n      <td>1</td>\n      <td>2</td>\n      <td>away_team</td>\n      <td>0.312500</td>\n      <td>0.294118</td>\n      <td>0.454545</td>\n      <td>2</td>\n    </tr>\n    <tr>\n      <th>3</th>\n      <td>06/08/2022</td>\n      <td>M'gladbach</td>\n      <td>Hoffenheim</td>\n      <td>3</td>\n      <td>1</td>\n      <td>home_team</td>\n      <td>0.487805</td>\n      <td>0.238095</td>\n      <td>0.333333</td>\n      <td>3</td>\n    </tr>\n    <tr>\n      <th>4</th>\n      <td>06/08/2022</td>\n      <td>Union Berlin</td>\n      <td>Hertha</td>\n      <td>3</td>\n      <td>1</td>\n      <td>home_team</td>\n      <td>0.581395</td>\n      <td>0.266667</td>\n      <td>0.222222</td>\n      <td>4</td>\n    </tr>\n  </tbody>\n</table>\n</div>"
     },
     "execution_count": 201,
     "metadata": {},
     "output_type": "execute_result"
    }
   ],
   "source": [
    "df['game_number'] = list(df.index)\n",
    "df.head()"
   ]
  },
  {
   "cell_type": "code",
   "execution_count": 202,
   "metadata": {
    "colab": {
     "base_uri": "https://localhost:8080/",
     "height": 458
    },
    "id": "gtB7pq6c3Azr",
    "outputId": "340394d8-42dd-4b4f-c9be-5550ea274f08",
    "pycharm": {
     "name": "#%%\n"
    }
   },
   "outputs": [
    {
     "name": "stderr",
     "output_type": "stream",
     "text": [
      "100%|██████████| 216/216 [00:00<?, ?it/s]\n",
      "100%|██████████| 216/216 [00:00<00:00, 26866.63it/s]\n"
     ]
    },
    {
     "data": {
      "text/plain": "           date      home_team      away_team  goals_home  goals_away  \\\n0    05/08/2022  Ein Frankfurt  Bayern Munich           1           6   \n1    06/08/2022       Augsburg       Freiburg           0           4   \n2    06/08/2022         Bochum          Mainz           1           2   \n3    06/08/2022     M'gladbach     Hoffenheim           3           1   \n4    06/08/2022   Union Berlin         Hertha           3           1   \n..          ...            ...            ...         ...         ...   \n211  11/03/2023     RB Leipzig     M'gladbach           3           0   \n212  11/03/2023     Schalke 04       Dortmund           2           2   \n213  12/03/2023       Freiburg     Hoffenheim           2           1   \n214  12/03/2023  Werder Bremen     Leverkusen           2           3   \n215  12/03/2023      Wolfsburg   Union Berlin           1           1   \n\n        result  odds_home  odds_tie  odds_away  game_number    winner_team  \\\n0    away_team   0.166667  0.200000   0.666667            0  Bayern Munich   \n1    away_team   0.303030  0.285714   0.465116            1       Freiburg   \n2    away_team   0.312500  0.294118   0.454545            2          Mainz   \n3    home_team   0.487805  0.238095   0.333333            3     M'gladbach   \n4    home_team   0.581395  0.266667   0.222222            4   Union Berlin   \n..         ...        ...       ...        ...          ...            ...   \n211  home_team   0.714286  0.200000   0.142857          211     RB Leipzig   \n212        tie   0.222222  0.250000   0.578035          212            tie   \n213  home_team   0.523560  0.277778   0.250000          213       Freiburg   \n214  away_team   0.303030  0.266667   0.476190          214     Leverkusen   \n215        tie   0.444444  0.307692   0.303030          215            tie   \n\n    winner_team_at_home  \n0                   NaN  \n1                   NaN  \n2                   NaN  \n3            M'gladbach  \n4          Union Berlin  \n..                  ...  \n211          RB Leipzig  \n212                 NaN  \n213            Freiburg  \n214                 NaN  \n215                 NaN  \n\n[216 rows x 12 columns]",
      "text/html": "<div>\n<style scoped>\n    .dataframe tbody tr th:only-of-type {\n        vertical-align: middle;\n    }\n\n    .dataframe tbody tr th {\n        vertical-align: top;\n    }\n\n    .dataframe thead th {\n        text-align: right;\n    }\n</style>\n<table border=\"1\" class=\"dataframe\">\n  <thead>\n    <tr style=\"text-align: right;\">\n      <th></th>\n      <th>date</th>\n      <th>home_team</th>\n      <th>away_team</th>\n      <th>goals_home</th>\n      <th>goals_away</th>\n      <th>result</th>\n      <th>odds_home</th>\n      <th>odds_tie</th>\n      <th>odds_away</th>\n      <th>game_number</th>\n      <th>winner_team</th>\n      <th>winner_team_at_home</th>\n    </tr>\n  </thead>\n  <tbody>\n    <tr>\n      <th>0</th>\n      <td>05/08/2022</td>\n      <td>Ein Frankfurt</td>\n      <td>Bayern Munich</td>\n      <td>1</td>\n      <td>6</td>\n      <td>away_team</td>\n      <td>0.166667</td>\n      <td>0.200000</td>\n      <td>0.666667</td>\n      <td>0</td>\n      <td>Bayern Munich</td>\n      <td>NaN</td>\n    </tr>\n    <tr>\n      <th>1</th>\n      <td>06/08/2022</td>\n      <td>Augsburg</td>\n      <td>Freiburg</td>\n      <td>0</td>\n      <td>4</td>\n      <td>away_team</td>\n      <td>0.303030</td>\n      <td>0.285714</td>\n      <td>0.465116</td>\n      <td>1</td>\n      <td>Freiburg</td>\n      <td>NaN</td>\n    </tr>\n    <tr>\n      <th>2</th>\n      <td>06/08/2022</td>\n      <td>Bochum</td>\n      <td>Mainz</td>\n      <td>1</td>\n      <td>2</td>\n      <td>away_team</td>\n      <td>0.312500</td>\n      <td>0.294118</td>\n      <td>0.454545</td>\n      <td>2</td>\n      <td>Mainz</td>\n      <td>NaN</td>\n    </tr>\n    <tr>\n      <th>3</th>\n      <td>06/08/2022</td>\n      <td>M'gladbach</td>\n      <td>Hoffenheim</td>\n      <td>3</td>\n      <td>1</td>\n      <td>home_team</td>\n      <td>0.487805</td>\n      <td>0.238095</td>\n      <td>0.333333</td>\n      <td>3</td>\n      <td>M'gladbach</td>\n      <td>M'gladbach</td>\n    </tr>\n    <tr>\n      <th>4</th>\n      <td>06/08/2022</td>\n      <td>Union Berlin</td>\n      <td>Hertha</td>\n      <td>3</td>\n      <td>1</td>\n      <td>home_team</td>\n      <td>0.581395</td>\n      <td>0.266667</td>\n      <td>0.222222</td>\n      <td>4</td>\n      <td>Union Berlin</td>\n      <td>Union Berlin</td>\n    </tr>\n    <tr>\n      <th>...</th>\n      <td>...</td>\n      <td>...</td>\n      <td>...</td>\n      <td>...</td>\n      <td>...</td>\n      <td>...</td>\n      <td>...</td>\n      <td>...</td>\n      <td>...</td>\n      <td>...</td>\n      <td>...</td>\n      <td>...</td>\n    </tr>\n    <tr>\n      <th>211</th>\n      <td>11/03/2023</td>\n      <td>RB Leipzig</td>\n      <td>M'gladbach</td>\n      <td>3</td>\n      <td>0</td>\n      <td>home_team</td>\n      <td>0.714286</td>\n      <td>0.200000</td>\n      <td>0.142857</td>\n      <td>211</td>\n      <td>RB Leipzig</td>\n      <td>RB Leipzig</td>\n    </tr>\n    <tr>\n      <th>212</th>\n      <td>11/03/2023</td>\n      <td>Schalke 04</td>\n      <td>Dortmund</td>\n      <td>2</td>\n      <td>2</td>\n      <td>tie</td>\n      <td>0.222222</td>\n      <td>0.250000</td>\n      <td>0.578035</td>\n      <td>212</td>\n      <td>tie</td>\n      <td>NaN</td>\n    </tr>\n    <tr>\n      <th>213</th>\n      <td>12/03/2023</td>\n      <td>Freiburg</td>\n      <td>Hoffenheim</td>\n      <td>2</td>\n      <td>1</td>\n      <td>home_team</td>\n      <td>0.523560</td>\n      <td>0.277778</td>\n      <td>0.250000</td>\n      <td>213</td>\n      <td>Freiburg</td>\n      <td>Freiburg</td>\n    </tr>\n    <tr>\n      <th>214</th>\n      <td>12/03/2023</td>\n      <td>Werder Bremen</td>\n      <td>Leverkusen</td>\n      <td>2</td>\n      <td>3</td>\n      <td>away_team</td>\n      <td>0.303030</td>\n      <td>0.266667</td>\n      <td>0.476190</td>\n      <td>214</td>\n      <td>Leverkusen</td>\n      <td>NaN</td>\n    </tr>\n    <tr>\n      <th>215</th>\n      <td>12/03/2023</td>\n      <td>Wolfsburg</td>\n      <td>Union Berlin</td>\n      <td>1</td>\n      <td>1</td>\n      <td>tie</td>\n      <td>0.444444</td>\n      <td>0.307692</td>\n      <td>0.303030</td>\n      <td>215</td>\n      <td>tie</td>\n      <td>NaN</td>\n    </tr>\n  </tbody>\n</table>\n<p>216 rows × 12 columns</p>\n</div>"
     },
     "execution_count": 202,
     "metadata": {},
     "output_type": "execute_result"
    }
   ],
   "source": [
    "from tqdm import tqdm\n",
    "tqdm.pandas()\n",
    "df['winner_team'] = df.progress_apply(lambda row: row[row['result']] if row['result'] in df.columns.tolist() else 'tie', axis=1)\n",
    "df['winner_team_at_home'] = df.progress_apply(lambda row: row['home_team'] if row['result'] == 'home_team' else np.nan, axis=1)\n",
    "df"
   ]
  },
  {
   "cell_type": "code",
   "execution_count": 203,
   "metadata": {
    "colab": {
     "base_uri": "https://localhost:8080/",
     "height": 143
    },
    "id": "7ykqgv7x3Azr",
    "outputId": "63acdb65-5424-46a6-e437-712d5a7365e6",
    "pycharm": {
     "name": "#%%\n"
    }
   },
   "outputs": [
    {
     "data": {
      "text/plain": "           result\nhome_team     103\naway_team      63\ntie            50",
      "text/html": "<div>\n<style scoped>\n    .dataframe tbody tr th:only-of-type {\n        vertical-align: middle;\n    }\n\n    .dataframe tbody tr th {\n        vertical-align: top;\n    }\n\n    .dataframe thead th {\n        text-align: right;\n    }\n</style>\n<table border=\"1\" class=\"dataframe\">\n  <thead>\n    <tr style=\"text-align: right;\">\n      <th></th>\n      <th>result</th>\n    </tr>\n  </thead>\n  <tbody>\n    <tr>\n      <th>home_team</th>\n      <td>103</td>\n    </tr>\n    <tr>\n      <th>away_team</th>\n      <td>63</td>\n    </tr>\n    <tr>\n      <th>tie</th>\n      <td>50</td>\n    </tr>\n  </tbody>\n</table>\n</div>"
     },
     "execution_count": 203,
     "metadata": {},
     "output_type": "execute_result"
    }
   ],
   "source": [
    "match_result = df.result.value_counts()\n",
    "match_result = pd.DataFrame(match_result)\n",
    "match_result"
   ]
  },
  {
   "cell_type": "code",
   "execution_count": 204,
   "metadata": {
    "colab": {
     "base_uri": "https://localhost:8080/",
     "height": 143
    },
    "id": "--c68OGi3Azr",
    "outputId": "c9820fa3-f39e-4bce-afd3-3f45ed6693b9",
    "pycharm": {
     "name": "#%%\n"
    }
   },
   "outputs": [
    {
     "data": {
      "text/plain": "           result        who\nhome_team     103  home_team\naway_team      63  away_team\ntie            50        tie",
      "text/html": "<div>\n<style scoped>\n    .dataframe tbody tr th:only-of-type {\n        vertical-align: middle;\n    }\n\n    .dataframe tbody tr th {\n        vertical-align: top;\n    }\n\n    .dataframe thead th {\n        text-align: right;\n    }\n</style>\n<table border=\"1\" class=\"dataframe\">\n  <thead>\n    <tr style=\"text-align: right;\">\n      <th></th>\n      <th>result</th>\n      <th>who</th>\n    </tr>\n  </thead>\n  <tbody>\n    <tr>\n      <th>home_team</th>\n      <td>103</td>\n      <td>home_team</td>\n    </tr>\n    <tr>\n      <th>away_team</th>\n      <td>63</td>\n      <td>away_team</td>\n    </tr>\n    <tr>\n      <th>tie</th>\n      <td>50</td>\n      <td>tie</td>\n    </tr>\n  </tbody>\n</table>\n</div>"
     },
     "execution_count": 204,
     "metadata": {},
     "output_type": "execute_result"
    }
   ],
   "source": [
    "match_result['who'] = list(match_result.index)\n",
    "match_result"
   ]
  },
  {
   "attachments": {},
   "cell_type": "markdown",
   "metadata": {
    "pycharm": {
     "name": "#%% md\n"
    }
   },
   "source": [
    "A list containing all teams"
   ]
  },
  {
   "cell_type": "code",
   "execution_count": 205,
   "metadata": {
    "pycharm": {
     "name": "#%%\n"
    }
   },
   "outputs": [
    {
     "data": {
      "text/plain": "['Augsburg',\n 'Bayern Munich',\n 'Bochum',\n 'Dortmund',\n 'Ein Frankfurt',\n 'FC Koln',\n 'Freiburg',\n 'Hertha',\n 'Hoffenheim',\n 'Leverkusen',\n \"M'gladbach\",\n 'Mainz',\n 'RB Leipzig',\n 'Schalke 04',\n 'Stuttgart',\n 'Union Berlin',\n 'Werder Bremen',\n 'Wolfsburg']"
     },
     "execution_count": 205,
     "metadata": {},
     "output_type": "execute_result"
    }
   ],
   "source": [
    "all_teams_list = df.home_team.unique()\n",
    "all_teams_list = pd.DataFrame(all_teams_list)\n",
    "all_teams_list = all_teams_list[0].tolist()\n",
    "all_teams_list.sort(key=str.upper)\n",
    "all_teams_list"
   ]
  },
  {
   "cell_type": "markdown",
   "metadata": {
    "collapsed": false,
    "id": "QIG_nuoc3Azr",
    "pycharm": {
     "name": "#%% md\n"
    }
   },
   "source": [
    "# Chart that shows who won the most\n",
    "\n"
   ]
  },
  {
   "cell_type": "code",
   "execution_count": 206,
   "metadata": {
    "colab": {
     "base_uri": "https://localhost:8080/",
     "height": 542
    },
    "id": "_2G9uMRHkHkn",
    "outputId": "bb8bcf3a-3c01-4972-9cd0-b37c88b96ef4",
    "pycharm": {
     "name": "#%%\n"
    }
   },
   "outputs": [
    {
     "data": {
      "application/vnd.plotly.v1+json": {
       "data": [
        {
         "domain": {
          "x": [
           0.0,
           1.0
          ],
          "y": [
           0.0,
           1.0
          ]
         },
         "hovertemplate": "who=%{label}<br>result=%{value}<extra></extra>",
         "labels": [
          "home_team",
          "away_team",
          "tie"
         ],
         "legendgroup": "",
         "name": "",
         "showlegend": true,
         "values": [
          103,
          63,
          50
         ],
         "type": "pie"
        }
       ],
       "layout": {
        "template": {
         "data": {
          "histogram2dcontour": [
           {
            "type": "histogram2dcontour",
            "colorbar": {
             "outlinewidth": 0,
             "ticks": ""
            },
            "colorscale": [
             [
              0.0,
              "#0d0887"
             ],
             [
              0.1111111111111111,
              "#46039f"
             ],
             [
              0.2222222222222222,
              "#7201a8"
             ],
             [
              0.3333333333333333,
              "#9c179e"
             ],
             [
              0.4444444444444444,
              "#bd3786"
             ],
             [
              0.5555555555555556,
              "#d8576b"
             ],
             [
              0.6666666666666666,
              "#ed7953"
             ],
             [
              0.7777777777777778,
              "#fb9f3a"
             ],
             [
              0.8888888888888888,
              "#fdca26"
             ],
             [
              1.0,
              "#f0f921"
             ]
            ]
           }
          ],
          "choropleth": [
           {
            "type": "choropleth",
            "colorbar": {
             "outlinewidth": 0,
             "ticks": ""
            }
           }
          ],
          "histogram2d": [
           {
            "type": "histogram2d",
            "colorbar": {
             "outlinewidth": 0,
             "ticks": ""
            },
            "colorscale": [
             [
              0.0,
              "#0d0887"
             ],
             [
              0.1111111111111111,
              "#46039f"
             ],
             [
              0.2222222222222222,
              "#7201a8"
             ],
             [
              0.3333333333333333,
              "#9c179e"
             ],
             [
              0.4444444444444444,
              "#bd3786"
             ],
             [
              0.5555555555555556,
              "#d8576b"
             ],
             [
              0.6666666666666666,
              "#ed7953"
             ],
             [
              0.7777777777777778,
              "#fb9f3a"
             ],
             [
              0.8888888888888888,
              "#fdca26"
             ],
             [
              1.0,
              "#f0f921"
             ]
            ]
           }
          ],
          "heatmap": [
           {
            "type": "heatmap",
            "colorbar": {
             "outlinewidth": 0,
             "ticks": ""
            },
            "colorscale": [
             [
              0.0,
              "#0d0887"
             ],
             [
              0.1111111111111111,
              "#46039f"
             ],
             [
              0.2222222222222222,
              "#7201a8"
             ],
             [
              0.3333333333333333,
              "#9c179e"
             ],
             [
              0.4444444444444444,
              "#bd3786"
             ],
             [
              0.5555555555555556,
              "#d8576b"
             ],
             [
              0.6666666666666666,
              "#ed7953"
             ],
             [
              0.7777777777777778,
              "#fb9f3a"
             ],
             [
              0.8888888888888888,
              "#fdca26"
             ],
             [
              1.0,
              "#f0f921"
             ]
            ]
           }
          ],
          "heatmapgl": [
           {
            "type": "heatmapgl",
            "colorbar": {
             "outlinewidth": 0,
             "ticks": ""
            },
            "colorscale": [
             [
              0.0,
              "#0d0887"
             ],
             [
              0.1111111111111111,
              "#46039f"
             ],
             [
              0.2222222222222222,
              "#7201a8"
             ],
             [
              0.3333333333333333,
              "#9c179e"
             ],
             [
              0.4444444444444444,
              "#bd3786"
             ],
             [
              0.5555555555555556,
              "#d8576b"
             ],
             [
              0.6666666666666666,
              "#ed7953"
             ],
             [
              0.7777777777777778,
              "#fb9f3a"
             ],
             [
              0.8888888888888888,
              "#fdca26"
             ],
             [
              1.0,
              "#f0f921"
             ]
            ]
           }
          ],
          "contourcarpet": [
           {
            "type": "contourcarpet",
            "colorbar": {
             "outlinewidth": 0,
             "ticks": ""
            }
           }
          ],
          "contour": [
           {
            "type": "contour",
            "colorbar": {
             "outlinewidth": 0,
             "ticks": ""
            },
            "colorscale": [
             [
              0.0,
              "#0d0887"
             ],
             [
              0.1111111111111111,
              "#46039f"
             ],
             [
              0.2222222222222222,
              "#7201a8"
             ],
             [
              0.3333333333333333,
              "#9c179e"
             ],
             [
              0.4444444444444444,
              "#bd3786"
             ],
             [
              0.5555555555555556,
              "#d8576b"
             ],
             [
              0.6666666666666666,
              "#ed7953"
             ],
             [
              0.7777777777777778,
              "#fb9f3a"
             ],
             [
              0.8888888888888888,
              "#fdca26"
             ],
             [
              1.0,
              "#f0f921"
             ]
            ]
           }
          ],
          "surface": [
           {
            "type": "surface",
            "colorbar": {
             "outlinewidth": 0,
             "ticks": ""
            },
            "colorscale": [
             [
              0.0,
              "#0d0887"
             ],
             [
              0.1111111111111111,
              "#46039f"
             ],
             [
              0.2222222222222222,
              "#7201a8"
             ],
             [
              0.3333333333333333,
              "#9c179e"
             ],
             [
              0.4444444444444444,
              "#bd3786"
             ],
             [
              0.5555555555555556,
              "#d8576b"
             ],
             [
              0.6666666666666666,
              "#ed7953"
             ],
             [
              0.7777777777777778,
              "#fb9f3a"
             ],
             [
              0.8888888888888888,
              "#fdca26"
             ],
             [
              1.0,
              "#f0f921"
             ]
            ]
           }
          ],
          "mesh3d": [
           {
            "type": "mesh3d",
            "colorbar": {
             "outlinewidth": 0,
             "ticks": ""
            }
           }
          ],
          "scatter": [
           {
            "marker": {
             "line": {
              "color": "#283442"
             }
            },
            "type": "scatter"
           }
          ],
          "parcoords": [
           {
            "type": "parcoords",
            "line": {
             "colorbar": {
              "outlinewidth": 0,
              "ticks": ""
             }
            }
           }
          ],
          "scatterpolargl": [
           {
            "type": "scatterpolargl",
            "marker": {
             "colorbar": {
              "outlinewidth": 0,
              "ticks": ""
             }
            }
           }
          ],
          "bar": [
           {
            "error_x": {
             "color": "#f2f5fa"
            },
            "error_y": {
             "color": "#f2f5fa"
            },
            "marker": {
             "line": {
              "color": "rgb(17,17,17)",
              "width": 0.5
             },
             "pattern": {
              "fillmode": "overlay",
              "size": 10,
              "solidity": 0.2
             }
            },
            "type": "bar"
           }
          ],
          "scattergeo": [
           {
            "type": "scattergeo",
            "marker": {
             "colorbar": {
              "outlinewidth": 0,
              "ticks": ""
             }
            }
           }
          ],
          "scatterpolar": [
           {
            "type": "scatterpolar",
            "marker": {
             "colorbar": {
              "outlinewidth": 0,
              "ticks": ""
             }
            }
           }
          ],
          "histogram": [
           {
            "marker": {
             "pattern": {
              "fillmode": "overlay",
              "size": 10,
              "solidity": 0.2
             }
            },
            "type": "histogram"
           }
          ],
          "scattergl": [
           {
            "marker": {
             "line": {
              "color": "#283442"
             }
            },
            "type": "scattergl"
           }
          ],
          "scatter3d": [
           {
            "type": "scatter3d",
            "line": {
             "colorbar": {
              "outlinewidth": 0,
              "ticks": ""
             }
            },
            "marker": {
             "colorbar": {
              "outlinewidth": 0,
              "ticks": ""
             }
            }
           }
          ],
          "scattermapbox": [
           {
            "type": "scattermapbox",
            "marker": {
             "colorbar": {
              "outlinewidth": 0,
              "ticks": ""
             }
            }
           }
          ],
          "scatterternary": [
           {
            "type": "scatterternary",
            "marker": {
             "colorbar": {
              "outlinewidth": 0,
              "ticks": ""
             }
            }
           }
          ],
          "scattercarpet": [
           {
            "type": "scattercarpet",
            "marker": {
             "colorbar": {
              "outlinewidth": 0,
              "ticks": ""
             }
            }
           }
          ],
          "carpet": [
           {
            "aaxis": {
             "endlinecolor": "#A2B1C6",
             "gridcolor": "#506784",
             "linecolor": "#506784",
             "minorgridcolor": "#506784",
             "startlinecolor": "#A2B1C6"
            },
            "baxis": {
             "endlinecolor": "#A2B1C6",
             "gridcolor": "#506784",
             "linecolor": "#506784",
             "minorgridcolor": "#506784",
             "startlinecolor": "#A2B1C6"
            },
            "type": "carpet"
           }
          ],
          "table": [
           {
            "cells": {
             "fill": {
              "color": "#506784"
             },
             "line": {
              "color": "rgb(17,17,17)"
             }
            },
            "header": {
             "fill": {
              "color": "#2a3f5f"
             },
             "line": {
              "color": "rgb(17,17,17)"
             }
            },
            "type": "table"
           }
          ],
          "barpolar": [
           {
            "marker": {
             "line": {
              "color": "rgb(17,17,17)",
              "width": 0.5
             },
             "pattern": {
              "fillmode": "overlay",
              "size": 10,
              "solidity": 0.2
             }
            },
            "type": "barpolar"
           }
          ],
          "pie": [
           {
            "automargin": true,
            "type": "pie"
           }
          ]
         },
         "layout": {
          "autotypenumbers": "strict",
          "colorway": [
           "#636efa",
           "#EF553B",
           "#00cc96",
           "#ab63fa",
           "#FFA15A",
           "#19d3f3",
           "#FF6692",
           "#B6E880",
           "#FF97FF",
           "#FECB52"
          ],
          "font": {
           "color": "#f2f5fa"
          },
          "hovermode": "closest",
          "hoverlabel": {
           "align": "left"
          },
          "paper_bgcolor": "rgb(17,17,17)",
          "plot_bgcolor": "rgb(17,17,17)",
          "polar": {
           "bgcolor": "rgb(17,17,17)",
           "angularaxis": {
            "gridcolor": "#506784",
            "linecolor": "#506784",
            "ticks": ""
           },
           "radialaxis": {
            "gridcolor": "#506784",
            "linecolor": "#506784",
            "ticks": ""
           }
          },
          "ternary": {
           "bgcolor": "rgb(17,17,17)",
           "aaxis": {
            "gridcolor": "#506784",
            "linecolor": "#506784",
            "ticks": ""
           },
           "baxis": {
            "gridcolor": "#506784",
            "linecolor": "#506784",
            "ticks": ""
           },
           "caxis": {
            "gridcolor": "#506784",
            "linecolor": "#506784",
            "ticks": ""
           }
          },
          "coloraxis": {
           "colorbar": {
            "outlinewidth": 0,
            "ticks": ""
           }
          },
          "colorscale": {
           "sequential": [
            [
             0.0,
             "#0d0887"
            ],
            [
             0.1111111111111111,
             "#46039f"
            ],
            [
             0.2222222222222222,
             "#7201a8"
            ],
            [
             0.3333333333333333,
             "#9c179e"
            ],
            [
             0.4444444444444444,
             "#bd3786"
            ],
            [
             0.5555555555555556,
             "#d8576b"
            ],
            [
             0.6666666666666666,
             "#ed7953"
            ],
            [
             0.7777777777777778,
             "#fb9f3a"
            ],
            [
             0.8888888888888888,
             "#fdca26"
            ],
            [
             1.0,
             "#f0f921"
            ]
           ],
           "sequentialminus": [
            [
             0.0,
             "#0d0887"
            ],
            [
             0.1111111111111111,
             "#46039f"
            ],
            [
             0.2222222222222222,
             "#7201a8"
            ],
            [
             0.3333333333333333,
             "#9c179e"
            ],
            [
             0.4444444444444444,
             "#bd3786"
            ],
            [
             0.5555555555555556,
             "#d8576b"
            ],
            [
             0.6666666666666666,
             "#ed7953"
            ],
            [
             0.7777777777777778,
             "#fb9f3a"
            ],
            [
             0.8888888888888888,
             "#fdca26"
            ],
            [
             1.0,
             "#f0f921"
            ]
           ],
           "diverging": [
            [
             0,
             "#8e0152"
            ],
            [
             0.1,
             "#c51b7d"
            ],
            [
             0.2,
             "#de77ae"
            ],
            [
             0.3,
             "#f1b6da"
            ],
            [
             0.4,
             "#fde0ef"
            ],
            [
             0.5,
             "#f7f7f7"
            ],
            [
             0.6,
             "#e6f5d0"
            ],
            [
             0.7,
             "#b8e186"
            ],
            [
             0.8,
             "#7fbc41"
            ],
            [
             0.9,
             "#4d9221"
            ],
            [
             1,
             "#276419"
            ]
           ]
          },
          "xaxis": {
           "gridcolor": "#283442",
           "linecolor": "#506784",
           "ticks": "",
           "title": {
            "standoff": 15
           },
           "zerolinecolor": "#283442",
           "automargin": true,
           "zerolinewidth": 2
          },
          "yaxis": {
           "gridcolor": "#283442",
           "linecolor": "#506784",
           "ticks": "",
           "title": {
            "standoff": 15
           },
           "zerolinecolor": "#283442",
           "automargin": true,
           "zerolinewidth": 2
          },
          "scene": {
           "xaxis": {
            "backgroundcolor": "rgb(17,17,17)",
            "gridcolor": "#506784",
            "linecolor": "#506784",
            "showbackground": true,
            "ticks": "",
            "zerolinecolor": "#C8D4E3",
            "gridwidth": 2
           },
           "yaxis": {
            "backgroundcolor": "rgb(17,17,17)",
            "gridcolor": "#506784",
            "linecolor": "#506784",
            "showbackground": true,
            "ticks": "",
            "zerolinecolor": "#C8D4E3",
            "gridwidth": 2
           },
           "zaxis": {
            "backgroundcolor": "rgb(17,17,17)",
            "gridcolor": "#506784",
            "linecolor": "#506784",
            "showbackground": true,
            "ticks": "",
            "zerolinecolor": "#C8D4E3",
            "gridwidth": 2
           }
          },
          "shapedefaults": {
           "line": {
            "color": "#f2f5fa"
           }
          },
          "annotationdefaults": {
           "arrowcolor": "#f2f5fa",
           "arrowhead": 0,
           "arrowwidth": 1
          },
          "geo": {
           "bgcolor": "rgb(17,17,17)",
           "landcolor": "rgb(17,17,17)",
           "subunitcolor": "#506784",
           "showland": true,
           "showlakes": true,
           "lakecolor": "rgb(17,17,17)"
          },
          "title": {
           "x": 0.05
          },
          "updatemenudefaults": {
           "bgcolor": "#506784",
           "borderwidth": 0
          },
          "sliderdefaults": {
           "bgcolor": "#C8D4E3",
           "borderwidth": 1,
           "bordercolor": "rgb(17,17,17)",
           "tickwidth": 0
          },
          "mapbox": {
           "style": "dark"
          }
         }
        },
        "legend": {
         "tracegroupgap": 0
        },
        "title": {
         "text": "Who won?"
        }
       },
       "config": {
        "plotlyServerURL": "https://plot.ly"
       }
      },
      "text/html": "<div>                            <div id=\"c595eb3a-be81-46f2-8b03-9d8bdd2d5559\" class=\"plotly-graph-div\" style=\"height:525px; width:100%;\"></div>            <script type=\"text/javascript\">                require([\"plotly\"], function(Plotly) {                    window.PLOTLYENV=window.PLOTLYENV || {};                                    if (document.getElementById(\"c595eb3a-be81-46f2-8b03-9d8bdd2d5559\")) {                    Plotly.newPlot(                        \"c595eb3a-be81-46f2-8b03-9d8bdd2d5559\",                        [{\"domain\":{\"x\":[0.0,1.0],\"y\":[0.0,1.0]},\"hovertemplate\":\"who=%{label}<br>result=%{value}<extra></extra>\",\"labels\":[\"home_team\",\"away_team\",\"tie\"],\"legendgroup\":\"\",\"name\":\"\",\"showlegend\":true,\"values\":[103,63,50],\"type\":\"pie\"}],                        {\"template\":{\"data\":{\"histogram2dcontour\":[{\"type\":\"histogram2dcontour\",\"colorbar\":{\"outlinewidth\":0,\"ticks\":\"\"},\"colorscale\":[[0.0,\"#0d0887\"],[0.1111111111111111,\"#46039f\"],[0.2222222222222222,\"#7201a8\"],[0.3333333333333333,\"#9c179e\"],[0.4444444444444444,\"#bd3786\"],[0.5555555555555556,\"#d8576b\"],[0.6666666666666666,\"#ed7953\"],[0.7777777777777778,\"#fb9f3a\"],[0.8888888888888888,\"#fdca26\"],[1.0,\"#f0f921\"]]}],\"choropleth\":[{\"type\":\"choropleth\",\"colorbar\":{\"outlinewidth\":0,\"ticks\":\"\"}}],\"histogram2d\":[{\"type\":\"histogram2d\",\"colorbar\":{\"outlinewidth\":0,\"ticks\":\"\"},\"colorscale\":[[0.0,\"#0d0887\"],[0.1111111111111111,\"#46039f\"],[0.2222222222222222,\"#7201a8\"],[0.3333333333333333,\"#9c179e\"],[0.4444444444444444,\"#bd3786\"],[0.5555555555555556,\"#d8576b\"],[0.6666666666666666,\"#ed7953\"],[0.7777777777777778,\"#fb9f3a\"],[0.8888888888888888,\"#fdca26\"],[1.0,\"#f0f921\"]]}],\"heatmap\":[{\"type\":\"heatmap\",\"colorbar\":{\"outlinewidth\":0,\"ticks\":\"\"},\"colorscale\":[[0.0,\"#0d0887\"],[0.1111111111111111,\"#46039f\"],[0.2222222222222222,\"#7201a8\"],[0.3333333333333333,\"#9c179e\"],[0.4444444444444444,\"#bd3786\"],[0.5555555555555556,\"#d8576b\"],[0.6666666666666666,\"#ed7953\"],[0.7777777777777778,\"#fb9f3a\"],[0.8888888888888888,\"#fdca26\"],[1.0,\"#f0f921\"]]}],\"heatmapgl\":[{\"type\":\"heatmapgl\",\"colorbar\":{\"outlinewidth\":0,\"ticks\":\"\"},\"colorscale\":[[0.0,\"#0d0887\"],[0.1111111111111111,\"#46039f\"],[0.2222222222222222,\"#7201a8\"],[0.3333333333333333,\"#9c179e\"],[0.4444444444444444,\"#bd3786\"],[0.5555555555555556,\"#d8576b\"],[0.6666666666666666,\"#ed7953\"],[0.7777777777777778,\"#fb9f3a\"],[0.8888888888888888,\"#fdca26\"],[1.0,\"#f0f921\"]]}],\"contourcarpet\":[{\"type\":\"contourcarpet\",\"colorbar\":{\"outlinewidth\":0,\"ticks\":\"\"}}],\"contour\":[{\"type\":\"contour\",\"colorbar\":{\"outlinewidth\":0,\"ticks\":\"\"},\"colorscale\":[[0.0,\"#0d0887\"],[0.1111111111111111,\"#46039f\"],[0.2222222222222222,\"#7201a8\"],[0.3333333333333333,\"#9c179e\"],[0.4444444444444444,\"#bd3786\"],[0.5555555555555556,\"#d8576b\"],[0.6666666666666666,\"#ed7953\"],[0.7777777777777778,\"#fb9f3a\"],[0.8888888888888888,\"#fdca26\"],[1.0,\"#f0f921\"]]}],\"surface\":[{\"type\":\"surface\",\"colorbar\":{\"outlinewidth\":0,\"ticks\":\"\"},\"colorscale\":[[0.0,\"#0d0887\"],[0.1111111111111111,\"#46039f\"],[0.2222222222222222,\"#7201a8\"],[0.3333333333333333,\"#9c179e\"],[0.4444444444444444,\"#bd3786\"],[0.5555555555555556,\"#d8576b\"],[0.6666666666666666,\"#ed7953\"],[0.7777777777777778,\"#fb9f3a\"],[0.8888888888888888,\"#fdca26\"],[1.0,\"#f0f921\"]]}],\"mesh3d\":[{\"type\":\"mesh3d\",\"colorbar\":{\"outlinewidth\":0,\"ticks\":\"\"}}],\"scatter\":[{\"marker\":{\"line\":{\"color\":\"#283442\"}},\"type\":\"scatter\"}],\"parcoords\":[{\"type\":\"parcoords\",\"line\":{\"colorbar\":{\"outlinewidth\":0,\"ticks\":\"\"}}}],\"scatterpolargl\":[{\"type\":\"scatterpolargl\",\"marker\":{\"colorbar\":{\"outlinewidth\":0,\"ticks\":\"\"}}}],\"bar\":[{\"error_x\":{\"color\":\"#f2f5fa\"},\"error_y\":{\"color\":\"#f2f5fa\"},\"marker\":{\"line\":{\"color\":\"rgb(17,17,17)\",\"width\":0.5},\"pattern\":{\"fillmode\":\"overlay\",\"size\":10,\"solidity\":0.2}},\"type\":\"bar\"}],\"scattergeo\":[{\"type\":\"scattergeo\",\"marker\":{\"colorbar\":{\"outlinewidth\":0,\"ticks\":\"\"}}}],\"scatterpolar\":[{\"type\":\"scatterpolar\",\"marker\":{\"colorbar\":{\"outlinewidth\":0,\"ticks\":\"\"}}}],\"histogram\":[{\"marker\":{\"pattern\":{\"fillmode\":\"overlay\",\"size\":10,\"solidity\":0.2}},\"type\":\"histogram\"}],\"scattergl\":[{\"marker\":{\"line\":{\"color\":\"#283442\"}},\"type\":\"scattergl\"}],\"scatter3d\":[{\"type\":\"scatter3d\",\"line\":{\"colorbar\":{\"outlinewidth\":0,\"ticks\":\"\"}},\"marker\":{\"colorbar\":{\"outlinewidth\":0,\"ticks\":\"\"}}}],\"scattermapbox\":[{\"type\":\"scattermapbox\",\"marker\":{\"colorbar\":{\"outlinewidth\":0,\"ticks\":\"\"}}}],\"scatterternary\":[{\"type\":\"scatterternary\",\"marker\":{\"colorbar\":{\"outlinewidth\":0,\"ticks\":\"\"}}}],\"scattercarpet\":[{\"type\":\"scattercarpet\",\"marker\":{\"colorbar\":{\"outlinewidth\":0,\"ticks\":\"\"}}}],\"carpet\":[{\"aaxis\":{\"endlinecolor\":\"#A2B1C6\",\"gridcolor\":\"#506784\",\"linecolor\":\"#506784\",\"minorgridcolor\":\"#506784\",\"startlinecolor\":\"#A2B1C6\"},\"baxis\":{\"endlinecolor\":\"#A2B1C6\",\"gridcolor\":\"#506784\",\"linecolor\":\"#506784\",\"minorgridcolor\":\"#506784\",\"startlinecolor\":\"#A2B1C6\"},\"type\":\"carpet\"}],\"table\":[{\"cells\":{\"fill\":{\"color\":\"#506784\"},\"line\":{\"color\":\"rgb(17,17,17)\"}},\"header\":{\"fill\":{\"color\":\"#2a3f5f\"},\"line\":{\"color\":\"rgb(17,17,17)\"}},\"type\":\"table\"}],\"barpolar\":[{\"marker\":{\"line\":{\"color\":\"rgb(17,17,17)\",\"width\":0.5},\"pattern\":{\"fillmode\":\"overlay\",\"size\":10,\"solidity\":0.2}},\"type\":\"barpolar\"}],\"pie\":[{\"automargin\":true,\"type\":\"pie\"}]},\"layout\":{\"autotypenumbers\":\"strict\",\"colorway\":[\"#636efa\",\"#EF553B\",\"#00cc96\",\"#ab63fa\",\"#FFA15A\",\"#19d3f3\",\"#FF6692\",\"#B6E880\",\"#FF97FF\",\"#FECB52\"],\"font\":{\"color\":\"#f2f5fa\"},\"hovermode\":\"closest\",\"hoverlabel\":{\"align\":\"left\"},\"paper_bgcolor\":\"rgb(17,17,17)\",\"plot_bgcolor\":\"rgb(17,17,17)\",\"polar\":{\"bgcolor\":\"rgb(17,17,17)\",\"angularaxis\":{\"gridcolor\":\"#506784\",\"linecolor\":\"#506784\",\"ticks\":\"\"},\"radialaxis\":{\"gridcolor\":\"#506784\",\"linecolor\":\"#506784\",\"ticks\":\"\"}},\"ternary\":{\"bgcolor\":\"rgb(17,17,17)\",\"aaxis\":{\"gridcolor\":\"#506784\",\"linecolor\":\"#506784\",\"ticks\":\"\"},\"baxis\":{\"gridcolor\":\"#506784\",\"linecolor\":\"#506784\",\"ticks\":\"\"},\"caxis\":{\"gridcolor\":\"#506784\",\"linecolor\":\"#506784\",\"ticks\":\"\"}},\"coloraxis\":{\"colorbar\":{\"outlinewidth\":0,\"ticks\":\"\"}},\"colorscale\":{\"sequential\":[[0.0,\"#0d0887\"],[0.1111111111111111,\"#46039f\"],[0.2222222222222222,\"#7201a8\"],[0.3333333333333333,\"#9c179e\"],[0.4444444444444444,\"#bd3786\"],[0.5555555555555556,\"#d8576b\"],[0.6666666666666666,\"#ed7953\"],[0.7777777777777778,\"#fb9f3a\"],[0.8888888888888888,\"#fdca26\"],[1.0,\"#f0f921\"]],\"sequentialminus\":[[0.0,\"#0d0887\"],[0.1111111111111111,\"#46039f\"],[0.2222222222222222,\"#7201a8\"],[0.3333333333333333,\"#9c179e\"],[0.4444444444444444,\"#bd3786\"],[0.5555555555555556,\"#d8576b\"],[0.6666666666666666,\"#ed7953\"],[0.7777777777777778,\"#fb9f3a\"],[0.8888888888888888,\"#fdca26\"],[1.0,\"#f0f921\"]],\"diverging\":[[0,\"#8e0152\"],[0.1,\"#c51b7d\"],[0.2,\"#de77ae\"],[0.3,\"#f1b6da\"],[0.4,\"#fde0ef\"],[0.5,\"#f7f7f7\"],[0.6,\"#e6f5d0\"],[0.7,\"#b8e186\"],[0.8,\"#7fbc41\"],[0.9,\"#4d9221\"],[1,\"#276419\"]]},\"xaxis\":{\"gridcolor\":\"#283442\",\"linecolor\":\"#506784\",\"ticks\":\"\",\"title\":{\"standoff\":15},\"zerolinecolor\":\"#283442\",\"automargin\":true,\"zerolinewidth\":2},\"yaxis\":{\"gridcolor\":\"#283442\",\"linecolor\":\"#506784\",\"ticks\":\"\",\"title\":{\"standoff\":15},\"zerolinecolor\":\"#283442\",\"automargin\":true,\"zerolinewidth\":2},\"scene\":{\"xaxis\":{\"backgroundcolor\":\"rgb(17,17,17)\",\"gridcolor\":\"#506784\",\"linecolor\":\"#506784\",\"showbackground\":true,\"ticks\":\"\",\"zerolinecolor\":\"#C8D4E3\",\"gridwidth\":2},\"yaxis\":{\"backgroundcolor\":\"rgb(17,17,17)\",\"gridcolor\":\"#506784\",\"linecolor\":\"#506784\",\"showbackground\":true,\"ticks\":\"\",\"zerolinecolor\":\"#C8D4E3\",\"gridwidth\":2},\"zaxis\":{\"backgroundcolor\":\"rgb(17,17,17)\",\"gridcolor\":\"#506784\",\"linecolor\":\"#506784\",\"showbackground\":true,\"ticks\":\"\",\"zerolinecolor\":\"#C8D4E3\",\"gridwidth\":2}},\"shapedefaults\":{\"line\":{\"color\":\"#f2f5fa\"}},\"annotationdefaults\":{\"arrowcolor\":\"#f2f5fa\",\"arrowhead\":0,\"arrowwidth\":1},\"geo\":{\"bgcolor\":\"rgb(17,17,17)\",\"landcolor\":\"rgb(17,17,17)\",\"subunitcolor\":\"#506784\",\"showland\":true,\"showlakes\":true,\"lakecolor\":\"rgb(17,17,17)\"},\"title\":{\"x\":0.05},\"updatemenudefaults\":{\"bgcolor\":\"#506784\",\"borderwidth\":0},\"sliderdefaults\":{\"bgcolor\":\"#C8D4E3\",\"borderwidth\":1,\"bordercolor\":\"rgb(17,17,17)\",\"tickwidth\":0},\"mapbox\":{\"style\":\"dark\"}}},\"legend\":{\"tracegroupgap\":0},\"title\":{\"text\":\"Who won?\"}},                        {\"responsive\": true}                    ).then(function(){\n                            \nvar gd = document.getElementById('c595eb3a-be81-46f2-8b03-9d8bdd2d5559');\nvar x = new MutationObserver(function (mutations, observer) {{\n        var display = window.getComputedStyle(gd).display;\n        if (!display || display === 'none') {{\n            console.log([gd, 'removed!']);\n            Plotly.purge(gd);\n            observer.disconnect();\n        }}\n}});\n\n// Listen for the removal of the full notebook cells\nvar notebookContainer = gd.closest('#notebook-container');\nif (notebookContainer) {{\n    x.observe(notebookContainer, {childList: true});\n}}\n\n// Listen for the clearing of the current output cell\nvar outputEl = gd.closest('.output');\nif (outputEl) {{\n    x.observe(outputEl, {childList: true});\n}}\n\n                        })                };                });            </script>        </div>"
     },
     "metadata": {},
     "output_type": "display_data"
    }
   ],
   "source": [
    "import plotly.express as px\n",
    "fig_1 = px.pie(match_result, values='result', names='who', title='Who won?')\n",
    "fig_1.show()\n"
   ]
  },
  {
   "attachments": {},
   "cell_type": "markdown",
   "metadata": {
    "pycharm": {
     "name": "#%% md\n"
    }
   },
   "source": [
    "Who won the most by team"
   ]
  },
  {
   "cell_type": "code",
   "execution_count": 207,
   "metadata": {
    "pycharm": {
     "name": "#%%\n"
    }
   },
   "outputs": [],
   "source": [
    "import plotly.express as px\n",
    "\n",
    "def who_won_most_by_team(time_selecionado):\n",
    "    if time_selecionado == 'Todos':\n",
    "        tabela_time = df\n",
    "    else:\n",
    "        tabela_time = df[df.home_team == time_selecionado]\n",
    "\n",
    "    match_result_team = tabela_time.result.value_counts()\n",
    "    match_result_team = pd.DataFrame(match_result_team)\n",
    "    match_result_team['who'] = list(match_result_team.index)\n",
    "    match_result_team['who'] = match_result_team['who'].replace(['home_team'], f'home_team ({time_selecionado})')\n",
    "\n",
    "    graph_fig = px.pie(match_result_team, values='result', names='who', title=f'Who won the most?<br><sup>Home Team: {time_selecionado}</sup>')\n",
    "    return graph_fig"
   ]
  },
  {
   "cell_type": "code",
   "execution_count": 208,
   "metadata": {
    "pycharm": {
     "name": "#%%\n"
    }
   },
   "outputs": [
    {
     "data": {
      "application/vnd.plotly.v1+json": {
       "data": [
        {
         "domain": {
          "x": [
           0.0,
           1.0
          ],
          "y": [
           0.0,
           1.0
          ]
         },
         "hovertemplate": "who=%{label}<br>result=%{value}<extra></extra>",
         "labels": [
          "home_team (Dortmund)",
          "away_team",
          "tie"
         ],
         "legendgroup": "",
         "name": "",
         "showlegend": true,
         "values": [
          9,
          1,
          1
         ],
         "type": "pie"
        }
       ],
       "layout": {
        "template": {
         "data": {
          "histogram2dcontour": [
           {
            "type": "histogram2dcontour",
            "colorbar": {
             "outlinewidth": 0,
             "ticks": ""
            },
            "colorscale": [
             [
              0.0,
              "#0d0887"
             ],
             [
              0.1111111111111111,
              "#46039f"
             ],
             [
              0.2222222222222222,
              "#7201a8"
             ],
             [
              0.3333333333333333,
              "#9c179e"
             ],
             [
              0.4444444444444444,
              "#bd3786"
             ],
             [
              0.5555555555555556,
              "#d8576b"
             ],
             [
              0.6666666666666666,
              "#ed7953"
             ],
             [
              0.7777777777777778,
              "#fb9f3a"
             ],
             [
              0.8888888888888888,
              "#fdca26"
             ],
             [
              1.0,
              "#f0f921"
             ]
            ]
           }
          ],
          "choropleth": [
           {
            "type": "choropleth",
            "colorbar": {
             "outlinewidth": 0,
             "ticks": ""
            }
           }
          ],
          "histogram2d": [
           {
            "type": "histogram2d",
            "colorbar": {
             "outlinewidth": 0,
             "ticks": ""
            },
            "colorscale": [
             [
              0.0,
              "#0d0887"
             ],
             [
              0.1111111111111111,
              "#46039f"
             ],
             [
              0.2222222222222222,
              "#7201a8"
             ],
             [
              0.3333333333333333,
              "#9c179e"
             ],
             [
              0.4444444444444444,
              "#bd3786"
             ],
             [
              0.5555555555555556,
              "#d8576b"
             ],
             [
              0.6666666666666666,
              "#ed7953"
             ],
             [
              0.7777777777777778,
              "#fb9f3a"
             ],
             [
              0.8888888888888888,
              "#fdca26"
             ],
             [
              1.0,
              "#f0f921"
             ]
            ]
           }
          ],
          "heatmap": [
           {
            "type": "heatmap",
            "colorbar": {
             "outlinewidth": 0,
             "ticks": ""
            },
            "colorscale": [
             [
              0.0,
              "#0d0887"
             ],
             [
              0.1111111111111111,
              "#46039f"
             ],
             [
              0.2222222222222222,
              "#7201a8"
             ],
             [
              0.3333333333333333,
              "#9c179e"
             ],
             [
              0.4444444444444444,
              "#bd3786"
             ],
             [
              0.5555555555555556,
              "#d8576b"
             ],
             [
              0.6666666666666666,
              "#ed7953"
             ],
             [
              0.7777777777777778,
              "#fb9f3a"
             ],
             [
              0.8888888888888888,
              "#fdca26"
             ],
             [
              1.0,
              "#f0f921"
             ]
            ]
           }
          ],
          "heatmapgl": [
           {
            "type": "heatmapgl",
            "colorbar": {
             "outlinewidth": 0,
             "ticks": ""
            },
            "colorscale": [
             [
              0.0,
              "#0d0887"
             ],
             [
              0.1111111111111111,
              "#46039f"
             ],
             [
              0.2222222222222222,
              "#7201a8"
             ],
             [
              0.3333333333333333,
              "#9c179e"
             ],
             [
              0.4444444444444444,
              "#bd3786"
             ],
             [
              0.5555555555555556,
              "#d8576b"
             ],
             [
              0.6666666666666666,
              "#ed7953"
             ],
             [
              0.7777777777777778,
              "#fb9f3a"
             ],
             [
              0.8888888888888888,
              "#fdca26"
             ],
             [
              1.0,
              "#f0f921"
             ]
            ]
           }
          ],
          "contourcarpet": [
           {
            "type": "contourcarpet",
            "colorbar": {
             "outlinewidth": 0,
             "ticks": ""
            }
           }
          ],
          "contour": [
           {
            "type": "contour",
            "colorbar": {
             "outlinewidth": 0,
             "ticks": ""
            },
            "colorscale": [
             [
              0.0,
              "#0d0887"
             ],
             [
              0.1111111111111111,
              "#46039f"
             ],
             [
              0.2222222222222222,
              "#7201a8"
             ],
             [
              0.3333333333333333,
              "#9c179e"
             ],
             [
              0.4444444444444444,
              "#bd3786"
             ],
             [
              0.5555555555555556,
              "#d8576b"
             ],
             [
              0.6666666666666666,
              "#ed7953"
             ],
             [
              0.7777777777777778,
              "#fb9f3a"
             ],
             [
              0.8888888888888888,
              "#fdca26"
             ],
             [
              1.0,
              "#f0f921"
             ]
            ]
           }
          ],
          "surface": [
           {
            "type": "surface",
            "colorbar": {
             "outlinewidth": 0,
             "ticks": ""
            },
            "colorscale": [
             [
              0.0,
              "#0d0887"
             ],
             [
              0.1111111111111111,
              "#46039f"
             ],
             [
              0.2222222222222222,
              "#7201a8"
             ],
             [
              0.3333333333333333,
              "#9c179e"
             ],
             [
              0.4444444444444444,
              "#bd3786"
             ],
             [
              0.5555555555555556,
              "#d8576b"
             ],
             [
              0.6666666666666666,
              "#ed7953"
             ],
             [
              0.7777777777777778,
              "#fb9f3a"
             ],
             [
              0.8888888888888888,
              "#fdca26"
             ],
             [
              1.0,
              "#f0f921"
             ]
            ]
           }
          ],
          "mesh3d": [
           {
            "type": "mesh3d",
            "colorbar": {
             "outlinewidth": 0,
             "ticks": ""
            }
           }
          ],
          "scatter": [
           {
            "marker": {
             "line": {
              "color": "#283442"
             }
            },
            "type": "scatter"
           }
          ],
          "parcoords": [
           {
            "type": "parcoords",
            "line": {
             "colorbar": {
              "outlinewidth": 0,
              "ticks": ""
             }
            }
           }
          ],
          "scatterpolargl": [
           {
            "type": "scatterpolargl",
            "marker": {
             "colorbar": {
              "outlinewidth": 0,
              "ticks": ""
             }
            }
           }
          ],
          "bar": [
           {
            "error_x": {
             "color": "#f2f5fa"
            },
            "error_y": {
             "color": "#f2f5fa"
            },
            "marker": {
             "line": {
              "color": "rgb(17,17,17)",
              "width": 0.5
             },
             "pattern": {
              "fillmode": "overlay",
              "size": 10,
              "solidity": 0.2
             }
            },
            "type": "bar"
           }
          ],
          "scattergeo": [
           {
            "type": "scattergeo",
            "marker": {
             "colorbar": {
              "outlinewidth": 0,
              "ticks": ""
             }
            }
           }
          ],
          "scatterpolar": [
           {
            "type": "scatterpolar",
            "marker": {
             "colorbar": {
              "outlinewidth": 0,
              "ticks": ""
             }
            }
           }
          ],
          "histogram": [
           {
            "marker": {
             "pattern": {
              "fillmode": "overlay",
              "size": 10,
              "solidity": 0.2
             }
            },
            "type": "histogram"
           }
          ],
          "scattergl": [
           {
            "marker": {
             "line": {
              "color": "#283442"
             }
            },
            "type": "scattergl"
           }
          ],
          "scatter3d": [
           {
            "type": "scatter3d",
            "line": {
             "colorbar": {
              "outlinewidth": 0,
              "ticks": ""
             }
            },
            "marker": {
             "colorbar": {
              "outlinewidth": 0,
              "ticks": ""
             }
            }
           }
          ],
          "scattermapbox": [
           {
            "type": "scattermapbox",
            "marker": {
             "colorbar": {
              "outlinewidth": 0,
              "ticks": ""
             }
            }
           }
          ],
          "scatterternary": [
           {
            "type": "scatterternary",
            "marker": {
             "colorbar": {
              "outlinewidth": 0,
              "ticks": ""
             }
            }
           }
          ],
          "scattercarpet": [
           {
            "type": "scattercarpet",
            "marker": {
             "colorbar": {
              "outlinewidth": 0,
              "ticks": ""
             }
            }
           }
          ],
          "carpet": [
           {
            "aaxis": {
             "endlinecolor": "#A2B1C6",
             "gridcolor": "#506784",
             "linecolor": "#506784",
             "minorgridcolor": "#506784",
             "startlinecolor": "#A2B1C6"
            },
            "baxis": {
             "endlinecolor": "#A2B1C6",
             "gridcolor": "#506784",
             "linecolor": "#506784",
             "minorgridcolor": "#506784",
             "startlinecolor": "#A2B1C6"
            },
            "type": "carpet"
           }
          ],
          "table": [
           {
            "cells": {
             "fill": {
              "color": "#506784"
             },
             "line": {
              "color": "rgb(17,17,17)"
             }
            },
            "header": {
             "fill": {
              "color": "#2a3f5f"
             },
             "line": {
              "color": "rgb(17,17,17)"
             }
            },
            "type": "table"
           }
          ],
          "barpolar": [
           {
            "marker": {
             "line": {
              "color": "rgb(17,17,17)",
              "width": 0.5
             },
             "pattern": {
              "fillmode": "overlay",
              "size": 10,
              "solidity": 0.2
             }
            },
            "type": "barpolar"
           }
          ],
          "pie": [
           {
            "automargin": true,
            "type": "pie"
           }
          ]
         },
         "layout": {
          "autotypenumbers": "strict",
          "colorway": [
           "#636efa",
           "#EF553B",
           "#00cc96",
           "#ab63fa",
           "#FFA15A",
           "#19d3f3",
           "#FF6692",
           "#B6E880",
           "#FF97FF",
           "#FECB52"
          ],
          "font": {
           "color": "#f2f5fa"
          },
          "hovermode": "closest",
          "hoverlabel": {
           "align": "left"
          },
          "paper_bgcolor": "rgb(17,17,17)",
          "plot_bgcolor": "rgb(17,17,17)",
          "polar": {
           "bgcolor": "rgb(17,17,17)",
           "angularaxis": {
            "gridcolor": "#506784",
            "linecolor": "#506784",
            "ticks": ""
           },
           "radialaxis": {
            "gridcolor": "#506784",
            "linecolor": "#506784",
            "ticks": ""
           }
          },
          "ternary": {
           "bgcolor": "rgb(17,17,17)",
           "aaxis": {
            "gridcolor": "#506784",
            "linecolor": "#506784",
            "ticks": ""
           },
           "baxis": {
            "gridcolor": "#506784",
            "linecolor": "#506784",
            "ticks": ""
           },
           "caxis": {
            "gridcolor": "#506784",
            "linecolor": "#506784",
            "ticks": ""
           }
          },
          "coloraxis": {
           "colorbar": {
            "outlinewidth": 0,
            "ticks": ""
           }
          },
          "colorscale": {
           "sequential": [
            [
             0.0,
             "#0d0887"
            ],
            [
             0.1111111111111111,
             "#46039f"
            ],
            [
             0.2222222222222222,
             "#7201a8"
            ],
            [
             0.3333333333333333,
             "#9c179e"
            ],
            [
             0.4444444444444444,
             "#bd3786"
            ],
            [
             0.5555555555555556,
             "#d8576b"
            ],
            [
             0.6666666666666666,
             "#ed7953"
            ],
            [
             0.7777777777777778,
             "#fb9f3a"
            ],
            [
             0.8888888888888888,
             "#fdca26"
            ],
            [
             1.0,
             "#f0f921"
            ]
           ],
           "sequentialminus": [
            [
             0.0,
             "#0d0887"
            ],
            [
             0.1111111111111111,
             "#46039f"
            ],
            [
             0.2222222222222222,
             "#7201a8"
            ],
            [
             0.3333333333333333,
             "#9c179e"
            ],
            [
             0.4444444444444444,
             "#bd3786"
            ],
            [
             0.5555555555555556,
             "#d8576b"
            ],
            [
             0.6666666666666666,
             "#ed7953"
            ],
            [
             0.7777777777777778,
             "#fb9f3a"
            ],
            [
             0.8888888888888888,
             "#fdca26"
            ],
            [
             1.0,
             "#f0f921"
            ]
           ],
           "diverging": [
            [
             0,
             "#8e0152"
            ],
            [
             0.1,
             "#c51b7d"
            ],
            [
             0.2,
             "#de77ae"
            ],
            [
             0.3,
             "#f1b6da"
            ],
            [
             0.4,
             "#fde0ef"
            ],
            [
             0.5,
             "#f7f7f7"
            ],
            [
             0.6,
             "#e6f5d0"
            ],
            [
             0.7,
             "#b8e186"
            ],
            [
             0.8,
             "#7fbc41"
            ],
            [
             0.9,
             "#4d9221"
            ],
            [
             1,
             "#276419"
            ]
           ]
          },
          "xaxis": {
           "gridcolor": "#283442",
           "linecolor": "#506784",
           "ticks": "",
           "title": {
            "standoff": 15
           },
           "zerolinecolor": "#283442",
           "automargin": true,
           "zerolinewidth": 2
          },
          "yaxis": {
           "gridcolor": "#283442",
           "linecolor": "#506784",
           "ticks": "",
           "title": {
            "standoff": 15
           },
           "zerolinecolor": "#283442",
           "automargin": true,
           "zerolinewidth": 2
          },
          "scene": {
           "xaxis": {
            "backgroundcolor": "rgb(17,17,17)",
            "gridcolor": "#506784",
            "linecolor": "#506784",
            "showbackground": true,
            "ticks": "",
            "zerolinecolor": "#C8D4E3",
            "gridwidth": 2
           },
           "yaxis": {
            "backgroundcolor": "rgb(17,17,17)",
            "gridcolor": "#506784",
            "linecolor": "#506784",
            "showbackground": true,
            "ticks": "",
            "zerolinecolor": "#C8D4E3",
            "gridwidth": 2
           },
           "zaxis": {
            "backgroundcolor": "rgb(17,17,17)",
            "gridcolor": "#506784",
            "linecolor": "#506784",
            "showbackground": true,
            "ticks": "",
            "zerolinecolor": "#C8D4E3",
            "gridwidth": 2
           }
          },
          "shapedefaults": {
           "line": {
            "color": "#f2f5fa"
           }
          },
          "annotationdefaults": {
           "arrowcolor": "#f2f5fa",
           "arrowhead": 0,
           "arrowwidth": 1
          },
          "geo": {
           "bgcolor": "rgb(17,17,17)",
           "landcolor": "rgb(17,17,17)",
           "subunitcolor": "#506784",
           "showland": true,
           "showlakes": true,
           "lakecolor": "rgb(17,17,17)"
          },
          "title": {
           "x": 0.05
          },
          "updatemenudefaults": {
           "bgcolor": "#506784",
           "borderwidth": 0
          },
          "sliderdefaults": {
           "bgcolor": "#C8D4E3",
           "borderwidth": 1,
           "bordercolor": "rgb(17,17,17)",
           "tickwidth": 0
          },
          "mapbox": {
           "style": "dark"
          }
         }
        },
        "legend": {
         "tracegroupgap": 0
        },
        "title": {
         "text": "Who won the most?<br><sup>Home Team: Dortmund</sup>"
        }
       },
       "config": {
        "plotlyServerURL": "https://plot.ly"
       }
      },
      "text/html": "<div>                            <div id=\"7dbdeaf0-c2c1-4722-b6fd-6827a3d8ac74\" class=\"plotly-graph-div\" style=\"height:525px; width:100%;\"></div>            <script type=\"text/javascript\">                require([\"plotly\"], function(Plotly) {                    window.PLOTLYENV=window.PLOTLYENV || {};                                    if (document.getElementById(\"7dbdeaf0-c2c1-4722-b6fd-6827a3d8ac74\")) {                    Plotly.newPlot(                        \"7dbdeaf0-c2c1-4722-b6fd-6827a3d8ac74\",                        [{\"domain\":{\"x\":[0.0,1.0],\"y\":[0.0,1.0]},\"hovertemplate\":\"who=%{label}<br>result=%{value}<extra></extra>\",\"labels\":[\"home_team (Dortmund)\",\"away_team\",\"tie\"],\"legendgroup\":\"\",\"name\":\"\",\"showlegend\":true,\"values\":[9,1,1],\"type\":\"pie\"}],                        {\"template\":{\"data\":{\"histogram2dcontour\":[{\"type\":\"histogram2dcontour\",\"colorbar\":{\"outlinewidth\":0,\"ticks\":\"\"},\"colorscale\":[[0.0,\"#0d0887\"],[0.1111111111111111,\"#46039f\"],[0.2222222222222222,\"#7201a8\"],[0.3333333333333333,\"#9c179e\"],[0.4444444444444444,\"#bd3786\"],[0.5555555555555556,\"#d8576b\"],[0.6666666666666666,\"#ed7953\"],[0.7777777777777778,\"#fb9f3a\"],[0.8888888888888888,\"#fdca26\"],[1.0,\"#f0f921\"]]}],\"choropleth\":[{\"type\":\"choropleth\",\"colorbar\":{\"outlinewidth\":0,\"ticks\":\"\"}}],\"histogram2d\":[{\"type\":\"histogram2d\",\"colorbar\":{\"outlinewidth\":0,\"ticks\":\"\"},\"colorscale\":[[0.0,\"#0d0887\"],[0.1111111111111111,\"#46039f\"],[0.2222222222222222,\"#7201a8\"],[0.3333333333333333,\"#9c179e\"],[0.4444444444444444,\"#bd3786\"],[0.5555555555555556,\"#d8576b\"],[0.6666666666666666,\"#ed7953\"],[0.7777777777777778,\"#fb9f3a\"],[0.8888888888888888,\"#fdca26\"],[1.0,\"#f0f921\"]]}],\"heatmap\":[{\"type\":\"heatmap\",\"colorbar\":{\"outlinewidth\":0,\"ticks\":\"\"},\"colorscale\":[[0.0,\"#0d0887\"],[0.1111111111111111,\"#46039f\"],[0.2222222222222222,\"#7201a8\"],[0.3333333333333333,\"#9c179e\"],[0.4444444444444444,\"#bd3786\"],[0.5555555555555556,\"#d8576b\"],[0.6666666666666666,\"#ed7953\"],[0.7777777777777778,\"#fb9f3a\"],[0.8888888888888888,\"#fdca26\"],[1.0,\"#f0f921\"]]}],\"heatmapgl\":[{\"type\":\"heatmapgl\",\"colorbar\":{\"outlinewidth\":0,\"ticks\":\"\"},\"colorscale\":[[0.0,\"#0d0887\"],[0.1111111111111111,\"#46039f\"],[0.2222222222222222,\"#7201a8\"],[0.3333333333333333,\"#9c179e\"],[0.4444444444444444,\"#bd3786\"],[0.5555555555555556,\"#d8576b\"],[0.6666666666666666,\"#ed7953\"],[0.7777777777777778,\"#fb9f3a\"],[0.8888888888888888,\"#fdca26\"],[1.0,\"#f0f921\"]]}],\"contourcarpet\":[{\"type\":\"contourcarpet\",\"colorbar\":{\"outlinewidth\":0,\"ticks\":\"\"}}],\"contour\":[{\"type\":\"contour\",\"colorbar\":{\"outlinewidth\":0,\"ticks\":\"\"},\"colorscale\":[[0.0,\"#0d0887\"],[0.1111111111111111,\"#46039f\"],[0.2222222222222222,\"#7201a8\"],[0.3333333333333333,\"#9c179e\"],[0.4444444444444444,\"#bd3786\"],[0.5555555555555556,\"#d8576b\"],[0.6666666666666666,\"#ed7953\"],[0.7777777777777778,\"#fb9f3a\"],[0.8888888888888888,\"#fdca26\"],[1.0,\"#f0f921\"]]}],\"surface\":[{\"type\":\"surface\",\"colorbar\":{\"outlinewidth\":0,\"ticks\":\"\"},\"colorscale\":[[0.0,\"#0d0887\"],[0.1111111111111111,\"#46039f\"],[0.2222222222222222,\"#7201a8\"],[0.3333333333333333,\"#9c179e\"],[0.4444444444444444,\"#bd3786\"],[0.5555555555555556,\"#d8576b\"],[0.6666666666666666,\"#ed7953\"],[0.7777777777777778,\"#fb9f3a\"],[0.8888888888888888,\"#fdca26\"],[1.0,\"#f0f921\"]]}],\"mesh3d\":[{\"type\":\"mesh3d\",\"colorbar\":{\"outlinewidth\":0,\"ticks\":\"\"}}],\"scatter\":[{\"marker\":{\"line\":{\"color\":\"#283442\"}},\"type\":\"scatter\"}],\"parcoords\":[{\"type\":\"parcoords\",\"line\":{\"colorbar\":{\"outlinewidth\":0,\"ticks\":\"\"}}}],\"scatterpolargl\":[{\"type\":\"scatterpolargl\",\"marker\":{\"colorbar\":{\"outlinewidth\":0,\"ticks\":\"\"}}}],\"bar\":[{\"error_x\":{\"color\":\"#f2f5fa\"},\"error_y\":{\"color\":\"#f2f5fa\"},\"marker\":{\"line\":{\"color\":\"rgb(17,17,17)\",\"width\":0.5},\"pattern\":{\"fillmode\":\"overlay\",\"size\":10,\"solidity\":0.2}},\"type\":\"bar\"}],\"scattergeo\":[{\"type\":\"scattergeo\",\"marker\":{\"colorbar\":{\"outlinewidth\":0,\"ticks\":\"\"}}}],\"scatterpolar\":[{\"type\":\"scatterpolar\",\"marker\":{\"colorbar\":{\"outlinewidth\":0,\"ticks\":\"\"}}}],\"histogram\":[{\"marker\":{\"pattern\":{\"fillmode\":\"overlay\",\"size\":10,\"solidity\":0.2}},\"type\":\"histogram\"}],\"scattergl\":[{\"marker\":{\"line\":{\"color\":\"#283442\"}},\"type\":\"scattergl\"}],\"scatter3d\":[{\"type\":\"scatter3d\",\"line\":{\"colorbar\":{\"outlinewidth\":0,\"ticks\":\"\"}},\"marker\":{\"colorbar\":{\"outlinewidth\":0,\"ticks\":\"\"}}}],\"scattermapbox\":[{\"type\":\"scattermapbox\",\"marker\":{\"colorbar\":{\"outlinewidth\":0,\"ticks\":\"\"}}}],\"scatterternary\":[{\"type\":\"scatterternary\",\"marker\":{\"colorbar\":{\"outlinewidth\":0,\"ticks\":\"\"}}}],\"scattercarpet\":[{\"type\":\"scattercarpet\",\"marker\":{\"colorbar\":{\"outlinewidth\":0,\"ticks\":\"\"}}}],\"carpet\":[{\"aaxis\":{\"endlinecolor\":\"#A2B1C6\",\"gridcolor\":\"#506784\",\"linecolor\":\"#506784\",\"minorgridcolor\":\"#506784\",\"startlinecolor\":\"#A2B1C6\"},\"baxis\":{\"endlinecolor\":\"#A2B1C6\",\"gridcolor\":\"#506784\",\"linecolor\":\"#506784\",\"minorgridcolor\":\"#506784\",\"startlinecolor\":\"#A2B1C6\"},\"type\":\"carpet\"}],\"table\":[{\"cells\":{\"fill\":{\"color\":\"#506784\"},\"line\":{\"color\":\"rgb(17,17,17)\"}},\"header\":{\"fill\":{\"color\":\"#2a3f5f\"},\"line\":{\"color\":\"rgb(17,17,17)\"}},\"type\":\"table\"}],\"barpolar\":[{\"marker\":{\"line\":{\"color\":\"rgb(17,17,17)\",\"width\":0.5},\"pattern\":{\"fillmode\":\"overlay\",\"size\":10,\"solidity\":0.2}},\"type\":\"barpolar\"}],\"pie\":[{\"automargin\":true,\"type\":\"pie\"}]},\"layout\":{\"autotypenumbers\":\"strict\",\"colorway\":[\"#636efa\",\"#EF553B\",\"#00cc96\",\"#ab63fa\",\"#FFA15A\",\"#19d3f3\",\"#FF6692\",\"#B6E880\",\"#FF97FF\",\"#FECB52\"],\"font\":{\"color\":\"#f2f5fa\"},\"hovermode\":\"closest\",\"hoverlabel\":{\"align\":\"left\"},\"paper_bgcolor\":\"rgb(17,17,17)\",\"plot_bgcolor\":\"rgb(17,17,17)\",\"polar\":{\"bgcolor\":\"rgb(17,17,17)\",\"angularaxis\":{\"gridcolor\":\"#506784\",\"linecolor\":\"#506784\",\"ticks\":\"\"},\"radialaxis\":{\"gridcolor\":\"#506784\",\"linecolor\":\"#506784\",\"ticks\":\"\"}},\"ternary\":{\"bgcolor\":\"rgb(17,17,17)\",\"aaxis\":{\"gridcolor\":\"#506784\",\"linecolor\":\"#506784\",\"ticks\":\"\"},\"baxis\":{\"gridcolor\":\"#506784\",\"linecolor\":\"#506784\",\"ticks\":\"\"},\"caxis\":{\"gridcolor\":\"#506784\",\"linecolor\":\"#506784\",\"ticks\":\"\"}},\"coloraxis\":{\"colorbar\":{\"outlinewidth\":0,\"ticks\":\"\"}},\"colorscale\":{\"sequential\":[[0.0,\"#0d0887\"],[0.1111111111111111,\"#46039f\"],[0.2222222222222222,\"#7201a8\"],[0.3333333333333333,\"#9c179e\"],[0.4444444444444444,\"#bd3786\"],[0.5555555555555556,\"#d8576b\"],[0.6666666666666666,\"#ed7953\"],[0.7777777777777778,\"#fb9f3a\"],[0.8888888888888888,\"#fdca26\"],[1.0,\"#f0f921\"]],\"sequentialminus\":[[0.0,\"#0d0887\"],[0.1111111111111111,\"#46039f\"],[0.2222222222222222,\"#7201a8\"],[0.3333333333333333,\"#9c179e\"],[0.4444444444444444,\"#bd3786\"],[0.5555555555555556,\"#d8576b\"],[0.6666666666666666,\"#ed7953\"],[0.7777777777777778,\"#fb9f3a\"],[0.8888888888888888,\"#fdca26\"],[1.0,\"#f0f921\"]],\"diverging\":[[0,\"#8e0152\"],[0.1,\"#c51b7d\"],[0.2,\"#de77ae\"],[0.3,\"#f1b6da\"],[0.4,\"#fde0ef\"],[0.5,\"#f7f7f7\"],[0.6,\"#e6f5d0\"],[0.7,\"#b8e186\"],[0.8,\"#7fbc41\"],[0.9,\"#4d9221\"],[1,\"#276419\"]]},\"xaxis\":{\"gridcolor\":\"#283442\",\"linecolor\":\"#506784\",\"ticks\":\"\",\"title\":{\"standoff\":15},\"zerolinecolor\":\"#283442\",\"automargin\":true,\"zerolinewidth\":2},\"yaxis\":{\"gridcolor\":\"#283442\",\"linecolor\":\"#506784\",\"ticks\":\"\",\"title\":{\"standoff\":15},\"zerolinecolor\":\"#283442\",\"automargin\":true,\"zerolinewidth\":2},\"scene\":{\"xaxis\":{\"backgroundcolor\":\"rgb(17,17,17)\",\"gridcolor\":\"#506784\",\"linecolor\":\"#506784\",\"showbackground\":true,\"ticks\":\"\",\"zerolinecolor\":\"#C8D4E3\",\"gridwidth\":2},\"yaxis\":{\"backgroundcolor\":\"rgb(17,17,17)\",\"gridcolor\":\"#506784\",\"linecolor\":\"#506784\",\"showbackground\":true,\"ticks\":\"\",\"zerolinecolor\":\"#C8D4E3\",\"gridwidth\":2},\"zaxis\":{\"backgroundcolor\":\"rgb(17,17,17)\",\"gridcolor\":\"#506784\",\"linecolor\":\"#506784\",\"showbackground\":true,\"ticks\":\"\",\"zerolinecolor\":\"#C8D4E3\",\"gridwidth\":2}},\"shapedefaults\":{\"line\":{\"color\":\"#f2f5fa\"}},\"annotationdefaults\":{\"arrowcolor\":\"#f2f5fa\",\"arrowhead\":0,\"arrowwidth\":1},\"geo\":{\"bgcolor\":\"rgb(17,17,17)\",\"landcolor\":\"rgb(17,17,17)\",\"subunitcolor\":\"#506784\",\"showland\":true,\"showlakes\":true,\"lakecolor\":\"rgb(17,17,17)\"},\"title\":{\"x\":0.05},\"updatemenudefaults\":{\"bgcolor\":\"#506784\",\"borderwidth\":0},\"sliderdefaults\":{\"bgcolor\":\"#C8D4E3\",\"borderwidth\":1,\"bordercolor\":\"rgb(17,17,17)\",\"tickwidth\":0},\"mapbox\":{\"style\":\"dark\"}}},\"legend\":{\"tracegroupgap\":0},\"title\":{\"text\":\"Who won the most?<br><sup>Home Team: Dortmund</sup>\"}},                        {\"responsive\": true}                    ).then(function(){\n                            \nvar gd = document.getElementById('7dbdeaf0-c2c1-4722-b6fd-6827a3d8ac74');\nvar x = new MutationObserver(function (mutations, observer) {{\n        var display = window.getComputedStyle(gd).display;\n        if (!display || display === 'none') {{\n            console.log([gd, 'removed!']);\n            Plotly.purge(gd);\n            observer.disconnect();\n        }}\n}});\n\n// Listen for the removal of the full notebook cells\nvar notebookContainer = gd.closest('#notebook-container');\nif (notebookContainer) {{\n    x.observe(notebookContainer, {childList: true});\n}}\n\n// Listen for the clearing of the current output cell\nvar outputEl = gd.closest('.output');\nif (outputEl) {{\n    x.observe(outputEl, {childList: true});\n}}\n\n                        })                };                });            </script>        </div>"
     },
     "metadata": {},
     "output_type": "display_data"
    }
   ],
   "source": [
    "grafico_resultado = who_won_most_by_team('Dortmund')\n",
    "grafico_resultado.show()"
   ]
  },
  {
   "cell_type": "markdown",
   "metadata": {
    "collapsed": false,
    "id": "hP-3mUNH3Azs",
    "pycharm": {
     "name": "#%% md\n"
    }
   },
   "source": [
    "# Chart that shows which team has the most odds of winning through time"
   ]
  },
  {
   "cell_type": "code",
   "execution_count": 209,
   "metadata": {
    "colab": {
     "base_uri": "https://localhost:8080/",
     "height": 542
    },
    "id": "J7YAmIKa3Azs",
    "outputId": "e5d30eef-9964-44ea-db47-772ae63081a6",
    "pycharm": {
     "name": "#%%\n"
    }
   },
   "outputs": [
    {
     "data": {
      "application/vnd.plotly.v1+json": {
       "data": [
        {
         "hovertemplate": "variable=odds_home<br>game_number=%{x}<br>value=%{y}<extra></extra>",
         "legendgroup": "odds_home",
         "line": {
          "color": "#636efa",
          "dash": "solid"
         },
         "marker": {
          "symbol": "circle"
         },
         "mode": "markers+lines",
         "name": "odds_home",
         "orientation": "v",
         "showlegend": true,
         "x": [
          0,
          1,
          2,
          3,
          4,
          5,
          6,
          7,
          8,
          9,
          10,
          11,
          12,
          13,
          14,
          15,
          16,
          17,
          18,
          19,
          20,
          21,
          22,
          23,
          24,
          25,
          26,
          27,
          28,
          29,
          30,
          31,
          32,
          33,
          34,
          35,
          36,
          37,
          38,
          39,
          40,
          41,
          42,
          43,
          44,
          45,
          46,
          47,
          48,
          49,
          50,
          51,
          52,
          53,
          54,
          55,
          56,
          57,
          58,
          59,
          60,
          61,
          62,
          63,
          64,
          65,
          66,
          67,
          68,
          69,
          70,
          71,
          72,
          73,
          74,
          75,
          76,
          77,
          78,
          79,
          80,
          81,
          82,
          83,
          84,
          85,
          86,
          87,
          88,
          89,
          90,
          91,
          92,
          93,
          94,
          95,
          96,
          97,
          98,
          99,
          100,
          101,
          102,
          103,
          104,
          105,
          106,
          107,
          108,
          109,
          110,
          111,
          112,
          113,
          114,
          115,
          116,
          117,
          118,
          119,
          120,
          121,
          122,
          123,
          124,
          125,
          126,
          127,
          128,
          129,
          130,
          131,
          132,
          133,
          134,
          135,
          136,
          137,
          138,
          139,
          140,
          141,
          142,
          143,
          144,
          145,
          146,
          147,
          148,
          149,
          150,
          151,
          152,
          153,
          154,
          155,
          156,
          157,
          158,
          159,
          160,
          161,
          162,
          163,
          164,
          165,
          166,
          167,
          168,
          169,
          170,
          171,
          172,
          173,
          174,
          175,
          176,
          177,
          178,
          179,
          180,
          181,
          182,
          183,
          184,
          185,
          186,
          187,
          188,
          189,
          190,
          191,
          192,
          193,
          194,
          195,
          196,
          197,
          198,
          199,
          200,
          201,
          202,
          203,
          204,
          205,
          206,
          207,
          208,
          209,
          210,
          211,
          212,
          213,
          214,
          215
         ],
         "xaxis": "x",
         "y": [
          0.16666666666666666,
          0.30303030303030304,
          0.3125,
          0.48780487804878053,
          0.5813953488372093,
          0.5405405405405405,
          0.5,
          0.2222222222222222,
          0.5882352941176471,
          0.3333333333333333,
          0.3333333333333333,
          0.6369426751592356,
          0.7692307692307692,
          0.6944444444444444,
          0.4444444444444444,
          0.3225806451612903,
          0.45454545454545453,
          0.8928571428571428,
          0.6666666666666666,
          0.2857142857142857,
          0.7352941176470588,
          0.6024096385542169,
          0.38167938931297707,
          0.5464480874316939,
          0.2777777777777778,
          0.5128205128205129,
          0.07692307692307693,
          0.6666666666666666,
          0.2222222222222222,
          0.6896551724137931,
          0.36363636363636365,
          0.6896551724137931,
          0.3225806451612903,
          0.8474576271186441,
          0.48780487804878053,
          0.4081632653061224,
          0.6211180124223602,
          0.3448275862068966,
          0.5263157894736842,
          0.5714285714285714,
          0.14285714285714285,
          0.48780487804878053,
          0.2857142857142857,
          0.4081632653061224,
          0.45454545454545453,
          0.6535947712418301,
          0.8771929824561404,
          0.5,
          0.2777777777777778,
          0.4444444444444444,
          0.4347826086956522,
          0.5,
          0.42194092827004215,
          0.5,
          0.5813953488372093,
          0.058823529411764705,
          0.7352941176470588,
          0.6211180124223602,
          0.4444444444444444,
          0.3333333333333333,
          0.5128205128205129,
          0.3225806451612903,
          0.46511627906976744,
          0.7352941176470588,
          0.4444444444444444,
          0.3225806451612903,
          0.47619047619047616,
          0.819672131147541,
          0.4166666666666667,
          0.4,
          0.36363636363636365,
          0.5128205128205129,
          0.5128205128205129,
          0.3448275862068966,
          0.26666666666666666,
          0.6896551724137931,
          0.3333333333333333,
          0.23094688221709006,
          0.5128205128205129,
          0.3333333333333333,
          0.3921568627450981,
          0.2777777777777778,
          0.36363636363636365,
          0.6060606060606061,
          0.42194092827004215,
          0.38167938931297707,
          0.7142857142857143,
          0.6024096385542169,
          0.3448275862068966,
          0.8,
          0.46511627906976744,
          0.18181818181818182,
          0.6535947712418301,
          0.5263157894736842,
          0.18181818181818182,
          0.5882352941176471,
          0.4347826086956522,
          0.23094688221709006,
          0.5714285714285714,
          0.5,
          0.8,
          0.5555555555555556,
          0.5555555555555556,
          0.6060606060606061,
          0.36363636363636365,
          0.48780487804878053,
          0.25,
          0.3448275862068966,
          0.46511627906976744,
          0.23094688221709006,
          0.819672131147541,
          0.1,
          0.3448275862068966,
          0.5,
          0.6060606060606061,
          0.46511627906976744,
          0.5882352941176471,
          0.3225806451612903,
          0.8771929824561404,
          0.3125,
          0.5128205128205129,
          0.3333333333333333,
          0.5263157894736842,
          0.5813953488372093,
          0.29411764705882354,
          0.6451612903225806,
          0.3125,
          0.45454545454545453,
          0.45454545454545453,
          0.4444444444444444,
          0.5813953488372093,
          0.2777777777777778,
          0.06666666666666667,
          0.36363636363636365,
          0.5,
          0.2777777777777778,
          0.42016806722689076,
          0.7352941176470588,
          0.4166666666666667,
          0.4444444444444444,
          0.3921568627450981,
          0.4444444444444444,
          0.7692307692307692,
          0.3802281368821293,
          0.17391304347826086,
          0.8333333333333334,
          0.3333333333333333,
          0.47619047619047616,
          0.3448275862068966,
          0.3333333333333333,
          0.4,
          0.7142857142857143,
          0.35714285714285715,
          0.7518796992481203,
          0.6666666666666666,
          0.2857142857142857,
          0.5,
          0.5882352941176471,
          0.3125,
          0.7518796992481203,
          0.2631578947368421,
          0.4081632653061224,
          0.25,
          0.36363636363636365,
          0.5988023952095809,
          0.6896551724137931,
          0.23809523809523808,
          0.5128205128205129,
          0.6535947712418301,
          0.5,
          0.19047619047619047,
          0.2777777777777778,
          0.9009009009009008,
          0.5555555555555556,
          0.3472222222222222,
          0.5555555555555556,
          0.25,
          0.5882352941176471,
          0.3472222222222222,
          0.37037037037037035,
          0.37037037037037035,
          0.3225806451612903,
          0.14285714285714285,
          0.4081632653061224,
          0.30303030303030304,
          0.6172839506172839,
          0.625,
          0.7518796992481203,
          0.5555555555555556,
          0.46511627906976744,
          0.4347826086956522,
          0.47619047619047616,
          0.25,
          0.5882352941176471,
          0.5,
          0.3333333333333333,
          0.46511627906976744,
          0.7518796992481203,
          0.45454545454545453,
          0.4347826086956522,
          0.4347826086956522,
          0.5235602094240838,
          0.4166666666666667,
          0.5235602094240838,
          0.14285714285714285,
          0.6535947712418301,
          0.4081632653061224,
          0.5780346820809249,
          0.8849557522123894,
          0.5555555555555556,
          0.3448275862068966,
          0.7142857142857143,
          0.2222222222222222,
          0.5235602094240838,
          0.30303030303030304,
          0.4444444444444444
         ],
         "yaxis": "y",
         "type": "scatter"
        },
        {
         "hovertemplate": "variable=odds_away<br>game_number=%{x}<br>value=%{y}<extra></extra>",
         "legendgroup": "odds_away",
         "line": {
          "color": "#EF553B",
          "dash": "solid"
         },
         "marker": {
          "symbol": "circle"
         },
         "mode": "markers+lines",
         "name": "odds_away",
         "orientation": "v",
         "showlegend": true,
         "x": [
          0,
          1,
          2,
          3,
          4,
          5,
          6,
          7,
          8,
          9,
          10,
          11,
          12,
          13,
          14,
          15,
          16,
          17,
          18,
          19,
          20,
          21,
          22,
          23,
          24,
          25,
          26,
          27,
          28,
          29,
          30,
          31,
          32,
          33,
          34,
          35,
          36,
          37,
          38,
          39,
          40,
          41,
          42,
          43,
          44,
          45,
          46,
          47,
          48,
          49,
          50,
          51,
          52,
          53,
          54,
          55,
          56,
          57,
          58,
          59,
          60,
          61,
          62,
          63,
          64,
          65,
          66,
          67,
          68,
          69,
          70,
          71,
          72,
          73,
          74,
          75,
          76,
          77,
          78,
          79,
          80,
          81,
          82,
          83,
          84,
          85,
          86,
          87,
          88,
          89,
          90,
          91,
          92,
          93,
          94,
          95,
          96,
          97,
          98,
          99,
          100,
          101,
          102,
          103,
          104,
          105,
          106,
          107,
          108,
          109,
          110,
          111,
          112,
          113,
          114,
          115,
          116,
          117,
          118,
          119,
          120,
          121,
          122,
          123,
          124,
          125,
          126,
          127,
          128,
          129,
          130,
          131,
          132,
          133,
          134,
          135,
          136,
          137,
          138,
          139,
          140,
          141,
          142,
          143,
          144,
          145,
          146,
          147,
          148,
          149,
          150,
          151,
          152,
          153,
          154,
          155,
          156,
          157,
          158,
          159,
          160,
          161,
          162,
          163,
          164,
          165,
          166,
          167,
          168,
          169,
          170,
          171,
          172,
          173,
          174,
          175,
          176,
          177,
          178,
          179,
          180,
          181,
          182,
          183,
          184,
          185,
          186,
          187,
          188,
          189,
          190,
          191,
          192,
          193,
          194,
          195,
          196,
          197,
          198,
          199,
          200,
          201,
          202,
          203,
          204,
          205,
          206,
          207,
          208,
          209,
          210,
          211,
          212,
          213,
          214,
          215
         ],
         "xaxis": "x",
         "y": [
          0.6666666666666666,
          0.46511627906976744,
          0.45454545454545453,
          0.3333333333333333,
          0.2222222222222222,
          0.2631578947368421,
          0.3125,
          0.5714285714285714,
          0.2222222222222222,
          0.45454545454545453,
          0.4347826086956522,
          0.19047619047619047,
          0.10526315789473684,
          0.14285714285714285,
          0.3333333333333333,
          0.46511627906976744,
          0.29411764705882354,
          0.058823529411764705,
          0.16666666666666666,
          0.47619047619047616,
          0.13333333333333333,
          0.2222222222222222,
          0.3921568627450981,
          0.23809523809523808,
          0.48780487804878053,
          0.2777777777777778,
          0.8474576271186441,
          0.16666666666666666,
          0.6024096385542169,
          0.14285714285714285,
          0.42194092827004215,
          0.16666666666666666,
          0.4347826086956522,
          0.08333333333333333,
          0.29411764705882354,
          0.35714285714285715,
          0.21052631578947367,
          0.4347826086956522,
          0.2631578947368421,
          0.23094688221709006,
          0.7352941176470588,
          0.26666666666666666,
          0.5,
          0.3484320557491289,
          0.3333333333333333,
          0.18181818181818182,
          0.058823529411764705,
          0.2777777777777778,
          0.5263157894736842,
          0.3448275862068966,
          0.36363636363636365,
          0.2857142857142857,
          0.3448275862068966,
          0.2857142857142857,
          0.23094688221709006,
          0.8620689655172414,
          0.125,
          0.2,
          0.3225806451612903,
          0.4444444444444444,
          0.2631578947368421,
          0.45454545454545453,
          0.3125,
          0.14285714285714285,
          0.3125,
          0.48780487804878053,
          0.29411764705882354,
          0.08333333333333333,
          0.3448275862068966,
          0.4,
          0.42194092827004215,
          0.2777777777777778,
          0.2857142857142857,
          0.4166666666666667,
          0.5263157894736842,
          0.14285714285714285,
          0.4347826086956522,
          0.6060606060606061,
          0.2777777777777778,
          0.4347826086956522,
          0.3448275862068966,
          0.5128205128205129,
          0.4081632653061224,
          0.19047619047619047,
          0.3484320557491289,
          0.3846153846153846,
          0.14285714285714285,
          0.2,
          0.42194092827004215,
          0.1111111111111111,
          0.3076923076923077,
          0.6369426751592356,
          0.18181818181818182,
          0.2631578947368421,
          0.6666666666666666,
          0.2222222222222222,
          0.3484320557491289,
          0.5263157894736842,
          0.21052631578947367,
          0.29411764705882354,
          0.09090909090909091,
          0.24390243902439027,
          0.23094688221709006,
          0.21052631578947367,
          0.4166666666666667,
          0.2631578947368421,
          0.5263157894736842,
          0.42194092827004215,
          0.3225806451612903,
          0.5813953488372093,
          0.09090909090909091,
          0.8,
          0.4444444444444444,
          0.2857142857142857,
          0.2222222222222222,
          0.29411764705882354,
          0.21052631578947367,
          0.45454545454545453,
          0.06666666666666667,
          0.4444444444444444,
          0.26666666666666666,
          0.45454545454545453,
          0.26666666666666666,
          0.2222222222222222,
          0.48780487804878053,
          0.16666666666666666,
          0.46511627906976744,
          0.3125,
          0.3225806451612903,
          0.3225806451612903,
          0.23094688221709006,
          0.5263157894736842,
          0.8620689655172414,
          0.4081632653061224,
          0.25,
          0.5405405405405405,
          0.3448275862068966,
          0.11764705882352941,
          0.3472222222222222,
          0.3125,
          0.36363636363636365,
          0.3448275862068966,
          0.125,
          0.4081632653061224,
          0.6535947712418301,
          0.08333333333333333,
          0.4347826086956522,
          0.29411764705882354,
          0.4347826086956522,
          0.4444444444444444,
          0.37037037037037035,
          0.15384615384615385,
          0.3802281368821293,
          0.1111111111111111,
          0.16,
          0.45454545454545453,
          0.29411764705882354,
          0.21052631578947367,
          0.46511627906976744,
          0.13333333333333333,
          0.5128205128205129,
          0.3802281368821293,
          0.5405405405405405,
          0.4,
          0.2,
          0.15384615384615385,
          0.5235602094240838,
          0.25,
          0.17391304347826086,
          0.2777777777777778,
          0.6369426751592356,
          0.5128205128205129,
          0.058823529411764705,
          0.23094688221709006,
          0.42016806722689076,
          0.23809523809523808,
          0.5555555555555556,
          0.2,
          0.4166666666666667,
          0.4,
          0.3846153846153846,
          0.4444444444444444,
          0.7352941176470588,
          0.3472222222222222,
          0.46511627906976744,
          0.19047619047619047,
          0.16666666666666666,
          0.11764705882352941,
          0.23809523809523808,
          0.3125,
          0.3333333333333333,
          0.3076923076923077,
          0.5714285714285714,
          0.2173913043478261,
          0.2777777777777778,
          0.4081632653061224,
          0.3076923076923077,
          0.1111111111111111,
          0.3125,
          0.3333333333333333,
          0.3225806451612903,
          0.25,
          0.35714285714285715,
          0.23094688221709006,
          0.7142857142857143,
          0.16666666666666666,
          0.35714285714285715,
          0.21052631578947367,
          0.05263157894736842,
          0.23809523809523808,
          0.4081632653061224,
          0.14285714285714285,
          0.5780346820809249,
          0.25,
          0.47619047619047616,
          0.30303030303030304
         ],
         "yaxis": "y",
         "type": "scatter"
        },
        {
         "hovertemplate": "variable=odds_tie<br>game_number=%{x}<br>value=%{y}<extra></extra>",
         "legendgroup": "odds_tie",
         "line": {
          "color": "#00cc96",
          "dash": "solid"
         },
         "marker": {
          "symbol": "circle"
         },
         "mode": "markers+lines",
         "name": "odds_tie",
         "orientation": "v",
         "showlegend": true,
         "x": [
          0,
          1,
          2,
          3,
          4,
          5,
          6,
          7,
          8,
          9,
          10,
          11,
          12,
          13,
          14,
          15,
          16,
          17,
          18,
          19,
          20,
          21,
          22,
          23,
          24,
          25,
          26,
          27,
          28,
          29,
          30,
          31,
          32,
          33,
          34,
          35,
          36,
          37,
          38,
          39,
          40,
          41,
          42,
          43,
          44,
          45,
          46,
          47,
          48,
          49,
          50,
          51,
          52,
          53,
          54,
          55,
          56,
          57,
          58,
          59,
          60,
          61,
          62,
          63,
          64,
          65,
          66,
          67,
          68,
          69,
          70,
          71,
          72,
          73,
          74,
          75,
          76,
          77,
          78,
          79,
          80,
          81,
          82,
          83,
          84,
          85,
          86,
          87,
          88,
          89,
          90,
          91,
          92,
          93,
          94,
          95,
          96,
          97,
          98,
          99,
          100,
          101,
          102,
          103,
          104,
          105,
          106,
          107,
          108,
          109,
          110,
          111,
          112,
          113,
          114,
          115,
          116,
          117,
          118,
          119,
          120,
          121,
          122,
          123,
          124,
          125,
          126,
          127,
          128,
          129,
          130,
          131,
          132,
          133,
          134,
          135,
          136,
          137,
          138,
          139,
          140,
          141,
          142,
          143,
          144,
          145,
          146,
          147,
          148,
          149,
          150,
          151,
          152,
          153,
          154,
          155,
          156,
          157,
          158,
          159,
          160,
          161,
          162,
          163,
          164,
          165,
          166,
          167,
          168,
          169,
          170,
          171,
          172,
          173,
          174,
          175,
          176,
          177,
          178,
          179,
          180,
          181,
          182,
          183,
          184,
          185,
          186,
          187,
          188,
          189,
          190,
          191,
          192,
          193,
          194,
          195,
          196,
          197,
          198,
          199,
          200,
          201,
          202,
          203,
          204,
          205,
          206,
          207,
          208,
          209,
          210,
          211,
          212,
          213,
          214,
          215
         ],
         "xaxis": "x",
         "y": [
          0.2,
          0.2857142857142857,
          0.29411764705882354,
          0.23809523809523808,
          0.26666666666666666,
          0.2631578947368421,
          0.23809523809523808,
          0.2631578947368421,
          0.25,
          0.26666666666666666,
          0.2857142857142857,
          0.2222222222222222,
          0.17391304347826086,
          0.21052631578947367,
          0.2777777777777778,
          0.2631578947368421,
          0.3076923076923077,
          0.10526315789473684,
          0.2222222222222222,
          0.2857142857142857,
          0.19047619047619047,
          0.23094688221709006,
          0.2777777777777778,
          0.2631578947368421,
          0.2857142857142857,
          0.26666666666666666,
          0.125,
          0.2222222222222222,
          0.23094688221709006,
          0.2222222222222222,
          0.26666666666666666,
          0.21052631578947367,
          0.29411764705882354,
          0.125,
          0.26666666666666666,
          0.2857142857142857,
          0.2222222222222222,
          0.2777777777777778,
          0.26666666666666666,
          0.25,
          0.19047619047619047,
          0.29411764705882354,
          0.26666666666666666,
          0.30303030303030304,
          0.2631578947368421,
          0.2222222222222222,
          0.125,
          0.2777777777777778,
          0.25,
          0.26666666666666666,
          0.25641025641025644,
          0.2631578947368421,
          0.29411764705882354,
          0.2777777777777778,
          0.25,
          0.125,
          0.2,
          0.23094688221709006,
          0.2857142857142857,
          0.2777777777777778,
          0.2857142857142857,
          0.2777777777777778,
          0.2777777777777778,
          0.16666666666666666,
          0.29411764705882354,
          0.25,
          0.2777777777777778,
          0.15384615384615385,
          0.29411764705882354,
          0.25641025641025644,
          0.26666666666666666,
          0.2631578947368421,
          0.2631578947368421,
          0.29411764705882354,
          0.2631578947368421,
          0.2222222222222222,
          0.2777777777777778,
          0.21052631578947367,
          0.26666666666666666,
          0.2857142857142857,
          0.3225806451612903,
          0.2631578947368421,
          0.2777777777777778,
          0.25,
          0.2777777777777778,
          0.2857142857142857,
          0.2,
          0.25,
          0.2857142857142857,
          0.15384615384615385,
          0.2857142857142857,
          0.23094688221709006,
          0.21052631578947367,
          0.26666666666666666,
          0.2,
          0.23809523809523808,
          0.26666666666666666,
          0.29411764705882354,
          0.26666666666666666,
          0.2631578947368421,
          0.15384615384615385,
          0.25,
          0.2631578947368421,
          0.23809523809523808,
          0.26666666666666666,
          0.29411764705882354,
          0.26666666666666666,
          0.2857142857142857,
          0.26666666666666666,
          0.25,
          0.14285714285714285,
          0.15384615384615385,
          0.26666666666666666,
          0.26666666666666666,
          0.23094688221709006,
          0.29411764705882354,
          0.25,
          0.2777777777777778,
          0.10526315789473684,
          0.2857142857142857,
          0.2631578947368421,
          0.26666666666666666,
          0.2631578947368421,
          0.25,
          0.26666666666666666,
          0.23809523809523808,
          0.25,
          0.2857142857142857,
          0.2777777777777778,
          0.26666666666666666,
          0.23809523809523808,
          0.25,
          0.13333333333333333,
          0.2857142857142857,
          0.30303030303030304,
          0.23094688221709006,
          0.2857142857142857,
          0.2,
          0.2857142857142857,
          0.29411764705882354,
          0.29411764705882354,
          0.2631578947368421,
          0.16666666666666666,
          0.2631578947368421,
          0.23094688221709006,
          0.13333333333333333,
          0.29411764705882354,
          0.2857142857142857,
          0.2777777777777778,
          0.2777777777777778,
          0.2857142857142857,
          0.19047619047619047,
          0.3125,
          0.2,
          0.2222222222222222,
          0.3076923076923077,
          0.25641025641025644,
          0.25,
          0.2777777777777778,
          0.16666666666666666,
          0.2777777777777778,
          0.2631578947368421,
          0.2631578947368421,
          0.2857142857142857,
          0.25,
          0.2222222222222222,
          0.2777777777777778,
          0.2857142857142857,
          0.2222222222222222,
          0.2777777777777778,
          0.2222222222222222,
          0.2631578947368421,
          0.1,
          0.2631578947368421,
          0.2777777777777778,
          0.25,
          0.25,
          0.26666666666666666,
          0.2857142857142857,
          0.2857142857142857,
          0.2857142857142857,
          0.2857142857142857,
          0.17391304347826086,
          0.29411764705882354,
          0.2777777777777778,
          0.23809523809523808,
          0.2631578947368421,
          0.18181818181818182,
          0.2631578947368421,
          0.2777777777777778,
          0.2857142857142857,
          0.2777777777777778,
          0.23809523809523808,
          0.25,
          0.2631578947368421,
          0.29411764705882354,
          0.2857142857142857,
          0.19047619047619047,
          0.2857142857142857,
          0.2857142857142857,
          0.29411764705882354,
          0.2777777777777778,
          0.2777777777777778,
          0.29411764705882354,
          0.19047619047619047,
          0.23809523809523808,
          0.2857142857142857,
          0.26666666666666666,
          0.1111111111111111,
          0.25,
          0.29411764705882354,
          0.2,
          0.25,
          0.2777777777777778,
          0.26666666666666666,
          0.3076923076923077
         ],
         "yaxis": "y",
         "type": "scatter"
        }
       ],
       "layout": {
        "template": {
         "data": {
          "histogram2dcontour": [
           {
            "type": "histogram2dcontour",
            "colorbar": {
             "outlinewidth": 0,
             "ticks": ""
            },
            "colorscale": [
             [
              0.0,
              "#0d0887"
             ],
             [
              0.1111111111111111,
              "#46039f"
             ],
             [
              0.2222222222222222,
              "#7201a8"
             ],
             [
              0.3333333333333333,
              "#9c179e"
             ],
             [
              0.4444444444444444,
              "#bd3786"
             ],
             [
              0.5555555555555556,
              "#d8576b"
             ],
             [
              0.6666666666666666,
              "#ed7953"
             ],
             [
              0.7777777777777778,
              "#fb9f3a"
             ],
             [
              0.8888888888888888,
              "#fdca26"
             ],
             [
              1.0,
              "#f0f921"
             ]
            ]
           }
          ],
          "choropleth": [
           {
            "type": "choropleth",
            "colorbar": {
             "outlinewidth": 0,
             "ticks": ""
            }
           }
          ],
          "histogram2d": [
           {
            "type": "histogram2d",
            "colorbar": {
             "outlinewidth": 0,
             "ticks": ""
            },
            "colorscale": [
             [
              0.0,
              "#0d0887"
             ],
             [
              0.1111111111111111,
              "#46039f"
             ],
             [
              0.2222222222222222,
              "#7201a8"
             ],
             [
              0.3333333333333333,
              "#9c179e"
             ],
             [
              0.4444444444444444,
              "#bd3786"
             ],
             [
              0.5555555555555556,
              "#d8576b"
             ],
             [
              0.6666666666666666,
              "#ed7953"
             ],
             [
              0.7777777777777778,
              "#fb9f3a"
             ],
             [
              0.8888888888888888,
              "#fdca26"
             ],
             [
              1.0,
              "#f0f921"
             ]
            ]
           }
          ],
          "heatmap": [
           {
            "type": "heatmap",
            "colorbar": {
             "outlinewidth": 0,
             "ticks": ""
            },
            "colorscale": [
             [
              0.0,
              "#0d0887"
             ],
             [
              0.1111111111111111,
              "#46039f"
             ],
             [
              0.2222222222222222,
              "#7201a8"
             ],
             [
              0.3333333333333333,
              "#9c179e"
             ],
             [
              0.4444444444444444,
              "#bd3786"
             ],
             [
              0.5555555555555556,
              "#d8576b"
             ],
             [
              0.6666666666666666,
              "#ed7953"
             ],
             [
              0.7777777777777778,
              "#fb9f3a"
             ],
             [
              0.8888888888888888,
              "#fdca26"
             ],
             [
              1.0,
              "#f0f921"
             ]
            ]
           }
          ],
          "heatmapgl": [
           {
            "type": "heatmapgl",
            "colorbar": {
             "outlinewidth": 0,
             "ticks": ""
            },
            "colorscale": [
             [
              0.0,
              "#0d0887"
             ],
             [
              0.1111111111111111,
              "#46039f"
             ],
             [
              0.2222222222222222,
              "#7201a8"
             ],
             [
              0.3333333333333333,
              "#9c179e"
             ],
             [
              0.4444444444444444,
              "#bd3786"
             ],
             [
              0.5555555555555556,
              "#d8576b"
             ],
             [
              0.6666666666666666,
              "#ed7953"
             ],
             [
              0.7777777777777778,
              "#fb9f3a"
             ],
             [
              0.8888888888888888,
              "#fdca26"
             ],
             [
              1.0,
              "#f0f921"
             ]
            ]
           }
          ],
          "contourcarpet": [
           {
            "type": "contourcarpet",
            "colorbar": {
             "outlinewidth": 0,
             "ticks": ""
            }
           }
          ],
          "contour": [
           {
            "type": "contour",
            "colorbar": {
             "outlinewidth": 0,
             "ticks": ""
            },
            "colorscale": [
             [
              0.0,
              "#0d0887"
             ],
             [
              0.1111111111111111,
              "#46039f"
             ],
             [
              0.2222222222222222,
              "#7201a8"
             ],
             [
              0.3333333333333333,
              "#9c179e"
             ],
             [
              0.4444444444444444,
              "#bd3786"
             ],
             [
              0.5555555555555556,
              "#d8576b"
             ],
             [
              0.6666666666666666,
              "#ed7953"
             ],
             [
              0.7777777777777778,
              "#fb9f3a"
             ],
             [
              0.8888888888888888,
              "#fdca26"
             ],
             [
              1.0,
              "#f0f921"
             ]
            ]
           }
          ],
          "surface": [
           {
            "type": "surface",
            "colorbar": {
             "outlinewidth": 0,
             "ticks": ""
            },
            "colorscale": [
             [
              0.0,
              "#0d0887"
             ],
             [
              0.1111111111111111,
              "#46039f"
             ],
             [
              0.2222222222222222,
              "#7201a8"
             ],
             [
              0.3333333333333333,
              "#9c179e"
             ],
             [
              0.4444444444444444,
              "#bd3786"
             ],
             [
              0.5555555555555556,
              "#d8576b"
             ],
             [
              0.6666666666666666,
              "#ed7953"
             ],
             [
              0.7777777777777778,
              "#fb9f3a"
             ],
             [
              0.8888888888888888,
              "#fdca26"
             ],
             [
              1.0,
              "#f0f921"
             ]
            ]
           }
          ],
          "mesh3d": [
           {
            "type": "mesh3d",
            "colorbar": {
             "outlinewidth": 0,
             "ticks": ""
            }
           }
          ],
          "scatter": [
           {
            "marker": {
             "line": {
              "color": "#283442"
             }
            },
            "type": "scatter"
           }
          ],
          "parcoords": [
           {
            "type": "parcoords",
            "line": {
             "colorbar": {
              "outlinewidth": 0,
              "ticks": ""
             }
            }
           }
          ],
          "scatterpolargl": [
           {
            "type": "scatterpolargl",
            "marker": {
             "colorbar": {
              "outlinewidth": 0,
              "ticks": ""
             }
            }
           }
          ],
          "bar": [
           {
            "error_x": {
             "color": "#f2f5fa"
            },
            "error_y": {
             "color": "#f2f5fa"
            },
            "marker": {
             "line": {
              "color": "rgb(17,17,17)",
              "width": 0.5
             },
             "pattern": {
              "fillmode": "overlay",
              "size": 10,
              "solidity": 0.2
             }
            },
            "type": "bar"
           }
          ],
          "scattergeo": [
           {
            "type": "scattergeo",
            "marker": {
             "colorbar": {
              "outlinewidth": 0,
              "ticks": ""
             }
            }
           }
          ],
          "scatterpolar": [
           {
            "type": "scatterpolar",
            "marker": {
             "colorbar": {
              "outlinewidth": 0,
              "ticks": ""
             }
            }
           }
          ],
          "histogram": [
           {
            "marker": {
             "pattern": {
              "fillmode": "overlay",
              "size": 10,
              "solidity": 0.2
             }
            },
            "type": "histogram"
           }
          ],
          "scattergl": [
           {
            "marker": {
             "line": {
              "color": "#283442"
             }
            },
            "type": "scattergl"
           }
          ],
          "scatter3d": [
           {
            "type": "scatter3d",
            "line": {
             "colorbar": {
              "outlinewidth": 0,
              "ticks": ""
             }
            },
            "marker": {
             "colorbar": {
              "outlinewidth": 0,
              "ticks": ""
             }
            }
           }
          ],
          "scattermapbox": [
           {
            "type": "scattermapbox",
            "marker": {
             "colorbar": {
              "outlinewidth": 0,
              "ticks": ""
             }
            }
           }
          ],
          "scatterternary": [
           {
            "type": "scatterternary",
            "marker": {
             "colorbar": {
              "outlinewidth": 0,
              "ticks": ""
             }
            }
           }
          ],
          "scattercarpet": [
           {
            "type": "scattercarpet",
            "marker": {
             "colorbar": {
              "outlinewidth": 0,
              "ticks": ""
             }
            }
           }
          ],
          "carpet": [
           {
            "aaxis": {
             "endlinecolor": "#A2B1C6",
             "gridcolor": "#506784",
             "linecolor": "#506784",
             "minorgridcolor": "#506784",
             "startlinecolor": "#A2B1C6"
            },
            "baxis": {
             "endlinecolor": "#A2B1C6",
             "gridcolor": "#506784",
             "linecolor": "#506784",
             "minorgridcolor": "#506784",
             "startlinecolor": "#A2B1C6"
            },
            "type": "carpet"
           }
          ],
          "table": [
           {
            "cells": {
             "fill": {
              "color": "#506784"
             },
             "line": {
              "color": "rgb(17,17,17)"
             }
            },
            "header": {
             "fill": {
              "color": "#2a3f5f"
             },
             "line": {
              "color": "rgb(17,17,17)"
             }
            },
            "type": "table"
           }
          ],
          "barpolar": [
           {
            "marker": {
             "line": {
              "color": "rgb(17,17,17)",
              "width": 0.5
             },
             "pattern": {
              "fillmode": "overlay",
              "size": 10,
              "solidity": 0.2
             }
            },
            "type": "barpolar"
           }
          ],
          "pie": [
           {
            "automargin": true,
            "type": "pie"
           }
          ]
         },
         "layout": {
          "autotypenumbers": "strict",
          "colorway": [
           "#636efa",
           "#EF553B",
           "#00cc96",
           "#ab63fa",
           "#FFA15A",
           "#19d3f3",
           "#FF6692",
           "#B6E880",
           "#FF97FF",
           "#FECB52"
          ],
          "font": {
           "color": "#f2f5fa"
          },
          "hovermode": "closest",
          "hoverlabel": {
           "align": "left"
          },
          "paper_bgcolor": "rgb(17,17,17)",
          "plot_bgcolor": "rgb(17,17,17)",
          "polar": {
           "bgcolor": "rgb(17,17,17)",
           "angularaxis": {
            "gridcolor": "#506784",
            "linecolor": "#506784",
            "ticks": ""
           },
           "radialaxis": {
            "gridcolor": "#506784",
            "linecolor": "#506784",
            "ticks": ""
           }
          },
          "ternary": {
           "bgcolor": "rgb(17,17,17)",
           "aaxis": {
            "gridcolor": "#506784",
            "linecolor": "#506784",
            "ticks": ""
           },
           "baxis": {
            "gridcolor": "#506784",
            "linecolor": "#506784",
            "ticks": ""
           },
           "caxis": {
            "gridcolor": "#506784",
            "linecolor": "#506784",
            "ticks": ""
           }
          },
          "coloraxis": {
           "colorbar": {
            "outlinewidth": 0,
            "ticks": ""
           }
          },
          "colorscale": {
           "sequential": [
            [
             0.0,
             "#0d0887"
            ],
            [
             0.1111111111111111,
             "#46039f"
            ],
            [
             0.2222222222222222,
             "#7201a8"
            ],
            [
             0.3333333333333333,
             "#9c179e"
            ],
            [
             0.4444444444444444,
             "#bd3786"
            ],
            [
             0.5555555555555556,
             "#d8576b"
            ],
            [
             0.6666666666666666,
             "#ed7953"
            ],
            [
             0.7777777777777778,
             "#fb9f3a"
            ],
            [
             0.8888888888888888,
             "#fdca26"
            ],
            [
             1.0,
             "#f0f921"
            ]
           ],
           "sequentialminus": [
            [
             0.0,
             "#0d0887"
            ],
            [
             0.1111111111111111,
             "#46039f"
            ],
            [
             0.2222222222222222,
             "#7201a8"
            ],
            [
             0.3333333333333333,
             "#9c179e"
            ],
            [
             0.4444444444444444,
             "#bd3786"
            ],
            [
             0.5555555555555556,
             "#d8576b"
            ],
            [
             0.6666666666666666,
             "#ed7953"
            ],
            [
             0.7777777777777778,
             "#fb9f3a"
            ],
            [
             0.8888888888888888,
             "#fdca26"
            ],
            [
             1.0,
             "#f0f921"
            ]
           ],
           "diverging": [
            [
             0,
             "#8e0152"
            ],
            [
             0.1,
             "#c51b7d"
            ],
            [
             0.2,
             "#de77ae"
            ],
            [
             0.3,
             "#f1b6da"
            ],
            [
             0.4,
             "#fde0ef"
            ],
            [
             0.5,
             "#f7f7f7"
            ],
            [
             0.6,
             "#e6f5d0"
            ],
            [
             0.7,
             "#b8e186"
            ],
            [
             0.8,
             "#7fbc41"
            ],
            [
             0.9,
             "#4d9221"
            ],
            [
             1,
             "#276419"
            ]
           ]
          },
          "xaxis": {
           "gridcolor": "#283442",
           "linecolor": "#506784",
           "ticks": "",
           "title": {
            "standoff": 15
           },
           "zerolinecolor": "#283442",
           "automargin": true,
           "zerolinewidth": 2
          },
          "yaxis": {
           "gridcolor": "#283442",
           "linecolor": "#506784",
           "ticks": "",
           "title": {
            "standoff": 15
           },
           "zerolinecolor": "#283442",
           "automargin": true,
           "zerolinewidth": 2
          },
          "scene": {
           "xaxis": {
            "backgroundcolor": "rgb(17,17,17)",
            "gridcolor": "#506784",
            "linecolor": "#506784",
            "showbackground": true,
            "ticks": "",
            "zerolinecolor": "#C8D4E3",
            "gridwidth": 2
           },
           "yaxis": {
            "backgroundcolor": "rgb(17,17,17)",
            "gridcolor": "#506784",
            "linecolor": "#506784",
            "showbackground": true,
            "ticks": "",
            "zerolinecolor": "#C8D4E3",
            "gridwidth": 2
           },
           "zaxis": {
            "backgroundcolor": "rgb(17,17,17)",
            "gridcolor": "#506784",
            "linecolor": "#506784",
            "showbackground": true,
            "ticks": "",
            "zerolinecolor": "#C8D4E3",
            "gridwidth": 2
           }
          },
          "shapedefaults": {
           "line": {
            "color": "#f2f5fa"
           }
          },
          "annotationdefaults": {
           "arrowcolor": "#f2f5fa",
           "arrowhead": 0,
           "arrowwidth": 1
          },
          "geo": {
           "bgcolor": "rgb(17,17,17)",
           "landcolor": "rgb(17,17,17)",
           "subunitcolor": "#506784",
           "showland": true,
           "showlakes": true,
           "lakecolor": "rgb(17,17,17)"
          },
          "title": {
           "x": 0.05
          },
          "updatemenudefaults": {
           "bgcolor": "#506784",
           "borderwidth": 0
          },
          "sliderdefaults": {
           "bgcolor": "#C8D4E3",
           "borderwidth": 1,
           "bordercolor": "rgb(17,17,17)",
           "tickwidth": 0
          },
          "mapbox": {
           "style": "dark"
          }
         }
        },
        "xaxis": {
         "anchor": "y",
         "domain": [
          0.0,
          1.0
         ],
         "title": {
          "text": "game_number"
         }
        },
        "yaxis": {
         "anchor": "x",
         "domain": [
          0.0,
          1.0
         ],
         "title": {
          "text": "value"
         }
        },
        "legend": {
         "title": {
          "text": "variable"
         },
         "tracegroupgap": 0
        },
        "margin": {
         "t": 60
        }
       },
       "config": {
        "plotlyServerURL": "https://plot.ly"
       }
      },
      "text/html": "<div>                            <div id=\"85d3877f-1eed-48f6-a8b0-ba54d1a327c3\" class=\"plotly-graph-div\" style=\"height:525px; width:100%;\"></div>            <script type=\"text/javascript\">                require([\"plotly\"], function(Plotly) {                    window.PLOTLYENV=window.PLOTLYENV || {};                                    if (document.getElementById(\"85d3877f-1eed-48f6-a8b0-ba54d1a327c3\")) {                    Plotly.newPlot(                        \"85d3877f-1eed-48f6-a8b0-ba54d1a327c3\",                        [{\"hovertemplate\":\"variable=odds_home<br>game_number=%{x}<br>value=%{y}<extra></extra>\",\"legendgroup\":\"odds_home\",\"line\":{\"color\":\"#636efa\",\"dash\":\"solid\"},\"marker\":{\"symbol\":\"circle\"},\"mode\":\"markers+lines\",\"name\":\"odds_home\",\"orientation\":\"v\",\"showlegend\":true,\"x\":[0,1,2,3,4,5,6,7,8,9,10,11,12,13,14,15,16,17,18,19,20,21,22,23,24,25,26,27,28,29,30,31,32,33,34,35,36,37,38,39,40,41,42,43,44,45,46,47,48,49,50,51,52,53,54,55,56,57,58,59,60,61,62,63,64,65,66,67,68,69,70,71,72,73,74,75,76,77,78,79,80,81,82,83,84,85,86,87,88,89,90,91,92,93,94,95,96,97,98,99,100,101,102,103,104,105,106,107,108,109,110,111,112,113,114,115,116,117,118,119,120,121,122,123,124,125,126,127,128,129,130,131,132,133,134,135,136,137,138,139,140,141,142,143,144,145,146,147,148,149,150,151,152,153,154,155,156,157,158,159,160,161,162,163,164,165,166,167,168,169,170,171,172,173,174,175,176,177,178,179,180,181,182,183,184,185,186,187,188,189,190,191,192,193,194,195,196,197,198,199,200,201,202,203,204,205,206,207,208,209,210,211,212,213,214,215],\"xaxis\":\"x\",\"y\":[0.16666666666666666,0.30303030303030304,0.3125,0.48780487804878053,0.5813953488372093,0.5405405405405405,0.5,0.2222222222222222,0.5882352941176471,0.3333333333333333,0.3333333333333333,0.6369426751592356,0.7692307692307692,0.6944444444444444,0.4444444444444444,0.3225806451612903,0.45454545454545453,0.8928571428571428,0.6666666666666666,0.2857142857142857,0.7352941176470588,0.6024096385542169,0.38167938931297707,0.5464480874316939,0.2777777777777778,0.5128205128205129,0.07692307692307693,0.6666666666666666,0.2222222222222222,0.6896551724137931,0.36363636363636365,0.6896551724137931,0.3225806451612903,0.8474576271186441,0.48780487804878053,0.4081632653061224,0.6211180124223602,0.3448275862068966,0.5263157894736842,0.5714285714285714,0.14285714285714285,0.48780487804878053,0.2857142857142857,0.4081632653061224,0.45454545454545453,0.6535947712418301,0.8771929824561404,0.5,0.2777777777777778,0.4444444444444444,0.4347826086956522,0.5,0.42194092827004215,0.5,0.5813953488372093,0.058823529411764705,0.7352941176470588,0.6211180124223602,0.4444444444444444,0.3333333333333333,0.5128205128205129,0.3225806451612903,0.46511627906976744,0.7352941176470588,0.4444444444444444,0.3225806451612903,0.47619047619047616,0.819672131147541,0.4166666666666667,0.4,0.36363636363636365,0.5128205128205129,0.5128205128205129,0.3448275862068966,0.26666666666666666,0.6896551724137931,0.3333333333333333,0.23094688221709006,0.5128205128205129,0.3333333333333333,0.3921568627450981,0.2777777777777778,0.36363636363636365,0.6060606060606061,0.42194092827004215,0.38167938931297707,0.7142857142857143,0.6024096385542169,0.3448275862068966,0.8,0.46511627906976744,0.18181818181818182,0.6535947712418301,0.5263157894736842,0.18181818181818182,0.5882352941176471,0.4347826086956522,0.23094688221709006,0.5714285714285714,0.5,0.8,0.5555555555555556,0.5555555555555556,0.6060606060606061,0.36363636363636365,0.48780487804878053,0.25,0.3448275862068966,0.46511627906976744,0.23094688221709006,0.819672131147541,0.1,0.3448275862068966,0.5,0.6060606060606061,0.46511627906976744,0.5882352941176471,0.3225806451612903,0.8771929824561404,0.3125,0.5128205128205129,0.3333333333333333,0.5263157894736842,0.5813953488372093,0.29411764705882354,0.6451612903225806,0.3125,0.45454545454545453,0.45454545454545453,0.4444444444444444,0.5813953488372093,0.2777777777777778,0.06666666666666667,0.36363636363636365,0.5,0.2777777777777778,0.42016806722689076,0.7352941176470588,0.4166666666666667,0.4444444444444444,0.3921568627450981,0.4444444444444444,0.7692307692307692,0.3802281368821293,0.17391304347826086,0.8333333333333334,0.3333333333333333,0.47619047619047616,0.3448275862068966,0.3333333333333333,0.4,0.7142857142857143,0.35714285714285715,0.7518796992481203,0.6666666666666666,0.2857142857142857,0.5,0.5882352941176471,0.3125,0.7518796992481203,0.2631578947368421,0.4081632653061224,0.25,0.36363636363636365,0.5988023952095809,0.6896551724137931,0.23809523809523808,0.5128205128205129,0.6535947712418301,0.5,0.19047619047619047,0.2777777777777778,0.9009009009009008,0.5555555555555556,0.3472222222222222,0.5555555555555556,0.25,0.5882352941176471,0.3472222222222222,0.37037037037037035,0.37037037037037035,0.3225806451612903,0.14285714285714285,0.4081632653061224,0.30303030303030304,0.6172839506172839,0.625,0.7518796992481203,0.5555555555555556,0.46511627906976744,0.4347826086956522,0.47619047619047616,0.25,0.5882352941176471,0.5,0.3333333333333333,0.46511627906976744,0.7518796992481203,0.45454545454545453,0.4347826086956522,0.4347826086956522,0.5235602094240838,0.4166666666666667,0.5235602094240838,0.14285714285714285,0.6535947712418301,0.4081632653061224,0.5780346820809249,0.8849557522123894,0.5555555555555556,0.3448275862068966,0.7142857142857143,0.2222222222222222,0.5235602094240838,0.30303030303030304,0.4444444444444444],\"yaxis\":\"y\",\"type\":\"scatter\"},{\"hovertemplate\":\"variable=odds_away<br>game_number=%{x}<br>value=%{y}<extra></extra>\",\"legendgroup\":\"odds_away\",\"line\":{\"color\":\"#EF553B\",\"dash\":\"solid\"},\"marker\":{\"symbol\":\"circle\"},\"mode\":\"markers+lines\",\"name\":\"odds_away\",\"orientation\":\"v\",\"showlegend\":true,\"x\":[0,1,2,3,4,5,6,7,8,9,10,11,12,13,14,15,16,17,18,19,20,21,22,23,24,25,26,27,28,29,30,31,32,33,34,35,36,37,38,39,40,41,42,43,44,45,46,47,48,49,50,51,52,53,54,55,56,57,58,59,60,61,62,63,64,65,66,67,68,69,70,71,72,73,74,75,76,77,78,79,80,81,82,83,84,85,86,87,88,89,90,91,92,93,94,95,96,97,98,99,100,101,102,103,104,105,106,107,108,109,110,111,112,113,114,115,116,117,118,119,120,121,122,123,124,125,126,127,128,129,130,131,132,133,134,135,136,137,138,139,140,141,142,143,144,145,146,147,148,149,150,151,152,153,154,155,156,157,158,159,160,161,162,163,164,165,166,167,168,169,170,171,172,173,174,175,176,177,178,179,180,181,182,183,184,185,186,187,188,189,190,191,192,193,194,195,196,197,198,199,200,201,202,203,204,205,206,207,208,209,210,211,212,213,214,215],\"xaxis\":\"x\",\"y\":[0.6666666666666666,0.46511627906976744,0.45454545454545453,0.3333333333333333,0.2222222222222222,0.2631578947368421,0.3125,0.5714285714285714,0.2222222222222222,0.45454545454545453,0.4347826086956522,0.19047619047619047,0.10526315789473684,0.14285714285714285,0.3333333333333333,0.46511627906976744,0.29411764705882354,0.058823529411764705,0.16666666666666666,0.47619047619047616,0.13333333333333333,0.2222222222222222,0.3921568627450981,0.23809523809523808,0.48780487804878053,0.2777777777777778,0.8474576271186441,0.16666666666666666,0.6024096385542169,0.14285714285714285,0.42194092827004215,0.16666666666666666,0.4347826086956522,0.08333333333333333,0.29411764705882354,0.35714285714285715,0.21052631578947367,0.4347826086956522,0.2631578947368421,0.23094688221709006,0.7352941176470588,0.26666666666666666,0.5,0.3484320557491289,0.3333333333333333,0.18181818181818182,0.058823529411764705,0.2777777777777778,0.5263157894736842,0.3448275862068966,0.36363636363636365,0.2857142857142857,0.3448275862068966,0.2857142857142857,0.23094688221709006,0.8620689655172414,0.125,0.2,0.3225806451612903,0.4444444444444444,0.2631578947368421,0.45454545454545453,0.3125,0.14285714285714285,0.3125,0.48780487804878053,0.29411764705882354,0.08333333333333333,0.3448275862068966,0.4,0.42194092827004215,0.2777777777777778,0.2857142857142857,0.4166666666666667,0.5263157894736842,0.14285714285714285,0.4347826086956522,0.6060606060606061,0.2777777777777778,0.4347826086956522,0.3448275862068966,0.5128205128205129,0.4081632653061224,0.19047619047619047,0.3484320557491289,0.3846153846153846,0.14285714285714285,0.2,0.42194092827004215,0.1111111111111111,0.3076923076923077,0.6369426751592356,0.18181818181818182,0.2631578947368421,0.6666666666666666,0.2222222222222222,0.3484320557491289,0.5263157894736842,0.21052631578947367,0.29411764705882354,0.09090909090909091,0.24390243902439027,0.23094688221709006,0.21052631578947367,0.4166666666666667,0.2631578947368421,0.5263157894736842,0.42194092827004215,0.3225806451612903,0.5813953488372093,0.09090909090909091,0.8,0.4444444444444444,0.2857142857142857,0.2222222222222222,0.29411764705882354,0.21052631578947367,0.45454545454545453,0.06666666666666667,0.4444444444444444,0.26666666666666666,0.45454545454545453,0.26666666666666666,0.2222222222222222,0.48780487804878053,0.16666666666666666,0.46511627906976744,0.3125,0.3225806451612903,0.3225806451612903,0.23094688221709006,0.5263157894736842,0.8620689655172414,0.4081632653061224,0.25,0.5405405405405405,0.3448275862068966,0.11764705882352941,0.3472222222222222,0.3125,0.36363636363636365,0.3448275862068966,0.125,0.4081632653061224,0.6535947712418301,0.08333333333333333,0.4347826086956522,0.29411764705882354,0.4347826086956522,0.4444444444444444,0.37037037037037035,0.15384615384615385,0.3802281368821293,0.1111111111111111,0.16,0.45454545454545453,0.29411764705882354,0.21052631578947367,0.46511627906976744,0.13333333333333333,0.5128205128205129,0.3802281368821293,0.5405405405405405,0.4,0.2,0.15384615384615385,0.5235602094240838,0.25,0.17391304347826086,0.2777777777777778,0.6369426751592356,0.5128205128205129,0.058823529411764705,0.23094688221709006,0.42016806722689076,0.23809523809523808,0.5555555555555556,0.2,0.4166666666666667,0.4,0.3846153846153846,0.4444444444444444,0.7352941176470588,0.3472222222222222,0.46511627906976744,0.19047619047619047,0.16666666666666666,0.11764705882352941,0.23809523809523808,0.3125,0.3333333333333333,0.3076923076923077,0.5714285714285714,0.2173913043478261,0.2777777777777778,0.4081632653061224,0.3076923076923077,0.1111111111111111,0.3125,0.3333333333333333,0.3225806451612903,0.25,0.35714285714285715,0.23094688221709006,0.7142857142857143,0.16666666666666666,0.35714285714285715,0.21052631578947367,0.05263157894736842,0.23809523809523808,0.4081632653061224,0.14285714285714285,0.5780346820809249,0.25,0.47619047619047616,0.30303030303030304],\"yaxis\":\"y\",\"type\":\"scatter\"},{\"hovertemplate\":\"variable=odds_tie<br>game_number=%{x}<br>value=%{y}<extra></extra>\",\"legendgroup\":\"odds_tie\",\"line\":{\"color\":\"#00cc96\",\"dash\":\"solid\"},\"marker\":{\"symbol\":\"circle\"},\"mode\":\"markers+lines\",\"name\":\"odds_tie\",\"orientation\":\"v\",\"showlegend\":true,\"x\":[0,1,2,3,4,5,6,7,8,9,10,11,12,13,14,15,16,17,18,19,20,21,22,23,24,25,26,27,28,29,30,31,32,33,34,35,36,37,38,39,40,41,42,43,44,45,46,47,48,49,50,51,52,53,54,55,56,57,58,59,60,61,62,63,64,65,66,67,68,69,70,71,72,73,74,75,76,77,78,79,80,81,82,83,84,85,86,87,88,89,90,91,92,93,94,95,96,97,98,99,100,101,102,103,104,105,106,107,108,109,110,111,112,113,114,115,116,117,118,119,120,121,122,123,124,125,126,127,128,129,130,131,132,133,134,135,136,137,138,139,140,141,142,143,144,145,146,147,148,149,150,151,152,153,154,155,156,157,158,159,160,161,162,163,164,165,166,167,168,169,170,171,172,173,174,175,176,177,178,179,180,181,182,183,184,185,186,187,188,189,190,191,192,193,194,195,196,197,198,199,200,201,202,203,204,205,206,207,208,209,210,211,212,213,214,215],\"xaxis\":\"x\",\"y\":[0.2,0.2857142857142857,0.29411764705882354,0.23809523809523808,0.26666666666666666,0.2631578947368421,0.23809523809523808,0.2631578947368421,0.25,0.26666666666666666,0.2857142857142857,0.2222222222222222,0.17391304347826086,0.21052631578947367,0.2777777777777778,0.2631578947368421,0.3076923076923077,0.10526315789473684,0.2222222222222222,0.2857142857142857,0.19047619047619047,0.23094688221709006,0.2777777777777778,0.2631578947368421,0.2857142857142857,0.26666666666666666,0.125,0.2222222222222222,0.23094688221709006,0.2222222222222222,0.26666666666666666,0.21052631578947367,0.29411764705882354,0.125,0.26666666666666666,0.2857142857142857,0.2222222222222222,0.2777777777777778,0.26666666666666666,0.25,0.19047619047619047,0.29411764705882354,0.26666666666666666,0.30303030303030304,0.2631578947368421,0.2222222222222222,0.125,0.2777777777777778,0.25,0.26666666666666666,0.25641025641025644,0.2631578947368421,0.29411764705882354,0.2777777777777778,0.25,0.125,0.2,0.23094688221709006,0.2857142857142857,0.2777777777777778,0.2857142857142857,0.2777777777777778,0.2777777777777778,0.16666666666666666,0.29411764705882354,0.25,0.2777777777777778,0.15384615384615385,0.29411764705882354,0.25641025641025644,0.26666666666666666,0.2631578947368421,0.2631578947368421,0.29411764705882354,0.2631578947368421,0.2222222222222222,0.2777777777777778,0.21052631578947367,0.26666666666666666,0.2857142857142857,0.3225806451612903,0.2631578947368421,0.2777777777777778,0.25,0.2777777777777778,0.2857142857142857,0.2,0.25,0.2857142857142857,0.15384615384615385,0.2857142857142857,0.23094688221709006,0.21052631578947367,0.26666666666666666,0.2,0.23809523809523808,0.26666666666666666,0.29411764705882354,0.26666666666666666,0.2631578947368421,0.15384615384615385,0.25,0.2631578947368421,0.23809523809523808,0.26666666666666666,0.29411764705882354,0.26666666666666666,0.2857142857142857,0.26666666666666666,0.25,0.14285714285714285,0.15384615384615385,0.26666666666666666,0.26666666666666666,0.23094688221709006,0.29411764705882354,0.25,0.2777777777777778,0.10526315789473684,0.2857142857142857,0.2631578947368421,0.26666666666666666,0.2631578947368421,0.25,0.26666666666666666,0.23809523809523808,0.25,0.2857142857142857,0.2777777777777778,0.26666666666666666,0.23809523809523808,0.25,0.13333333333333333,0.2857142857142857,0.30303030303030304,0.23094688221709006,0.2857142857142857,0.2,0.2857142857142857,0.29411764705882354,0.29411764705882354,0.2631578947368421,0.16666666666666666,0.2631578947368421,0.23094688221709006,0.13333333333333333,0.29411764705882354,0.2857142857142857,0.2777777777777778,0.2777777777777778,0.2857142857142857,0.19047619047619047,0.3125,0.2,0.2222222222222222,0.3076923076923077,0.25641025641025644,0.25,0.2777777777777778,0.16666666666666666,0.2777777777777778,0.2631578947368421,0.2631578947368421,0.2857142857142857,0.25,0.2222222222222222,0.2777777777777778,0.2857142857142857,0.2222222222222222,0.2777777777777778,0.2222222222222222,0.2631578947368421,0.1,0.2631578947368421,0.2777777777777778,0.25,0.25,0.26666666666666666,0.2857142857142857,0.2857142857142857,0.2857142857142857,0.2857142857142857,0.17391304347826086,0.29411764705882354,0.2777777777777778,0.23809523809523808,0.2631578947368421,0.18181818181818182,0.2631578947368421,0.2777777777777778,0.2857142857142857,0.2777777777777778,0.23809523809523808,0.25,0.2631578947368421,0.29411764705882354,0.2857142857142857,0.19047619047619047,0.2857142857142857,0.2857142857142857,0.29411764705882354,0.2777777777777778,0.2777777777777778,0.29411764705882354,0.19047619047619047,0.23809523809523808,0.2857142857142857,0.26666666666666666,0.1111111111111111,0.25,0.29411764705882354,0.2,0.25,0.2777777777777778,0.26666666666666666,0.3076923076923077],\"yaxis\":\"y\",\"type\":\"scatter\"}],                        {\"template\":{\"data\":{\"histogram2dcontour\":[{\"type\":\"histogram2dcontour\",\"colorbar\":{\"outlinewidth\":0,\"ticks\":\"\"},\"colorscale\":[[0.0,\"#0d0887\"],[0.1111111111111111,\"#46039f\"],[0.2222222222222222,\"#7201a8\"],[0.3333333333333333,\"#9c179e\"],[0.4444444444444444,\"#bd3786\"],[0.5555555555555556,\"#d8576b\"],[0.6666666666666666,\"#ed7953\"],[0.7777777777777778,\"#fb9f3a\"],[0.8888888888888888,\"#fdca26\"],[1.0,\"#f0f921\"]]}],\"choropleth\":[{\"type\":\"choropleth\",\"colorbar\":{\"outlinewidth\":0,\"ticks\":\"\"}}],\"histogram2d\":[{\"type\":\"histogram2d\",\"colorbar\":{\"outlinewidth\":0,\"ticks\":\"\"},\"colorscale\":[[0.0,\"#0d0887\"],[0.1111111111111111,\"#46039f\"],[0.2222222222222222,\"#7201a8\"],[0.3333333333333333,\"#9c179e\"],[0.4444444444444444,\"#bd3786\"],[0.5555555555555556,\"#d8576b\"],[0.6666666666666666,\"#ed7953\"],[0.7777777777777778,\"#fb9f3a\"],[0.8888888888888888,\"#fdca26\"],[1.0,\"#f0f921\"]]}],\"heatmap\":[{\"type\":\"heatmap\",\"colorbar\":{\"outlinewidth\":0,\"ticks\":\"\"},\"colorscale\":[[0.0,\"#0d0887\"],[0.1111111111111111,\"#46039f\"],[0.2222222222222222,\"#7201a8\"],[0.3333333333333333,\"#9c179e\"],[0.4444444444444444,\"#bd3786\"],[0.5555555555555556,\"#d8576b\"],[0.6666666666666666,\"#ed7953\"],[0.7777777777777778,\"#fb9f3a\"],[0.8888888888888888,\"#fdca26\"],[1.0,\"#f0f921\"]]}],\"heatmapgl\":[{\"type\":\"heatmapgl\",\"colorbar\":{\"outlinewidth\":0,\"ticks\":\"\"},\"colorscale\":[[0.0,\"#0d0887\"],[0.1111111111111111,\"#46039f\"],[0.2222222222222222,\"#7201a8\"],[0.3333333333333333,\"#9c179e\"],[0.4444444444444444,\"#bd3786\"],[0.5555555555555556,\"#d8576b\"],[0.6666666666666666,\"#ed7953\"],[0.7777777777777778,\"#fb9f3a\"],[0.8888888888888888,\"#fdca26\"],[1.0,\"#f0f921\"]]}],\"contourcarpet\":[{\"type\":\"contourcarpet\",\"colorbar\":{\"outlinewidth\":0,\"ticks\":\"\"}}],\"contour\":[{\"type\":\"contour\",\"colorbar\":{\"outlinewidth\":0,\"ticks\":\"\"},\"colorscale\":[[0.0,\"#0d0887\"],[0.1111111111111111,\"#46039f\"],[0.2222222222222222,\"#7201a8\"],[0.3333333333333333,\"#9c179e\"],[0.4444444444444444,\"#bd3786\"],[0.5555555555555556,\"#d8576b\"],[0.6666666666666666,\"#ed7953\"],[0.7777777777777778,\"#fb9f3a\"],[0.8888888888888888,\"#fdca26\"],[1.0,\"#f0f921\"]]}],\"surface\":[{\"type\":\"surface\",\"colorbar\":{\"outlinewidth\":0,\"ticks\":\"\"},\"colorscale\":[[0.0,\"#0d0887\"],[0.1111111111111111,\"#46039f\"],[0.2222222222222222,\"#7201a8\"],[0.3333333333333333,\"#9c179e\"],[0.4444444444444444,\"#bd3786\"],[0.5555555555555556,\"#d8576b\"],[0.6666666666666666,\"#ed7953\"],[0.7777777777777778,\"#fb9f3a\"],[0.8888888888888888,\"#fdca26\"],[1.0,\"#f0f921\"]]}],\"mesh3d\":[{\"type\":\"mesh3d\",\"colorbar\":{\"outlinewidth\":0,\"ticks\":\"\"}}],\"scatter\":[{\"marker\":{\"line\":{\"color\":\"#283442\"}},\"type\":\"scatter\"}],\"parcoords\":[{\"type\":\"parcoords\",\"line\":{\"colorbar\":{\"outlinewidth\":0,\"ticks\":\"\"}}}],\"scatterpolargl\":[{\"type\":\"scatterpolargl\",\"marker\":{\"colorbar\":{\"outlinewidth\":0,\"ticks\":\"\"}}}],\"bar\":[{\"error_x\":{\"color\":\"#f2f5fa\"},\"error_y\":{\"color\":\"#f2f5fa\"},\"marker\":{\"line\":{\"color\":\"rgb(17,17,17)\",\"width\":0.5},\"pattern\":{\"fillmode\":\"overlay\",\"size\":10,\"solidity\":0.2}},\"type\":\"bar\"}],\"scattergeo\":[{\"type\":\"scattergeo\",\"marker\":{\"colorbar\":{\"outlinewidth\":0,\"ticks\":\"\"}}}],\"scatterpolar\":[{\"type\":\"scatterpolar\",\"marker\":{\"colorbar\":{\"outlinewidth\":0,\"ticks\":\"\"}}}],\"histogram\":[{\"marker\":{\"pattern\":{\"fillmode\":\"overlay\",\"size\":10,\"solidity\":0.2}},\"type\":\"histogram\"}],\"scattergl\":[{\"marker\":{\"line\":{\"color\":\"#283442\"}},\"type\":\"scattergl\"}],\"scatter3d\":[{\"type\":\"scatter3d\",\"line\":{\"colorbar\":{\"outlinewidth\":0,\"ticks\":\"\"}},\"marker\":{\"colorbar\":{\"outlinewidth\":0,\"ticks\":\"\"}}}],\"scattermapbox\":[{\"type\":\"scattermapbox\",\"marker\":{\"colorbar\":{\"outlinewidth\":0,\"ticks\":\"\"}}}],\"scatterternary\":[{\"type\":\"scatterternary\",\"marker\":{\"colorbar\":{\"outlinewidth\":0,\"ticks\":\"\"}}}],\"scattercarpet\":[{\"type\":\"scattercarpet\",\"marker\":{\"colorbar\":{\"outlinewidth\":0,\"ticks\":\"\"}}}],\"carpet\":[{\"aaxis\":{\"endlinecolor\":\"#A2B1C6\",\"gridcolor\":\"#506784\",\"linecolor\":\"#506784\",\"minorgridcolor\":\"#506784\",\"startlinecolor\":\"#A2B1C6\"},\"baxis\":{\"endlinecolor\":\"#A2B1C6\",\"gridcolor\":\"#506784\",\"linecolor\":\"#506784\",\"minorgridcolor\":\"#506784\",\"startlinecolor\":\"#A2B1C6\"},\"type\":\"carpet\"}],\"table\":[{\"cells\":{\"fill\":{\"color\":\"#506784\"},\"line\":{\"color\":\"rgb(17,17,17)\"}},\"header\":{\"fill\":{\"color\":\"#2a3f5f\"},\"line\":{\"color\":\"rgb(17,17,17)\"}},\"type\":\"table\"}],\"barpolar\":[{\"marker\":{\"line\":{\"color\":\"rgb(17,17,17)\",\"width\":0.5},\"pattern\":{\"fillmode\":\"overlay\",\"size\":10,\"solidity\":0.2}},\"type\":\"barpolar\"}],\"pie\":[{\"automargin\":true,\"type\":\"pie\"}]},\"layout\":{\"autotypenumbers\":\"strict\",\"colorway\":[\"#636efa\",\"#EF553B\",\"#00cc96\",\"#ab63fa\",\"#FFA15A\",\"#19d3f3\",\"#FF6692\",\"#B6E880\",\"#FF97FF\",\"#FECB52\"],\"font\":{\"color\":\"#f2f5fa\"},\"hovermode\":\"closest\",\"hoverlabel\":{\"align\":\"left\"},\"paper_bgcolor\":\"rgb(17,17,17)\",\"plot_bgcolor\":\"rgb(17,17,17)\",\"polar\":{\"bgcolor\":\"rgb(17,17,17)\",\"angularaxis\":{\"gridcolor\":\"#506784\",\"linecolor\":\"#506784\",\"ticks\":\"\"},\"radialaxis\":{\"gridcolor\":\"#506784\",\"linecolor\":\"#506784\",\"ticks\":\"\"}},\"ternary\":{\"bgcolor\":\"rgb(17,17,17)\",\"aaxis\":{\"gridcolor\":\"#506784\",\"linecolor\":\"#506784\",\"ticks\":\"\"},\"baxis\":{\"gridcolor\":\"#506784\",\"linecolor\":\"#506784\",\"ticks\":\"\"},\"caxis\":{\"gridcolor\":\"#506784\",\"linecolor\":\"#506784\",\"ticks\":\"\"}},\"coloraxis\":{\"colorbar\":{\"outlinewidth\":0,\"ticks\":\"\"}},\"colorscale\":{\"sequential\":[[0.0,\"#0d0887\"],[0.1111111111111111,\"#46039f\"],[0.2222222222222222,\"#7201a8\"],[0.3333333333333333,\"#9c179e\"],[0.4444444444444444,\"#bd3786\"],[0.5555555555555556,\"#d8576b\"],[0.6666666666666666,\"#ed7953\"],[0.7777777777777778,\"#fb9f3a\"],[0.8888888888888888,\"#fdca26\"],[1.0,\"#f0f921\"]],\"sequentialminus\":[[0.0,\"#0d0887\"],[0.1111111111111111,\"#46039f\"],[0.2222222222222222,\"#7201a8\"],[0.3333333333333333,\"#9c179e\"],[0.4444444444444444,\"#bd3786\"],[0.5555555555555556,\"#d8576b\"],[0.6666666666666666,\"#ed7953\"],[0.7777777777777778,\"#fb9f3a\"],[0.8888888888888888,\"#fdca26\"],[1.0,\"#f0f921\"]],\"diverging\":[[0,\"#8e0152\"],[0.1,\"#c51b7d\"],[0.2,\"#de77ae\"],[0.3,\"#f1b6da\"],[0.4,\"#fde0ef\"],[0.5,\"#f7f7f7\"],[0.6,\"#e6f5d0\"],[0.7,\"#b8e186\"],[0.8,\"#7fbc41\"],[0.9,\"#4d9221\"],[1,\"#276419\"]]},\"xaxis\":{\"gridcolor\":\"#283442\",\"linecolor\":\"#506784\",\"ticks\":\"\",\"title\":{\"standoff\":15},\"zerolinecolor\":\"#283442\",\"automargin\":true,\"zerolinewidth\":2},\"yaxis\":{\"gridcolor\":\"#283442\",\"linecolor\":\"#506784\",\"ticks\":\"\",\"title\":{\"standoff\":15},\"zerolinecolor\":\"#283442\",\"automargin\":true,\"zerolinewidth\":2},\"scene\":{\"xaxis\":{\"backgroundcolor\":\"rgb(17,17,17)\",\"gridcolor\":\"#506784\",\"linecolor\":\"#506784\",\"showbackground\":true,\"ticks\":\"\",\"zerolinecolor\":\"#C8D4E3\",\"gridwidth\":2},\"yaxis\":{\"backgroundcolor\":\"rgb(17,17,17)\",\"gridcolor\":\"#506784\",\"linecolor\":\"#506784\",\"showbackground\":true,\"ticks\":\"\",\"zerolinecolor\":\"#C8D4E3\",\"gridwidth\":2},\"zaxis\":{\"backgroundcolor\":\"rgb(17,17,17)\",\"gridcolor\":\"#506784\",\"linecolor\":\"#506784\",\"showbackground\":true,\"ticks\":\"\",\"zerolinecolor\":\"#C8D4E3\",\"gridwidth\":2}},\"shapedefaults\":{\"line\":{\"color\":\"#f2f5fa\"}},\"annotationdefaults\":{\"arrowcolor\":\"#f2f5fa\",\"arrowhead\":0,\"arrowwidth\":1},\"geo\":{\"bgcolor\":\"rgb(17,17,17)\",\"landcolor\":\"rgb(17,17,17)\",\"subunitcolor\":\"#506784\",\"showland\":true,\"showlakes\":true,\"lakecolor\":\"rgb(17,17,17)\"},\"title\":{\"x\":0.05},\"updatemenudefaults\":{\"bgcolor\":\"#506784\",\"borderwidth\":0},\"sliderdefaults\":{\"bgcolor\":\"#C8D4E3\",\"borderwidth\":1,\"bordercolor\":\"rgb(17,17,17)\",\"tickwidth\":0},\"mapbox\":{\"style\":\"dark\"}}},\"xaxis\":{\"anchor\":\"y\",\"domain\":[0.0,1.0],\"title\":{\"text\":\"game_number\"}},\"yaxis\":{\"anchor\":\"x\",\"domain\":[0.0,1.0],\"title\":{\"text\":\"value\"}},\"legend\":{\"title\":{\"text\":\"variable\"},\"tracegroupgap\":0},\"margin\":{\"t\":60}},                        {\"responsive\": true}                    ).then(function(){\n                            \nvar gd = document.getElementById('85d3877f-1eed-48f6-a8b0-ba54d1a327c3');\nvar x = new MutationObserver(function (mutations, observer) {{\n        var display = window.getComputedStyle(gd).display;\n        if (!display || display === 'none') {{\n            console.log([gd, 'removed!']);\n            Plotly.purge(gd);\n            observer.disconnect();\n        }}\n}});\n\n// Listen for the removal of the full notebook cells\nvar notebookContainer = gd.closest('#notebook-container');\nif (notebookContainer) {{\n    x.observe(notebookContainer, {childList: true});\n}}\n\n// Listen for the clearing of the current output cell\nvar outputEl = gd.closest('.output');\nif (outputEl) {{\n    x.observe(outputEl, {childList: true});\n}}\n\n                        })                };                });            </script>        </div>"
     },
     "metadata": {},
     "output_type": "display_data"
    }
   ],
   "source": [
    "def which_team_has_the_most_odds_of_winning_through_time(time_selecionado):\n",
    "    if time_selecionado == 'Todos':\n",
    "        df_return = df\n",
    "    else:\n",
    "        df_return = df[df.home_team == time_selecionado]\n",
    "    pd.options.plotting.backend = \"plotly\"\n",
    "    fig_2 = df_return.plot(x='game_number', y=['odds_home', 'odds_away', 'odds_tie'], markers=True)\n",
    "    return fig_2\n",
    "\n",
    "which_team_has_the_most_odds_of_winning_through_time('Todos').show()"
   ]
  },
  {
   "cell_type": "markdown",
   "metadata": {
    "collapsed": false,
    "id": "DaZDQNRe3Azt",
    "pycharm": {
     "name": "#%% md\n"
    }
   },
   "source": [
    "# Chart that shows who one the most or if the result was a tie"
   ]
  },
  {
   "cell_type": "code",
   "execution_count": 210,
   "outputs": [
    {
     "data": {
      "text/plain": "         date      home_team      away_team  goals_home  goals_away  \\\n0  05/08/2022  Ein Frankfurt  Bayern Munich           1           6   \n1  06/08/2022       Augsburg       Freiburg           0           4   \n2  06/08/2022         Bochum          Mainz           1           2   \n3  06/08/2022     M'gladbach     Hoffenheim           3           1   \n4  06/08/2022   Union Berlin         Hertha           3           1   \n\n      result  odds_home  odds_tie  odds_away  game_number    winner_team  \\\n0  away_team   0.166667  0.200000   0.666667            0  Bayern Munich   \n1  away_team   0.303030  0.285714   0.465116            1       Freiburg   \n2  away_team   0.312500  0.294118   0.454545            2          Mainz   \n3  home_team   0.487805  0.238095   0.333333            3     M'gladbach   \n4  home_team   0.581395  0.266667   0.222222            4   Union Berlin   \n\n  winner_team_at_home  \n0                 NaN  \n1                 NaN  \n2                 NaN  \n3          M'gladbach  \n4        Union Berlin  ",
      "text/html": "<div>\n<style scoped>\n    .dataframe tbody tr th:only-of-type {\n        vertical-align: middle;\n    }\n\n    .dataframe tbody tr th {\n        vertical-align: top;\n    }\n\n    .dataframe thead th {\n        text-align: right;\n    }\n</style>\n<table border=\"1\" class=\"dataframe\">\n  <thead>\n    <tr style=\"text-align: right;\">\n      <th></th>\n      <th>date</th>\n      <th>home_team</th>\n      <th>away_team</th>\n      <th>goals_home</th>\n      <th>goals_away</th>\n      <th>result</th>\n      <th>odds_home</th>\n      <th>odds_tie</th>\n      <th>odds_away</th>\n      <th>game_number</th>\n      <th>winner_team</th>\n      <th>winner_team_at_home</th>\n    </tr>\n  </thead>\n  <tbody>\n    <tr>\n      <th>0</th>\n      <td>05/08/2022</td>\n      <td>Ein Frankfurt</td>\n      <td>Bayern Munich</td>\n      <td>1</td>\n      <td>6</td>\n      <td>away_team</td>\n      <td>0.166667</td>\n      <td>0.200000</td>\n      <td>0.666667</td>\n      <td>0</td>\n      <td>Bayern Munich</td>\n      <td>NaN</td>\n    </tr>\n    <tr>\n      <th>1</th>\n      <td>06/08/2022</td>\n      <td>Augsburg</td>\n      <td>Freiburg</td>\n      <td>0</td>\n      <td>4</td>\n      <td>away_team</td>\n      <td>0.303030</td>\n      <td>0.285714</td>\n      <td>0.465116</td>\n      <td>1</td>\n      <td>Freiburg</td>\n      <td>NaN</td>\n    </tr>\n    <tr>\n      <th>2</th>\n      <td>06/08/2022</td>\n      <td>Bochum</td>\n      <td>Mainz</td>\n      <td>1</td>\n      <td>2</td>\n      <td>away_team</td>\n      <td>0.312500</td>\n      <td>0.294118</td>\n      <td>0.454545</td>\n      <td>2</td>\n      <td>Mainz</td>\n      <td>NaN</td>\n    </tr>\n    <tr>\n      <th>3</th>\n      <td>06/08/2022</td>\n      <td>M'gladbach</td>\n      <td>Hoffenheim</td>\n      <td>3</td>\n      <td>1</td>\n      <td>home_team</td>\n      <td>0.487805</td>\n      <td>0.238095</td>\n      <td>0.333333</td>\n      <td>3</td>\n      <td>M'gladbach</td>\n      <td>M'gladbach</td>\n    </tr>\n    <tr>\n      <th>4</th>\n      <td>06/08/2022</td>\n      <td>Union Berlin</td>\n      <td>Hertha</td>\n      <td>3</td>\n      <td>1</td>\n      <td>home_team</td>\n      <td>0.581395</td>\n      <td>0.266667</td>\n      <td>0.222222</td>\n      <td>4</td>\n      <td>Union Berlin</td>\n      <td>Union Berlin</td>\n    </tr>\n  </tbody>\n</table>\n</div>"
     },
     "execution_count": 210,
     "metadata": {},
     "output_type": "execute_result"
    }
   ],
   "source": [
    "df.head()"
   ],
   "metadata": {
    "collapsed": false,
    "pycharm": {
     "name": "#%%\n"
    }
   }
  },
  {
   "cell_type": "code",
   "execution_count": 211,
   "outputs": [
    {
     "data": {
      "application/vnd.plotly.v1+json": {
       "data": [
        {
         "domain": {
          "x": [
           0.0,
           1.0
          ],
          "y": [
           0.0,
           1.0
          ]
         },
         "hovertemplate": "who=%{label}<br>winner_team=%{value}<extra></extra>",
         "labels": [
          "tie",
          "Dortmund",
          "Bayern Munich",
          "Union Berlin",
          "RB Leipzig",
          "Freiburg",
          "Ein Frankfurt",
          "Leverkusen",
          "Mainz",
          "Wolfsburg",
          "Werder Bremen",
          "Augsburg",
          "M'gladbach",
          "Bochum",
          "FC Koln",
          "Hoffenheim",
          "Hertha",
          "Schalke 04",
          "Stuttgart"
         ],
         "legendgroup": "",
         "name": "",
         "showlegend": true,
         "values": [
          50,
          16,
          15,
          13,
          13,
          13,
          11,
          10,
          10,
          9,
          9,
          8,
          8,
          7,
          6,
          5,
          5,
          4,
          4
         ],
         "type": "pie"
        }
       ],
       "layout": {
        "template": {
         "data": {
          "histogram2dcontour": [
           {
            "type": "histogram2dcontour",
            "colorbar": {
             "outlinewidth": 0,
             "ticks": ""
            },
            "colorscale": [
             [
              0.0,
              "#0d0887"
             ],
             [
              0.1111111111111111,
              "#46039f"
             ],
             [
              0.2222222222222222,
              "#7201a8"
             ],
             [
              0.3333333333333333,
              "#9c179e"
             ],
             [
              0.4444444444444444,
              "#bd3786"
             ],
             [
              0.5555555555555556,
              "#d8576b"
             ],
             [
              0.6666666666666666,
              "#ed7953"
             ],
             [
              0.7777777777777778,
              "#fb9f3a"
             ],
             [
              0.8888888888888888,
              "#fdca26"
             ],
             [
              1.0,
              "#f0f921"
             ]
            ]
           }
          ],
          "choropleth": [
           {
            "type": "choropleth",
            "colorbar": {
             "outlinewidth": 0,
             "ticks": ""
            }
           }
          ],
          "histogram2d": [
           {
            "type": "histogram2d",
            "colorbar": {
             "outlinewidth": 0,
             "ticks": ""
            },
            "colorscale": [
             [
              0.0,
              "#0d0887"
             ],
             [
              0.1111111111111111,
              "#46039f"
             ],
             [
              0.2222222222222222,
              "#7201a8"
             ],
             [
              0.3333333333333333,
              "#9c179e"
             ],
             [
              0.4444444444444444,
              "#bd3786"
             ],
             [
              0.5555555555555556,
              "#d8576b"
             ],
             [
              0.6666666666666666,
              "#ed7953"
             ],
             [
              0.7777777777777778,
              "#fb9f3a"
             ],
             [
              0.8888888888888888,
              "#fdca26"
             ],
             [
              1.0,
              "#f0f921"
             ]
            ]
           }
          ],
          "heatmap": [
           {
            "type": "heatmap",
            "colorbar": {
             "outlinewidth": 0,
             "ticks": ""
            },
            "colorscale": [
             [
              0.0,
              "#0d0887"
             ],
             [
              0.1111111111111111,
              "#46039f"
             ],
             [
              0.2222222222222222,
              "#7201a8"
             ],
             [
              0.3333333333333333,
              "#9c179e"
             ],
             [
              0.4444444444444444,
              "#bd3786"
             ],
             [
              0.5555555555555556,
              "#d8576b"
             ],
             [
              0.6666666666666666,
              "#ed7953"
             ],
             [
              0.7777777777777778,
              "#fb9f3a"
             ],
             [
              0.8888888888888888,
              "#fdca26"
             ],
             [
              1.0,
              "#f0f921"
             ]
            ]
           }
          ],
          "heatmapgl": [
           {
            "type": "heatmapgl",
            "colorbar": {
             "outlinewidth": 0,
             "ticks": ""
            },
            "colorscale": [
             [
              0.0,
              "#0d0887"
             ],
             [
              0.1111111111111111,
              "#46039f"
             ],
             [
              0.2222222222222222,
              "#7201a8"
             ],
             [
              0.3333333333333333,
              "#9c179e"
             ],
             [
              0.4444444444444444,
              "#bd3786"
             ],
             [
              0.5555555555555556,
              "#d8576b"
             ],
             [
              0.6666666666666666,
              "#ed7953"
             ],
             [
              0.7777777777777778,
              "#fb9f3a"
             ],
             [
              0.8888888888888888,
              "#fdca26"
             ],
             [
              1.0,
              "#f0f921"
             ]
            ]
           }
          ],
          "contourcarpet": [
           {
            "type": "contourcarpet",
            "colorbar": {
             "outlinewidth": 0,
             "ticks": ""
            }
           }
          ],
          "contour": [
           {
            "type": "contour",
            "colorbar": {
             "outlinewidth": 0,
             "ticks": ""
            },
            "colorscale": [
             [
              0.0,
              "#0d0887"
             ],
             [
              0.1111111111111111,
              "#46039f"
             ],
             [
              0.2222222222222222,
              "#7201a8"
             ],
             [
              0.3333333333333333,
              "#9c179e"
             ],
             [
              0.4444444444444444,
              "#bd3786"
             ],
             [
              0.5555555555555556,
              "#d8576b"
             ],
             [
              0.6666666666666666,
              "#ed7953"
             ],
             [
              0.7777777777777778,
              "#fb9f3a"
             ],
             [
              0.8888888888888888,
              "#fdca26"
             ],
             [
              1.0,
              "#f0f921"
             ]
            ]
           }
          ],
          "surface": [
           {
            "type": "surface",
            "colorbar": {
             "outlinewidth": 0,
             "ticks": ""
            },
            "colorscale": [
             [
              0.0,
              "#0d0887"
             ],
             [
              0.1111111111111111,
              "#46039f"
             ],
             [
              0.2222222222222222,
              "#7201a8"
             ],
             [
              0.3333333333333333,
              "#9c179e"
             ],
             [
              0.4444444444444444,
              "#bd3786"
             ],
             [
              0.5555555555555556,
              "#d8576b"
             ],
             [
              0.6666666666666666,
              "#ed7953"
             ],
             [
              0.7777777777777778,
              "#fb9f3a"
             ],
             [
              0.8888888888888888,
              "#fdca26"
             ],
             [
              1.0,
              "#f0f921"
             ]
            ]
           }
          ],
          "mesh3d": [
           {
            "type": "mesh3d",
            "colorbar": {
             "outlinewidth": 0,
             "ticks": ""
            }
           }
          ],
          "scatter": [
           {
            "marker": {
             "line": {
              "color": "#283442"
             }
            },
            "type": "scatter"
           }
          ],
          "parcoords": [
           {
            "type": "parcoords",
            "line": {
             "colorbar": {
              "outlinewidth": 0,
              "ticks": ""
             }
            }
           }
          ],
          "scatterpolargl": [
           {
            "type": "scatterpolargl",
            "marker": {
             "colorbar": {
              "outlinewidth": 0,
              "ticks": ""
             }
            }
           }
          ],
          "bar": [
           {
            "error_x": {
             "color": "#f2f5fa"
            },
            "error_y": {
             "color": "#f2f5fa"
            },
            "marker": {
             "line": {
              "color": "rgb(17,17,17)",
              "width": 0.5
             },
             "pattern": {
              "fillmode": "overlay",
              "size": 10,
              "solidity": 0.2
             }
            },
            "type": "bar"
           }
          ],
          "scattergeo": [
           {
            "type": "scattergeo",
            "marker": {
             "colorbar": {
              "outlinewidth": 0,
              "ticks": ""
             }
            }
           }
          ],
          "scatterpolar": [
           {
            "type": "scatterpolar",
            "marker": {
             "colorbar": {
              "outlinewidth": 0,
              "ticks": ""
             }
            }
           }
          ],
          "histogram": [
           {
            "marker": {
             "pattern": {
              "fillmode": "overlay",
              "size": 10,
              "solidity": 0.2
             }
            },
            "type": "histogram"
           }
          ],
          "scattergl": [
           {
            "marker": {
             "line": {
              "color": "#283442"
             }
            },
            "type": "scattergl"
           }
          ],
          "scatter3d": [
           {
            "type": "scatter3d",
            "line": {
             "colorbar": {
              "outlinewidth": 0,
              "ticks": ""
             }
            },
            "marker": {
             "colorbar": {
              "outlinewidth": 0,
              "ticks": ""
             }
            }
           }
          ],
          "scattermapbox": [
           {
            "type": "scattermapbox",
            "marker": {
             "colorbar": {
              "outlinewidth": 0,
              "ticks": ""
             }
            }
           }
          ],
          "scatterternary": [
           {
            "type": "scatterternary",
            "marker": {
             "colorbar": {
              "outlinewidth": 0,
              "ticks": ""
             }
            }
           }
          ],
          "scattercarpet": [
           {
            "type": "scattercarpet",
            "marker": {
             "colorbar": {
              "outlinewidth": 0,
              "ticks": ""
             }
            }
           }
          ],
          "carpet": [
           {
            "aaxis": {
             "endlinecolor": "#A2B1C6",
             "gridcolor": "#506784",
             "linecolor": "#506784",
             "minorgridcolor": "#506784",
             "startlinecolor": "#A2B1C6"
            },
            "baxis": {
             "endlinecolor": "#A2B1C6",
             "gridcolor": "#506784",
             "linecolor": "#506784",
             "minorgridcolor": "#506784",
             "startlinecolor": "#A2B1C6"
            },
            "type": "carpet"
           }
          ],
          "table": [
           {
            "cells": {
             "fill": {
              "color": "#506784"
             },
             "line": {
              "color": "rgb(17,17,17)"
             }
            },
            "header": {
             "fill": {
              "color": "#2a3f5f"
             },
             "line": {
              "color": "rgb(17,17,17)"
             }
            },
            "type": "table"
           }
          ],
          "barpolar": [
           {
            "marker": {
             "line": {
              "color": "rgb(17,17,17)",
              "width": 0.5
             },
             "pattern": {
              "fillmode": "overlay",
              "size": 10,
              "solidity": 0.2
             }
            },
            "type": "barpolar"
           }
          ],
          "pie": [
           {
            "automargin": true,
            "type": "pie"
           }
          ]
         },
         "layout": {
          "autotypenumbers": "strict",
          "colorway": [
           "#636efa",
           "#EF553B",
           "#00cc96",
           "#ab63fa",
           "#FFA15A",
           "#19d3f3",
           "#FF6692",
           "#B6E880",
           "#FF97FF",
           "#FECB52"
          ],
          "font": {
           "color": "#f2f5fa"
          },
          "hovermode": "closest",
          "hoverlabel": {
           "align": "left"
          },
          "paper_bgcolor": "rgb(17,17,17)",
          "plot_bgcolor": "rgb(17,17,17)",
          "polar": {
           "bgcolor": "rgb(17,17,17)",
           "angularaxis": {
            "gridcolor": "#506784",
            "linecolor": "#506784",
            "ticks": ""
           },
           "radialaxis": {
            "gridcolor": "#506784",
            "linecolor": "#506784",
            "ticks": ""
           }
          },
          "ternary": {
           "bgcolor": "rgb(17,17,17)",
           "aaxis": {
            "gridcolor": "#506784",
            "linecolor": "#506784",
            "ticks": ""
           },
           "baxis": {
            "gridcolor": "#506784",
            "linecolor": "#506784",
            "ticks": ""
           },
           "caxis": {
            "gridcolor": "#506784",
            "linecolor": "#506784",
            "ticks": ""
           }
          },
          "coloraxis": {
           "colorbar": {
            "outlinewidth": 0,
            "ticks": ""
           }
          },
          "colorscale": {
           "sequential": [
            [
             0.0,
             "#0d0887"
            ],
            [
             0.1111111111111111,
             "#46039f"
            ],
            [
             0.2222222222222222,
             "#7201a8"
            ],
            [
             0.3333333333333333,
             "#9c179e"
            ],
            [
             0.4444444444444444,
             "#bd3786"
            ],
            [
             0.5555555555555556,
             "#d8576b"
            ],
            [
             0.6666666666666666,
             "#ed7953"
            ],
            [
             0.7777777777777778,
             "#fb9f3a"
            ],
            [
             0.8888888888888888,
             "#fdca26"
            ],
            [
             1.0,
             "#f0f921"
            ]
           ],
           "sequentialminus": [
            [
             0.0,
             "#0d0887"
            ],
            [
             0.1111111111111111,
             "#46039f"
            ],
            [
             0.2222222222222222,
             "#7201a8"
            ],
            [
             0.3333333333333333,
             "#9c179e"
            ],
            [
             0.4444444444444444,
             "#bd3786"
            ],
            [
             0.5555555555555556,
             "#d8576b"
            ],
            [
             0.6666666666666666,
             "#ed7953"
            ],
            [
             0.7777777777777778,
             "#fb9f3a"
            ],
            [
             0.8888888888888888,
             "#fdca26"
            ],
            [
             1.0,
             "#f0f921"
            ]
           ],
           "diverging": [
            [
             0,
             "#8e0152"
            ],
            [
             0.1,
             "#c51b7d"
            ],
            [
             0.2,
             "#de77ae"
            ],
            [
             0.3,
             "#f1b6da"
            ],
            [
             0.4,
             "#fde0ef"
            ],
            [
             0.5,
             "#f7f7f7"
            ],
            [
             0.6,
             "#e6f5d0"
            ],
            [
             0.7,
             "#b8e186"
            ],
            [
             0.8,
             "#7fbc41"
            ],
            [
             0.9,
             "#4d9221"
            ],
            [
             1,
             "#276419"
            ]
           ]
          },
          "xaxis": {
           "gridcolor": "#283442",
           "linecolor": "#506784",
           "ticks": "",
           "title": {
            "standoff": 15
           },
           "zerolinecolor": "#283442",
           "automargin": true,
           "zerolinewidth": 2
          },
          "yaxis": {
           "gridcolor": "#283442",
           "linecolor": "#506784",
           "ticks": "",
           "title": {
            "standoff": 15
           },
           "zerolinecolor": "#283442",
           "automargin": true,
           "zerolinewidth": 2
          },
          "scene": {
           "xaxis": {
            "backgroundcolor": "rgb(17,17,17)",
            "gridcolor": "#506784",
            "linecolor": "#506784",
            "showbackground": true,
            "ticks": "",
            "zerolinecolor": "#C8D4E3",
            "gridwidth": 2
           },
           "yaxis": {
            "backgroundcolor": "rgb(17,17,17)",
            "gridcolor": "#506784",
            "linecolor": "#506784",
            "showbackground": true,
            "ticks": "",
            "zerolinecolor": "#C8D4E3",
            "gridwidth": 2
           },
           "zaxis": {
            "backgroundcolor": "rgb(17,17,17)",
            "gridcolor": "#506784",
            "linecolor": "#506784",
            "showbackground": true,
            "ticks": "",
            "zerolinecolor": "#C8D4E3",
            "gridwidth": 2
           }
          },
          "shapedefaults": {
           "line": {
            "color": "#f2f5fa"
           }
          },
          "annotationdefaults": {
           "arrowcolor": "#f2f5fa",
           "arrowhead": 0,
           "arrowwidth": 1
          },
          "geo": {
           "bgcolor": "rgb(17,17,17)",
           "landcolor": "rgb(17,17,17)",
           "subunitcolor": "#506784",
           "showland": true,
           "showlakes": true,
           "lakecolor": "rgb(17,17,17)"
          },
          "title": {
           "x": 0.05
          },
          "updatemenudefaults": {
           "bgcolor": "#506784",
           "borderwidth": 0
          },
          "sliderdefaults": {
           "bgcolor": "#C8D4E3",
           "borderwidth": 1,
           "bordercolor": "rgb(17,17,17)",
           "tickwidth": 0
          },
          "mapbox": {
           "style": "dark"
          }
         }
        },
        "legend": {
         "tracegroupgap": 0
        },
        "title": {
         "text": "Who wins the most?"
        }
       },
       "config": {
        "plotlyServerURL": "https://plot.ly"
       }
      },
      "text/html": "<div>                            <div id=\"6c7eb10b-d931-479a-b1f5-5893911c6b47\" class=\"plotly-graph-div\" style=\"height:525px; width:100%;\"></div>            <script type=\"text/javascript\">                require([\"plotly\"], function(Plotly) {                    window.PLOTLYENV=window.PLOTLYENV || {};                                    if (document.getElementById(\"6c7eb10b-d931-479a-b1f5-5893911c6b47\")) {                    Plotly.newPlot(                        \"6c7eb10b-d931-479a-b1f5-5893911c6b47\",                        [{\"domain\":{\"x\":[0.0,1.0],\"y\":[0.0,1.0]},\"hovertemplate\":\"who=%{label}<br>winner_team=%{value}<extra></extra>\",\"labels\":[\"tie\",\"Dortmund\",\"Bayern Munich\",\"Union Berlin\",\"RB Leipzig\",\"Freiburg\",\"Ein Frankfurt\",\"Leverkusen\",\"Mainz\",\"Wolfsburg\",\"Werder Bremen\",\"Augsburg\",\"M'gladbach\",\"Bochum\",\"FC Koln\",\"Hoffenheim\",\"Hertha\",\"Schalke 04\",\"Stuttgart\"],\"legendgroup\":\"\",\"name\":\"\",\"showlegend\":true,\"values\":[50,16,15,13,13,13,11,10,10,9,9,8,8,7,6,5,5,4,4],\"type\":\"pie\"}],                        {\"template\":{\"data\":{\"histogram2dcontour\":[{\"type\":\"histogram2dcontour\",\"colorbar\":{\"outlinewidth\":0,\"ticks\":\"\"},\"colorscale\":[[0.0,\"#0d0887\"],[0.1111111111111111,\"#46039f\"],[0.2222222222222222,\"#7201a8\"],[0.3333333333333333,\"#9c179e\"],[0.4444444444444444,\"#bd3786\"],[0.5555555555555556,\"#d8576b\"],[0.6666666666666666,\"#ed7953\"],[0.7777777777777778,\"#fb9f3a\"],[0.8888888888888888,\"#fdca26\"],[1.0,\"#f0f921\"]]}],\"choropleth\":[{\"type\":\"choropleth\",\"colorbar\":{\"outlinewidth\":0,\"ticks\":\"\"}}],\"histogram2d\":[{\"type\":\"histogram2d\",\"colorbar\":{\"outlinewidth\":0,\"ticks\":\"\"},\"colorscale\":[[0.0,\"#0d0887\"],[0.1111111111111111,\"#46039f\"],[0.2222222222222222,\"#7201a8\"],[0.3333333333333333,\"#9c179e\"],[0.4444444444444444,\"#bd3786\"],[0.5555555555555556,\"#d8576b\"],[0.6666666666666666,\"#ed7953\"],[0.7777777777777778,\"#fb9f3a\"],[0.8888888888888888,\"#fdca26\"],[1.0,\"#f0f921\"]]}],\"heatmap\":[{\"type\":\"heatmap\",\"colorbar\":{\"outlinewidth\":0,\"ticks\":\"\"},\"colorscale\":[[0.0,\"#0d0887\"],[0.1111111111111111,\"#46039f\"],[0.2222222222222222,\"#7201a8\"],[0.3333333333333333,\"#9c179e\"],[0.4444444444444444,\"#bd3786\"],[0.5555555555555556,\"#d8576b\"],[0.6666666666666666,\"#ed7953\"],[0.7777777777777778,\"#fb9f3a\"],[0.8888888888888888,\"#fdca26\"],[1.0,\"#f0f921\"]]}],\"heatmapgl\":[{\"type\":\"heatmapgl\",\"colorbar\":{\"outlinewidth\":0,\"ticks\":\"\"},\"colorscale\":[[0.0,\"#0d0887\"],[0.1111111111111111,\"#46039f\"],[0.2222222222222222,\"#7201a8\"],[0.3333333333333333,\"#9c179e\"],[0.4444444444444444,\"#bd3786\"],[0.5555555555555556,\"#d8576b\"],[0.6666666666666666,\"#ed7953\"],[0.7777777777777778,\"#fb9f3a\"],[0.8888888888888888,\"#fdca26\"],[1.0,\"#f0f921\"]]}],\"contourcarpet\":[{\"type\":\"contourcarpet\",\"colorbar\":{\"outlinewidth\":0,\"ticks\":\"\"}}],\"contour\":[{\"type\":\"contour\",\"colorbar\":{\"outlinewidth\":0,\"ticks\":\"\"},\"colorscale\":[[0.0,\"#0d0887\"],[0.1111111111111111,\"#46039f\"],[0.2222222222222222,\"#7201a8\"],[0.3333333333333333,\"#9c179e\"],[0.4444444444444444,\"#bd3786\"],[0.5555555555555556,\"#d8576b\"],[0.6666666666666666,\"#ed7953\"],[0.7777777777777778,\"#fb9f3a\"],[0.8888888888888888,\"#fdca26\"],[1.0,\"#f0f921\"]]}],\"surface\":[{\"type\":\"surface\",\"colorbar\":{\"outlinewidth\":0,\"ticks\":\"\"},\"colorscale\":[[0.0,\"#0d0887\"],[0.1111111111111111,\"#46039f\"],[0.2222222222222222,\"#7201a8\"],[0.3333333333333333,\"#9c179e\"],[0.4444444444444444,\"#bd3786\"],[0.5555555555555556,\"#d8576b\"],[0.6666666666666666,\"#ed7953\"],[0.7777777777777778,\"#fb9f3a\"],[0.8888888888888888,\"#fdca26\"],[1.0,\"#f0f921\"]]}],\"mesh3d\":[{\"type\":\"mesh3d\",\"colorbar\":{\"outlinewidth\":0,\"ticks\":\"\"}}],\"scatter\":[{\"marker\":{\"line\":{\"color\":\"#283442\"}},\"type\":\"scatter\"}],\"parcoords\":[{\"type\":\"parcoords\",\"line\":{\"colorbar\":{\"outlinewidth\":0,\"ticks\":\"\"}}}],\"scatterpolargl\":[{\"type\":\"scatterpolargl\",\"marker\":{\"colorbar\":{\"outlinewidth\":0,\"ticks\":\"\"}}}],\"bar\":[{\"error_x\":{\"color\":\"#f2f5fa\"},\"error_y\":{\"color\":\"#f2f5fa\"},\"marker\":{\"line\":{\"color\":\"rgb(17,17,17)\",\"width\":0.5},\"pattern\":{\"fillmode\":\"overlay\",\"size\":10,\"solidity\":0.2}},\"type\":\"bar\"}],\"scattergeo\":[{\"type\":\"scattergeo\",\"marker\":{\"colorbar\":{\"outlinewidth\":0,\"ticks\":\"\"}}}],\"scatterpolar\":[{\"type\":\"scatterpolar\",\"marker\":{\"colorbar\":{\"outlinewidth\":0,\"ticks\":\"\"}}}],\"histogram\":[{\"marker\":{\"pattern\":{\"fillmode\":\"overlay\",\"size\":10,\"solidity\":0.2}},\"type\":\"histogram\"}],\"scattergl\":[{\"marker\":{\"line\":{\"color\":\"#283442\"}},\"type\":\"scattergl\"}],\"scatter3d\":[{\"type\":\"scatter3d\",\"line\":{\"colorbar\":{\"outlinewidth\":0,\"ticks\":\"\"}},\"marker\":{\"colorbar\":{\"outlinewidth\":0,\"ticks\":\"\"}}}],\"scattermapbox\":[{\"type\":\"scattermapbox\",\"marker\":{\"colorbar\":{\"outlinewidth\":0,\"ticks\":\"\"}}}],\"scatterternary\":[{\"type\":\"scatterternary\",\"marker\":{\"colorbar\":{\"outlinewidth\":0,\"ticks\":\"\"}}}],\"scattercarpet\":[{\"type\":\"scattercarpet\",\"marker\":{\"colorbar\":{\"outlinewidth\":0,\"ticks\":\"\"}}}],\"carpet\":[{\"aaxis\":{\"endlinecolor\":\"#A2B1C6\",\"gridcolor\":\"#506784\",\"linecolor\":\"#506784\",\"minorgridcolor\":\"#506784\",\"startlinecolor\":\"#A2B1C6\"},\"baxis\":{\"endlinecolor\":\"#A2B1C6\",\"gridcolor\":\"#506784\",\"linecolor\":\"#506784\",\"minorgridcolor\":\"#506784\",\"startlinecolor\":\"#A2B1C6\"},\"type\":\"carpet\"}],\"table\":[{\"cells\":{\"fill\":{\"color\":\"#506784\"},\"line\":{\"color\":\"rgb(17,17,17)\"}},\"header\":{\"fill\":{\"color\":\"#2a3f5f\"},\"line\":{\"color\":\"rgb(17,17,17)\"}},\"type\":\"table\"}],\"barpolar\":[{\"marker\":{\"line\":{\"color\":\"rgb(17,17,17)\",\"width\":0.5},\"pattern\":{\"fillmode\":\"overlay\",\"size\":10,\"solidity\":0.2}},\"type\":\"barpolar\"}],\"pie\":[{\"automargin\":true,\"type\":\"pie\"}]},\"layout\":{\"autotypenumbers\":\"strict\",\"colorway\":[\"#636efa\",\"#EF553B\",\"#00cc96\",\"#ab63fa\",\"#FFA15A\",\"#19d3f3\",\"#FF6692\",\"#B6E880\",\"#FF97FF\",\"#FECB52\"],\"font\":{\"color\":\"#f2f5fa\"},\"hovermode\":\"closest\",\"hoverlabel\":{\"align\":\"left\"},\"paper_bgcolor\":\"rgb(17,17,17)\",\"plot_bgcolor\":\"rgb(17,17,17)\",\"polar\":{\"bgcolor\":\"rgb(17,17,17)\",\"angularaxis\":{\"gridcolor\":\"#506784\",\"linecolor\":\"#506784\",\"ticks\":\"\"},\"radialaxis\":{\"gridcolor\":\"#506784\",\"linecolor\":\"#506784\",\"ticks\":\"\"}},\"ternary\":{\"bgcolor\":\"rgb(17,17,17)\",\"aaxis\":{\"gridcolor\":\"#506784\",\"linecolor\":\"#506784\",\"ticks\":\"\"},\"baxis\":{\"gridcolor\":\"#506784\",\"linecolor\":\"#506784\",\"ticks\":\"\"},\"caxis\":{\"gridcolor\":\"#506784\",\"linecolor\":\"#506784\",\"ticks\":\"\"}},\"coloraxis\":{\"colorbar\":{\"outlinewidth\":0,\"ticks\":\"\"}},\"colorscale\":{\"sequential\":[[0.0,\"#0d0887\"],[0.1111111111111111,\"#46039f\"],[0.2222222222222222,\"#7201a8\"],[0.3333333333333333,\"#9c179e\"],[0.4444444444444444,\"#bd3786\"],[0.5555555555555556,\"#d8576b\"],[0.6666666666666666,\"#ed7953\"],[0.7777777777777778,\"#fb9f3a\"],[0.8888888888888888,\"#fdca26\"],[1.0,\"#f0f921\"]],\"sequentialminus\":[[0.0,\"#0d0887\"],[0.1111111111111111,\"#46039f\"],[0.2222222222222222,\"#7201a8\"],[0.3333333333333333,\"#9c179e\"],[0.4444444444444444,\"#bd3786\"],[0.5555555555555556,\"#d8576b\"],[0.6666666666666666,\"#ed7953\"],[0.7777777777777778,\"#fb9f3a\"],[0.8888888888888888,\"#fdca26\"],[1.0,\"#f0f921\"]],\"diverging\":[[0,\"#8e0152\"],[0.1,\"#c51b7d\"],[0.2,\"#de77ae\"],[0.3,\"#f1b6da\"],[0.4,\"#fde0ef\"],[0.5,\"#f7f7f7\"],[0.6,\"#e6f5d0\"],[0.7,\"#b8e186\"],[0.8,\"#7fbc41\"],[0.9,\"#4d9221\"],[1,\"#276419\"]]},\"xaxis\":{\"gridcolor\":\"#283442\",\"linecolor\":\"#506784\",\"ticks\":\"\",\"title\":{\"standoff\":15},\"zerolinecolor\":\"#283442\",\"automargin\":true,\"zerolinewidth\":2},\"yaxis\":{\"gridcolor\":\"#283442\",\"linecolor\":\"#506784\",\"ticks\":\"\",\"title\":{\"standoff\":15},\"zerolinecolor\":\"#283442\",\"automargin\":true,\"zerolinewidth\":2},\"scene\":{\"xaxis\":{\"backgroundcolor\":\"rgb(17,17,17)\",\"gridcolor\":\"#506784\",\"linecolor\":\"#506784\",\"showbackground\":true,\"ticks\":\"\",\"zerolinecolor\":\"#C8D4E3\",\"gridwidth\":2},\"yaxis\":{\"backgroundcolor\":\"rgb(17,17,17)\",\"gridcolor\":\"#506784\",\"linecolor\":\"#506784\",\"showbackground\":true,\"ticks\":\"\",\"zerolinecolor\":\"#C8D4E3\",\"gridwidth\":2},\"zaxis\":{\"backgroundcolor\":\"rgb(17,17,17)\",\"gridcolor\":\"#506784\",\"linecolor\":\"#506784\",\"showbackground\":true,\"ticks\":\"\",\"zerolinecolor\":\"#C8D4E3\",\"gridwidth\":2}},\"shapedefaults\":{\"line\":{\"color\":\"#f2f5fa\"}},\"annotationdefaults\":{\"arrowcolor\":\"#f2f5fa\",\"arrowhead\":0,\"arrowwidth\":1},\"geo\":{\"bgcolor\":\"rgb(17,17,17)\",\"landcolor\":\"rgb(17,17,17)\",\"subunitcolor\":\"#506784\",\"showland\":true,\"showlakes\":true,\"lakecolor\":\"rgb(17,17,17)\"},\"title\":{\"x\":0.05},\"updatemenudefaults\":{\"bgcolor\":\"#506784\",\"borderwidth\":0},\"sliderdefaults\":{\"bgcolor\":\"#C8D4E3\",\"borderwidth\":1,\"bordercolor\":\"rgb(17,17,17)\",\"tickwidth\":0},\"mapbox\":{\"style\":\"dark\"}}},\"legend\":{\"tracegroupgap\":0},\"title\":{\"text\":\"Who wins the most?\"}},                        {\"responsive\": true}                    ).then(function(){\n                            \nvar gd = document.getElementById('6c7eb10b-d931-479a-b1f5-5893911c6b47');\nvar x = new MutationObserver(function (mutations, observer) {{\n        var display = window.getComputedStyle(gd).display;\n        if (!display || display === 'none') {{\n            console.log([gd, 'removed!']);\n            Plotly.purge(gd);\n            observer.disconnect();\n        }}\n}});\n\n// Listen for the removal of the full notebook cells\nvar notebookContainer = gd.closest('#notebook-container');\nif (notebookContainer) {{\n    x.observe(notebookContainer, {childList: true});\n}}\n\n// Listen for the clearing of the current output cell\nvar outputEl = gd.closest('.output');\nif (outputEl) {{\n    x.observe(outputEl, {childList: true});\n}}\n\n                        })                };                });            </script>        </div>"
     },
     "metadata": {},
     "output_type": "display_data"
    }
   ],
   "source": [
    "def who_one_the_most_or_if_the_result_was_a_tie(resultado_selecionado):\n",
    "    if resultado_selecionado == 'Todos':\n",
    "        df_return = df\n",
    "    else:\n",
    "        df_return = df[df.result == resultado_selecionado]\n",
    "\n",
    "    match_winner = pd.DataFrame(df_return['winner_team'].value_counts())\n",
    "    match_winner['who'] = list(match_winner.index)\n",
    "    fig_3 = px.pie(match_winner, values='winner_team', names='who', title='Who wins the most?')\n",
    "    return fig_3\n",
    "\n",
    "who_one_the_most_or_if_the_result_was_a_tie('Todos').show()"
   ],
   "metadata": {
    "collapsed": false,
    "pycharm": {
     "name": "#%%\n"
    }
   }
  },
  {
   "cell_type": "code",
   "execution_count": 212,
   "metadata": {
    "colab": {
     "base_uri": "https://localhost:8080/",
     "height": 206
    },
    "id": "nU7JO0yh3Azt",
    "outputId": "b380803f-7ff2-47bd-fcf8-4c0aa3ba4a04",
    "pycharm": {
     "name": "#%%\n"
    }
   },
   "outputs": [
    {
     "data": {
      "text/plain": "               winner_team_at_home            who\nDortmund                         9       Dortmund\nRB Leipzig                       9     RB Leipzig\nBayern Munich                    8  Bayern Munich\nFreiburg                         8       Freiburg\nM'gladbach                       7     M'gladbach",
      "text/html": "<div>\n<style scoped>\n    .dataframe tbody tr th:only-of-type {\n        vertical-align: middle;\n    }\n\n    .dataframe tbody tr th {\n        vertical-align: top;\n    }\n\n    .dataframe thead th {\n        text-align: right;\n    }\n</style>\n<table border=\"1\" class=\"dataframe\">\n  <thead>\n    <tr style=\"text-align: right;\">\n      <th></th>\n      <th>winner_team_at_home</th>\n      <th>who</th>\n    </tr>\n  </thead>\n  <tbody>\n    <tr>\n      <th>Dortmund</th>\n      <td>9</td>\n      <td>Dortmund</td>\n    </tr>\n    <tr>\n      <th>RB Leipzig</th>\n      <td>9</td>\n      <td>RB Leipzig</td>\n    </tr>\n    <tr>\n      <th>Bayern Munich</th>\n      <td>8</td>\n      <td>Bayern Munich</td>\n    </tr>\n    <tr>\n      <th>Freiburg</th>\n      <td>8</td>\n      <td>Freiburg</td>\n    </tr>\n    <tr>\n      <th>M'gladbach</th>\n      <td>7</td>\n      <td>M'gladbach</td>\n    </tr>\n  </tbody>\n</table>\n</div>"
     },
     "execution_count": 212,
     "metadata": {},
     "output_type": "execute_result"
    }
   ],
   "source": [
    "match_winner_at_home = pd.DataFrame(df['winner_team_at_home'].value_counts())\n",
    "match_winner_at_home['who'] = list(match_winner_at_home.index)\n",
    "match_winner_at_home.head()"
   ]
  },
  {
   "cell_type": "markdown",
   "metadata": {
    "id": "0WhSMtYC3VGx",
    "pycharm": {
     "name": "#%% md\n"
    }
   },
   "source": [
    "# Chart that shows who wins the most at home"
   ]
  },
  {
   "cell_type": "code",
   "execution_count": 213,
   "metadata": {
    "colab": {
     "base_uri": "https://localhost:8080/",
     "height": 542
    },
    "id": "kmBhi6CW3Azt",
    "outputId": "c4e2fd02-fe52-4210-c670-02877be706c9",
    "pycharm": {
     "name": "#%%\n"
    }
   },
   "outputs": [
    {
     "data": {
      "application/vnd.plotly.v1+json": {
       "data": [
        {
         "alignmentgroup": "True",
         "hovertemplate": "who=%{x}<br>winner_team_at_home=%{y}<extra></extra>",
         "legendgroup": "",
         "marker": {
          "color": "#636efa",
          "pattern": {
           "shape": ""
          }
         },
         "name": "",
         "offsetgroup": "",
         "orientation": "v",
         "showlegend": false,
         "textposition": "auto",
         "x": [
          "Dortmund",
          "RB Leipzig",
          "Bayern Munich",
          "Freiburg",
          "M'gladbach",
          "Ein Frankfurt",
          "Union Berlin",
          "Leverkusen",
          "FC Koln",
          "Mainz",
          "Augsburg",
          "Werder Bremen",
          "Bochum",
          "Stuttgart",
          "Hertha",
          "Wolfsburg",
          "Hoffenheim",
          "Schalke 04"
         ],
         "xaxis": "x",
         "y": [
          9,
          9,
          8,
          8,
          7,
          7,
          7,
          5,
          5,
          5,
          5,
          5,
          5,
          4,
          4,
          4,
          3,
          3
         ],
         "yaxis": "y",
         "type": "bar"
        }
       ],
       "layout": {
        "template": {
         "data": {
          "histogram2dcontour": [
           {
            "type": "histogram2dcontour",
            "colorbar": {
             "outlinewidth": 0,
             "ticks": ""
            },
            "colorscale": [
             [
              0.0,
              "#0d0887"
             ],
             [
              0.1111111111111111,
              "#46039f"
             ],
             [
              0.2222222222222222,
              "#7201a8"
             ],
             [
              0.3333333333333333,
              "#9c179e"
             ],
             [
              0.4444444444444444,
              "#bd3786"
             ],
             [
              0.5555555555555556,
              "#d8576b"
             ],
             [
              0.6666666666666666,
              "#ed7953"
             ],
             [
              0.7777777777777778,
              "#fb9f3a"
             ],
             [
              0.8888888888888888,
              "#fdca26"
             ],
             [
              1.0,
              "#f0f921"
             ]
            ]
           }
          ],
          "choropleth": [
           {
            "type": "choropleth",
            "colorbar": {
             "outlinewidth": 0,
             "ticks": ""
            }
           }
          ],
          "histogram2d": [
           {
            "type": "histogram2d",
            "colorbar": {
             "outlinewidth": 0,
             "ticks": ""
            },
            "colorscale": [
             [
              0.0,
              "#0d0887"
             ],
             [
              0.1111111111111111,
              "#46039f"
             ],
             [
              0.2222222222222222,
              "#7201a8"
             ],
             [
              0.3333333333333333,
              "#9c179e"
             ],
             [
              0.4444444444444444,
              "#bd3786"
             ],
             [
              0.5555555555555556,
              "#d8576b"
             ],
             [
              0.6666666666666666,
              "#ed7953"
             ],
             [
              0.7777777777777778,
              "#fb9f3a"
             ],
             [
              0.8888888888888888,
              "#fdca26"
             ],
             [
              1.0,
              "#f0f921"
             ]
            ]
           }
          ],
          "heatmap": [
           {
            "type": "heatmap",
            "colorbar": {
             "outlinewidth": 0,
             "ticks": ""
            },
            "colorscale": [
             [
              0.0,
              "#0d0887"
             ],
             [
              0.1111111111111111,
              "#46039f"
             ],
             [
              0.2222222222222222,
              "#7201a8"
             ],
             [
              0.3333333333333333,
              "#9c179e"
             ],
             [
              0.4444444444444444,
              "#bd3786"
             ],
             [
              0.5555555555555556,
              "#d8576b"
             ],
             [
              0.6666666666666666,
              "#ed7953"
             ],
             [
              0.7777777777777778,
              "#fb9f3a"
             ],
             [
              0.8888888888888888,
              "#fdca26"
             ],
             [
              1.0,
              "#f0f921"
             ]
            ]
           }
          ],
          "heatmapgl": [
           {
            "type": "heatmapgl",
            "colorbar": {
             "outlinewidth": 0,
             "ticks": ""
            },
            "colorscale": [
             [
              0.0,
              "#0d0887"
             ],
             [
              0.1111111111111111,
              "#46039f"
             ],
             [
              0.2222222222222222,
              "#7201a8"
             ],
             [
              0.3333333333333333,
              "#9c179e"
             ],
             [
              0.4444444444444444,
              "#bd3786"
             ],
             [
              0.5555555555555556,
              "#d8576b"
             ],
             [
              0.6666666666666666,
              "#ed7953"
             ],
             [
              0.7777777777777778,
              "#fb9f3a"
             ],
             [
              0.8888888888888888,
              "#fdca26"
             ],
             [
              1.0,
              "#f0f921"
             ]
            ]
           }
          ],
          "contourcarpet": [
           {
            "type": "contourcarpet",
            "colorbar": {
             "outlinewidth": 0,
             "ticks": ""
            }
           }
          ],
          "contour": [
           {
            "type": "contour",
            "colorbar": {
             "outlinewidth": 0,
             "ticks": ""
            },
            "colorscale": [
             [
              0.0,
              "#0d0887"
             ],
             [
              0.1111111111111111,
              "#46039f"
             ],
             [
              0.2222222222222222,
              "#7201a8"
             ],
             [
              0.3333333333333333,
              "#9c179e"
             ],
             [
              0.4444444444444444,
              "#bd3786"
             ],
             [
              0.5555555555555556,
              "#d8576b"
             ],
             [
              0.6666666666666666,
              "#ed7953"
             ],
             [
              0.7777777777777778,
              "#fb9f3a"
             ],
             [
              0.8888888888888888,
              "#fdca26"
             ],
             [
              1.0,
              "#f0f921"
             ]
            ]
           }
          ],
          "surface": [
           {
            "type": "surface",
            "colorbar": {
             "outlinewidth": 0,
             "ticks": ""
            },
            "colorscale": [
             [
              0.0,
              "#0d0887"
             ],
             [
              0.1111111111111111,
              "#46039f"
             ],
             [
              0.2222222222222222,
              "#7201a8"
             ],
             [
              0.3333333333333333,
              "#9c179e"
             ],
             [
              0.4444444444444444,
              "#bd3786"
             ],
             [
              0.5555555555555556,
              "#d8576b"
             ],
             [
              0.6666666666666666,
              "#ed7953"
             ],
             [
              0.7777777777777778,
              "#fb9f3a"
             ],
             [
              0.8888888888888888,
              "#fdca26"
             ],
             [
              1.0,
              "#f0f921"
             ]
            ]
           }
          ],
          "mesh3d": [
           {
            "type": "mesh3d",
            "colorbar": {
             "outlinewidth": 0,
             "ticks": ""
            }
           }
          ],
          "scatter": [
           {
            "marker": {
             "line": {
              "color": "#283442"
             }
            },
            "type": "scatter"
           }
          ],
          "parcoords": [
           {
            "type": "parcoords",
            "line": {
             "colorbar": {
              "outlinewidth": 0,
              "ticks": ""
             }
            }
           }
          ],
          "scatterpolargl": [
           {
            "type": "scatterpolargl",
            "marker": {
             "colorbar": {
              "outlinewidth": 0,
              "ticks": ""
             }
            }
           }
          ],
          "bar": [
           {
            "error_x": {
             "color": "#f2f5fa"
            },
            "error_y": {
             "color": "#f2f5fa"
            },
            "marker": {
             "line": {
              "color": "rgb(17,17,17)",
              "width": 0.5
             },
             "pattern": {
              "fillmode": "overlay",
              "size": 10,
              "solidity": 0.2
             }
            },
            "type": "bar"
           }
          ],
          "scattergeo": [
           {
            "type": "scattergeo",
            "marker": {
             "colorbar": {
              "outlinewidth": 0,
              "ticks": ""
             }
            }
           }
          ],
          "scatterpolar": [
           {
            "type": "scatterpolar",
            "marker": {
             "colorbar": {
              "outlinewidth": 0,
              "ticks": ""
             }
            }
           }
          ],
          "histogram": [
           {
            "marker": {
             "pattern": {
              "fillmode": "overlay",
              "size": 10,
              "solidity": 0.2
             }
            },
            "type": "histogram"
           }
          ],
          "scattergl": [
           {
            "marker": {
             "line": {
              "color": "#283442"
             }
            },
            "type": "scattergl"
           }
          ],
          "scatter3d": [
           {
            "type": "scatter3d",
            "line": {
             "colorbar": {
              "outlinewidth": 0,
              "ticks": ""
             }
            },
            "marker": {
             "colorbar": {
              "outlinewidth": 0,
              "ticks": ""
             }
            }
           }
          ],
          "scattermapbox": [
           {
            "type": "scattermapbox",
            "marker": {
             "colorbar": {
              "outlinewidth": 0,
              "ticks": ""
             }
            }
           }
          ],
          "scatterternary": [
           {
            "type": "scatterternary",
            "marker": {
             "colorbar": {
              "outlinewidth": 0,
              "ticks": ""
             }
            }
           }
          ],
          "scattercarpet": [
           {
            "type": "scattercarpet",
            "marker": {
             "colorbar": {
              "outlinewidth": 0,
              "ticks": ""
             }
            }
           }
          ],
          "carpet": [
           {
            "aaxis": {
             "endlinecolor": "#A2B1C6",
             "gridcolor": "#506784",
             "linecolor": "#506784",
             "minorgridcolor": "#506784",
             "startlinecolor": "#A2B1C6"
            },
            "baxis": {
             "endlinecolor": "#A2B1C6",
             "gridcolor": "#506784",
             "linecolor": "#506784",
             "minorgridcolor": "#506784",
             "startlinecolor": "#A2B1C6"
            },
            "type": "carpet"
           }
          ],
          "table": [
           {
            "cells": {
             "fill": {
              "color": "#506784"
             },
             "line": {
              "color": "rgb(17,17,17)"
             }
            },
            "header": {
             "fill": {
              "color": "#2a3f5f"
             },
             "line": {
              "color": "rgb(17,17,17)"
             }
            },
            "type": "table"
           }
          ],
          "barpolar": [
           {
            "marker": {
             "line": {
              "color": "rgb(17,17,17)",
              "width": 0.5
             },
             "pattern": {
              "fillmode": "overlay",
              "size": 10,
              "solidity": 0.2
             }
            },
            "type": "barpolar"
           }
          ],
          "pie": [
           {
            "automargin": true,
            "type": "pie"
           }
          ]
         },
         "layout": {
          "autotypenumbers": "strict",
          "colorway": [
           "#636efa",
           "#EF553B",
           "#00cc96",
           "#ab63fa",
           "#FFA15A",
           "#19d3f3",
           "#FF6692",
           "#B6E880",
           "#FF97FF",
           "#FECB52"
          ],
          "font": {
           "color": "#f2f5fa"
          },
          "hovermode": "closest",
          "hoverlabel": {
           "align": "left"
          },
          "paper_bgcolor": "rgb(17,17,17)",
          "plot_bgcolor": "rgb(17,17,17)",
          "polar": {
           "bgcolor": "rgb(17,17,17)",
           "angularaxis": {
            "gridcolor": "#506784",
            "linecolor": "#506784",
            "ticks": ""
           },
           "radialaxis": {
            "gridcolor": "#506784",
            "linecolor": "#506784",
            "ticks": ""
           }
          },
          "ternary": {
           "bgcolor": "rgb(17,17,17)",
           "aaxis": {
            "gridcolor": "#506784",
            "linecolor": "#506784",
            "ticks": ""
           },
           "baxis": {
            "gridcolor": "#506784",
            "linecolor": "#506784",
            "ticks": ""
           },
           "caxis": {
            "gridcolor": "#506784",
            "linecolor": "#506784",
            "ticks": ""
           }
          },
          "coloraxis": {
           "colorbar": {
            "outlinewidth": 0,
            "ticks": ""
           }
          },
          "colorscale": {
           "sequential": [
            [
             0.0,
             "#0d0887"
            ],
            [
             0.1111111111111111,
             "#46039f"
            ],
            [
             0.2222222222222222,
             "#7201a8"
            ],
            [
             0.3333333333333333,
             "#9c179e"
            ],
            [
             0.4444444444444444,
             "#bd3786"
            ],
            [
             0.5555555555555556,
             "#d8576b"
            ],
            [
             0.6666666666666666,
             "#ed7953"
            ],
            [
             0.7777777777777778,
             "#fb9f3a"
            ],
            [
             0.8888888888888888,
             "#fdca26"
            ],
            [
             1.0,
             "#f0f921"
            ]
           ],
           "sequentialminus": [
            [
             0.0,
             "#0d0887"
            ],
            [
             0.1111111111111111,
             "#46039f"
            ],
            [
             0.2222222222222222,
             "#7201a8"
            ],
            [
             0.3333333333333333,
             "#9c179e"
            ],
            [
             0.4444444444444444,
             "#bd3786"
            ],
            [
             0.5555555555555556,
             "#d8576b"
            ],
            [
             0.6666666666666666,
             "#ed7953"
            ],
            [
             0.7777777777777778,
             "#fb9f3a"
            ],
            [
             0.8888888888888888,
             "#fdca26"
            ],
            [
             1.0,
             "#f0f921"
            ]
           ],
           "diverging": [
            [
             0,
             "#8e0152"
            ],
            [
             0.1,
             "#c51b7d"
            ],
            [
             0.2,
             "#de77ae"
            ],
            [
             0.3,
             "#f1b6da"
            ],
            [
             0.4,
             "#fde0ef"
            ],
            [
             0.5,
             "#f7f7f7"
            ],
            [
             0.6,
             "#e6f5d0"
            ],
            [
             0.7,
             "#b8e186"
            ],
            [
             0.8,
             "#7fbc41"
            ],
            [
             0.9,
             "#4d9221"
            ],
            [
             1,
             "#276419"
            ]
           ]
          },
          "xaxis": {
           "gridcolor": "#283442",
           "linecolor": "#506784",
           "ticks": "",
           "title": {
            "standoff": 15
           },
           "zerolinecolor": "#283442",
           "automargin": true,
           "zerolinewidth": 2
          },
          "yaxis": {
           "gridcolor": "#283442",
           "linecolor": "#506784",
           "ticks": "",
           "title": {
            "standoff": 15
           },
           "zerolinecolor": "#283442",
           "automargin": true,
           "zerolinewidth": 2
          },
          "scene": {
           "xaxis": {
            "backgroundcolor": "rgb(17,17,17)",
            "gridcolor": "#506784",
            "linecolor": "#506784",
            "showbackground": true,
            "ticks": "",
            "zerolinecolor": "#C8D4E3",
            "gridwidth": 2
           },
           "yaxis": {
            "backgroundcolor": "rgb(17,17,17)",
            "gridcolor": "#506784",
            "linecolor": "#506784",
            "showbackground": true,
            "ticks": "",
            "zerolinecolor": "#C8D4E3",
            "gridwidth": 2
           },
           "zaxis": {
            "backgroundcolor": "rgb(17,17,17)",
            "gridcolor": "#506784",
            "linecolor": "#506784",
            "showbackground": true,
            "ticks": "",
            "zerolinecolor": "#C8D4E3",
            "gridwidth": 2
           }
          },
          "shapedefaults": {
           "line": {
            "color": "#f2f5fa"
           }
          },
          "annotationdefaults": {
           "arrowcolor": "#f2f5fa",
           "arrowhead": 0,
           "arrowwidth": 1
          },
          "geo": {
           "bgcolor": "rgb(17,17,17)",
           "landcolor": "rgb(17,17,17)",
           "subunitcolor": "#506784",
           "showland": true,
           "showlakes": true,
           "lakecolor": "rgb(17,17,17)"
          },
          "title": {
           "x": 0.05
          },
          "updatemenudefaults": {
           "bgcolor": "#506784",
           "borderwidth": 0
          },
          "sliderdefaults": {
           "bgcolor": "#C8D4E3",
           "borderwidth": 1,
           "bordercolor": "rgb(17,17,17)",
           "tickwidth": 0
          },
          "mapbox": {
           "style": "dark"
          }
         }
        },
        "xaxis": {
         "anchor": "y",
         "domain": [
          0.0,
          1.0
         ],
         "title": {
          "text": "who"
         }
        },
        "yaxis": {
         "anchor": "x",
         "domain": [
          0.0,
          1.0
         ],
         "title": {
          "text": "winner_team_at_home"
         }
        },
        "legend": {
         "tracegroupgap": 0
        },
        "title": {
         "text": "Who wins the most at home?"
        },
        "barmode": "relative"
       },
       "config": {
        "plotlyServerURL": "https://plot.ly"
       }
      },
      "text/html": "<div>                            <div id=\"a5d4c8c1-af7f-4c7f-8407-ebaf38d064b3\" class=\"plotly-graph-div\" style=\"height:525px; width:100%;\"></div>            <script type=\"text/javascript\">                require([\"plotly\"], function(Plotly) {                    window.PLOTLYENV=window.PLOTLYENV || {};                                    if (document.getElementById(\"a5d4c8c1-af7f-4c7f-8407-ebaf38d064b3\")) {                    Plotly.newPlot(                        \"a5d4c8c1-af7f-4c7f-8407-ebaf38d064b3\",                        [{\"alignmentgroup\":\"True\",\"hovertemplate\":\"who=%{x}<br>winner_team_at_home=%{y}<extra></extra>\",\"legendgroup\":\"\",\"marker\":{\"color\":\"#636efa\",\"pattern\":{\"shape\":\"\"}},\"name\":\"\",\"offsetgroup\":\"\",\"orientation\":\"v\",\"showlegend\":false,\"textposition\":\"auto\",\"x\":[\"Dortmund\",\"RB Leipzig\",\"Bayern Munich\",\"Freiburg\",\"M'gladbach\",\"Ein Frankfurt\",\"Union Berlin\",\"Leverkusen\",\"FC Koln\",\"Mainz\",\"Augsburg\",\"Werder Bremen\",\"Bochum\",\"Stuttgart\",\"Hertha\",\"Wolfsburg\",\"Hoffenheim\",\"Schalke 04\"],\"xaxis\":\"x\",\"y\":[9,9,8,8,7,7,7,5,5,5,5,5,5,4,4,4,3,3],\"yaxis\":\"y\",\"type\":\"bar\"}],                        {\"template\":{\"data\":{\"histogram2dcontour\":[{\"type\":\"histogram2dcontour\",\"colorbar\":{\"outlinewidth\":0,\"ticks\":\"\"},\"colorscale\":[[0.0,\"#0d0887\"],[0.1111111111111111,\"#46039f\"],[0.2222222222222222,\"#7201a8\"],[0.3333333333333333,\"#9c179e\"],[0.4444444444444444,\"#bd3786\"],[0.5555555555555556,\"#d8576b\"],[0.6666666666666666,\"#ed7953\"],[0.7777777777777778,\"#fb9f3a\"],[0.8888888888888888,\"#fdca26\"],[1.0,\"#f0f921\"]]}],\"choropleth\":[{\"type\":\"choropleth\",\"colorbar\":{\"outlinewidth\":0,\"ticks\":\"\"}}],\"histogram2d\":[{\"type\":\"histogram2d\",\"colorbar\":{\"outlinewidth\":0,\"ticks\":\"\"},\"colorscale\":[[0.0,\"#0d0887\"],[0.1111111111111111,\"#46039f\"],[0.2222222222222222,\"#7201a8\"],[0.3333333333333333,\"#9c179e\"],[0.4444444444444444,\"#bd3786\"],[0.5555555555555556,\"#d8576b\"],[0.6666666666666666,\"#ed7953\"],[0.7777777777777778,\"#fb9f3a\"],[0.8888888888888888,\"#fdca26\"],[1.0,\"#f0f921\"]]}],\"heatmap\":[{\"type\":\"heatmap\",\"colorbar\":{\"outlinewidth\":0,\"ticks\":\"\"},\"colorscale\":[[0.0,\"#0d0887\"],[0.1111111111111111,\"#46039f\"],[0.2222222222222222,\"#7201a8\"],[0.3333333333333333,\"#9c179e\"],[0.4444444444444444,\"#bd3786\"],[0.5555555555555556,\"#d8576b\"],[0.6666666666666666,\"#ed7953\"],[0.7777777777777778,\"#fb9f3a\"],[0.8888888888888888,\"#fdca26\"],[1.0,\"#f0f921\"]]}],\"heatmapgl\":[{\"type\":\"heatmapgl\",\"colorbar\":{\"outlinewidth\":0,\"ticks\":\"\"},\"colorscale\":[[0.0,\"#0d0887\"],[0.1111111111111111,\"#46039f\"],[0.2222222222222222,\"#7201a8\"],[0.3333333333333333,\"#9c179e\"],[0.4444444444444444,\"#bd3786\"],[0.5555555555555556,\"#d8576b\"],[0.6666666666666666,\"#ed7953\"],[0.7777777777777778,\"#fb9f3a\"],[0.8888888888888888,\"#fdca26\"],[1.0,\"#f0f921\"]]}],\"contourcarpet\":[{\"type\":\"contourcarpet\",\"colorbar\":{\"outlinewidth\":0,\"ticks\":\"\"}}],\"contour\":[{\"type\":\"contour\",\"colorbar\":{\"outlinewidth\":0,\"ticks\":\"\"},\"colorscale\":[[0.0,\"#0d0887\"],[0.1111111111111111,\"#46039f\"],[0.2222222222222222,\"#7201a8\"],[0.3333333333333333,\"#9c179e\"],[0.4444444444444444,\"#bd3786\"],[0.5555555555555556,\"#d8576b\"],[0.6666666666666666,\"#ed7953\"],[0.7777777777777778,\"#fb9f3a\"],[0.8888888888888888,\"#fdca26\"],[1.0,\"#f0f921\"]]}],\"surface\":[{\"type\":\"surface\",\"colorbar\":{\"outlinewidth\":0,\"ticks\":\"\"},\"colorscale\":[[0.0,\"#0d0887\"],[0.1111111111111111,\"#46039f\"],[0.2222222222222222,\"#7201a8\"],[0.3333333333333333,\"#9c179e\"],[0.4444444444444444,\"#bd3786\"],[0.5555555555555556,\"#d8576b\"],[0.6666666666666666,\"#ed7953\"],[0.7777777777777778,\"#fb9f3a\"],[0.8888888888888888,\"#fdca26\"],[1.0,\"#f0f921\"]]}],\"mesh3d\":[{\"type\":\"mesh3d\",\"colorbar\":{\"outlinewidth\":0,\"ticks\":\"\"}}],\"scatter\":[{\"marker\":{\"line\":{\"color\":\"#283442\"}},\"type\":\"scatter\"}],\"parcoords\":[{\"type\":\"parcoords\",\"line\":{\"colorbar\":{\"outlinewidth\":0,\"ticks\":\"\"}}}],\"scatterpolargl\":[{\"type\":\"scatterpolargl\",\"marker\":{\"colorbar\":{\"outlinewidth\":0,\"ticks\":\"\"}}}],\"bar\":[{\"error_x\":{\"color\":\"#f2f5fa\"},\"error_y\":{\"color\":\"#f2f5fa\"},\"marker\":{\"line\":{\"color\":\"rgb(17,17,17)\",\"width\":0.5},\"pattern\":{\"fillmode\":\"overlay\",\"size\":10,\"solidity\":0.2}},\"type\":\"bar\"}],\"scattergeo\":[{\"type\":\"scattergeo\",\"marker\":{\"colorbar\":{\"outlinewidth\":0,\"ticks\":\"\"}}}],\"scatterpolar\":[{\"type\":\"scatterpolar\",\"marker\":{\"colorbar\":{\"outlinewidth\":0,\"ticks\":\"\"}}}],\"histogram\":[{\"marker\":{\"pattern\":{\"fillmode\":\"overlay\",\"size\":10,\"solidity\":0.2}},\"type\":\"histogram\"}],\"scattergl\":[{\"marker\":{\"line\":{\"color\":\"#283442\"}},\"type\":\"scattergl\"}],\"scatter3d\":[{\"type\":\"scatter3d\",\"line\":{\"colorbar\":{\"outlinewidth\":0,\"ticks\":\"\"}},\"marker\":{\"colorbar\":{\"outlinewidth\":0,\"ticks\":\"\"}}}],\"scattermapbox\":[{\"type\":\"scattermapbox\",\"marker\":{\"colorbar\":{\"outlinewidth\":0,\"ticks\":\"\"}}}],\"scatterternary\":[{\"type\":\"scatterternary\",\"marker\":{\"colorbar\":{\"outlinewidth\":0,\"ticks\":\"\"}}}],\"scattercarpet\":[{\"type\":\"scattercarpet\",\"marker\":{\"colorbar\":{\"outlinewidth\":0,\"ticks\":\"\"}}}],\"carpet\":[{\"aaxis\":{\"endlinecolor\":\"#A2B1C6\",\"gridcolor\":\"#506784\",\"linecolor\":\"#506784\",\"minorgridcolor\":\"#506784\",\"startlinecolor\":\"#A2B1C6\"},\"baxis\":{\"endlinecolor\":\"#A2B1C6\",\"gridcolor\":\"#506784\",\"linecolor\":\"#506784\",\"minorgridcolor\":\"#506784\",\"startlinecolor\":\"#A2B1C6\"},\"type\":\"carpet\"}],\"table\":[{\"cells\":{\"fill\":{\"color\":\"#506784\"},\"line\":{\"color\":\"rgb(17,17,17)\"}},\"header\":{\"fill\":{\"color\":\"#2a3f5f\"},\"line\":{\"color\":\"rgb(17,17,17)\"}},\"type\":\"table\"}],\"barpolar\":[{\"marker\":{\"line\":{\"color\":\"rgb(17,17,17)\",\"width\":0.5},\"pattern\":{\"fillmode\":\"overlay\",\"size\":10,\"solidity\":0.2}},\"type\":\"barpolar\"}],\"pie\":[{\"automargin\":true,\"type\":\"pie\"}]},\"layout\":{\"autotypenumbers\":\"strict\",\"colorway\":[\"#636efa\",\"#EF553B\",\"#00cc96\",\"#ab63fa\",\"#FFA15A\",\"#19d3f3\",\"#FF6692\",\"#B6E880\",\"#FF97FF\",\"#FECB52\"],\"font\":{\"color\":\"#f2f5fa\"},\"hovermode\":\"closest\",\"hoverlabel\":{\"align\":\"left\"},\"paper_bgcolor\":\"rgb(17,17,17)\",\"plot_bgcolor\":\"rgb(17,17,17)\",\"polar\":{\"bgcolor\":\"rgb(17,17,17)\",\"angularaxis\":{\"gridcolor\":\"#506784\",\"linecolor\":\"#506784\",\"ticks\":\"\"},\"radialaxis\":{\"gridcolor\":\"#506784\",\"linecolor\":\"#506784\",\"ticks\":\"\"}},\"ternary\":{\"bgcolor\":\"rgb(17,17,17)\",\"aaxis\":{\"gridcolor\":\"#506784\",\"linecolor\":\"#506784\",\"ticks\":\"\"},\"baxis\":{\"gridcolor\":\"#506784\",\"linecolor\":\"#506784\",\"ticks\":\"\"},\"caxis\":{\"gridcolor\":\"#506784\",\"linecolor\":\"#506784\",\"ticks\":\"\"}},\"coloraxis\":{\"colorbar\":{\"outlinewidth\":0,\"ticks\":\"\"}},\"colorscale\":{\"sequential\":[[0.0,\"#0d0887\"],[0.1111111111111111,\"#46039f\"],[0.2222222222222222,\"#7201a8\"],[0.3333333333333333,\"#9c179e\"],[0.4444444444444444,\"#bd3786\"],[0.5555555555555556,\"#d8576b\"],[0.6666666666666666,\"#ed7953\"],[0.7777777777777778,\"#fb9f3a\"],[0.8888888888888888,\"#fdca26\"],[1.0,\"#f0f921\"]],\"sequentialminus\":[[0.0,\"#0d0887\"],[0.1111111111111111,\"#46039f\"],[0.2222222222222222,\"#7201a8\"],[0.3333333333333333,\"#9c179e\"],[0.4444444444444444,\"#bd3786\"],[0.5555555555555556,\"#d8576b\"],[0.6666666666666666,\"#ed7953\"],[0.7777777777777778,\"#fb9f3a\"],[0.8888888888888888,\"#fdca26\"],[1.0,\"#f0f921\"]],\"diverging\":[[0,\"#8e0152\"],[0.1,\"#c51b7d\"],[0.2,\"#de77ae\"],[0.3,\"#f1b6da\"],[0.4,\"#fde0ef\"],[0.5,\"#f7f7f7\"],[0.6,\"#e6f5d0\"],[0.7,\"#b8e186\"],[0.8,\"#7fbc41\"],[0.9,\"#4d9221\"],[1,\"#276419\"]]},\"xaxis\":{\"gridcolor\":\"#283442\",\"linecolor\":\"#506784\",\"ticks\":\"\",\"title\":{\"standoff\":15},\"zerolinecolor\":\"#283442\",\"automargin\":true,\"zerolinewidth\":2},\"yaxis\":{\"gridcolor\":\"#283442\",\"linecolor\":\"#506784\",\"ticks\":\"\",\"title\":{\"standoff\":15},\"zerolinecolor\":\"#283442\",\"automargin\":true,\"zerolinewidth\":2},\"scene\":{\"xaxis\":{\"backgroundcolor\":\"rgb(17,17,17)\",\"gridcolor\":\"#506784\",\"linecolor\":\"#506784\",\"showbackground\":true,\"ticks\":\"\",\"zerolinecolor\":\"#C8D4E3\",\"gridwidth\":2},\"yaxis\":{\"backgroundcolor\":\"rgb(17,17,17)\",\"gridcolor\":\"#506784\",\"linecolor\":\"#506784\",\"showbackground\":true,\"ticks\":\"\",\"zerolinecolor\":\"#C8D4E3\",\"gridwidth\":2},\"zaxis\":{\"backgroundcolor\":\"rgb(17,17,17)\",\"gridcolor\":\"#506784\",\"linecolor\":\"#506784\",\"showbackground\":true,\"ticks\":\"\",\"zerolinecolor\":\"#C8D4E3\",\"gridwidth\":2}},\"shapedefaults\":{\"line\":{\"color\":\"#f2f5fa\"}},\"annotationdefaults\":{\"arrowcolor\":\"#f2f5fa\",\"arrowhead\":0,\"arrowwidth\":1},\"geo\":{\"bgcolor\":\"rgb(17,17,17)\",\"landcolor\":\"rgb(17,17,17)\",\"subunitcolor\":\"#506784\",\"showland\":true,\"showlakes\":true,\"lakecolor\":\"rgb(17,17,17)\"},\"title\":{\"x\":0.05},\"updatemenudefaults\":{\"bgcolor\":\"#506784\",\"borderwidth\":0},\"sliderdefaults\":{\"bgcolor\":\"#C8D4E3\",\"borderwidth\":1,\"bordercolor\":\"rgb(17,17,17)\",\"tickwidth\":0},\"mapbox\":{\"style\":\"dark\"}}},\"xaxis\":{\"anchor\":\"y\",\"domain\":[0.0,1.0],\"title\":{\"text\":\"who\"}},\"yaxis\":{\"anchor\":\"x\",\"domain\":[0.0,1.0],\"title\":{\"text\":\"winner_team_at_home\"}},\"legend\":{\"tracegroupgap\":0},\"title\":{\"text\":\"Who wins the most at home?\"},\"barmode\":\"relative\"},                        {\"responsive\": true}                    ).then(function(){\n                            \nvar gd = document.getElementById('a5d4c8c1-af7f-4c7f-8407-ebaf38d064b3');\nvar x = new MutationObserver(function (mutations, observer) {{\n        var display = window.getComputedStyle(gd).display;\n        if (!display || display === 'none') {{\n            console.log([gd, 'removed!']);\n            Plotly.purge(gd);\n            observer.disconnect();\n        }}\n}});\n\n// Listen for the removal of the full notebook cells\nvar notebookContainer = gd.closest('#notebook-container');\nif (notebookContainer) {{\n    x.observe(notebookContainer, {childList: true});\n}}\n\n// Listen for the clearing of the current output cell\nvar outputEl = gd.closest('.output');\nif (outputEl) {{\n    x.observe(outputEl, {childList: true});\n}}\n\n                        })                };                });            </script>        </div>"
     },
     "metadata": {},
     "output_type": "display_data"
    }
   ],
   "source": [
    "fig_4 = px.bar(match_winner_at_home, x='who', y='winner_team_at_home', title='Who wins the most at home?')\n",
    "fig_4.show()\n"
   ]
  },
  {
   "cell_type": "code",
   "execution_count": 214,
   "metadata": {
    "id": "XbHX0fUM4Zym",
    "pycharm": {
     "name": "#%%\n"
    }
   },
   "outputs": [],
   "source": [
    "import dash\n",
    "from dash import Dash, html, dcc\n",
    "from IPython import display"
   ]
  },
  {
   "cell_type": "code",
   "execution_count": 215,
   "metadata": {
    "id": "snBPL8kOUin6",
    "pycharm": {
     "name": "#%%\n"
    }
   },
   "outputs": [],
   "source": [
    "def show_app(app,  # type: dash.Dash\n",
    "             port=9999,\n",
    "             width=700,\n",
    "             height=350,\n",
    "             offline=True,\n",
    "             style=True,\n",
    "             **dash_flask_kwargs):\n",
    "    \"\"\"\n",
    "    Run the application inside a Jupyter notebook and show an iframe with it\n",
    "    :param app:\n",
    "    :param port:\n",
    "    :param width:\n",
    "    :param height:\n",
    "    :param offline:\n",
    "    :return:\n",
    "    \"\"\"\n",
    "    url = 'http://localhost:%d' % port\n",
    "    iframe = '<iframe src=\"{url}\" width={width} height={height}></iframe>'.format(url=url,\n",
    "                                                                                  width=width,\n",
    "                                                                                  height=height)\n",
    "    display.display_html(iframe, raw=True)\n",
    "    if offline:\n",
    "        app.css.config.serve_locally = True\n",
    "        app.scripts.config.serve_locally = True\n",
    "\n",
    "    return app.run_server(debug=False,  # needs to be false in Jupyter\n",
    "                          port=port,\n",
    "                          **dash_flask_kwargs)"
   ]
  },
  {
   "cell_type": "code",
   "execution_count": 216,
   "metadata": {
    "id": "7PewYmsNUmGw",
    "pycharm": {
     "name": "#%%\n"
    }
   },
   "outputs": [],
   "source": [
    "# external JavaScript files\n",
    "external_scripts = [\n",
    "    'https://www.google-analytics.com/analytics.js',\n",
    "    {'src': 'https://cdn.polyfill.io/v2/polyfill.min.js'},\n",
    "    {\n",
    "        'src': 'https://cdnjs.cloudflare.com/ajax/libs/lodash.js/4.17.10/lodash.core.js',\n",
    "        'integrity': 'sha256-Qqd/EfdABZUcAxjOkMi8eGEivtdTkh3b65xCZL4qAQA=',\n",
    "        'crossorigin': 'anonymous'\n",
    "    }\n",
    "]\n",
    "\n",
    "# external CSS stylesheets\n",
    "external_stylesheets = [\n",
    "    'https://codepen.io/chriddyp/pen/bWLwgP.css',\n",
    "    {\n",
    "        'href': 'https://stackpath.bootstrapcdn.com/bootstrap/4.1.3/css/bootstrap.min.css',\n",
    "        'rel': 'stylesheet',\n",
    "        'integrity': 'sha384-MCw98/SFnGE8fJT3GXwEOngsV7Zt27NXFoaoApmYm81iuXoPkFOJwJ8ERdknLPMO',\n",
    "        'crossorigin': 'anonymous'\n",
    "    }\n",
    "]"
   ]
  },
  {
   "cell_type": "code",
   "execution_count": 217,
   "metadata": {
    "id": "ps7V3D0aUn-o",
    "pycharm": {
     "name": "#%%\n"
    }
   },
   "outputs": [],
   "source": [
    "graficos = [\n",
    "    {\"label\": \"Who won the most\", \"value\": 1},\n",
    "    {\"label\": \"Which team has the most odds of winning through time\", \"value\": 2},\n",
    "    {\"label\": \"Chart that shows who one the most or if the result was a tie\", \"value\": 3},\n",
    "    {\"label\": \"Who wins the most at home\", \"value\": 4}]\n",
    "\n",
    "\n",
    "times = [{\"label\": 'Todos', \"value\": 'Todos'}]\n",
    "for team in all_teams_list:\n",
    "    times.append({\"label\": team})\n",
    "\n",
    "results = [\n",
    "    {'label': 'Todos', 'value': 'Todos'},\n",
    "    {'label': 'Away Team', 'value': 'away_team'},\n",
    "    {'label': 'Home Team', 'value': 'home_team'},\n",
    "]\n",
    "\n",
    "\n",
    "app = Dash(__name__,external_scripts=external_scripts,external_stylesheets=external_stylesheets)\n",
    "\n",
    "app.layout = html.Div([\n",
    "    html.H2(children='Análise de Futebol', style={\"margin-botton\": \"20px\", \"font-weight\": \"bold\", \"text-align\": \"center\"}),\n",
    "\n",
    "    html.H3(children='1 - Who won the most', style={\"margin\": \"0 0 10px 0\", \"font-weight\": \"bold\", \"text-align\": \"left\"}),\n",
    "    html.Div([\n",
    "        html.Div([\n",
    "            html.P(children='Escolha um time'),\n",
    "            dcc.Dropdown(\n",
    "                id='lista-times-1',\n",
    "                options=[{'label': i[\"label\"], 'value': i[\"label\"]} for i in times],\n",
    "                value='Todos'\n",
    "            )\n",
    "        ],\n",
    "        style={'width': '30%', 'display': 'inline-block'}),\n",
    "    ]),\n",
    "    html.Div([\n",
    "        dcc.Graph(id='grafico_1'),\n",
    "    ], style={'margin-top': '10px'}),\n",
    "\n",
    "    html.H3(children='2 - Which team has the most odds of winning through time', style={\"margin\": \"40px 0 10px 0\", \"font-weight\": \"bold\", \"text-align\": \"left\"}),\n",
    "    html.Div([\n",
    "        html.Div([\n",
    "            html.P(children='Escolha um time'),\n",
    "            dcc.Dropdown(\n",
    "                id='lista-times-2',\n",
    "                options=[{'label': i[\"label\"], 'value': i[\"label\"]} for i in times],\n",
    "                value='Todos'\n",
    "            )\n",
    "        ],\n",
    "        style={'width': '30%', 'display': 'inline-block'}),\n",
    "    ]),\n",
    "    html.Div([\n",
    "        dcc.Graph(id='grafico_2'),\n",
    "    ], style={'margin-top': '10px'}),\n",
    "\n",
    "    html.H3(children='3 - Who one the most or if the result was a tie', style={\"margin\": \"40px 0 10px 0\", \"font-weight\": \"bold\", \"text-align\": \"left\"}),\n",
    "    html.Div([\n",
    "        html.Div([\n",
    "            html.P(children='Escolha um resultado'),\n",
    "            dcc.Dropdown(\n",
    "                id='lista-resultado-1',\n",
    "                options=[{'label': i[\"label\"], 'value': i[\"value\"]} for i in results],\n",
    "                value='Todos'\n",
    "            )\n",
    "        ],\n",
    "        style={'width': '30%', 'display': 'inline-block'}),\n",
    "    ]),\n",
    "    html.Div([\n",
    "        dcc.Graph(id='grafico_3'),\n",
    "    ], style={'margin-top': '10px'}),\n",
    "\n",
    "    html.H3(children='4 - Who wins the most at home', style={\"margin\": \"40px 0 10px 0\", \"font-weight\": \"bold\", \"text-align\": \"left\"}),\n",
    "    html.Div([\n",
    "        dcc.Graph(id='grafico_4', figure=fig_4),\n",
    "    ], style={'margin-top': '10px'}),\n",
    "], style={'padding': '0 20px 0 20px'})\n",
    "\n",
    "# Callbacks\n",
    "@app.callback(\n",
    "    dash.dependencies.Output('grafico_1', 'figure'),\n",
    "    [dash.dependencies.Input('lista-times-1', 'value')])\n",
    "def update_graph_1(tipo_time):\n",
    "    return who_won_most_by_team(tipo_time)\n",
    "\n",
    "@app.callback(\n",
    "    dash.dependencies.Output('grafico_2', 'figure'),\n",
    "    [dash.dependencies.Input('lista-times-2', 'value')])\n",
    "def update_graph_2(tipo_time):\n",
    "    return which_team_has_the_most_odds_of_winning_through_time(tipo_time)\n",
    "\n",
    "@app.callback(\n",
    "    dash.dependencies.Output('grafico_3', 'figure'),\n",
    "    [dash.dependencies.Input('lista-resultado-1', 'value')])\n",
    "def update_graph_3(resultado):\n",
    "    return who_one_the_most_or_if_the_result_was_a_tie(resultado)"
   ]
  },
  {
   "cell_type": "code",
   "execution_count": 218,
   "metadata": {
    "colab": {
     "base_uri": "https://localhost:8080/",
     "height": 531
    },
    "id": "4zXHOud0VZA5",
    "outputId": "1b8955d4-912b-4837-f65d-205792c4fd1d",
    "pycharm": {
     "name": "#%%\n"
    }
   },
   "outputs": [
    {
     "data": {
      "text/html": "<iframe src=\"http://localhost:9999\" width=700 height=350></iframe>"
     },
     "metadata": {},
     "output_type": "display_data"
    },
    {
     "name": "stdout",
     "output_type": "stream",
     "text": [
      "Dash is running on http://127.0.0.1:9999/\n",
      "\n",
      "Dash is running on http://127.0.0.1:9999/\n",
      "\n",
      "Dash is running on http://127.0.0.1:9999/\n",
      "\n",
      "Dash is running on http://127.0.0.1:9999/\n",
      "\n",
      "Dash is running on http://127.0.0.1:9999/\n",
      "\n",
      "Dash is running on http://127.0.0.1:9999/\n",
      "\n",
      "Dash is running on http://127.0.0.1:9999/\n",
      "\n",
      "Dash is running on http://127.0.0.1:9999/\n",
      "\n",
      "Dash is running on http://127.0.0.1:9999/\n",
      "\n",
      "Dash is running on http://127.0.0.1:9999/\n",
      "\n",
      "Dash is running on http://127.0.0.1:9999/\n",
      "\n",
      "Dash is running on http://127.0.0.1:9999/\n",
      "\n",
      " * Serving Flask app '__main__'\n",
      " * Debug mode: off\n"
     ]
    },
    {
     "name": "stderr",
     "output_type": "stream",
     "text": [
      "WARNING: This is a development server. Do not use it in a production deployment. Use a production WSGI server instead.\n",
      " * Running on http://127.0.0.1:9999\n",
      "Press CTRL+C to quit\n",
      "127.0.0.1 - - [14/Mar/2023 16:42:57] \"GET / HTTP/1.1\" 200 -\n",
      "127.0.0.1 - - [14/Mar/2023 16:42:58] \"GET /_dash-layout HTTP/1.1\" 200 -\n",
      "127.0.0.1 - - [14/Mar/2023 16:42:59] \"GET /_dash-dependencies HTTP/1.1\" 200 -\n",
      "127.0.0.1 - - [14/Mar/2023 16:42:59] \"POST /_dash-update-component HTTP/1.1\" 200 -\n",
      "127.0.0.1 - - [14/Mar/2023 16:42:59] \"POST /_dash-update-component HTTP/1.1\" 200 -\n",
      "127.0.0.1 - - [14/Mar/2023 16:42:59] \"GET /_dash-component-suites/dash/dcc/async-dropdown.js HTTP/1.1\" 304 -\n",
      "127.0.0.1 - - [14/Mar/2023 16:42:59] \"GET /_dash-component-suites/dash/dcc/async-graph.js HTTP/1.1\" 304 -\n",
      "127.0.0.1 - - [14/Mar/2023 16:42:59] \"POST /_dash-update-component HTTP/1.1\" 200 -\n",
      "127.0.0.1 - - [14/Mar/2023 16:42:59] \"GET /_dash-component-suites/dash/dcc/async-plotlyjs.js HTTP/1.1\" 304 -\n",
      "127.0.0.1 - - [14/Mar/2023 16:43:01] \"GET / HTTP/1.1\" 200 -\n",
      "127.0.0.1 - - [14/Mar/2023 16:43:03] \"GET /_dash-component-suites/dash/dcc/dash_core_components.js.map HTTP/1.1\" 304 -\n",
      "127.0.0.1 - - [14/Mar/2023 16:43:03] \"GET /_dash-layout HTTP/1.1\" 200 -\n",
      "127.0.0.1 - - [14/Mar/2023 16:43:03] \"GET /_dash-dependencies HTTP/1.1\" 200 -\n",
      "127.0.0.1 - - [14/Mar/2023 16:43:03] \"GET /_dash-component-suites/dash/dcc/dash_core_components-shared.js.map HTTP/1.1\" 304 -\n",
      "127.0.0.1 - - [14/Mar/2023 16:43:03] \"GET /_dash-component-suites/dash/html/dash_html_components.min.js.map HTTP/1.1\" 304 -\n",
      "127.0.0.1 - - [14/Mar/2023 16:43:03] \"GET /_dash-component-suites/dash/dash_table/bundle.js.map HTTP/1.1\" 304 -\n",
      "127.0.0.1 - - [14/Mar/2023 16:43:03] \"GET /_dash-component-suites/dash/dcc/async-dropdown.js HTTP/1.1\" 304 -\n",
      "127.0.0.1 - - [14/Mar/2023 16:43:03] \"GET /_dash-component-suites/dash/dcc/async-graph.js HTTP/1.1\" 304 -\n",
      "127.0.0.1 - - [14/Mar/2023 16:43:03] \"GET /_dash-component-suites/dash/dcc/async-plotlyjs.js HTTP/1.1\" 304 -\n",
      "127.0.0.1 - - [14/Mar/2023 16:43:03] \"GET /_favicon.ico?v=2.8.1 HTTP/1.1\" 200 -\n",
      "127.0.0.1 - - [14/Mar/2023 16:43:03] \"POST /_dash-update-component HTTP/1.1\" 200 -\n",
      "127.0.0.1 - - [14/Mar/2023 16:43:03] \"POST /_dash-update-component HTTP/1.1\" 200 -\n",
      "127.0.0.1 - - [14/Mar/2023 16:43:03] \"POST /_dash-update-component HTTP/1.1\" 200 -\n",
      "127.0.0.1 - - [14/Mar/2023 16:43:03] \"GET /_dash-component-suites/dash/dcc/async-dropdown.js.map HTTP/1.1\" 304 -\n",
      "127.0.0.1 - - [14/Mar/2023 16:43:03] \"GET /_dash-component-suites/dash/dcc/async-graph.js.map HTTP/1.1\" 304 -\n",
      "127.0.0.1 - - [14/Mar/2023 16:44:13] \"POST /_dash-update-component HTTP/1.1\" 200 -\n",
      "127.0.0.1 - - [14/Mar/2023 16:44:29] \"POST /_dash-update-component HTTP/1.1\" 200 -\n",
      "127.0.0.1 - - [14/Mar/2023 16:44:33] \"POST /_dash-update-component HTTP/1.1\" 200 -\n",
      "127.0.0.1 - - [14/Mar/2023 16:44:44] \"POST /_dash-update-component HTTP/1.1\" 200 -\n",
      "127.0.0.1 - - [14/Mar/2023 16:44:46] \"POST /_dash-update-component HTTP/1.1\" 200 -\n",
      "127.0.0.1 - - [14/Mar/2023 16:44:49] \"GET / HTTP/1.1\" 200 -\n",
      "127.0.0.1 - - [14/Mar/2023 16:44:50] \"GET /_dash-component-suites/dash/dcc/dash_core_components.js.map HTTP/1.1\" 304 -\n",
      "127.0.0.1 - - [14/Mar/2023 16:44:50] \"GET /_dash-layout HTTP/1.1\" 200 -\n",
      "127.0.0.1 - - [14/Mar/2023 16:44:50] \"GET /_dash-dependencies HTTP/1.1\" 200 -\n",
      "127.0.0.1 - - [14/Mar/2023 16:44:50] \"GET /_dash-component-suites/dash/dcc/dash_core_components-shared.js.map HTTP/1.1\" 304 -\n",
      "127.0.0.1 - - [14/Mar/2023 16:44:50] \"GET /_dash-component-suites/dash/html/dash_html_components.min.js.map HTTP/1.1\" 304 -\n",
      "127.0.0.1 - - [14/Mar/2023 16:44:50] \"GET /_dash-component-suites/dash/dash_table/bundle.js.map HTTP/1.1\" 304 -\n",
      "127.0.0.1 - - [14/Mar/2023 16:44:50] \"GET /_dash-component-suites/dash/dcc/async-dropdown.js HTTP/1.1\" 304 -\n",
      "127.0.0.1 - - [14/Mar/2023 16:44:50] \"GET /_dash-component-suites/dash/dcc/async-graph.js HTTP/1.1\" 304 -\n",
      "127.0.0.1 - - [14/Mar/2023 16:44:50] \"GET /_dash-component-suites/dash/dcc/async-plotlyjs.js HTTP/1.1\" 304 -\n",
      "127.0.0.1 - - [14/Mar/2023 16:44:50] \"GET /_favicon.ico?v=2.8.1 HTTP/1.1\" 200 -\n",
      "127.0.0.1 - - [14/Mar/2023 16:44:50] \"POST /_dash-update-component HTTP/1.1\" 200 -\n",
      "127.0.0.1 - - [14/Mar/2023 16:44:50] \"POST /_dash-update-component HTTP/1.1\" 200 -\n",
      "127.0.0.1 - - [14/Mar/2023 16:44:50] \"GET /_dash-component-suites/dash/dcc/async-dropdown.js.map HTTP/1.1\" 304 -\n",
      "127.0.0.1 - - [14/Mar/2023 16:44:50] \"POST /_dash-update-component HTTP/1.1\" 200 -\n",
      "127.0.0.1 - - [14/Mar/2023 16:44:50] \"GET /_dash-component-suites/dash/dcc/async-graph.js.map HTTP/1.1\" 304 -\n",
      "127.0.0.1 - - [14/Mar/2023 16:44:57] \"POST /_dash-update-component HTTP/1.1\" 200 -\n",
      "127.0.0.1 - - [14/Mar/2023 16:45:11] \"POST /_dash-update-component HTTP/1.1\" 200 -\n",
      "127.0.0.1 - - [14/Mar/2023 16:45:15] \"POST /_dash-update-component HTTP/1.1\" 200 -\n",
      "127.0.0.1 - - [14/Mar/2023 16:45:21] \"POST /_dash-update-component HTTP/1.1\" 200 -\n",
      "127.0.0.1 - - [14/Mar/2023 16:45:24] \"POST /_dash-update-component HTTP/1.1\" 200 -\n",
      "127.0.0.1 - - [14/Mar/2023 16:45:34] \"POST /_dash-update-component HTTP/1.1\" 200 -\n",
      "127.0.0.1 - - [14/Mar/2023 16:45:41] \"POST /_dash-update-component HTTP/1.1\" 200 -\n",
      "127.0.0.1 - - [14/Mar/2023 16:45:42] \"POST /_dash-update-component HTTP/1.1\" 200 -\n"
     ]
    }
   ],
   "source": [
    "show_app(app)"
   ]
  }
 ],
 "metadata": {
  "colab": {
   "provenance": []
  },
  "kernelspec": {
   "display_name": "Python 3.10.8 64-bit (microsoft store)",
   "language": "python",
   "name": "python3"
  },
  "language_info": {
   "codemirror_mode": {
    "name": "ipython",
    "version": 3
   },
   "file_extension": ".py",
   "mimetype": "text/x-python",
   "name": "python",
   "nbconvert_exporter": "python",
   "pygments_lexer": "ipython3",
   "version": "3.10.10"
  },
  "vscode": {
   "interpreter": {
    "hash": "67f66a32358a10b4d4a897df49fcdb6f7fe571f30a7dbeaaed747b6a94c4e8c9"
   }
  }
 },
 "nbformat": 4,
 "nbformat_minor": 0
}